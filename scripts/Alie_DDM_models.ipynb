{
 "cells": [
  {
   "cell_type": "markdown",
   "id": "0c10ae4d",
   "metadata": {},
   "source": [
    "In this notebook we are going to fit 4 different hierarchical DDMs to Alie's data that allow CPE to linearly modulate 1/4 of the main DDM parameters: [drift rate, bias, non-decision time, boundary separation]. \n",
    "\n",
    "We will perform model comparison using ELPD-LOO (posterior predictive checks using leave-one-out cross validation), to determine which model fits best. \n",
    "\n",
    "Then we will plot the posteriors to see how, exactly, CPE affects the parameter in the winning model. "
   ]
  },
  {
   "cell_type": "code",
   "execution_count": null,
   "id": "18b4c64c",
   "metadata": {},
   "outputs": [],
   "source": [
    "import hssm \n",
    "hssm.set_floatX(\"float32\")\n",
    "\n",
    "# Basics\n",
    "import os\n",
    "import sys\n",
    "import time\n",
    "from matplotlib import pyplot as plt\n",
    "import arviz as az  # Visualization\n",
    "import pytensor  # Graph-based tensor library\n",
    "import hssm\n",
    "import pandas as pd\n",
    "import numpy as np\n",
    "import scipy as sp\n",
    "from tqdm import tqdm\n",
    "import seaborn as sns\n",
    "from matplotlib.backends.backend_pdf import PdfPages\n",
    "\n",
    "# import ssms.basic_simulators # Model simulators\n",
    "import hddm_wfpt\n",
    "import bambi as bmb\n",
    "\n",
    "# Setting float precision in pytensor\n",
    "pytensor.config.floatX = \"float32\"\n",
    "\n",
    "# from jax.config import config\n",
    "\n",
    "import numpyro\n",
    "\n",
    "numpyro.set_host_device_count(4)\n",
    "\n",
    "\n",
    "import warnings\n",
    "warnings.filterwarnings('ignore')"
   ]
  },
  {
   "cell_type": "code",
   "execution_count": null,
   "id": "f16c58b0",
   "metadata": {},
   "outputs": [],
   "source": [
    "base_dir = '/sc/arion'\n",
    "# change to your directory\n",
    "save_dir_plots = f'{base_dir}/projects/guLab/Salman/MemoryBanditManuscript/Figures/Exp1'"
   ]
  },
  {
   "cell_type": "markdown",
   "id": "6d385b75",
   "metadata": {},
   "source": [
    "Load the data "
   ]
  },
  {
   "cell_type": "code",
   "execution_count": null,
   "id": "255c310b",
   "metadata": {},
   "outputs": [],
   "source": [
    "alie_df = pd.read_csv('/sc/arion/projects/guLab/Salman/Prolific/rt_choice_df_02272024.csv')\n",
    "\n",
    "alie_df = alie_df[['subj_id', 'choice_t1', 'RT_t1', 'cpe_t']]\n",
    "\n",
    "alie_df.rename(columns={'choice_t1':'response', \n",
    "                       'RT_t1':'rt',\n",
    "                       'subj_id':'subj_idx'}, inplace=True)"
   ]
  },
  {
   "cell_type": "markdown",
   "id": "8f492e05",
   "metadata": {},
   "source": [
    "Construct the models"
   ]
  },
  {
   "cell_type": "code",
   "execution_count": null,
   "id": "a0ed217d",
   "metadata": {},
   "outputs": [],
   "source": [
    "hier_v_cpe_randint = hssm.HSSM(\n",
    "    model=\"ddm\",\n",
    "    p_outlier = None,\n",
    "    lapse = None, \n",
    "    data=alie_df[['rt', 'response', 'subj_idx', 'cpe_t']] ,\n",
    "    include=[\n",
    "        {\n",
    "            \"name\": \"v\",\n",
    "                \"formula\": \"v ~ 1 + (1|subj_idx) + cpe_t\",\n",
    "                \"link\": \"identity\",\n",
    "            },\n",
    "    ],\n",
    ")\n",
    "\n",
    "hier_t_cpe_randint = hssm.HSSM(\n",
    "    model=\"ddm\",\n",
    "    p_outlier = None,\n",
    "    lapse = None, \n",
    "    data=alie_df[['rt', 'response', 'subj_idx', 'cpe_t']] ,\n",
    "    include=[\n",
    "        {\n",
    "            \"name\": \"t\",\n",
    "            \"formula\": \"t ~ 1 + (1|subj_idx) + cpe_t\",\n",
    "            \"link\": \"identity\",\n",
    "        },\n",
    "    ],\n",
    ")\n",
    "\n",
    "hier_z_cpe_randint = hssm.HSSM(\n",
    "    model=\"ddm\",\n",
    "    p_outlier = None,\n",
    "    lapse = None, \n",
    "    data=alie_df[['rt', 'response', 'subj_idx', 'cpe_t']] ,\n",
    "    include=[\n",
    "        {\n",
    "            \"name\": \"z\",\n",
    "            \"formula\": \"z ~ 1 + (1|subj_idx) + cpe_t\",\n",
    "            \"link\": \"identity\",\n",
    "        },\n",
    "    ],\n",
    ")\n",
    "\n",
    "hier_a_cpe_randint = hssm.HSSM(\n",
    "    model=\"ddm\",\n",
    "    p_outlier = None,\n",
    "    lapse = None, \n",
    "    data=alie_df[['rt', 'response', 'subj_idx', 'cpe_t']] ,\n",
    "    include=[\n",
    "        {\n",
    "            \"name\": \"a\",\n",
    "            \"formula\": \"a ~ 1 + (1|subj_idx) + cpe_t\",\n",
    "            \"link\": \"identity\",\n",
    "        },\n",
    "    ],\n",
    ")\n",
    "\n",
    "model_types = {'hier_v_cpe_randint':hier_v_cpe_randint,\n",
    "               'hier_t_cpe_randint':hier_t_cpe_randint, \n",
    "               'hier_z_cpe_randint':hier_z_cpe_randint,  \n",
    "               'hier_a_cpe_randint':hier_a_cpe_randint}"
   ]
  },
  {
   "cell_type": "markdown",
   "id": "5d6b2e82",
   "metadata": {},
   "source": [
    "Plot the model structure "
   ]
  },
  {
   "cell_type": "code",
   "execution_count": null,
   "id": "47b5a713",
   "metadata": {},
   "outputs": [],
   "source": [
    "hier_v_cpe_randint.model.graph()"
   ]
  },
  {
   "cell_type": "markdown",
   "id": "5a69127b",
   "metadata": {},
   "source": [
    "Run the models (will take time and memory)"
   ]
  },
  {
   "cell_type": "code",
   "execution_count": null,
   "id": "16258678",
   "metadata": {},
   "outputs": [],
   "source": [
    "if __name__ == \"__main__\":\n",
    "    model_res = {f'{x}':[] for x in model_types.keys()}\n",
    "\n",
    "    # change to your directory\n",
    "    output_dir = '/sc/arion/projects/guLab/Salman/Prolific'\n",
    "\n",
    "    for model_key, model in model_types.items(): \n",
    "        idata = model.sample(\n",
    "            sampler='nuts_numpyro',\n",
    "            chains = 4,\n",
    "            cores = 4,\n",
    "            draws = 5000,\n",
    "            tune = 5000,\n",
    "            idata_kwargs=dict(log_likelihood=True))\n",
    "\n",
    "        # Save them here: \n",
    "        az.to_netcdf(idata, f\"{output_dir}/{model_key}_model\")\n",
    "\n",
    "        model_res[model_key] = idata\n",
    "\n",
    "    df_comp_loo = az.compare(model_res, ic='loo')"
   ]
  },
  {
   "cell_type": "markdown",
   "id": "66f24f29",
   "metadata": {},
   "source": [
    "Compare all models"
   ]
  },
  {
   "cell_type": "code",
   "execution_count": null,
   "id": "1bcf059e",
   "metadata": {},
   "outputs": [],
   "source": [
    "az.plot_compare(df_comp_loo)\n"
   ]
  },
  {
   "cell_type": "markdown",
   "id": "32c41bbd",
   "metadata": {},
   "source": [
    "Compare just the two best models"
   ]
  },
  {
   "cell_type": "code",
   "execution_count": null,
   "id": "541a0dba",
   "metadata": {},
   "outputs": [],
   "source": [
    "dict_you_want = {key: model_res[key] for key in ['hier_v_cpe_randint', 'hier_z_cpe_randint']}\n",
    "df_comp_loo = az.compare(dict_you_want, ic='loo')\n",
    "az.plot_compare(df_comp_loo)\n"
   ]
  },
  {
   "cell_type": "markdown",
   "id": "88a2a8b4",
   "metadata": {},
   "source": [
    "Plot the posteriors for the winning model "
   ]
  },
  {
   "cell_type": "code",
   "execution_count": null,
   "id": "201e753d",
   "metadata": {},
   "outputs": [],
   "source": [
    "az.plot_trace(model_res['hier_v_cpe_randint'])"
   ]
  }
 ],
 "metadata": {
  "kernelspec": {
   "display_name": "hssm",
   "language": "python",
   "name": "hssm"
  },
  "language_info": {
   "codemirror_mode": {
    "name": "ipython",
    "version": 3
   },
   "file_extension": ".py",
   "mimetype": "text/x-python",
   "name": "python",
   "nbconvert_exporter": "python",
   "pygments_lexer": "ipython3",
   "version": "3.11.5"
  }
 },
 "nbformat": 4,
 "nbformat_minor": 5
}
