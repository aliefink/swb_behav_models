{
 "cells": [
  {
   "attachments": {},
   "cell_type": "markdown",
   "metadata": {},
   "source": [
    "# Prospect Theory GLMs \n",
    "\n",
    "- Adapted to include counterfactual information \n",
    "\n",
    "Created: 05/26/2023 by Alie Fink"
   ]
  },
  {
   "cell_type": "code",
   "execution_count": null,
   "metadata": {},
   "outputs": [],
   "source": [
    "import numpy as np\n",
    "import pandas as pd\n",
    "from scipy.optimize import minimize\n",
    "from tqdm import tqdm\n",
    "import glob\n",
    "import run_pt\n",
    "import pt_model\n",
    "import importlib\n",
    "importlib.reload(run_pt)\n",
    "importlib.reload(pt_model)\n",
    "from run_pt import run_pt\n",
    "import pt_model\n"
   ]
  },
  {
   "cell_type": "code",
   "execution_count": null,
   "metadata": {},
   "outputs": [],
   "source": [
    "subjects = pd.read_excel('/Users/alexandrafink/Documents/GraduateSchool/SaezLab/SWB/SWB_subjects.xlsx', sheet_name=0,usecols='A')\n",
    "data_path = '/Users/alexandrafink/Documents/GraduateSchool/SaezLab/SWB/behavior_analysis/behavior_preprocessed/'"
   ]
  },
  {
   "attachments": {},
   "cell_type": "markdown",
   "metadata": {},
   "source": [
    "### Get ptEV for each patient\n",
    "- Step 1 - run PT model on each patient\n",
    "- Step 2 - use learned params to estimate ptEV (utility) for each trial\n",
    "- Step 3 - Update task_info df to include ptEV"
   ]
  },
  {
   "cell_type": "code",
   "execution_count": null,
   "metadata": {},
   "outputs": [],
   "source": [
    "for name in subjects['PatientID']:\n",
    "    task = pd.read_csv(task_path + name + '_task_data')\n",
    "    #initial guesses for rho, lambda, beta for optimization input\n",
    "    rho_init = np.linspace(0,6,4)\n",
    "    lambda_init = np.linspace(0,20,4)\n",
    "    beta_init = np.linspace(1,20,4)\n",
    "    risk,loss,temp,bic,vars = run_pt(task,rho_init,lambda_init,beta_init)\n",
    "    params = (risk,loss,temp)\n",
    "    prospect_df = pt_model.get_ptEV(params,task)\n",
    "    prospect_df['risk_aversion'] = risk\n",
    "    prospect_df['loss_aversion'] = loss\n",
    "    prospect_df['inverse_temp'] = temp\n",
    "    prospect_df['bic'] = bic\n",
    "    #prospect_df['optim_inits'] = vars\n",
    "    prospect_df.to_csv(task_path+name+'_prospect_df.csv')\n",
    "\n",
    "\n",
    "##### NOT WORKING - ONLY WORKING ON DA8 SOMETHING IS BREAKING WHEN LOOPING THROUGH THE FUNCTIONS\n"
   ]
  },
  {
   "cell_type": "code",
   "execution_count": null,
   "metadata": {},
   "outputs": [],
   "source": [
    "### Trouble shooting with one patient - seems to be resolved.\n",
    "\n",
    "name = 'DA8'\n",
    "task = pd.read_csv(task_path + name + '_task_data')\n",
    "rho_init = np.linspace(0,6,4)\n",
    "lambda_init = np.linspace(0,20,4)\n",
    "beta_init = np.linspace(1,20,4)\n"
   ]
  },
  {
   "cell_type": "code",
   "execution_count": null,
   "metadata": {},
   "outputs": [],
   "source": [
    "risk,loss,temp,bic,vars = run_pt(task,rho_init,lambda_init,beta_init)\n",
    "params = (risk,loss,temp)\n",
    "prospect_df = pt_model.get_ptEV(params,task)\n",
    "choiceprob_lis\n",
    "pt_model.negll_prospect((rho_init[1],lambda_init[1],beta_init[1]),task)\n",
    "\n",
    "risk,loss,temp,bic = run_pt(task,res_nll,rho_init,lambda_init,beta_init)"
   ]
  },
  {
   "attachments": {},
   "cell_type": "markdown",
   "metadata": {},
   "source": [
    "References: \n",
    "\n",
    "- Tversky, A., & Kahneman, D. (1992). Advances in prospect theory: Cumulative representation of uncertainty. Journal of Risk and uncertainty, 5, 297-323. https://link.springer.com/article/10.1007/BF00122574\n",
    "- Charpentier, C. J., Aylward, J., Roiser, J. P., & Robinson, O. J. (2017). Enhanced risk aversion, but not loss aversion, in unmedicated pathological anxiety. Biological psychiatry, 81(12), 1014-1022. https://www.sciencedirect.com/science/article/pii/S0006322316331110?via%3Dihub#bib28"
   ]
  }
 ],
 "metadata": {
  "language_info": {
   "name": "python"
  },
  "orig_nbformat": 4
 },
 "nbformat": 4,
 "nbformat_minor": 2
}
