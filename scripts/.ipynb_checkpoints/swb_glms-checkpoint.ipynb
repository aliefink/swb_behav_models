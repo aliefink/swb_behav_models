{
 "cells": [
  {
   "cell_type": "markdown",
   "metadata": {},
   "source": [
    "# SWB Computational Models\n",
    "\n",
    "- Winning model from 2014 \"A computational and neural model of momentary subjective well-being\"\n",
    "- Adapted to include counterfactual information \n",
    "\n",
    "Created: 05/04/2023 by Alie Fink"
   ]
  },
  {
   "cell_type": "markdown",
   "metadata": {},
   "source": [
    "### Computational Models:\n",
    "Standard GLMs:\n",
    "1) RPE (CR+EV+RPE)\n",
    "2) Counterfactual (CR+EV+CPE) *test tCPE vs dCPE\n",
    "3) Counterfactual+RPE (CR+EV+RPE+CPE)\n",
    "4) Regret (CR+EV+nCPE) *omit RPE if model 2 > model 3\n",
    "5) Relief (CR+EV+pCPE) *omit RPE if model 2 > model 3\n",
    "6) Regret/Relief (CR+EV+nCPE+pCPE) *omit RPE if model 2 > model 3\n",
    "7) Full model (CR+EV+RPE+nCPE+pCPE)\n",
    "\n",
    "Prospect Theory GLMs:\n",
    "\n",
    "8)  Rutledge EV (CR+EV)\n",
    "9)  PT (Util_s+Util_g) *validate this is better than Rutledge EV\n",
    "10) RPE PT (Util_s+Util_g+RPE)\n",
    "11) CPE PT (Util_s+Util_g+CPE) *test tCPE vs dCPE \n",
    "12) CPE+RPE PT (Util_s+Util_g+RPE+CPE) \n",
    "13) Regret PT (Util_s+Util_g+RPE+nCPE) *omit RPE if model 9 > model 8\n",
    "14) Relief PT (Util_s+Util_g+RPE+pCPE) *omit RPE if model 9 > model 8\n",
    "15) Regret/Relief PT (Util_s+Util_g+RPE+nCPE+pCPE) *omit RPE if model 9 > model 8\n"
   ]
  },
  {
   "cell_type": "code",
   "execution_count": 1,
   "metadata": {},
   "outputs": [
    {
     "name": "stdout",
     "output_type": "stream",
     "text": [
      "Intel MKL WARNING: Support of Intel(R) Streaming SIMD Extensions 4.2 (Intel(R) SSE4.2) enabled only processors has been deprecated. Intel oneAPI Math Kernel Library 2025.0 will require Intel(R) Advanced Vector Extensions (Intel(R) AVX) instructions.\n",
      "Intel MKL WARNING: Support of Intel(R) Streaming SIMD Extensions 4.2 (Intel(R) SSE4.2) enabled only processors has been deprecated. Intel oneAPI Math Kernel Library 2025.0 will require Intel(R) Advanced Vector Extensions (Intel(R) AVX) instructions.\n"
     ]
    }
   ],
   "source": [
    "import numpy as np\n",
    "from glob import glob\n",
    "import matplotlib.pyplot as plt\n",
    "import seaborn as sns\n",
    "from matplotlib.backends.backend_pdf import PdfPages\n",
    "import seaborn as sns\n",
    "from scipy.stats import zscore, linregress, ttest_ind, ttest_rel, ttest_1samp\n",
    "import pandas as pd\n",
    "import scipy\n",
    "from scipy.optimize import least_squares\n",
    "import sklearn\n",
    "from sklearn.metrics import r2_score\n",
    "import random\n"
   ]
  },
  {
   "cell_type": "code",
   "execution_count": 2,
   "metadata": {},
   "outputs": [],
   "source": [
    "%matplotlib inline\n",
    "%reload_ext autoreload\n",
    "%autoreload 2"
   ]
  },
  {
   "cell_type": "code",
   "execution_count": 3,
   "metadata": {},
   "outputs": [],
   "source": [
    "import sys\n",
    "sys.path.append('/Users/alexandrafink/Documents/GraduateSchool/SaezLab/SWB/swb_computational_modeling/swb_behav_models/scripts/')\n",
    "import SWB_modeling_utils"
   ]
  },
  {
   "cell_type": "code",
   "execution_count": 5,
   "metadata": {},
   "outputs": [],
   "source": [
    "swb_dir = '/Users/alexandrafink/Documents/GraduateSchool/SaezLab/SWB/'\n",
    "subj_list = pd.read_excel(f'{swb_dir}SWB_subjects.xlsx', sheet_name='Usable_Subjects', usecols=[0])\n",
    "subj_ids = list(subj_list.PatientID)"
   ]
  },
  {
   "cell_type": "markdown",
   "metadata": {},
   "source": [
    "## Standard GLMs"
   ]
  },
  {
   "cell_type": "markdown",
   "metadata": {},
   "source": [
    "Step 1: Choose winning model from 1-4 (RPE+CPE or CPE only & tCPE vs dCPE)\n",
    "\n",
    "1) RPE (CR+EV+RPE)\n",
    "2) tCPE (CR+EV+tCPE) \n",
    "3) dCPE (CR+EV+dCPE) \n",
    "4) tCPE+RPE (CR+EV+RPE+tCPE)\n",
    "5) dCPE+RPE  (CR+EV+RPE+dCPE)\n",
    "\n",
    "Step 2: Choose winning model from 6-11\n",
    "\n",
    "6) total Regret (CR+EV+tRegret) *omit RPE if model 2 > model 1\n",
    "7) decision Regret (CR+EV+dRegret) *omit RPE if model 2 > model 1\n",
    "8) total Relief (CR+EV+tRelief) *omit RPE if model 2 > model 1\n",
    "9) decision Relief (CR+EV+dRelief) *omit RPE if model 2 > model 1\n",
    "10) total Regret/Relief (CR+EV+tRegret+tRelief) *omit RPE if model 2 > model 1\n",
    "11) decision Regret/Relief (CR+EV+dRegret+dRelief) *omit RPE if model 2 > model 1"
   ]
  },
  {
   "cell_type": "code",
   "execution_count": 6,
   "metadata": {},
   "outputs": [],
   "source": [
    "model_input_path = '/Users/alexandrafink/Documents/GraduateSchool/SaezLab/SWB/swb_computational_modeling/swb_behav_models/data/model_input_data_06192023'\n",
    "model_input = pd.read_csv(model_input_path)"
   ]
  },
  {
   "cell_type": "code",
   "execution_count": 7,
   "metadata": {},
   "outputs": [
    {
     "data": {
      "text/plain": [
       "Index(['subj_id', 'round', 'rate', 'zscore_rate', 'cr(t-1)', 'cr(t-2)',\n",
       "       'cr(t-3)', 'choice_ev(t-1)', 'choice_ev(t-2)', 'choice_ev(t-3)',\n",
       "       'rpe(t-1)', 'rpe(t-2)', 'rpe(t-3)', 'totalcpe(t-1)', 'totalcpe(t-2)',\n",
       "       'totalcpe(t-3)', 'decisioncpe(t-1)', 'decisioncpe(t-2)',\n",
       "       'decisioncpe(t-3)', 'totalregret(t-1)', 'totalregret(t-2)',\n",
       "       'totalregret(t-3)', 'decisionregret(t-1)', 'decisionregret(t-2)',\n",
       "       'decisionregret(t-3)', 'totalrelief(t-1)', 'totalrelief(t-2)',\n",
       "       'totalrelief(t-3)', 'decisionrelief(t-1)', 'decisionrelief(t-2)',\n",
       "       'decisionrelief(t-3)'],\n",
       "      dtype='object')"
      ]
     },
     "execution_count": 7,
     "metadata": {},
     "output_type": "execute_result"
    }
   ],
   "source": [
    "model_input.columns"
   ]
  },
  {
   "cell_type": "markdown",
   "metadata": {},
   "source": [
    "### Step 1: Choose winning model from 1-4 (RPE+CPE or CPE only & tCPE vs dCPE)\n",
    "- Include RPE in CPE models?\n",
    "- Is total CPE or decision CPE a better CPE metric (total = outcome - max possible, decision = outcome - max unchosen)"
   ]
  },
  {
   "cell_type": "code",
   "execution_count": 157,
   "metadata": {},
   "outputs": [],
   "source": [
    "model1_vars = [\"cr(t-1)\",\"cr(t-2)\",\"cr(t-3)\",\"choice_ev(t-1)\",\"choice_ev(t-2)\",\"choice_ev(t-3)\",\"rpe(t-1)\",\"rpe(t-2)\",\"rpe(t-3)\"]\n",
    "model2_vars = [\"cr(t-1)\",\"cr(t-2)\",\"cr(t-3)\",\"choice_ev(t-1)\",\"choice_ev(t-2)\",\"choice_ev(t-3)\",\"totalcpe(t-1)\",\"totalcpe(t-2)\",\"totalcpe(t-3)\"]\n",
    "model3_vars = [\"cr(t-1)\",\"cr(t-2)\",\"cr(t-3)\",\"choice_ev(t-1)\",\"choice_ev(t-2)\",\"choice_ev(t-3)\",\"decisioncpe(t-1)\",\"decisioncpe(t-2)\",\"decisioncpe(t-3)\"]\n",
    "model4_vars = [\"cr(t-1)\",\"cr(t-2)\",\"cr(t-3)\",\"choice_ev(t-1)\",\"choice_ev(t-2)\",\"choice_ev(t-3)\",\"rpe(t-1)\",\"rpe(t-2)\",\"rpe(t-3)\",\"totalcpe(t-1)\",\"totalcpe(t-2)\",\"totalcpe(t-3)\"]\n",
    "model5_vars = [\"cr(t-1)\",\"cr(t-2)\",\"cr(t-3)\",\"choice_ev(t-1)\",\"choice_ev(t-2)\",\"choice_ev(t-3)\",\"rpe(t-1)\",\"rpe(t-2)\",\"rpe(t-3)\",\"decisioncpe(t-1)\",\"decisioncpe(t-2)\",\"decisioncpe(t-3)\"]\n"
   ]
  },
  {
   "cell_type": "code",
   "execution_count": 158,
   "metadata": {},
   "outputs": [],
   "source": [
    "models_dict = {}\n",
    "models_dict['rpe'] = model1_vars\n",
    "models_dict['tcpe'] = model2_vars\n",
    "models_dict['dcpe'] = model3_vars\n",
    "models_dict['rpe+tcpe'] = model4_vars\n",
    "models_dict['rpe+dcpe'] = model5_vars\n"
   ]
  },
  {
   "cell_type": "code",
   "execution_count": 159,
   "metadata": {},
   "outputs": [],
   "source": [
    "#### run swb to find optimal parameters \n",
    "models_list = ['rpe','tcpe','dcpe','rpe+tcpe','rpe+dcpe']\n",
    "lam_method = 'exp'\n",
    "\n",
    "step1_results = {}\n",
    "\n",
    "for model in models_list:\n",
    "\n",
    "    reg_list = models_dict[model]\n",
    "    n_regs = int(len(reg_list)/3)\n",
    "\n",
    "    mood_est_df, optim_resid_df, optim_inits_df, param_fits_df, aic_dict,bic1_dict,bic2_dict, rsq_dict = \\\n",
    "    SWB_modeling_utils.run_swb(model_input, subj_ids, n_regs, reg_list,lam_method)\n",
    "    \n",
    "\n",
    "    step1_results[model] = {'mood_est': mood_est_df,\n",
    "                            'optim_residuals':optim_resid_df,\n",
    "                           'optim_inits': optim_inits_df,\n",
    "                           'param_fits': param_fits_df,\n",
    "                            'aics':aic_dict,\n",
    "                           'bics1': bic1_dict,\n",
    "                            'bics2': bic2_dict,\n",
    "                           'rsqs': rsq_dict\n",
    "                           }\n",
    "\n"
   ]
  },
  {
   "cell_type": "code",
   "execution_count": 160,
   "metadata": {},
   "outputs": [],
   "source": [
    "### use optimal parameters to run model \n",
    "\n",
    "models_list = ['rpe','tcpe','dcpe','rpe+tcpe','rpe+dcpe']\n",
    "lam_method = 'exp'\n",
    "\n",
    "step1_data = {}\n",
    "\n",
    "for model in models_list:\n",
    "\n",
    "    reg_list = models_dict[model]\n",
    "    n_regs = int(len(reg_list)/3)\n",
    "    params = step1_results[model]['param_fits']\n",
    "\n",
    "    mood_est_df, resid_df, rss_dict, aic_dict, bic1_dict, bic2_dict, rsq_dict = \\\n",
    "    SWB_modeling_utils.fit_swb(model_input,subj_ids,params,n_regs,reg_list,lam_method)\n",
    "    \n",
    "\n",
    "    step1_data[model] = {'mood_est': mood_est_df,\n",
    "                            'residuals':resid_df,\n",
    "                           'rss': rss_dict,\n",
    "                            'aic':aic_dict,\n",
    "                           'bics1': bic1_dict,\n",
    "                            'bics2': bic2_dict,\n",
    "                           'rsqs': rsq_dict\n",
    "                           }\n"
   ]
  },
  {
   "cell_type": "code",
   "execution_count": 161,
   "metadata": {},
   "outputs": [
    {
     "name": "stdout",
     "output_type": "stream",
     "text": [
      "best model bic for  DA8 is tcpe -87.26059124636848\n",
      "best model rsq for  DA8 is tcpe -0.13666765257459224\n",
      "best model bic for  DA9 is rpe -144.75492337883608\n",
      "best model rsq for  DA9 is rpe -0.0578440849232682\n",
      "best model bic for  DA10 is rpe -154.95114331751944\n",
      "best model rsq for  DA10 is rpe+tcpe -0.04273040206655998\n",
      "best model bic for  DA11 is rpe -234.0190725614674\n",
      "best model rsq for  DA11 is rpe+tcpe 0.053892757431125426\n",
      "best model bic for  DA023 is rpe -212.8242589134889\n",
      "best model rsq for  DA023 is rpe+dcpe 0.03526149312757776\n",
      "best model bic for  MS002 is tcpe -227.9463346803264\n",
      "best model rsq for  MS002 is tcpe 0.04663391477736345\n",
      "best model bic for  MS003 is rpe -233.4691317737662\n",
      "best model rsq for  MS003 is rpe 0.05319280838506457\n",
      "best model bic for  MS016 is rpe -262.3095998493814\n",
      "best model rsq for  MS016 is rpe 0.08671783244190101\n",
      "best model bic for  MS017 is rpe -152.03161747631245\n",
      "best model rsq for  MS017 is rpe -0.04826570304774802\n",
      "best model bic for  MS019 is rpe+tcpe -206.7156957437355\n",
      "best model rsq for  MS019 is rpe+tcpe 0.029140750420426076\n",
      "best model bic for  MS022 is rpe -233.456097180933\n",
      "best model rsq for  MS022 is rpe 0.05317738170159536\n",
      "best model bic for  MS025 is dcpe -99.60779809003853\n",
      "best model rsq for  MS025 is dcpe -0.11925900250095145\n",
      "best model bic for  MS026 is tcpe -193.37583349175378\n",
      "best model rsq for  MS026 is rpe+dcpe 0.010959650176482039\n",
      "best model bic for  MS027 is tcpe -209.12075719069261\n",
      "best model rsq for  MS027 is tcpe 0.023933283109748182\n",
      "best model bic for  MS029 is rpe+dcpe -193.05650883085056\n",
      "best model rsq for  MS029 is rpe+dcpe 0.01242199373988806\n",
      "best model bic for  MS030 is tcpe -149.22254900393006\n",
      "best model rsq for  MS030 is tcpe -0.05195298557379813\n"
     ]
    }
   ],
   "source": [
    "for ix,s in enumerate(subj_ids):\n",
    "    best_bic = np.inf\n",
    "    best_rsq = -np.inf\n",
    "    best_model_bic = []\n",
    "    best_model_rsq = []\n",
    "    for model in models_list:\n",
    "        bic = step1_data[model]['bics1'][s]\n",
    "        rsq = step1_data[model]['rsqs'][s]\n",
    "        if bic<best_bic:\n",
    "            best_bic = bic \n",
    "            best_model_bic = model\n",
    "        if rsq>best_rsq:\n",
    "            best_rsq=rsq\n",
    "            best_model_rsq = model\n",
    "        \n",
    "    print('best model bic for ',s,'is',best_model_bic,best_bic)\n",
    "    print('best model rsq for ',s,'is',best_model_rsq,best_rsq)"
   ]
  },
  {
   "cell_type": "code",
   "execution_count": 162,
   "metadata": {},
   "outputs": [
    {
     "name": "stdout",
     "output_type": "stream",
     "text": [
      "model 1 bic1 mean -146.1656300424874\n",
      "model 2 bic1 mean -164.99193766163947\n",
      "model 3 bic1 mean -133.0735721922247\n",
      "model 4 bic1 mean -122.60740798241996\n",
      "model 5 bic1 mean -113.86254893676015\n"
     ]
    }
   ],
   "source": [
    "print('model 1 bic1 mean',np.mean(np.array(list(step1_data['rpe']['bics1'].values()))))\n",
    "print('model 2 bic1 mean',np.mean(np.array(list(step1_data['tcpe']['bics1'].values()))))\n",
    "print('model 3 bic1 mean',np.mean(np.array(list(step1_data['dcpe']['bics1'].values()))))\n",
    "print('model 4 bic1 mean',np.mean(np.array(list(step1_data['rpe+tcpe']['bics1'].values()))))\n",
    "print('model 5 bic1 mean',np.mean(np.array(list(step1_data['rpe+dcpe']['bics1'].values()))))"
   ]
  },
  {
   "cell_type": "code",
   "execution_count": 163,
   "metadata": {},
   "outputs": [
    {
     "name": "stdout",
     "output_type": "stream",
     "text": [
      "model 1 bic1 sum -2338.6500806797985\n",
      "model 2 bic1 sum -2639.8710025862315\n",
      "model 3 bic1 sum -2129.1771550755952\n",
      "model 4 bic1 sum -1961.7185277187193\n",
      "model 5 bic1 sum -1821.8007829881624\n"
     ]
    }
   ],
   "source": [
    "print('model 1 bic1 sum',np.sum(np.array(list(step1_data['rpe']['bics1'].values()))))\n",
    "print('model 2 bic1 sum',np.sum(np.array(list(step1_data['tcpe']['bics1'].values()))))\n",
    "print('model 3 bic1 sum',np.sum(np.array(list(step1_data['dcpe']['bics1'].values()))))\n",
    "print('model 4 bic1 sum',np.sum(np.array(list(step1_data['rpe+tcpe']['bics1'].values()))))\n",
    "print('model 5 bic1 sum',np.sum(np.array(list(step1_data['rpe+dcpe']['bics1'].values()))))"
   ]
  },
  {
   "cell_type": "code",
   "execution_count": 164,
   "metadata": {},
   "outputs": [
    {
     "name": "stdout",
     "output_type": "stream",
     "text": [
      "model 1 bic2 mean 33.8720303600417\n",
      "model 2 bic2 mean 33.91909612908958\n",
      "model 3 bic2 mean 33.839300215416046\n",
      "model 4 bic2 mean 40.51445806187863\n",
      "model 5 bic2 mean 40.492595914264484\n"
     ]
    }
   ],
   "source": [
    "print('model 1 bic2 mean',np.mean(np.array(list(step1_data['rpe']['bics2'].values()))))\n",
    "print('model 2 bic2 mean',np.mean(np.array(list(step1_data['tcpe']['bics2'].values()))))\n",
    "print('model 3 bic2 mean',np.mean(np.array(list(step1_data['dcpe']['bics2'].values()))))\n",
    "print('model 4 bic2 mean',np.mean(np.array(list(step1_data['rpe+tcpe']['bics2'].values()))))\n",
    "print('model 5 bic2 mean',np.mean(np.array(list(step1_data['rpe+dcpe']['bics2'].values()))))"
   ]
  },
  {
   "cell_type": "code",
   "execution_count": 165,
   "metadata": {},
   "outputs": [
    {
     "name": "stdout",
     "output_type": "stream",
     "text": [
      "model 1 bic2 sum 541.9524857606672\n",
      "model 2 bic2 sum 542.7055380654333\n",
      "model 3 bic2 sum 541.4288034466567\n",
      "model 4 bic2 sum 648.231328990058\n",
      "model 5 bic2 sum 647.8815346282317\n"
     ]
    }
   ],
   "source": [
    "print('model 1 bic2 sum',np.sum(np.array(list(step1_data['rpe']['bics2'].values()))))\n",
    "print('model 2 bic2 sum',np.sum(np.array(list(step1_data['tcpe']['bics2'].values()))))\n",
    "print('model 3 bic2 sum',np.sum(np.array(list(step1_data['dcpe']['bics2'].values()))))\n",
    "print('model 4 bic2 sum',np.sum(np.array(list(step1_data['rpe+tcpe']['bics2'].values()))))\n",
    "print('model 5 bic2 sum',np.sum(np.array(list(step1_data['rpe+dcpe']['bics2'].values()))))"
   ]
  },
  {
   "cell_type": "code",
   "execution_count": 166,
   "metadata": {},
   "outputs": [
    {
     "name": "stdout",
     "output_type": "stream",
     "text": [
      "model 1 aic mean -169.58868868082703\n",
      "model 2 aic mean -188.4149962999791\n",
      "model 3 aic mean -156.49663083056433\n",
      "model 4 aic mean -150.71507834842754\n",
      "model 5 aic mean -141.9702193027677\n"
     ]
    }
   ],
   "source": [
    "print('model 1 aic mean',np.mean(np.array(list(step1_data['rpe']['aic'].values()))))\n",
    "print('model 2 aic mean',np.mean(np.array(list(step1_data['tcpe']['aic'].values()))))\n",
    "print('model 3 aic mean',np.mean(np.array(list(step1_data['dcpe']['aic'].values()))))\n",
    "print('model 4 aic mean',np.mean(np.array(list(step1_data['rpe+tcpe']['aic'].values()))))\n",
    "print('model 5 aic mean',np.mean(np.array(list(step1_data['rpe+dcpe']['aic'].values()))))\n"
   ]
  },
  {
   "cell_type": "code",
   "execution_count": 167,
   "metadata": {},
   "outputs": [
    {
     "name": "stdout",
     "output_type": "stream",
     "text": [
      "model 1 aic sum -2713.4190188932325\n",
      "model 2 aic sum -3014.6399407996655\n",
      "model 3 aic sum -2503.9460932890292\n",
      "model 4 aic sum -2411.4412535748406\n",
      "model 5 aic sum -2271.5235088442832\n"
     ]
    }
   ],
   "source": [
    "print('model 1 aic sum',np.sum(np.array(list(step1_data['rpe']['aic'].values()))))\n",
    "print('model 2 aic sum',np.sum(np.array(list(step1_data['tcpe']['aic'].values()))))\n",
    "print('model 3 aic sum',np.sum(np.array(list(step1_data['dcpe']['aic'].values()))))\n",
    "print('model 4 aic sum',np.sum(np.array(list(step1_data['rpe+tcpe']['aic'].values()))))\n",
    "print('model 5 aic sum',np.sum(np.array(list(step1_data['rpe+dcpe']['aic'].values()))))\n"
   ]
  },
  {
   "cell_type": "code",
   "execution_count": 168,
   "metadata": {},
   "outputs": [
    {
     "name": "stdout",
     "output_type": "stream",
     "text": [
      "model 1 rsq mean -0.07639519134739836\n",
      "model 2 rsq mean -0.0332640716428621\n",
      "model 3 rsq mean -0.07843618780718267\n",
      "model 4 rsq mean -0.09890772242099947\n",
      "model 5 rsq mean -0.11510367891518661\n"
     ]
    }
   ],
   "source": [
    "print('model 1 rsq mean',np.mean(np.array(list(step1_data['rpe']['rsqs'].values()))))\n",
    "print('model 2 rsq mean',np.mean(np.array(list(step1_data['tcpe']['rsqs'].values()))))\n",
    "print('model 3 rsq mean',np.mean(np.array(list(step1_data['dcpe']['rsqs'].values()))))\n",
    "print('model 4 rsq mean',np.mean(np.array(list(step1_data['rpe+tcpe']['rsqs'].values()))))\n",
    "print('model 5 rsq mean',np.mean(np.array(list(step1_data['rpe+dcpe']['rsqs'].values()))))\n"
   ]
  },
  {
   "cell_type": "code",
   "execution_count": 169,
   "metadata": {},
   "outputs": [
    {
     "name": "stdout",
     "output_type": "stream",
     "text": [
      "model 1 rsq sum -1.2223230615583738\n",
      "model 2 rsq sum -0.5322251462857936\n",
      "model 3 rsq sum -1.2549790049149228\n",
      "model 4 rsq sum -1.5825235587359916\n",
      "model 5 rsq sum -1.8416588626429857\n"
     ]
    }
   ],
   "source": [
    "print('model 1 rsq sum',np.sum(np.array(list(step1_data['rpe']['rsqs'].values()))))\n",
    "print('model 2 rsq sum',np.sum(np.array(list(step1_data['tcpe']['rsqs'].values()))))\n",
    "print('model 3 rsq sum',np.sum(np.array(list(step1_data['dcpe']['rsqs'].values()))))\n",
    "print('model 4 rsq sum',np.sum(np.array(list(step1_data['rpe+tcpe']['rsqs'].values()))))\n",
    "print('model 5 rsq sum',np.sum(np.array(list(step1_data['rpe+dcpe']['rsqs'].values()))))"
   ]
  },
  {
   "cell_type": "markdown",
   "metadata": {},
   "source": [
    "### Results of step 1: \n",
    "- adding RPE adds explanatory power to the model but worsens BIC\n",
    "- total CPE is better"
   ]
  },
  {
   "cell_type": "markdown",
   "metadata": {},
   "source": [
    "### Step 2: Choose winning regret/relief model\n",
    "- total vs decision regret/relief\n",
    "- regret or relief?"
   ]
  },
  {
   "cell_type": "code",
   "execution_count": 170,
   "metadata": {},
   "outputs": [],
   "source": [
    "model6_vars = [\"cr(t-1)\",\"cr(t-2)\",\"cr(t-3)\",\"choice_ev(t-1)\",\"choice_ev(t-2)\",\"choice_ev(t-3)\",\"totalregret(t-1)\",\"totalregret(t-2)\",\"totalregret(t-3)\"]\n",
    "model7_vars = [\"cr(t-1)\",\"cr(t-2)\",\"cr(t-3)\",\"choice_ev(t-1)\",\"choice_ev(t-2)\",\"choice_ev(t-3)\",\"decisionregret(t-1)\",\"decisionregret(t-2)\",\"decisionregret(t-3)\"]\n",
    "model8_vars = [\"cr(t-1)\",\"cr(t-2)\",\"cr(t-3)\",\"choice_ev(t-1)\",\"choice_ev(t-2)\",\"choice_ev(t-3)\",\"totalrelief(t-1)\",\"totalrelief(t-2)\",\"totalrelief(t-3)\"]\n",
    "model9_vars = [\"cr(t-1)\",\"cr(t-2)\",\"cr(t-3)\",\"choice_ev(t-1)\",\"choice_ev(t-2)\",\"choice_ev(t-3)\",\"decisionrelief(t-1)\",\"decisionrelief(t-2)\",\"decisionrelief(t-3)\"]\n",
    "model10_vars = [\"cr(t-1)\",\"cr(t-2)\",\"cr(t-3)\",\"choice_ev(t-1)\",\"choice_ev(t-2)\",\"choice_ev(t-3)\",\"totalregret(t-1)\",\"totalregret(t-2)\",\"totalregret(t-3)\",\"totalrelief(t-1)\",\"totalrelief(t-2)\",\"totalrelief(t-3)\"]\n",
    "model11_vars = [\"cr(t-1)\",\"cr(t-2)\",\"cr(t-3)\",\"choice_ev(t-1)\",\"choice_ev(t-2)\",\"choice_ev(t-3)\",\"decisionregret(t-1)\",\"decisionregret(t-2)\",\"decisionregret(t-3)\",\"decisionrelief(t-1)\",\"decisionrelief(t-2)\",\"decisionrelief(t-3)\"]"
   ]
  },
  {
   "cell_type": "code",
   "execution_count": 171,
   "metadata": {},
   "outputs": [],
   "source": [
    "models_dict['treg'] = model6_vars\n",
    "models_dict['dreg'] = model7_vars\n",
    "models_dict['trel'] = model8_vars\n",
    "models_dict['drel'] = model9_vars\n",
    "models_dict['treg/rel'] = model10_vars\n",
    "models_dict['dreg/rel'] = model11_vars\n"
   ]
  },
  {
   "cell_type": "code",
   "execution_count": 172,
   "metadata": {},
   "outputs": [],
   "source": [
    "models_list2 = ['treg','dreg','trel','drel','treg/rel','dreg/rel']\n",
    "lam_method = 'exp'\n",
    "\n",
    "step2_results = {}\n",
    "\n",
    "for model in models_list2:\n",
    "\n",
    "    reg_list = models_dict[model]\n",
    "    n_regs = int(len(reg_list)/3)\n",
    "\n",
    "    mood_est_df, optim_resid_df, optim_inits_df, param_fits_df, aic_dict,bic1_dict,bic2_dict, rsq_dict = \\\n",
    "    SWB_modeling_utils.run_swb(model_input, subj_ids, n_regs, reg_list,lam_method)\n",
    "    \n",
    "\n",
    "    step2_results[model] = {'mood_est': mood_est_df,\n",
    "                            'optim_residuals':optim_resid_df,\n",
    "                           'optim_inits': optim_inits_df,\n",
    "                           'param_fits': param_fits_df,\n",
    "                            'aics':aic_dict,\n",
    "                           'bics1': bic1_dict,\n",
    "                            'bics2': bic2_dict,\n",
    "                           'rsqs': rsq_dict\n",
    "                           }\n",
    "\n"
   ]
  },
  {
   "cell_type": "code",
   "execution_count": 173,
   "metadata": {},
   "outputs": [],
   "source": [
    "### use optimal parameters to run model \n",
    "\n",
    "models_list2 = ['treg','dreg','trel','drel','treg/rel','dreg/rel']\n",
    "lam_method = 'exp'\n",
    "\n",
    "step2_data = {}\n",
    "\n",
    "for model in models_list2:\n",
    "\n",
    "    reg_list = models_dict[model]\n",
    "    n_regs = int(len(reg_list)/3)\n",
    "    params = step2_results[model]['param_fits']\n",
    "\n",
    "    mood_est_df, resid_df, rss_dict, aic_dict, bic1_dict, bic2_dict, rsq_dict = \\\n",
    "    SWB_modeling_utils.fit_swb(model_input,subj_ids,params,n_regs,reg_list,lam_method)\n",
    "    \n",
    "\n",
    "    step2_data[model] = {'mood_est': mood_est_df,\n",
    "                            'residuals':resid_df,\n",
    "                           'rss': rss_dict,\n",
    "                            'aic':aic_dict,\n",
    "                           'bics1': bic1_dict,\n",
    "                            'bics2': bic2_dict,\n",
    "                           'rsqs': rsq_dict\n",
    "                           }\n"
   ]
  },
  {
   "cell_type": "code",
   "execution_count": 174,
   "metadata": {},
   "outputs": [
    {
     "name": "stdout",
     "output_type": "stream",
     "text": [
      "best model bic for  DA8 is treg -52.99580099315201\n",
      "best model rsq for  DA8 is treg/rel -0.1802226521838588\n",
      "best model bic for  DA9 is treg -169.10497167343092\n",
      "best model rsq for  DA9 is treg -0.026130974911873217\n",
      "best model bic for  DA10 is treg/rel -149.3723350029611\n",
      "best model rsq for  DA10 is treg/rel -0.04300443236376039\n",
      "best model bic for  DA11 is treg -239.13325144876046\n",
      "best model rsq for  DA11 is treg 0.05987266982472661\n",
      "best model bic for  DA023 is trel -228.04571460788094\n",
      "best model rsq for  DA023 is trel 0.04675233923718136\n",
      "best model bic for  MS002 is treg/rel -253.68395001237687\n",
      "best model rsq for  MS002 is treg/rel 0.0844992476920603\n",
      "best model bic for  MS003 is treg -236.96156503157204\n",
      "best model rsq for  MS003 is treg/rel 0.06203036883677371\n",
      "best model bic for  MS016 is treg/rel -252.3673517977962\n",
      "best model rsq for  MS016 is treg/rel 0.08299132388136587\n",
      "best model bic for  MS017 is treg/rel -165.5136480248748\n",
      "best model rsq for  MS017 is treg/rel -0.022170987319211077\n",
      "best model bic for  MS019 is trel -205.8338146722453\n",
      "best model rsq for  MS019 is trel 0.01991468921779249\n",
      "best model bic for  MS022 is drel -212.35148088109383\n",
      "best model rsq for  MS022 is treg/rel 0.03540427977799643\n",
      "best model bic for  MS025 is dreg -152.10707650468953\n",
      "best model rsq for  MS025 is dreg -0.048166831321509784\n",
      "best model bic for  MS026 is trel -127.29118806562354\n",
      "best model rsq for  MS026 is trel -0.08119036498361543\n",
      "best model bic for  MS027 is treg -222.6078217604109\n",
      "best model rsq for  MS027 is treg 0.040250693943826854\n",
      "best model bic for  MS029 is treg -222.44504675121806\n",
      "best model rsq for  MS029 is treg 0.04005539507324585\n",
      "best model bic for  MS030 is dreg -164.69778815125875\n",
      "best model rsq for  MS030 is dreg -0.03179950889952421\n"
     ]
    }
   ],
   "source": [
    "for ix,s in enumerate(subj_ids):\n",
    "    best_bic = np.inf\n",
    "    best_rsq = -np.inf\n",
    "    best_model_bic = []\n",
    "    best_model_rsq = []\n",
    "    for model in models_list2:\n",
    "        bic = step2_data[model]['bics1'][s]\n",
    "        rsq = step2_data[model]['rsqs'][s]\n",
    "        if bic<best_bic:\n",
    "            best_bic = bic \n",
    "            best_model_bic = model\n",
    "        if rsq>best_rsq:\n",
    "            best_rsq=rsq\n",
    "            best_model_rsq = model\n",
    "        \n",
    "    print('best model bic for ',s,'is',best_model_bic,best_bic)\n",
    "    print('best model rsq for ',s,'is',best_model_rsq,best_rsq)"
   ]
  },
  {
   "cell_type": "code",
   "execution_count": 175,
   "metadata": {},
   "outputs": [
    {
     "name": "stdout",
     "output_type": "stream",
     "text": [
      "model 6 bic1 mean -167.39192240233433\n",
      "model 7 bic1 mean -144.99023914114258\n",
      "model 8 bic1 mean -135.4764494093044\n",
      "model 9 bic1 mean -131.85426724005782\n",
      "model 10 bic1 mean -157.03947528591175\n",
      "model 11 bic1 mean -137.93134204427884\n"
     ]
    }
   ],
   "source": [
    "print('model 6 bic1 mean',np.mean(np.array(list(step2_data['treg']['bics1'].values()))))\n",
    "print('model 7 bic1 mean',np.mean(np.array(list(step2_data['dreg']['bics1'].values()))))\n",
    "print('model 8 bic1 mean',np.mean(np.array(list(step2_data['trel']['bics1'].values()))))\n",
    "print('model 9 bic1 mean',np.mean(np.array(list(step2_data['drel']['bics1'].values()))))\n",
    "print('model 10 bic1 mean',np.mean(np.array(list(step2_data['treg/rel']['bics1'].values()))))\n",
    "print('model 11 bic1 mean',np.mean(np.array(list(step2_data['dreg/rel']['bics1'].values()))))"
   ]
  },
  {
   "cell_type": "code",
   "execution_count": 176,
   "metadata": {},
   "outputs": [
    {
     "name": "stdout",
     "output_type": "stream",
     "text": [
      "model 6 bic1 sum -2678.2707584373493\n",
      "model 7 bic1 sum -2319.8438262582813\n",
      "model 8 bic1 sum -2167.6231905488703\n",
      "model 9 bic1 sum -2109.668275840925\n",
      "model 10 bic1 sum -2512.631604574588\n",
      "model 11 bic1 sum -2206.9014727084614\n"
     ]
    }
   ],
   "source": [
    "print('model 6 bic1 sum',np.sum(np.array(list(step2_data['treg']['bics1'].values()))))\n",
    "print('model 7 bic1 sum',np.sum(np.array(list(step2_data['dreg']['bics1'].values()))))\n",
    "print('model 8 bic1 sum',np.sum(np.array(list(step2_data['trel']['bics1'].values()))))\n",
    "print('model 9 bic1 sum',np.sum(np.array(list(step2_data['drel']['bics1'].values()))))\n",
    "print('model 10 bic1 sum',np.sum(np.array(list(step2_data['treg/rel']['bics1'].values()))))\n",
    "print('model 11 bic1 sum',np.sum(np.array(list(step2_data['dreg/rel']['bics1'].values()))))"
   ]
  },
  {
   "cell_type": "code",
   "execution_count": 177,
   "metadata": {},
   "outputs": [
    {
     "name": "stdout",
     "output_type": "stream",
     "text": [
      "model 6 bic2 mean 33.92509609094132\n",
      "model 7 bic2 mean 33.86909188278834\n",
      "model 8 bic2 mean 33.845307408458744\n",
      "model 9 bic2 mean 33.83625195303563\n",
      "model 10 bic2 mean 40.60053823013736\n",
      "model 11 bic2 mean 40.55276789703328\n"
     ]
    }
   ],
   "source": [
    "print('model 6 bic2 mean',np.mean(np.array(list(step2_data['treg']['bics2'].values()))))\n",
    "print('model 7 bic2 mean',np.mean(np.array(list(step2_data['dreg']['bics2'].values()))))\n",
    "print('model 8 bic2 mean',np.mean(np.array(list(step2_data['trel']['bics2'].values()))))\n",
    "print('model 9 bic2 mean',np.mean(np.array(list(step2_data['drel']['bics2'].values()))))\n",
    "print('model 10 bic2 mean',np.mean(np.array(list(step2_data['treg/rel']['bics2'].values()))))\n",
    "print('model 11 bic2 mean',np.mean(np.array(list(step2_data['dreg/rel']['bics2'].values()))))"
   ]
  },
  {
   "cell_type": "code",
   "execution_count": 178,
   "metadata": {},
   "outputs": [
    {
     "name": "stdout",
     "output_type": "stream",
     "text": [
      "model 6 bic2 sum 542.8015374550611\n",
      "model 7 bic2 sum 541.9054701246134\n",
      "model 8 bic2 sum 541.5249185353399\n",
      "model 9 bic2 sum 541.38003124857\n",
      "model 10 bic2 sum 649.6086116821978\n",
      "model 11 bic2 sum 648.8442863525324\n"
     ]
    }
   ],
   "source": [
    "print('model 6 bic2 sum',np.sum(np.array(list(step2_data['treg']['bics2'].values()))))\n",
    "print('model 7 bic2 sum',np.sum(np.array(list(step2_data['dreg']['bics2'].values()))))\n",
    "print('model 8 bic2 sum',np.sum(np.array(list(step2_data['trel']['bics2'].values()))))\n",
    "print('model 9 bic2 sum',np.sum(np.array(list(step2_data['drel']['bics2'].values()))))\n",
    "print('model 10 bic2 sum',np.sum(np.array(list(step2_data['treg/rel']['bics2'].values()))))\n",
    "print('model 11 bic2 sum',np.sum(np.array(list(step2_data['dreg/rel']['bics2'].values()))))"
   ]
  },
  {
   "cell_type": "code",
   "execution_count": 179,
   "metadata": {},
   "outputs": [
    {
     "name": "stdout",
     "output_type": "stream",
     "text": [
      "model 6 aic mean -190.81498104067396\n",
      "model 7 aic mean -168.4132977794822\n",
      "model 8 aic mean -158.89950804764402\n",
      "model 9 aic mean -155.27732587839745\n",
      "model 10 aic mean -185.1471456519193\n",
      "model 11 aic mean -166.03901241028638\n"
     ]
    }
   ],
   "source": [
    "print('model 6 aic mean',np.mean(np.array(list(step2_data['treg']['aic'].values()))))\n",
    "print('model 7 aic mean',np.mean(np.array(list(step2_data['dreg']['aic'].values()))))\n",
    "print('model 8 aic mean',np.mean(np.array(list(step2_data['trel']['aic'].values()))))\n",
    "print('model 9 aic mean',np.mean(np.array(list(step2_data['drel']['aic'].values()))))\n",
    "print('model 10 aic mean',np.mean(np.array(list(step2_data['treg/rel']['aic'].values()))))\n",
    "print('model 11 aic mean',np.mean(np.array(list(step2_data['dreg/rel']['aic'].values()))))\n"
   ]
  },
  {
   "cell_type": "code",
   "execution_count": 180,
   "metadata": {},
   "outputs": [
    {
     "name": "stdout",
     "output_type": "stream",
     "text": [
      "model 6 aic sum -3053.0396966507833\n",
      "model 7 aic sum -2694.6127644717153\n",
      "model 8 aic sum -2542.3921287623043\n",
      "model 9 aic sum -2484.437214054359\n",
      "model 10 aic sum -2962.3543304307086\n",
      "model 11 aic sum -2656.624198564582\n"
     ]
    }
   ],
   "source": [
    "print('model 6 aic sum',np.sum(np.array(list(step2_data['treg']['aic'].values()))))\n",
    "print('model 7 aic sum',np.sum(np.array(list(step2_data['dreg']['aic'].values()))))\n",
    "print('model 8 aic sum',np.sum(np.array(list(step2_data['trel']['aic'].values()))))\n",
    "print('model 9 aic sum',np.sum(np.array(list(step2_data['drel']['aic'].values()))))\n",
    "print('model 10 aic sum',np.sum(np.array(list(step2_data['treg/rel']['aic'].values()))))\n",
    "print('model 11 aic sum',np.sum(np.array(list(step2_data['dreg/rel']['aic'].values()))))\n"
   ]
  },
  {
   "cell_type": "code",
   "execution_count": 181,
   "metadata": {},
   "outputs": [
    {
     "name": "stdout",
     "output_type": "stream",
     "text": [
      "model 6 rsq mean -0.032098472790861976\n",
      "model 7 rsq mean -0.061183638487067274\n",
      "model 8 rsq mean -0.07824226986996882\n",
      "model 9 rsq mean -0.08317343669447821\n",
      "model 10 rsq mean -0.0389399937523847\n",
      "model 11 rsq mean -0.06167668243920866\n"
     ]
    }
   ],
   "source": [
    "print('model 6 rsq mean',np.mean(np.array(list(step2_data['treg']['rsqs'].values()))))\n",
    "print('model 7 rsq mean',np.mean(np.array(list(step2_data['dreg']['rsqs'].values()))))\n",
    "print('model 8 rsq mean',np.mean(np.array(list(step2_data['trel']['rsqs'].values()))))\n",
    "print('model 9 rsq mean',np.mean(np.array(list(step2_data['drel']['rsqs'].values()))))\n",
    "print('model 10 rsq mean',np.mean(np.array(list(step2_data['treg/rel']['rsqs'].values()))))\n",
    "print('model 11 rsq mean',np.mean(np.array(list(step2_data['dreg/rel']['rsqs'].values()))))\n"
   ]
  },
  {
   "cell_type": "code",
   "execution_count": 182,
   "metadata": {},
   "outputs": [
    {
     "name": "stdout",
     "output_type": "stream",
     "text": [
      "model 6 rsq sum -0.5135755646537916\n",
      "model 7 rsq sum -0.9789382157930764\n",
      "model 8 rsq sum -1.2518763179195012\n",
      "model 9 rsq sum -1.3307749871116514\n",
      "model 10 rsq sum -0.6230399000381552\n",
      "model 11 rsq sum -0.9868269190273385\n"
     ]
    }
   ],
   "source": [
    "print('model 6 rsq sum',np.sum(np.array(list(step2_data['treg']['rsqs'].values()))))\n",
    "print('model 7 rsq sum',np.sum(np.array(list(step2_data['dreg']['rsqs'].values()))))\n",
    "print('model 8 rsq sum',np.sum(np.array(list(step2_data['trel']['rsqs'].values()))))\n",
    "print('model 9 rsq sum',np.sum(np.array(list(step2_data['drel']['rsqs'].values()))))\n",
    "print('model 10 rsq sum',np.sum(np.array(list(step2_data['treg/rel']['rsqs'].values()))))\n",
    "print('model 11 rsq sum',np.sum(np.array(list(step2_data['dreg/rel']['rsqs'].values()))))"
   ]
  },
  {
   "cell_type": "markdown",
   "metadata": {},
   "source": [
    "### Results of step 2\n",
    "- best fit is total regret (consistent with step 1 results that total calculation is best)\n",
    "- regret is overall a better fit than relief\n",
    "- adding total regret & total relief together out performs relief alone "
   ]
  },
  {
   "cell_type": "markdown",
   "metadata": {},
   "source": [
    "### Step 3: Summary of basic GLMs\n",
    "Finalize - \n",
    "\n",
    "1) RPE (CR+EV+RPE)\n",
    "2) Counterfactual (CR+EV+tCPE) \n",
    "3) Counterfactual+RPE (CR+EV+RPE+tCPE)\n",
    "4) Regret (CR+EV+regret) \n",
    "5) Relief (CR+EV+relief)\n",
    "6) Regret/Relief (CR+EV+regret+relief)\n",
    "7) Full model (CR+EV+RPE+regret+relief)\n"
   ]
  },
  {
   "cell_type": "code",
   "execution_count": 8,
   "metadata": {},
   "outputs": [],
   "source": [
    "glm1_vars = [\"cr(t-1)\",\"cr(t-2)\",\"cr(t-3)\",\"choice_ev(t-1)\",\"choice_ev(t-2)\",\"choice_ev(t-3)\",\"rpe(t-1)\",\"rpe(t-2)\",\"rpe(t-3)\"]\n",
    "glm2_vars = [\"cr(t-1)\",\"cr(t-2)\",\"cr(t-3)\",\"choice_ev(t-1)\",\"choice_ev(t-2)\",\"choice_ev(t-3)\",\"totalcpe(t-1)\",\"totalcpe(t-2)\",\"totalcpe(t-3)\"]\n",
    "glm3_vars = [\"cr(t-1)\",\"cr(t-2)\",\"cr(t-3)\",\"choice_ev(t-1)\",\"choice_ev(t-2)\",\"choice_ev(t-3)\",\"rpe(t-1)\",\"rpe(t-2)\",\"rpe(t-3)\",\"totalcpe(t-1)\",\"totalcpe(t-2)\",\"totalcpe(t-3)\"]\n",
    "glm4_vars = [\"cr(t-1)\",\"cr(t-2)\",\"cr(t-3)\",\"choice_ev(t-1)\",\"choice_ev(t-2)\",\"choice_ev(t-3)\",\"totalregret(t-1)\",\"totalregret(t-2)\",\"totalregret(t-3)\"]\n",
    "glm5_vars = [\"cr(t-1)\",\"cr(t-2)\",\"cr(t-3)\",\"choice_ev(t-1)\",\"choice_ev(t-2)\",\"choice_ev(t-3)\",\"totalrelief(t-1)\",\"totalrelief(t-2)\",\"totalrelief(t-3)\"]\n",
    "glm6_vars = [\"cr(t-1)\",\"cr(t-2)\",\"cr(t-3)\",\"choice_ev(t-1)\",\"choice_ev(t-2)\",\"choice_ev(t-3)\",\"totalregret(t-1)\",\"totalregret(t-2)\",\"totalregret(t-3)\",\"totalrelief(t-1)\",\"totalrelief(t-2)\",\"totalrelief(t-3)\"]\n",
    "glm7_vars = [\"cr(t-1)\",\"cr(t-2)\",\"cr(t-3)\",\"choice_ev(t-1)\",\"choice_ev(t-2)\",\"choice_ev(t-3)\",\"rpe(t-1)\",\"rpe(t-2)\",\"rpe(t-3)\",\"totalregret(t-1)\",\"totalregret(t-2)\",\"totalregret(t-3)\",\"totalrelief(t-1)\",\"totalrelief(t-2)\",\"totalrelief(t-3)\"]\n"
   ]
  },
  {
   "cell_type": "code",
   "execution_count": 9,
   "metadata": {},
   "outputs": [],
   "source": [
    "glms_dict = {}\n",
    "glms_dict['RPE'] = glm1_vars\n",
    "glms_dict['CPE'] = glm2_vars\n",
    "glms_dict['CPE+RPE'] = glm3_vars\n",
    "glms_dict['Regret'] = glm4_vars\n",
    "glms_dict['Relief'] = glm5_vars\n",
    "glms_dict['Regret+Relief'] = glm6_vars\n",
    "glms_dict['Full'] = glm7_vars"
   ]
  },
  {
   "cell_type": "code",
   "execution_count": 10,
   "metadata": {},
   "outputs": [],
   "source": [
    "glms_list = ['RPE','CPE','CPE+RPE','Regret','Relief','Regret+Relief','Full']\n",
    "lam_method = 'exp'\n",
    "glm_results = {}\n",
    "\n",
    "for model in glms_list:\n",
    "\n",
    "    reg_list = glms_dict[model]\n",
    "    n_regs = int(len(reg_list)/3)\n",
    "\n",
    "    mood_est_df, optim_resid_df, optim_inits_df, param_fits_df, aic_dict,bic1_dict,bic2_dict, rsq_dict = \\\n",
    "    SWB_modeling_utils.run_swb(model_input, subj_ids, n_regs, reg_list,lam_method)\n",
    "    \n",
    "\n",
    "    glm_results[model] = {'mood_est': mood_est_df,\n",
    "                            'optim_residuals':optim_resid_df,\n",
    "                           'optim_inits': optim_inits_df,\n",
    "                           'param_fits': param_fits_df,\n",
    "                            'aics':aic_dict,\n",
    "                           'bics1': bic1_dict,\n",
    "                            'bics2': bic2_dict,\n",
    "                           'rsqs': rsq_dict\n",
    "                           }\n"
   ]
  },
  {
   "cell_type": "code",
   "execution_count": 11,
   "metadata": {},
   "outputs": [],
   "source": [
    "### use optimal parameters to run model \n",
    "\n",
    "glms_list = ['RPE','CPE','CPE+RPE','Regret','Relief','Regret+Relief','Full']\n",
    "lam_method = 'exp'\n",
    "glm_data = {}\n",
    "\n",
    "for model in glms_list:\n",
    "\n",
    "    reg_list = glms_dict[model]\n",
    "    n_regs = int(len(reg_list)/3)\n",
    "    params = glm_results[model]['param_fits']\n",
    "\n",
    "    mood_est_df, resid_df, rss_dict, aic_dict, bic1_dict, bic2_dict, rsq_dict = \\\n",
    "    SWB_modeling_utils.fit_swb(model_input,subj_ids,params,n_regs,reg_list,lam_method)\n",
    "    \n",
    "\n",
    "    glm_data[model] = {'mood_est': mood_est_df,\n",
    "                            'residuals':resid_df,\n",
    "                           'rss': rss_dict,\n",
    "                            'aic':aic_dict,\n",
    "                           'bics1': bic1_dict,\n",
    "                            'bics2': bic2_dict,\n",
    "                           'rsqs': rsq_dict\n",
    "                           }\n"
   ]
  },
  {
   "cell_type": "code",
   "execution_count": 12,
   "metadata": {},
   "outputs": [
    {
     "name": "stdout",
     "output_type": "stream",
     "text": [
      "best model bic for  DA8 is CPE -87.26042072007704\n",
      "best model rsq for  DA8 is CPE -0.13666789486426656\n",
      "best model bic for  DA9 is Regret -169.1054552834208\n",
      "best model rsq for  DA9 is Regret -0.02613035460307178\n",
      "best model bic for  DA10 is RPE -154.94718974392111\n",
      "best model rsq for  DA10 is Full -0.03826046312882392\n",
      "best model bic for  DA11 is Regret -239.13325059063345\n",
      "best model rsq for  DA11 is Full 0.06126898717475393\n",
      "best model bic for  DA023 is Relief -228.0457145127653\n",
      "best model rsq for  DA023 is Relief 0.04675233912384402\n",
      "best model bic for  MS002 is Regret+Relief -253.68442646502993\n",
      "best model rsq for  MS002 is Regret+Relief 0.08449979293284848\n",
      "best model bic for  MS003 is Regret -236.96156477579893\n",
      "best model rsq for  MS003 is Regret+Relief 0.062030368527653756\n",
      "best model bic for  MS016 is RPE -262.3095300406799\n",
      "best model rsq for  MS016 is Full 0.08750216003292688\n",
      "best model bic for  MS017 is Regret+Relief -165.51354797388265\n",
      "best model rsq for  MS017 is Regret+Relief -0.02217111515574488\n",
      "best model bic for  MS019 is CPE+RPE -206.71545346340127\n",
      "best model rsq for  MS019 is Full 0.03535840638137222\n",
      "best model bic for  MS022 is RPE -233.45609742575851\n",
      "best model rsq for  MS022 is RPE 0.0531773819913518\n",
      "best model bic for  MS025 is Regret -98.81141105713249\n",
      "best model rsq for  MS025 is Regret -0.12037376146619927\n",
      "best model bic for  MS026 is Regret -201.5651746140572\n",
      "best model rsq for  MS026 is Regret 0.014671173209252597\n",
      "best model bic for  MS027 is Regret -222.60772677855425\n",
      "best model rsq for  MS027 is Regret 0.04025057999535542\n",
      "best model bic for  MS029 is Regret -222.43226424111413\n",
      "best model rsq for  MS029 is Regret 0.04004005682369183\n",
      "best model bic for  MS030 is Regret -154.8742261079378\n",
      "best model rsq for  MS030 is Regret -0.044547551321476364\n"
     ]
    }
   ],
   "source": [
    "for ix,s in enumerate(subj_ids):\n",
    "    best_bic = np.inf\n",
    "    best_rsq = -np.inf\n",
    "    best_model_bic = []\n",
    "    best_model_rsq = []\n",
    "    for model in glms_list:\n",
    "        bic = glm_data[model]['bics1'][s]\n",
    "        rsq = glm_data[model]['rsqs'][s]\n",
    "        if bic<best_bic:\n",
    "            best_bic = bic \n",
    "            best_model_bic = model\n",
    "        if rsq>best_rsq:\n",
    "            best_rsq=rsq\n",
    "            best_model_rsq = model\n",
    "        \n",
    "    print('best model bic for ',s,'is',best_model_bic,best_bic)\n",
    "    print('best model rsq for ',s,'is',best_model_rsq,best_rsq)"
   ]
  },
  {
   "cell_type": "code",
   "execution_count": 13,
   "metadata": {},
   "outputs": [
    {
     "name": "stdout",
     "output_type": "stream",
     "text": [
      "glm1 bic1 mean -146.16409751255213\n",
      "glm2 bic1 mean -164.9923162074839\n",
      "glm3 bic1 mean -122.60833910497001\n",
      "glm4 bic1 mean -176.35355952744814\n",
      "glm5 bic1 mean -135.47923547037408\n",
      "glm6 bic1 mean -157.0392042949149\n",
      "glm7 bic1 mean -108.62281529243498\n"
     ]
    }
   ],
   "source": [
    "print('glm1 bic1 mean',np.mean(np.array(list(glm_data['RPE']['bics1'].values()))))\n",
    "print('glm2 bic1 mean',np.mean(np.array(list(glm_data['CPE']['bics1'].values()))))\n",
    "print('glm3 bic1 mean',np.mean(np.array(list(glm_data['CPE+RPE']['bics1'].values()))))\n",
    "print('glm4 bic1 mean',np.mean(np.array(list(glm_data['Regret']['bics1'].values()))))\n",
    "print('glm5 bic1 mean',np.mean(np.array(list(glm_data['Relief']['bics1'].values()))))\n",
    "print('glm6 bic1 mean',np.mean(np.array(list(glm_data['Regret+Relief']['bics1'].values()))))\n",
    "print('glm7 bic1 mean',np.mean(np.array(list(glm_data['Full']['bics1'].values()))))"
   ]
  },
  {
   "cell_type": "code",
   "execution_count": 14,
   "metadata": {},
   "outputs": [
    {
     "name": "stdout",
     "output_type": "stream",
     "text": [
      "glm1 bic1 sum -2338.625560200834\n",
      "glm2 bic1 sum -2639.8770593197423\n",
      "glm3 bic1 sum -1961.7334256795202\n",
      "glm4 bic1 sum -2821.6569524391703\n",
      "glm5 bic1 sum -2167.6677675259853\n",
      "glm6 bic1 sum -2512.6272687186383\n",
      "glm7 bic1 sum -1737.9650446789597\n"
     ]
    }
   ],
   "source": [
    "print('glm1 bic1 sum',np.sum(np.array(list(glm_data['RPE']['bics1'].values()))))\n",
    "print('glm2 bic1 sum',np.sum(np.array(list(glm_data['CPE']['bics1'].values()))))\n",
    "print('glm3 bic1 sum',np.sum(np.array(list(glm_data['CPE+RPE']['bics1'].values()))))\n",
    "print('glm4 bic1 sum',np.sum(np.array(list(glm_data['Regret']['bics1'].values()))))\n",
    "print('glm5 bic1 sum',np.sum(np.array(list(glm_data['Relief']['bics1'].values()))))\n",
    "print('glm6 bic1 sum',np.sum(np.array(list(glm_data['Regret+Relief']['bics1'].values()))))\n",
    "print('glm7 bic1 sum',np.sum(np.array(list(glm_data['Full']['bics1'].values()))))"
   ]
  },
  {
   "cell_type": "code",
   "execution_count": 15,
   "metadata": {},
   "outputs": [
    {
     "name": "stdout",
     "output_type": "stream",
     "text": [
      "glm1 bic2 mean 33.87202652871686\n",
      "glm2 bic2 mean 33.91909707545419\n",
      "glm3 bic2 mean 40.514460389685\n",
      "glm4 bic2 mean 33.9475001837541\n",
      "glm5 bic2 mean 33.845314373611416\n",
      "glm6 bic2 mean 40.600537552659866\n",
      "glm7 bic2 mean 47.18081983714077\n"
     ]
    }
   ],
   "source": [
    "print('glm1 bic2 mean',np.mean(np.array(list(glm_data['RPE']['bics2'].values()))))\n",
    "print('glm2 bic2 mean',np.mean(np.array(list(glm_data['CPE']['bics2'].values()))))\n",
    "print('glm3 bic2 mean',np.mean(np.array(list(glm_data['CPE+RPE']['bics2'].values()))))\n",
    "print('glm4 bic2 mean',np.mean(np.array(list(glm_data['Regret']['bics2'].values()))))\n",
    "print('glm5 bic2 mean',np.mean(np.array(list(glm_data['Relief']['bics2'].values()))))\n",
    "print('glm6 bic2 mean',np.mean(np.array(list(glm_data['Regret+Relief']['bics2'].values()))))\n",
    "print('glm7 bic2 mean',np.mean(np.array(list(glm_data['Full']['bics2'].values()))))"
   ]
  },
  {
   "cell_type": "code",
   "execution_count": 16,
   "metadata": {},
   "outputs": [
    {
     "name": "stdout",
     "output_type": "stream",
     "text": [
      "glm1 bic2 sum 541.9524244594697\n",
      "glm2 bic2 sum 542.705553207267\n",
      "glm3 bic2 sum 648.23136623496\n",
      "glm4 bic2 sum 543.1600029400656\n",
      "glm5 bic2 sum 541.5250299777827\n",
      "glm6 bic2 sum 649.6086008425578\n",
      "glm7 bic2 sum 754.8931173942523\n"
     ]
    }
   ],
   "source": [
    "print('glm1 bic2 sum',np.sum(np.array(list(glm_data['RPE']['bics2'].values()))))\n",
    "print('glm2 bic2 sum',np.sum(np.array(list(glm_data['CPE']['bics2'].values()))))\n",
    "print('glm3 bic2 sum',np.sum(np.array(list(glm_data['CPE+RPE']['bics2'].values()))))\n",
    "print('glm4 bic2 sum',np.sum(np.array(list(glm_data['Regret']['bics2'].values()))))\n",
    "print('glm5 bic2 sum',np.sum(np.array(list(glm_data['Relief']['bics2'].values()))))\n",
    "print('glm6 bic2 sum',np.sum(np.array(list(glm_data['Regret+Relief']['bics2'].values()))))\n",
    "print('glm7 bic2 sum',np.sum(np.array(list(glm_data['Full']['bics2'].values()))))"
   ]
  },
  {
   "cell_type": "code",
   "execution_count": 17,
   "metadata": {},
   "outputs": [
    {
     "name": "stdout",
     "output_type": "stream",
     "text": [
      "glm1 aic mean -169.58715615089176\n",
      "glm2 aic mean -188.41537484582352\n",
      "glm3 aic mean -150.71600947097758\n",
      "glm4 aic mean -199.7766181657878\n",
      "glm5 aic mean -158.9022941087137\n",
      "glm6 aic mean -185.1468746609225\n",
      "glm7 aic mean -141.41509738611046\n"
     ]
    }
   ],
   "source": [
    "print('glm1 aic mean',np.mean(np.array(list(glm_data['RPE']['aic'].values()))))\n",
    "print('glm2 aic mean',np.mean(np.array(list(glm_data['CPE']['aic'].values()))))\n",
    "print('glm3 aic mean',np.mean(np.array(list(glm_data['CPE+RPE']['aic'].values()))))\n",
    "print('glm4 aic mean',np.mean(np.array(list(glm_data['Regret']['aic'].values()))))\n",
    "print('glm5 aic mean',np.mean(np.array(list(glm_data['Relief']['aic'].values()))))\n",
    "print('glm6 aic mean',np.mean(np.array(list(glm_data['Regret+Relief']['aic'].values()))))\n",
    "print('glm7 aic mean',np.mean(np.array(list(glm_data['Full']['aic'].values()))))\n"
   ]
  },
  {
   "cell_type": "code",
   "execution_count": 18,
   "metadata": {},
   "outputs": [
    {
     "name": "stdout",
     "output_type": "stream",
     "text": [
      "glm1 aic sum -2713.394498414268\n",
      "glm2 aic sum -3014.6459975331763\n",
      "glm3 aic sum -2411.4561515356413\n",
      "glm4 aic sum -3196.4258906526047\n",
      "glm5 aic sum -2542.4367057394193\n",
      "glm6 aic sum -2962.34999457476\n",
      "glm7 aic sum -2262.6415581777674\n"
     ]
    }
   ],
   "source": [
    "print('glm1 aic sum',np.sum(np.array(list(glm_data['RPE']['aic'].values()))))\n",
    "print('glm2 aic sum',np.sum(np.array(list(glm_data['CPE']['aic'].values()))))\n",
    "print('glm3 aic sum',np.sum(np.array(list(glm_data['CPE+RPE']['aic'].values()))))\n",
    "print('glm4 aic sum',np.sum(np.array(list(glm_data['Regret']['aic'].values()))))\n",
    "print('glm5 aic sum',np.sum(np.array(list(glm_data['Relief']['aic'].values()))))\n",
    "print('glm6 aic sum',np.sum(np.array(list(glm_data['Regret+Relief']['aic'].values()))))\n",
    "print('glm7 aic sum',np.sum(np.array(list(glm_data['Full']['aic'].values()))))\n"
   ]
  },
  {
   "cell_type": "code",
   "execution_count": 194,
   "metadata": {},
   "outputs": [],
   "source": [
    "import pickle \n",
    "save_path = '/Users/alexandrafink/Documents/GraduateSchool/SaezLab/SWB/swb_computational_modeling/swb_behav_models/data/glm_data/'\n",
    "\n",
    "# create a binary pickle file \n",
    "f = open(f'{save_path}/glm_data_06192023.pkl',\"wb\")\n",
    "# # write the python object (dict) to pickle file\n",
    "pickle.dump(glm_data,f)\n",
    "# # close file\n",
    "f.close()\n",
    "\n",
    "# create a binary pickle file \n",
    "f = open(f'{save_path}/step1_data_06192023.pkl',\"wb\")\n",
    "# # write the python object (dict) to pickle file\n",
    "pickle.dump(step1_data,f)\n",
    "# # close file\n",
    "f.close()\n",
    "\n",
    "# create a binary pickle file \n",
    "f = open(f'{save_path}/step2_data_06192023.pkl',\"wb\")\n",
    "# # write the python object (dict) to pickle file\n",
    "pickle.dump(step2_data,f)\n",
    "# # close file\n",
    "f.close()"
   ]
  },
  {
   "cell_type": "code",
   "execution_count": 195,
   "metadata": {},
   "outputs": [],
   "source": [
    "import pickle \n",
    "save_path = '/Users/alexandrafink/Documents/GraduateSchool/SaezLab/SWB/swb_computational_modeling/swb_behav_models/data/glm_data/'\n",
    "\n",
    "# create a binary pickle file \n",
    "f = open(f'{save_path}/glm_optim_results_06192023.pkl',\"wb\")\n",
    "# # write the python object (dict) to pickle file\n",
    "pickle.dump(glm_results,f)\n",
    "# # close file\n",
    "f.close()\n",
    "\n",
    "# create a binary pickle file \n",
    "f = open(f'{save_path}/step1_optim_results_06192023.pkl',\"wb\")\n",
    "# # write the python object (dict) to pickle file\n",
    "pickle.dump(step1_results,f)\n",
    "# # close file\n",
    "f.close()\n",
    "\n",
    "# create a binary pickle file \n",
    "f = open(f'{save_path}/step2_optim_results_06192023.pkl',\"wb\")\n",
    "# # write the python object (dict) to pickle file\n",
    "pickle.dump(step2_results,f)\n",
    "# # close file\n",
    "f.close()"
   ]
  },
  {
   "cell_type": "markdown",
   "metadata": {},
   "source": [
    "## Test Lambda Parameter"
   ]
  },
  {
   "cell_type": "code",
   "execution_count": 25,
   "metadata": {},
   "outputs": [],
   "source": [
    "glm1_vars = [\"cr(t-1)\",\"cr(t-2)\",\"cr(t-3)\",\"choice_ev(t-1)\",\"choice_ev(t-2)\",\"choice_ev(t-3)\",\"rpe(t-1)\",\"rpe(t-2)\",\"rpe(t-3)\"]\n",
    "glm2_vars = [\"cr(t-1)\",\"cr(t-2)\",\"cr(t-3)\",\"choice_ev(t-1)\",\"choice_ev(t-2)\",\"choice_ev(t-3)\",\"totalcpe(t-1)\",\"totalcpe(t-2)\",\"totalcpe(t-3)\"]\n",
    "glm3_vars = [\"cr(t-1)\",\"cr(t-2)\",\"cr(t-3)\",\"choice_ev(t-1)\",\"choice_ev(t-2)\",\"choice_ev(t-3)\",\"rpe(t-1)\",\"rpe(t-2)\",\"rpe(t-3)\",\"totalcpe(t-1)\",\"totalcpe(t-2)\",\"totalcpe(t-3)\"]\n",
    "glm4_vars = [\"cr(t-1)\",\"cr(t-2)\",\"cr(t-3)\",\"choice_ev(t-1)\",\"choice_ev(t-2)\",\"choice_ev(t-3)\",\"totalregret(t-1)\",\"totalregret(t-2)\",\"totalregret(t-3)\"]\n",
    "glm5_vars = [\"cr(t-1)\",\"cr(t-2)\",\"cr(t-3)\",\"choice_ev(t-1)\",\"choice_ev(t-2)\",\"choice_ev(t-3)\",\"totalrelief(t-1)\",\"totalrelief(t-2)\",\"totalrelief(t-3)\"]\n",
    "glm6_vars = [\"cr(t-1)\",\"cr(t-2)\",\"cr(t-3)\",\"choice_ev(t-1)\",\"choice_ev(t-2)\",\"choice_ev(t-3)\",\"totalregret(t-1)\",\"totalregret(t-2)\",\"totalregret(t-3)\",\"totalrelief(t-1)\",\"totalrelief(t-2)\",\"totalrelief(t-3)\"]\n",
    "glm7_vars = [\"cr(t-1)\",\"cr(t-2)\",\"cr(t-3)\",\"choice_ev(t-1)\",\"choice_ev(t-2)\",\"choice_ev(t-3)\",\"rpe(t-1)\",\"rpe(t-2)\",\"rpe(t-3)\",\"totalregret(t-1)\",\"totalregret(t-2)\",\"totalregret(t-3)\",\"totalrelief(t-1)\",\"totalrelief(t-2)\",\"totalrelief(t-3)\"]\n"
   ]
  },
  {
   "cell_type": "code",
   "execution_count": 144,
   "metadata": {},
   "outputs": [],
   "source": [
    "lam_test_results = {}\n",
    "\n",
    "lam_methods = ['exp','linear','none']\n",
    "\n",
    "for lam in lam_methods: \n",
    "    reg_list = glm4_vars #test multiple here \n",
    "    n_regs = int(len(reg_list)/3)\n",
    "    mood_est_df, optim_resid_df, optim_inits_df, param_fits_df, aic_dict,bic1_dict,bic2_dict, rsq_dict = \\\n",
    "    SWB_modeling_utils.run_swb(model_input, subj_ids, n_regs, reg_list,lam_method=lam)\n",
    "    \n",
    "    lam_test_results[lam] = {'mood_est': mood_est_df,\n",
    "                            'optim_residuals':optim_resid_df,\n",
    "                           'optim_inits': optim_inits_df,\n",
    "                           'param_fits': param_fits_df,\n",
    "                            'aics':aic_dict,\n",
    "                           'bics1': bic1_dict,\n",
    "                            'bics2': bic2_dict,\n",
    "                           'rsqs': rsq_dict\n",
    "                           }\n",
    "    \n",
    "    \n",
    "    \n",
    "\n"
   ]
  },
  {
   "cell_type": "code",
   "execution_count": 145,
   "metadata": {},
   "outputs": [],
   "source": [
    "### use optimal parameters to run model \n",
    "\n",
    "lam_methods = ['exp','linear','none']\n",
    "lam_test_data = {}\n",
    "\n",
    "for lam in lam_methods: \n",
    "\n",
    "    reg_list = glm4_vars #test multiple here \n",
    "    n_regs = int(len(reg_list)/3)\n",
    "    params = lam_test_results[lam]['param_fits']\n",
    "\n",
    "    mood_est_df, resid_df, rss_dict, aic_dict, bic1_dict, bic2_dict, rsq_dict = \\\n",
    "    SWB_modeling_utils.fit_swb(model_input,subj_ids,params,n_regs,reg_list,lam_method=lam)\n",
    "    \n",
    "\n",
    "    lam_test_data[lam] = {'mood_est': mood_est_df,\n",
    "                            'residuals':resid_df,\n",
    "                           'rss': rss_dict,\n",
    "                            'aic':aic_dict,\n",
    "                           'bics1': bic1_dict,\n",
    "                            'bics2': bic2_dict,\n",
    "                           'rsqs': rsq_dict\n",
    "                           }\n"
   ]
  },
  {
   "cell_type": "code",
   "execution_count": 146,
   "metadata": {},
   "outputs": [
    {
     "name": "stdout",
     "output_type": "stream",
     "text": [
      "best model bic for  DA8 is linear -52.990532698392634\n",
      "best model rsq for  DA8 is linear -0.18641771467165458\n",
      "best model bic for  DA9 is exp -169.1057155513187\n",
      "best model rsq for  DA9 is exp -0.026130020767139994\n",
      "best model bic for  DA10 is none -170.80790238701806\n",
      "best model rsq for  DA10 is none -0.02394901062785504\n",
      "best model bic for  DA11 is exp -239.13324967282\n",
      "best model rsq for  DA11 is exp 0.059872667737713825\n",
      "best model bic for  DA023 is linear -216.64330497607267\n",
      "best model rsq for  DA023 is linear 0.033068401844241646\n",
      "best model bic for  MS002 is linear -252.78383218185854\n",
      "best model rsq for  MS002 is linear 0.07577818920375634\n",
      "best model bic for  MS003 is exp -236.96156502121693\n",
      "best model rsq for  MS003 is exp 0.05731712553965829\n",
      "best model bic for  MS016 is linear -246.24194847819018\n",
      "best model rsq for  MS016 is linear 0.06818951434502407\n",
      "best model bic for  MS017 is linear -157.59531595410255\n",
      "best model rsq for  MS017 is linear -0.04100070213091489\n",
      "best model bic for  MS019 is none -118.82775116037473\n",
      "best model rsq for  MS019 is none -0.09268931618622522\n",
      "best model bic for  MS022 is linear -210.09606674148552\n",
      "best model rsq for  MS022 is linear 0.02512251703194357\n",
      "best model bic for  MS025 is none -155.1966866202185\n",
      "best model rsq for  MS025 is none -0.044126604490754895\n",
      "best model bic for  MS026 is none -201.56573424058206\n",
      "best model rsq for  MS026 is none 0.014671862479196385\n",
      "best model bic for  MS027 is exp -222.60949275476366\n",
      "best model rsq for  MS027 is exp 0.04025269861132108\n",
      "best model bic for  MS029 is exp -222.43620393209036\n",
      "best model rsq for  MS029 is exp 0.040044784243958964\n",
      "best model bic for  MS030 is exp -191.33260928310855\n",
      "best model rsq for  MS030 is exp 0.001987175498477156\n"
     ]
    }
   ],
   "source": [
    "for ix,s in enumerate(subj_ids):\n",
    "    best_bic = np.inf\n",
    "    best_rsq = -np.inf\n",
    "    best_model_bic = []\n",
    "    best_model_rsq = []\n",
    "    for lam in lam_methods: \n",
    "        bic = lam_test_data[lam]['bics1'][s]\n",
    "        rsq = lam_test_data[lam]['rsqs'][s]\n",
    "        if bic<best_bic:\n",
    "            best_bic = bic \n",
    "            best_model_bic = lam\n",
    "        if rsq>best_rsq:\n",
    "            best_rsq=rsq\n",
    "            best_model_rsq = lam\n",
    "        \n",
    "    print('best model bic for ',s,'is',best_model_bic,best_bic)\n",
    "    print('best model rsq for ',s,'is',best_model_rsq,best_rsq)"
   ]
  },
  {
   "cell_type": "code",
   "execution_count": 147,
   "metadata": {},
   "outputs": [
    {
     "name": "stdout",
     "output_type": "stream",
     "text": [
      "exp bic1 mean -169.66984217206902\n",
      "linear bic1 mean -170.51662995145438\n",
      "none bic1 mean -160.14758923173622\n"
     ]
    }
   ],
   "source": [
    "print('exp bic1 mean',np.mean(np.array(list(lam_test_data['exp']['bics1'].values()))))\n",
    "print('linear bic1 mean',np.mean(np.array(list(lam_test_data['linear']['bics1'].values()))))\n",
    "print('none bic1 mean',np.mean(np.array(list(lam_test_data['none']['bics1'].values()))))\n"
   ]
  },
  {
   "cell_type": "code",
   "execution_count": 148,
   "metadata": {},
   "outputs": [
    {
     "name": "stdout",
     "output_type": "stream",
     "text": [
      "exp bic2 mean 33.93079089036566\n",
      "linear bic2 mean 33.932907859814115\n",
      "none bic2 mean 33.90698525801483\n"
     ]
    }
   ],
   "source": [
    "print('exp bic2 mean',np.mean(np.array(list(lam_test_data['exp']['bics2'].values()))))\n",
    "print('linear bic2 mean',np.mean(np.array(list(lam_test_data['linear']['bics2'].values()))))\n",
    "print('none bic2 mean',np.mean(np.array(list(lam_test_data['none']['bics2'].values()))))\n"
   ]
  },
  {
   "cell_type": "code",
   "execution_count": 149,
   "metadata": {},
   "outputs": [
    {
     "name": "stdout",
     "output_type": "stream",
     "text": [
      "exp aic mean -193.09290081040865\n",
      "linear aic mean -193.939688589794\n",
      "none aic mean -183.57064787007585\n"
     ]
    }
   ],
   "source": [
    "print('exp aic mean',np.mean(np.array(list(lam_test_data['exp']['aic'].values()))))\n",
    "print('linear aic mean',np.mean(np.array(list(lam_test_data['linear']['aic'].values()))))\n",
    "print('none aic mean',np.mean(np.array(list(lam_test_data['none']['aic'].values()))))\n"
   ]
  },
  {
   "cell_type": "code",
   "execution_count": 150,
   "metadata": {},
   "outputs": [
    {
     "name": "stdout",
     "output_type": "stream",
     "text": [
      "exp rsq mean -0.02919101408522419\n",
      "linear rsq mean -0.028201229303093926\n",
      "none rsq mean -0.0412337430961645\n"
     ]
    }
   ],
   "source": [
    "print('exp rsq mean',np.mean(np.array(list(lam_test_data['exp']['rsqs'].values()))))\n",
    "print('linear rsq mean',np.mean(np.array(list(lam_test_data['linear']['rsqs'].values()))))\n",
    "print('none rsq mean',np.mean(np.array(list(lam_test_data['none']['rsqs'].values()))))"
   ]
  },
  {
   "cell_type": "markdown",
   "metadata": {},
   "source": [
    "Best fitting lambda for regret model (glm4) is exponential lambda - will keep exponential lambda for now\n",
    "\n",
    "\n",
    "RPE (glm1) best fitting lambda is none\n",
    "CPE (glm2) best fitting lambda is tie between exponential and linear\n",
    "RPE/CPE (glm3) best fitting lambda is none\n",
    "Regret (glm4) best fitting lambda is exponential (close to linear)\n",
    "Relief (glm5) best fitting lambda is none\n",
    "Reg/Rel (glm6) best fitting lambda is tie between exponential and linear\n",
    "Full (glm7) best fitting lambda is none "
   ]
  },
  {
   "cell_type": "markdown",
   "metadata": {},
   "source": [
    "## BDI Comparison"
   ]
  },
  {
   "cell_type": "code",
   "execution_count": 19,
   "metadata": {},
   "outputs": [],
   "source": [
    "bdi_list = pd.read_excel(f'{swb_dir}SWB_subjects.xlsx', sheet_name='Usable_Subjects', usecols=[3])\n",
    "bdi_list = list(bdi_list.BDI)"
   ]
  },
  {
   "cell_type": "code",
   "execution_count": 20,
   "metadata": {},
   "outputs": [
    {
     "data": {
      "text/plain": [
       "[13, 32, 11, 41, 14, 14, 8, 10, 26, 12, 10, 7, 11, 16, 32, 19]"
      ]
     },
     "execution_count": 20,
     "metadata": {},
     "output_type": "execute_result"
    }
   ],
   "source": [
    "bdi_list"
   ]
  },
  {
   "cell_type": "code",
   "execution_count": 21,
   "metadata": {},
   "outputs": [
    {
     "data": {
      "text/plain": [
       "[('DA8', 13),\n",
       " ('DA9', 32),\n",
       " ('DA10', 11),\n",
       " ('DA11', 41),\n",
       " ('DA023', 14),\n",
       " ('MS002', 14),\n",
       " ('MS003', 8),\n",
       " ('MS016', 10),\n",
       " ('MS017', 26),\n",
       " ('MS019', 12),\n",
       " ('MS022', 10),\n",
       " ('MS025', 7),\n",
       " ('MS026', 11),\n",
       " ('MS027', 16),\n",
       " ('MS029', 32),\n",
       " ('MS030', 19)]"
      ]
     },
     "execution_count": 21,
     "metadata": {},
     "output_type": "execute_result"
    }
   ],
   "source": [
    "list(zip(subj_ids,bdi_list))"
   ]
  },
  {
   "cell_type": "code",
   "execution_count": 22,
   "metadata": {},
   "outputs": [],
   "source": [
    "dep_subj = []\n",
    "nodep_subj = []\n",
    "\n",
    "for s,b in list(zip(subj_ids,bdi_list)):\n",
    "    if b > 20:\n",
    "        dep_subj.append(s)\n",
    "    else:\n",
    "        nodep_subj.append(s)\n",
    "        "
   ]
  },
  {
   "cell_type": "code",
   "execution_count": 23,
   "metadata": {},
   "outputs": [],
   "source": [
    "cpe_fits = glm_results['CPE']['param_fits'] #CR/EV/CPE\n",
    "cpe_rpe_fits = glm_results['CPE+RPE']['param_fits'] #CR/EV/RPE/CPE\n",
    "regret_fits = glm_results['Regret']['param_fits'] #CR/EV/Reg\n",
    "relief_fits = glm_results['Relief']['param_fits'] #CR/EV/Rel\n",
    "full_fits = glm_results['Full']['param_fits'] #CR/EV/RPE/Reg/Rel\n",
    "#2 = 'CPE', 3 = 'CPE+RPE', 4 = 'Regret', 5 = 'Relief', 7 = 'Full'"
   ]
  },
  {
   "cell_type": "code",
   "execution_count": 211,
   "metadata": {},
   "outputs": [
    {
     "data": {
      "text/html": [
       "<div>\n",
       "<style scoped>\n",
       "    .dataframe tbody tr th:only-of-type {\n",
       "        vertical-align: middle;\n",
       "    }\n",
       "\n",
       "    .dataframe tbody tr th {\n",
       "        vertical-align: top;\n",
       "    }\n",
       "\n",
       "    .dataframe thead th {\n",
       "        text-align: right;\n",
       "    }\n",
       "</style>\n",
       "<table border=\"1\" class=\"dataframe\">\n",
       "  <thead>\n",
       "    <tr style=\"text-align: right;\">\n",
       "      <th></th>\n",
       "      <th>DA8</th>\n",
       "      <th>DA9</th>\n",
       "      <th>DA10</th>\n",
       "      <th>DA11</th>\n",
       "      <th>DA023</th>\n",
       "      <th>MS002</th>\n",
       "      <th>MS003</th>\n",
       "      <th>MS016</th>\n",
       "      <th>MS017</th>\n",
       "      <th>MS019</th>\n",
       "      <th>MS022</th>\n",
       "      <th>MS025</th>\n",
       "      <th>MS026</th>\n",
       "      <th>MS027</th>\n",
       "      <th>MS029</th>\n",
       "      <th>MS030</th>\n",
       "    </tr>\n",
       "  </thead>\n",
       "  <tbody>\n",
       "    <tr>\n",
       "      <th>0</th>\n",
       "      <td>0.207696</td>\n",
       "      <td>0.110145</td>\n",
       "      <td>0.252518</td>\n",
       "      <td>3.720192e-24</td>\n",
       "      <td>8.420645e-17</td>\n",
       "      <td>0.404378</td>\n",
       "      <td>1.835018e-19</td>\n",
       "      <td>0.302071</td>\n",
       "      <td>0.307597</td>\n",
       "      <td>0.210265</td>\n",
       "      <td>1.130995e-19</td>\n",
       "      <td>0.273081</td>\n",
       "      <td>1.000000</td>\n",
       "      <td>0.196693</td>\n",
       "      <td>0.450696</td>\n",
       "      <td>3.180872e-15</td>\n",
       "    </tr>\n",
       "    <tr>\n",
       "      <th>1</th>\n",
       "      <td>0.167961</td>\n",
       "      <td>0.261360</td>\n",
       "      <td>0.494593</td>\n",
       "      <td>2.845186e-01</td>\n",
       "      <td>-1.602330e-01</td>\n",
       "      <td>0.229160</td>\n",
       "      <td>9.330817e-02</td>\n",
       "      <td>0.166146</td>\n",
       "      <td>0.633060</td>\n",
       "      <td>0.357590</td>\n",
       "      <td>1.891494e-01</td>\n",
       "      <td>0.097368</td>\n",
       "      <td>0.322730</td>\n",
       "      <td>0.097699</td>\n",
       "      <td>0.264388</td>\n",
       "      <td>8.058646e-02</td>\n",
       "    </tr>\n",
       "    <tr>\n",
       "      <th>2</th>\n",
       "      <td>-0.442706</td>\n",
       "      <td>-0.467426</td>\n",
       "      <td>0.545093</td>\n",
       "      <td>1.017529e+00</td>\n",
       "      <td>1.793029e-01</td>\n",
       "      <td>-0.024877</td>\n",
       "      <td>3.380954e-01</td>\n",
       "      <td>0.068246</td>\n",
       "      <td>0.661606</td>\n",
       "      <td>-0.858636</td>\n",
       "      <td>-6.240939e-02</td>\n",
       "      <td>0.813615</td>\n",
       "      <td>0.349781</td>\n",
       "      <td>-0.136569</td>\n",
       "      <td>0.589465</td>\n",
       "      <td>2.303231e-01</td>\n",
       "    </tr>\n",
       "    <tr>\n",
       "      <th>3</th>\n",
       "      <td>1.132871</td>\n",
       "      <td>0.980650</td>\n",
       "      <td>0.774213</td>\n",
       "      <td>5.695769e-01</td>\n",
       "      <td>5.011222e-01</td>\n",
       "      <td>0.571261</td>\n",
       "      <td>2.804920e-01</td>\n",
       "      <td>0.425988</td>\n",
       "      <td>0.322351</td>\n",
       "      <td>0.282067</td>\n",
       "      <td>8.514756e-01</td>\n",
       "      <td>-0.345507</td>\n",
       "      <td>-0.000556</td>\n",
       "      <td>0.411451</td>\n",
       "      <td>0.654147</td>\n",
       "      <td>-6.612919e-02</td>\n",
       "    </tr>\n",
       "    <tr>\n",
       "      <th>4</th>\n",
       "      <td>0.456860</td>\n",
       "      <td>0.508895</td>\n",
       "      <td>0.658723</td>\n",
       "      <td>4.648101e-01</td>\n",
       "      <td>-1.760625e-01</td>\n",
       "      <td>0.205027</td>\n",
       "      <td>3.984895e-01</td>\n",
       "      <td>0.332437</td>\n",
       "      <td>0.703069</td>\n",
       "      <td>0.295202</td>\n",
       "      <td>5.569215e-01</td>\n",
       "      <td>0.052773</td>\n",
       "      <td>0.120014</td>\n",
       "      <td>0.028992</td>\n",
       "      <td>0.142794</td>\n",
       "      <td>-9.702137e-02</td>\n",
       "    </tr>\n",
       "  </tbody>\n",
       "</table>\n",
       "</div>"
      ],
      "text/plain": [
       "        DA8       DA9      DA10          DA11         DA023     MS002  \\\n",
       "0  0.207696  0.110145  0.252518  3.720192e-24  8.420645e-17  0.404378   \n",
       "1  0.167961  0.261360  0.494593  2.845186e-01 -1.602330e-01  0.229160   \n",
       "2 -0.442706 -0.467426  0.545093  1.017529e+00  1.793029e-01 -0.024877   \n",
       "3  1.132871  0.980650  0.774213  5.695769e-01  5.011222e-01  0.571261   \n",
       "4  0.456860  0.508895  0.658723  4.648101e-01 -1.760625e-01  0.205027   \n",
       "\n",
       "          MS003     MS016     MS017     MS019         MS022     MS025  \\\n",
       "0  1.835018e-19  0.302071  0.307597  0.210265  1.130995e-19  0.273081   \n",
       "1  9.330817e-02  0.166146  0.633060  0.357590  1.891494e-01  0.097368   \n",
       "2  3.380954e-01  0.068246  0.661606 -0.858636 -6.240939e-02  0.813615   \n",
       "3  2.804920e-01  0.425988  0.322351  0.282067  8.514756e-01 -0.345507   \n",
       "4  3.984895e-01  0.332437  0.703069  0.295202  5.569215e-01  0.052773   \n",
       "\n",
       "      MS026     MS027     MS029         MS030  \n",
       "0  1.000000  0.196693  0.450696  3.180872e-15  \n",
       "1  0.322730  0.097699  0.264388  8.058646e-02  \n",
       "2  0.349781 -0.136569  0.589465  2.303231e-01  \n",
       "3 -0.000556  0.411451  0.654147 -6.612919e-02  \n",
       "4  0.120014  0.028992  0.142794 -9.702137e-02  "
      ]
     },
     "execution_count": 211,
     "metadata": {},
     "output_type": "execute_result"
    }
   ],
   "source": [
    "cpe_fits"
   ]
  },
  {
   "cell_type": "code",
   "execution_count": 48,
   "metadata": {},
   "outputs": [],
   "source": [
    "cpe_betas = cpe_fits.iloc[-1]\n",
    "regret_betas = regret_fits.iloc[-1]\n",
    "relief_betas = relief_fits.iloc[-1]\n",
    "full_regret_betas = full_fits.iloc[-2]\n",
    "full_relief_betas = full_fits.iloc[-1]\n",
    "full_rpe_betas = full_fits.iloc[-3]"
   ]
  },
  {
   "cell_type": "code",
   "execution_count": 25,
   "metadata": {},
   "outputs": [
    {
     "data": {
      "text/plain": [
       "[('DA8', 0.4568661897713048, 13),\n",
       " ('DA9', 0.5088939970685626, 32),\n",
       " ('DA10', 0.6587345737842694, 11),\n",
       " ('DA11', 0.4648100628031894, 41),\n",
       " ('DA023', -0.17606252847917267, 14),\n",
       " ('MS002', 0.20500845640778104, 14),\n",
       " ('MS003', 0.3984895288310729, 8),\n",
       " ('MS016', 0.3324377251548912, 10),\n",
       " ('MS017', 0.7030664349448558, 26),\n",
       " ('MS019', 0.2952034839340415, 12),\n",
       " ('MS022', 0.5569214609262508, 10),\n",
       " ('MS025', 0.052763689900181494, 7),\n",
       " ('MS026', 0.12001369049667177, 11),\n",
       " ('MS027', 0.028989953964848325, 16),\n",
       " ('MS029', 0.14279507671097916, 32),\n",
       " ('MS030', -0.097021370459818, 19)]"
      ]
     },
     "execution_count": 25,
     "metadata": {},
     "output_type": "execute_result"
    }
   ],
   "source": [
    "list(zip(subj_ids,cpe_betas,bdi_list))"
   ]
  },
  {
   "cell_type": "code",
   "execution_count": 26,
   "metadata": {},
   "outputs": [],
   "source": [
    "x = bdi_list\n",
    "cpe_y = cpe_betas"
   ]
  },
  {
   "cell_type": "code",
   "execution_count": 27,
   "metadata": {},
   "outputs": [
    {
     "data": {
      "text/plain": [
       "<matplotlib.collections.PathCollection at 0x130ac8350>"
      ]
     },
     "execution_count": 27,
     "metadata": {},
     "output_type": "execute_result"
    },
    {
     "data": {
      "image/png": "[encoded data removed]",
      "text/plain": [
       "<Figure size 640x480 with 1 Axes>"
      ]
     },
     "metadata": {},
     "output_type": "display_data"
    }
   ],
   "source": [
    "plt.scatter(x,cpe_y)"
   ]
  },
  {
   "cell_type": "code",
   "execution_count": 28,
   "metadata": {},
   "outputs": [
    {
     "data": {
      "text/plain": [
       "<matplotlib.collections.PathCollection at 0x130c35190>"
      ]
     },
     "execution_count": 28,
     "metadata": {},
     "output_type": "execute_result"
    },
    {
     "data": {
      "image/png": "[encoded data removed]",
      "text/plain": [
       "<Figure size 640x480 with 1 Axes>"
      ]
     },
     "metadata": {},
     "output_type": "display_data"
    }
   ],
   "source": [
    "plt.scatter(x,regret_betas)"
   ]
  },
  {
   "cell_type": "code",
   "execution_count": 29,
   "metadata": {},
   "outputs": [
    {
     "data": {
      "text/plain": [
       "<matplotlib.collections.PathCollection at 0x130d47490>"
      ]
     },
     "execution_count": 29,
     "metadata": {},
     "output_type": "execute_result"
    },
    {
     "data": {
      "image/png": "[encoded data removed]",
      "text/plain": [
       "<Figure size 640x480 with 1 Axes>"
      ]
     },
     "metadata": {},
     "output_type": "display_data"
    }
   ],
   "source": [
    "plt.scatter(x,relief_betas)"
   ]
  },
  {
   "cell_type": "code",
   "execution_count": 49,
   "metadata": {},
   "outputs": [],
   "source": [
    "dep_regret_betas = regret_fits[dep_subj].iloc[-1]\n",
    "nodep_regret_betas = regret_fits[nodep_subj].iloc[-1]\n",
    "\n",
    "dep_cpe_betas = cpe_fits[dep_subj].iloc[-1]\n",
    "nodep_cpe_betas = cpe_fits[nodep_subj].iloc[-1]\n",
    "\n",
    "dep_relief_betas = relief_fits[dep_subj].iloc[-1]\n",
    "nodep_relief_betas = relief_fits[nodep_subj].iloc[-1]\n",
    "\n",
    "dep_full_regret_betas = full_fits[dep_subj].iloc[-2]\n",
    "nodep_full_regret_betas = full_fits[nodep_subj].iloc[-2]\n",
    "\n",
    "dep_full_relief_betas = full_fits[dep_subj].iloc[-1]\n",
    "nodep_full_relief_betas = full_fits[nodep_subj].iloc[-1]\n",
    "\n",
    "dep_full_rpe_betas = full_fits[dep_subj].iloc[-3]\n",
    "nodep_full_rpe_betas = full_fits[nodep_subj].iloc[-3]\n"
   ]
  },
  {
   "cell_type": "code",
   "execution_count": 51,
   "metadata": {},
   "outputs": [
    {
     "data": {
      "text/plain": [
       "Ttest_indResult(statistic=1.5575617992722262, pvalue=0.15388561122019223)"
      ]
     },
     "execution_count": 51,
     "metadata": {},
     "output_type": "execute_result"
    }
   ],
   "source": [
    "import scipy.stats as stats\n",
    "stats.ttest_ind(dep_regret_betas, nodep_regret_betas, equal_var=False)\n"
   ]
  },
  {
   "cell_type": "code",
   "execution_count": 52,
   "metadata": {},
   "outputs": [
    {
     "data": {
      "text/plain": [
       "Ttest_indResult(statistic=1.5829655195579526, pvalue=0.16671086739811794)"
      ]
     },
     "execution_count": 52,
     "metadata": {},
     "output_type": "execute_result"
    }
   ],
   "source": [
    "stats.ttest_ind(dep_cpe_betas, nodep_cpe_betas, equal_var=False)\n"
   ]
  },
  {
   "cell_type": "code",
   "execution_count": 53,
   "metadata": {},
   "outputs": [
    {
     "data": {
      "text/plain": [
       "Ttest_indResult(statistic=0.6703564414005991, pvalue=0.5358483697854808)"
      ]
     },
     "execution_count": 53,
     "metadata": {},
     "output_type": "execute_result"
    }
   ],
   "source": [
    "stats.ttest_ind(dep_relief_betas, nodep_relief_betas, equal_var=False)\n"
   ]
  },
  {
   "cell_type": "code",
   "execution_count": 54,
   "metadata": {},
   "outputs": [
    {
     "data": {
      "text/plain": [
       "Ttest_indResult(statistic=1.7635809149658515, pvalue=0.13909111111943553)"
      ]
     },
     "execution_count": 54,
     "metadata": {},
     "output_type": "execute_result"
    }
   ],
   "source": [
    "stats.ttest_ind(dep_full_regret_betas, nodep_full_regret_betas, equal_var=False)\n"
   ]
  },
  {
   "cell_type": "code",
   "execution_count": 55,
   "metadata": {},
   "outputs": [
    {
     "data": {
      "text/plain": [
       "Ttest_indResult(statistic=0.49911612140969286, pvalue=0.627913806335884)"
      ]
     },
     "execution_count": 55,
     "metadata": {},
     "output_type": "execute_result"
    }
   ],
   "source": [
    "stats.ttest_ind(dep_full_relief_betas, nodep_full_relief_betas, equal_var=False)\n"
   ]
  },
  {
   "cell_type": "code",
   "execution_count": 56,
   "metadata": {},
   "outputs": [
    {
     "data": {
      "text/plain": [
       "Ttest_indResult(statistic=-1.2570219972017556, pvalue=0.25774804788565026)"
      ]
     },
     "execution_count": 56,
     "metadata": {},
     "output_type": "execute_result"
    }
   ],
   "source": [
    "stats.ttest_ind(dep_full_rpe_betas, nodep_full_rpe_betas, equal_var=False)\n"
   ]
  },
  {
   "cell_type": "markdown",
   "metadata": {},
   "source": [
    "## Prospect Theory GLMs\n",
    "\n",
    "1) Rutledge EV (CR+EV)\n",
    "2) PT (Util_s+Util_g) *validate this is better than Rutledge EV (PT1)\n",
    "3) RPE PT (Util_s+Util_g+RPE)\n",
    "4) CPE PT (Util_s+Util_g+tCPE) *tCPE always now\n",
    "5) CPE+RPE PT (Util_s+Util_g+RPE+tCPE) \n",
    "6) Regret PT (Util_s+Util_g+tRegret) *omit RPE if model 4 > model 5\n",
    "7) Relief PT (Util_s+Util_g+tRelief) *omit RPE if model 4 > model 5\n",
    "8) Regret/Relief PT (Util_s+Util_g+tRegret+tRelief) "
   ]
  },
  {
   "cell_type": "code",
   "execution_count": null,
   "metadata": {},
   "outputs": [],
   "source": [
    "pt1_vars = [\"cr(t-1)\",\"cr(t-2)\",\"cr(t-3)\",\"choice_ev(t-1)\",\"choice_ev(t-2)\",\"choice_ev(t-3)\"]\n",
    "pt2_vars = [\"cr(t-1)\",\"cr(t-2)\",\"cr(t-3)\",\"choice_ev(t-1)\",\"choice_ev(t-2)\",\"choice_ev(t-3)\",\"totalcpe(t-1)\",\"totalcpe(t-2)\",\"totalcpe(t-3)\"]\n",
    "pt3_vars = [\"cr(t-1)\",\"cr(t-2)\",\"cr(t-3)\",\"choice_ev(t-1)\",\"choice_ev(t-2)\",\"choice_ev(t-3)\",\"decisioncpe(t-1)\",\"decisioncpe(t-2)\",\"decisioncpe(t-3)\"]\n",
    "pt4_vars = [\"cr(t-1)\",\"cr(t-2)\",\"cr(t-3)\",\"choice_ev(t-1)\",\"choice_ev(t-2)\",\"choice_ev(t-3)\",\"rpe(t-1)\",\"rpe(t-2)\",\"rpe(t-3)\",\"totalcpe(t-1)\",\"totalcpe(t-2)\",\"totalcpe(t-3)\"]\n",
    "pt5_vars = [\"cr(t-1)\",\"cr(t-2)\",\"cr(t-3)\",\"choice_ev(t-1)\",\"choice_ev(t-2)\",\"choice_ev(t-3)\",\"rpe(t-1)\",\"rpe(t-2)\",\"rpe(t-3)\",\"decisioncpe(t-1)\",\"decisioncpe(t-2)\",\"decisioncpe(t-3)\"]\n",
    "pt6_vars = [\"cr(t-1)\",\"cr(t-2)\",\"cr(t-3)\",\"choice_ev(t-1)\",\"choice_ev(t-2)\",\"choice_ev(t-3)\",\"decisioncpe(t-1)\",\"decisioncpe(t-2)\",\"decisioncpe(t-3)\"]\n",
    "pt7_vars = [\"cr(t-1)\",\"cr(t-2)\",\"cr(t-3)\",\"choice_ev(t-1)\",\"choice_ev(t-2)\",\"choice_ev(t-3)\",\"rpe(t-1)\",\"rpe(t-2)\",\"rpe(t-3)\",\"totalcpe(t-1)\",\"totalcpe(t-2)\",\"totalcpe(t-3)\"]\n",
    "pt8_vars = [\"cr(t-1)\",\"cr(t-2)\",\"cr(t-3)\",\"choice_ev(t-1)\",\"choice_ev(t-2)\",\"choice_ev(t-3)\",\"rpe(t-1)\",\"rpe(t-2)\",\"rpe(t-3)\",\"decisioncpe(t-1)\",\"decisioncpe(t-2)\",\"decisioncpe(t-3)\"]\n"
   ]
  },
  {
   "cell_type": "code",
   "execution_count": null,
   "metadata": {},
   "outputs": [],
   "source": []
  },
  {
   "cell_type": "code",
   "execution_count": null,
   "metadata": {},
   "outputs": [],
   "source": []
  },
  {
   "cell_type": "markdown",
   "metadata": {},
   "source": [
    "# Model Figures"
   ]
  },
  {
   "cell_type": "code",
   "execution_count": null,
   "metadata": {},
   "outputs": [],
   "source": [
    "#model comparison fig\n",
    "rutledge_bic1 = np.array(list(cf_results_dict['rutledge']['bics1'].values()))\n",
    "total_cpe_bic1 = np.array(list(cf_results_dict['total_cpe']['bics1'].values()))\n",
    "regret_bic1 = np.array(list(cf_results_dict['regret']['bics1'].values()))\n",
    "relief_bic1 = np.array(list(cf_results_dict['relief']['bics1'].values()))\n",
    "combo_bic1 = np.array(list(cf_results_dict['combo']['bics1'].values()))"
   ]
  },
  {
   "cell_type": "code",
   "execution_count": null,
   "metadata": {},
   "outputs": [],
   "source": [
    "bar_data = pd.DataFrame(columns=['RPE','CPE','Regret','Relief','CPE Split'])\n",
    "bar_data['RPE'] = rutledge_bic1\n",
    "bar_data['CPE'] = total_cpe_bic1\n",
    "bar_data['Regret'] = regret_bic1\n",
    "bar_data['Relief'] = relief_bic1\n",
    "bar_data['CPE Split'] = combo_bic1"
   ]
  },
  {
   "cell_type": "code",
   "execution_count": null,
   "metadata": {},
   "outputs": [],
   "source": [
    "#magma,cubehelix,twilight\n",
    "fig,ax = plt.subplots(figsize=(10,6))\n",
    "sns.set_theme(style='whitegrid',font='Arial') \n",
    "sns.barplot(data=bar_data, errorbar=('ci',50),order=['Relief','Regret','RPE','CPE'],saturation=0.8,palette='flare',capsize=0.05,errcolor='black',errwidth=1.5)#flare_r,flare,Reds,YlOrRd, rocket\n",
    "ax.set_title('SWB Model Evaluation',weight='semibold',fontsize=18,y=1.025)\n",
    "#ax.set_xlabel('SWB Models',weight='medium',fontsize=15)\n",
    "ax.set_ylabel('Mean BIC Score',weight='medium',fontsize=15,x=0.025)\n",
    "ax.tick_params(labelsize=12)\n",
    "\n",
    "\n"
   ]
  },
  {
   "cell_type": "code",
   "execution_count": null,
   "metadata": {},
   "outputs": [],
   "source": [
    "mood_est = list(pd.DataFrame.mean(cf_results_dict['total_cpe']['mood_est'],axis=1))"
   ]
  },
  {
   "cell_type": "code",
   "execution_count": null,
   "metadata": {},
   "outputs": [
    {
     "data": {
      "text/plain": [
       "(-1.25, 1.25)"
      ]
     },
     "metadata": {},
     "output_type": "display_data"
    },
    {
     "data": {
      "image/png": "[encoded data removed]",
      "text/plain": [
       "<Figure size 1000x600 with 1 Axes>"
      ]
     },
     "metadata": {},
     "output_type": "display_data"
    }
   ],
   "source": [
    "fig,ax = plt.subplots(figsize=(10,6))\n",
    "sns.set_theme(style='ticks',font='Arial',palette='flare_r') \n",
    "sns.lineplot(x=np.arange(0,50), y=rate_means[:50],label='True Happiness',linewidth=2.5)\n",
    "sns.lineplot(x=np.arange(0,50), y=mood_est[:50],label='Estimated Happiness',linestyle='dashed',linewidth=2.5)\n",
    "fig.suptitle('CPE Model Fit',font='Arial',weight ='semibold',fontsize=18,y=0.95)\n",
    "fig.supxlabel('Round',font='Arial',fontsize=16,y=0.01)\n",
    "fig.supylabel('Normalized Mean Happiness Rating',font='Arial',fontsize=16,x=0.045)\n",
    "ax.tick_params(labelsize=12)\n",
    "ax.set_ylim(-1.25,1.25)\n",
    "\n"
   ]
  },
  {
   "cell_type": "code",
   "execution_count": null,
   "metadata": {},
   "outputs": [],
   "source": [
    "lams = cf_results_dict['combo']['param_fits'].iloc[0]\n",
    "b_cr = cf_results_dict['combo']['param_fits'].iloc[2]\n",
    "b_ev = cf_results_dict['combo']['param_fits'].iloc[3]\n",
    "b_reg = cf_results_dict['combo']['param_fits'].iloc[4]\n",
    "b_rel = cf_results_dict['combo']['param_fits'].iloc[5]\n",
    "l = np.mean(np.array(lams))\n",
    "cr = np.mean(np.array(b_cr))\n",
    "ev = np.mean(np.array(b_ev))\n",
    "reg = np.mean(np.array(b_reg))\n",
    "rel = np.mean(np.array(b_rel))\n",
    "import itertools\n",
    "\n",
    "weights_plot_df = pd.DataFrame(columns=['trial','Regressor','Weight_Estimate'])\n",
    "weights_plot_df['trial'] = ['t1','t2','t3']*4\n",
    "weights_plot_df['Regressor'] = list(itertools.chain.from_iterable([['Certain Reward']*3,['Expected Value']*3,['Regret']*3,['Relief']*3]))\n",
    "\n",
    "\n",
    "\n",
    "#cr\n",
    "cr_t1 = cr\n",
    "cr_t2 = cr*l\n",
    "cr_t3 = cr*(l**2)\n",
    "\n",
    "#ev\n",
    "ev_t1 = ev\n",
    "ev_t2 = ev*l\n",
    "ev_t3 = ev*(l**2)\n",
    "\n",
    "#reg\n",
    "reg_t1 = reg\n",
    "reg_t2 = reg*l\n",
    "reg_t3 = reg*(l**2)\n",
    "\n",
    "#rel\n",
    "rel_t1 = rel\n",
    "rel_t2 = rel*l\n",
    "rel_t3 = rel*(l**2)\n",
    "\n",
    "weights_plot_df['Weight_Estimate'] = [cr_t1,cr_t2,cr_t3,ev_t1,ev_t2,ev_t3,reg_t1,reg_t2,reg_t3,rel_t1,rel_t2,rel_t3]\n"
   ]
  },
  {
   "cell_type": "code",
   "execution_count": null,
   "metadata": {},
   "outputs": [],
   "source": [
    "#weights plot\n",
    "fig,(ax1,ax2,ax3,ax4) = plt.subplots(1,4,figsize=(17,5),sharey=True)\n",
    "sns.set_theme(style='white',font='Arial') \n",
    "ax3.tick_params(labelsize=12)\n",
    "sns.barplot(ax=ax1,data=weights_plot_df[weights_plot_df['Regressor']== 'Regret'],x='trial',y='Weight_Estimate',palette='Reds_r')\n",
    "sns.barplot(ax=ax2,data=weights_plot_df[weights_plot_df['Regressor']== 'Relief'],x='trial',y='Weight_Estimate',palette='ocean_r')\n",
    "sns.barplot(ax=ax3,data=weights_plot_df[weights_plot_df['Regressor']== 'Expected Value'],x='trial',y='Weight_Estimate',palette='YlGn_r')\n",
    "sns.barplot(ax=ax4,data=weights_plot_df[weights_plot_df['Regressor']== 'Certain Reward'],x='trial',y='Weight_Estimate',palette='Purples_r')\n",
    "ax1.set_ylim(0,0.65)\n",
    "ax1.set_ylabel(None)\n",
    "ax1.set_xlabel(None)\n",
    "ax1.tick_params(labelsize=12)\n",
    "ax1.set_title('Regret',weight='medium',fontsize=14,y=1.02)\n",
    "\n",
    "ax2.set_ylabel(None)\n",
    "ax2.set_xlabel(None)\n",
    "ax2.tick_params(labelsize=12)\n",
    "ax2.set_title('Relief',weight='medium',fontsize=14,y=1.02)\n",
    "\n",
    "ax3.set_ylabel(None)\n",
    "ax3.set_xlabel(None)\n",
    "ax3.tick_params(labelsize=12)\n",
    "ax3.set_title('Expected Value',weight='medium',fontsize=14,y=1.02)\n",
    "\n",
    "ax4.set_ylabel(None)\n",
    "ax4.set_xlabel(None)\n",
    "ax4.tick_params(labelsize=12)\n",
    "ax4.set_title('Certain Reward',weight='medium',fontsize=14,y=1.02)\n",
    "\n",
    "fig.suptitle('Model Estimates of Regressor Weights',weight='semibold',fontsize=18, y=1.025)\n",
    "fig.supxlabel('Count of Trials Preceeding Happiness Rating',weight='medium',fontsize=16,y=0.01)\n",
    "fig.supylabel('Weight Estimate',weight='medium',fontsize=16,x=0.085)\n",
    "\n",
    "\n"
   ]
  },
  {
   "cell_type": "code",
   "execution_count": null,
   "metadata": {},
   "outputs": [],
   "source": [
    "#weights plot\n",
    "fig,(ax1,ax2) = plt.subplots(1,2,figsize=(10,5),sharey=True)\n",
    "sns.set_theme(style='white',font='Arial') \n",
    "ax3.tick_params(labelsize=12)\n",
    "sns.barplot(ax=ax1,data=weights_plot_df[weights_plot_df['Regressor']== 'Regret'],x='trial',y='Weight_Estimate',palette='flare_r')\n",
    "sns.barplot(ax=ax2,data=weights_plot_df[weights_plot_df['Regressor']== 'Relief'],x='trial',y='Weight_Estimate',palette='BuGn_r')\n",
    "\n",
    "ax1.set_ylim(0,0.65)\n",
    "ax1.set_ylabel(None)\n",
    "ax1.set_xlabel(None)\n",
    "ax1.tick_params(labelsize=12)\n",
    "ax1.set_title('Regret',weight='medium',fontsize=14,y=1.02)\n",
    "\n",
    "ax2.set_ylabel(None)\n",
    "ax2.set_xlabel(None)\n",
    "ax2.tick_params(labelsize=12)\n",
    "ax2.set_title('Relief',weight='medium',fontsize=14,y=1.02)\n",
    "\n",
    "fig.suptitle('Weight of Counterfactual Prediction Errors on Happiness Ratings',weight='semibold',fontsize=18, y=1.025)\n",
    "fig.supxlabel('Count of Trials Preceeding Happiness Rating',weight='medium',fontsize=16)\n",
    "fig.supylabel('Weight Estimate',weight='medium',fontsize=16,x=0.05)\n",
    "\n",
    "\n"
   ]
  },
  {
   "cell_type": "code",
   "execution_count": null,
   "metadata": {},
   "outputs": [],
   "source": [
    "fig,ax = plt.subplots(1,4,figsize=(10,6))\n",
    "sns.set_theme(style='whitegrid',font='Arial') \n",
    "sns.barplot(data=bar_data, errorbar=('ci',50),order=['CPE Split','Relief','Regret','RPE','CPE'],saturation=0.8,palette='flare',capsize=0.05,errcolor='black',errwidth=1.5)#flare_r,flare,Reds,YlOrRd, rocket\n",
    "ax.set_title('SWB Model Evaluation',weight='semibold',fontsize=18,y=1.025)\n",
    "#ax.set_xlabel('SWB Models',weight='medium',fontsize=15)\n",
    "ax.set_ylabel('Mean BIC Score',weight='medium',fontsize=15,x=0.025)\n",
    "ax.tick_params(labelsize=12)\n"
   ]
  },
  {
   "cell_type": "code",
   "execution_count": null,
   "metadata": {},
   "outputs": [],
   "source": [
    "fig, (ax1,ax2,ax3) = plt.subplots(1,3, figsize=(12,5))\n",
    "sns.set_theme(style='ticks',font='Arial',palette='mako_r') #magma_r,gnuplot,paired,cubehelix_r\n",
    "sns.regplot(data=gamble_plot,ax=ax1,x='loss_x',y='loss_y',ci=68,logistic=True,scatter=False)\n",
    "sns.regplot(data=gamble_plot,ax=ax2,x='mix_x',y='mix_y',ci=68,logistic=True,scatter=False)\n",
    "sns.regplot(data=gamble_plot,ax=ax3,x='gain_x',y='gain_y',ci=68,logistic=True,scatter=False)\n",
    "ax1.set_ylim(0,1)\n",
    "ax1.set_ylabel(None)\n",
    "ax1.set_xlabel(None)\n",
    "ax1.tick_params(labelsize=12)\n",
    "ax1.set_title('Loss Trials',weight='medium',fontsize=15,y=1.02)\n",
    "ax2.set_ylim(0,1)\n",
    "ax2.set_ylabel(None)\n",
    "ax2.set_xlabel(None)\n",
    "ax2.tick_params(labelsize=12)\n",
    "ax2.set_title('Mix Trials',weight='medium',fontsize=15,y=1.02)\n",
    "ax3.set_ylim(0,1)\n",
    "ax3.set_ylabel(None)\n",
    "ax3.set_xlabel(None)\n",
    "ax3.tick_params(labelsize=12)\n",
    "ax3.set_title('Gain Trials',weight='medium',fontsize=15,y=1.02)\n",
    "fig.supxlabel('Normalized Expected Value',y=-0.025,weight='medium',fontsize=16)\n",
    "fig.supylabel('Proportion of Gamble Choices',x=0.05,weight='medium',fontsize=16)\n",
    "fig.suptitle('Influence of Expected Value on Gamble Decision',y=1.05,weight='semibold',fontsize=18)"
   ]
  },
  {
   "cell_type": "markdown",
   "metadata": {},
   "source": [
    "References:\n",
    "- https://shawnrhoads.github.io/gu-psyc-347/module-02-01_Nonlinear-Modeling.html\n",
    "- https://docs.scipy.org/doc/scipy/reference/generated/scipy.optimize.least_squares.html\n",
    "- https://hernandis.me/2020/04/05/three-examples-of-nonlinear-least-squares-fitting-in-python-with-scipy.html\n",
    "- https://docs.scipy.org/doc/scipy/reference/generated/scipy.optimize.OptimizeResult.html#scipy.optimize.OptimizeResult\n",
    "- https://www.nedcharles.com/regression/Nonlinear_Least_Squares_Regression_For_Python.html\n"
   ]
  }
 ],
 "metadata": {
  "kernelspec": {
   "display_name": "Python [conda env:swb_behav_models]",
   "language": "python",
   "name": "conda-env-swb_behav_models-py"
  },
  "language_info": {
   "codemirror_mode": {
    "name": "ipython",
    "version": 3
   },
   "file_extension": ".py",
   "mimetype": "text/x-python",
   "name": "python",
   "nbconvert_exporter": "python",
   "pygments_lexer": "ipython3",
   "version": "3.11.3"
  },
  "vscode": {
   "interpreter": {
    "hash": "d44df5d2e961877584286d11e54e0f62dbc0de85878c8cdf3b51452b1ce7d435"
   }
  }
 },
 "nbformat": 4,
 "nbformat_minor": 2
}
