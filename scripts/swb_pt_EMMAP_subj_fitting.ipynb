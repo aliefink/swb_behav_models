{
 "cells": [
  {
   "attachments": {},
   "cell_type": "markdown",
   "metadata": {},
   "source": [
    "# SWB Prospect Theory Modeling \n",
    "Implement pyEM MAP parameter estimation method to estimate risk aversion, loss aversion, and inverse temp free parameters for every swb subject"
   ]
  },
  {
   "cell_type": "code",
   "execution_count": 1,
   "metadata": {},
   "outputs": [
    {
     "name": "stdout",
     "output_type": "stream",
     "text": [
      "Intel MKL WARNING: Support of Intel(R) Streaming SIMD Extensions 4.2 (Intel(R) SSE4.2) enabled only processors has been deprecated. Intel oneAPI Math Kernel Library 2025.0 will require Intel(R) Advanced Vector Extensions (Intel(R) AVX) instructions.\n",
      "Intel MKL WARNING: Support of Intel(R) Streaming SIMD Extensions 4.2 (Intel(R) SSE4.2) enabled only processors has been deprecated. Intel oneAPI Math Kernel Library 2025.0 will require Intel(R) Advanced Vector Extensions (Intel(R) AVX) instructions.\n"
     ]
    }
   ],
   "source": [
    "import numpy as np\n",
    "import random\n",
    "import pandas as pd \n",
    "import matplotlib.pyplot as plt\n",
    "from scipy.optimize import minimize # minimize function is used for parameter recovery \n",
    "import seaborn as sns \n",
    "import tqdm\n",
    "from scipy.stats import spearmanr\n",
    "import statsmodels.api as sm\n",
    "import os\n",
    "from scipy.stats import norm\n",
    "import pickle\n",
    "import datetime\n",
    "\n",
    "\n",
    "\n",
    "import warnings\n",
    "warnings.simplefilter(action='ignore', category=FutureWarning)\n",
    "# warnings.filterwarnings(\"ignore\")"
   ]
  },
  {
   "cell_type": "code",
   "execution_count": 2,
   "metadata": {},
   "outputs": [],
   "source": [
    "%reload_ext autoreload\n",
    "%autoreload 2"
   ]
  },
  {
   "cell_type": "code",
   "execution_count": 3,
   "metadata": {},
   "outputs": [],
   "source": [
    "import sys\n",
    "sys.path.append('/Users/alexandrafink/Documents/GraduateSchool/SaezLab/SWB/swb_computational_modeling/swb_behav_models/scripts/')\n",
    "import SWB_modeling_utils\n",
    "\n",
    "sys.path.append('/Users/alexandrafink/Documents/GraduateSchool/SaezLab/SWB/swb_computational_modeling/swb_behav_models/scripts/pyEM')\n",
    "import pyEM.math, pyEM.fitting, pyEM.plotting"
   ]
  },
  {
   "cell_type": "markdown",
   "metadata": {},
   "source": [
    "## Load data "
   ]
  },
  {
   "cell_type": "code",
   "execution_count": 4,
   "metadata": {},
   "outputs": [],
   "source": [
    "swb_dir = '/Users/alexandrafink/Documents/GraduateSchool/SaezLab/SWB/'\n",
    "behav_path = f'{swb_dir}behavior_analysis/behavior_preprocessed/'\n",
    "# subj_list = pd.read_excel(f'{swb_dir}/data/subjects.xlsx', sheet_name='full_subj_test', usecols=[0],engine='openpyxl') #all average SWB subj \n",
    "subj_list = pd.read_excel(f'{swb_dir}SWB_subjects.xlsx', sheet_name='Usable_Subjects', usecols=[0],engine='openpyxl') #SWB subj that meet all inclusion criteria\n",
    "subj_ids = list(subj_list.PatientID)\n",
    "\n",
    "date = datetime.date.today().strftime('%m%d%Y')"
   ]
  },
  {
   "cell_type": "code",
   "execution_count": 6,
   "metadata": {},
   "outputs": [],
   "source": [
    "#loading behavior data as list of pandas dfs > need to input data as list of dfs into EMfit function\n",
    "behav_list = []\n",
    "for subj_id in subj_ids:\n",
    "    df = pd.read_csv(f'{behav_path}{subj_id}_task_data')\n",
    "    behav_list.append(df)"
   ]
  },
  {
   "cell_type": "markdown",
   "metadata": {},
   "source": [
    "## SWB EM_MAP Functions"
   ]
  },
  {
   "cell_type": "markdown",
   "metadata": {},
   "source": [
    "Risk aversion, loss aversion, and inverse temp free parameters require specific bounds. Before using these parameters to estimate the negative log likelihood, you must transform them from the gaussian space back into the native model space. Here, sigmoid functions are used in the form:\n",
    "\n",
    "native_parameter_value = upper_bound / (1 + np.exp(-gaussian_parameter_value))\n",
    "\n",
    "The upper bound for all free parameters was determined via simulation. Upper bounds for all parameters are tested with a fixed prior before performing full estimation. "
   ]
  },
  {
   "cell_type": "code",
   "execution_count": 7,
   "metadata": {},
   "outputs": [],
   "source": [
    "def norm2riskaversion(aversion_param):\n",
    "    return 2 / (1 + np.exp(-aversion_param))"
   ]
  },
  {
   "cell_type": "code",
   "execution_count": 8,
   "metadata": {},
   "outputs": [],
   "source": [
    "def norm2lossaversion(aversion_param):\n",
    "    return 6 / (1 + np.exp(-aversion_param))"
   ]
  },
  {
   "cell_type": "code",
   "execution_count": 9,
   "metadata": {},
   "outputs": [],
   "source": [
    "def norm2invtmp(invtemp):\n",
    "    return 10 / (1 + np.exp(-invtemp))"
   ]
  },
  {
   "cell_type": "code",
   "execution_count": 10,
   "metadata": {},
   "outputs": [],
   "source": [
    "def negll_base_pt_pyEM(params, subj_df, prior=None, output='npl'):\n",
    "\n",
    "    risk_aversion, loss_aversion, inverse_temp = params\n",
    "    \n",
    "    risk_aversion = norm2riskaversion(risk_aversion) #transform parameter from gaussian space back into native model space using parameter-specific sigmoid function\n",
    "    risk_aversion_bounds = [0.00001, 2] #set upper and lower bounds\n",
    "    if risk_aversion< min(risk_aversion_bounds) or risk_aversion> max(risk_aversion_bounds): #prevent estimation from parameter values outside of bounds \n",
    "        return 10000000\n",
    "    \n",
    "    loss_aversion = norm2lossaversion(loss_aversion) #transform parameter from gaussian space back into native model space using parameter-specific sigmoid function\n",
    "    loss_aversion_bounds = [0.00001, 6] #set upper and lower bounds\n",
    "    if loss_aversion< min(loss_aversion_bounds) or loss_aversion> max(loss_aversion_bounds):  #prevent estimation from parameter values outside of bounds \n",
    "        return 10000000\n",
    "    \n",
    "    inverse_temp = norm2invtmp(inverse_temp) #transform parameter from gaussian space back into native model space using parameter-specific sigmoid function\n",
    "    this_beta_bounds = [0.00001, 10]  #set upper and lower bounds\n",
    "    if inverse_temp < min(this_beta_bounds) or inverse_temp > max(this_beta_bounds):  #prevent estimation from parameter values outside of bounds \n",
    "        return 10000000\n",
    "\n",
    "    #Initialize choice probability vector to calculate negative log likelihood\n",
    "    choice_prob_list = []\n",
    "    choice_list = []\n",
    "\n",
    "    #Initialize empty data vectors to return all relevant data if output = 'all'\n",
    "    tr          = []\n",
    "    trial_list  = []\n",
    "    util_g      = []\n",
    "    util_s      = []\n",
    "    choice_util = []\n",
    "    p_g         = []\n",
    "    p_s         = []\n",
    "    safe        = []\n",
    "    high        = []\n",
    "    low         = []\n",
    "    w_safe      = []\n",
    "    w_high      = []\n",
    "    w_low       = []\n",
    "\n",
    "    for trial in range(len(subj_df)):\n",
    "\n",
    "        trial_info = subj_df.iloc[trial]\n",
    "        trial_type = trial_info['TrialType']\n",
    "        choice = trial_info['GambleChoice']\n",
    "        high_bet = trial_info['HighBet']\n",
    "        low_bet = trial_info['LowBet']\n",
    "        safe_bet = trial_info['SafeBet']\n",
    "\n",
    "\n",
    "        #store trial info \n",
    "        choice_list.append(choice)\n",
    "        tr.append(trial)\n",
    "        trial_list.append(trial_type)\n",
    "        high.append(high_bet)\n",
    "        low.append(low_bet)\n",
    "        safe.append(safe_bet)\n",
    "\n",
    "        ##### Utility calculations #####\n",
    "\n",
    "        # transform to high bet value to utility (gamble)\n",
    "        if high_bet > 0: #mix or gain trials\n",
    "            weighted_high_bet = 0.5 * ((high_bet)**risk_aversion)\n",
    "        else: #loss trials\n",
    "            weighted_high_bet = 0 \n",
    "        \n",
    "        w_high.append(weighted_high_bet)\n",
    "\n",
    "        # transform to low bet value to utility (gamble)\n",
    "        if low_bet < 0: #loss and mix trials\n",
    "            weighted_low_bet = -0.5 * loss_aversion * ((-low_bet)**risk_aversion)\n",
    "            \n",
    "        else: #gain trials\n",
    "            weighted_low_bet = 0 \n",
    "        \n",
    "        w_low.append(weighted_low_bet)\n",
    "        \n",
    "        util_gamble = weighted_high_bet + weighted_low_bet\n",
    "        util_g.append(util_gamble)\n",
    "      \n",
    "\n",
    "        # transform safe bet value to utility (safe)\n",
    "        if safe_bet >= 0: #gain or mix trials\n",
    "            util_safe = (safe_bet)**risk_aversion\n",
    "        else: #loss trials\n",
    "            util_safe = -loss_aversion * ((-safe_bet)**risk_aversion)\n",
    "\n",
    "        w_safe.append(util_safe)\n",
    "        util_s.append(util_safe)\n",
    "\n",
    "\n",
    "        ##### Choice probability calculation #####\n",
    "\n",
    "        # convert EV to choice probabilities via softmax\n",
    "        p_gamble = np.exp(inverse_temp*util_gamble) / ( np.exp(inverse_temp*util_gamble) + np.exp(inverse_temp*util_safe) )\n",
    "        p_safe = np.exp(inverse_temp*util_safe) / ( np.exp(inverse_temp*util_gamble) + np.exp(inverse_temp*util_safe) )\n",
    "        # p_safe = 1-p_gamble\n",
    "        p_g.append(p_gamble)\n",
    "        p_s.append(p_safe)\n",
    "\n",
    "        # append probability of chosen options\n",
    "        if choice == 'gamble':\n",
    "            choice_prob_list.append(p_gamble)\n",
    "            choice_util.append(util_gamble)\n",
    "\n",
    "        elif choice == 'safe':\n",
    "            choice_prob_list.append(p_safe)\n",
    "            choice_util.append(p_safe)\n",
    "\n",
    "    # calculate negative log likelihood of choice probabilities \n",
    "            \n",
    "    negll = -np.sum(np.log(choice_prob_list))\n",
    "    \n",
    "    if np.isnan(negll):\n",
    "        negll = np.inf\n",
    "    \n",
    "    if output == 'npl':\n",
    "        if prior is not None:  # EM-fit: P(Choices | h) * P(h | O) should be maximised, therefore same as minimizing it with negative sign\n",
    "            fval = -(-negll + prior['logpdf'](params))\n",
    "\n",
    "            if any(prior['sigma'] == 0):\n",
    "                this_mu = prior['mu']\n",
    "                this_sigma = prior['sigma']\n",
    "                this_logprior = prior['logpdf'](params)\n",
    "                print(f'mu: {this_mu}')\n",
    "                print(f'sigma: {this_sigma}')\n",
    "                print(f'logpdf: {this_logprior}')\n",
    "                print(f'fval: {fval}')\n",
    "            \n",
    "            if np.isinf(fval): \n",
    "                fval = 10000000\n",
    "            return fval\n",
    "        else: # NLL fit \n",
    "            return negll\n",
    "        \n",
    "    elif output == 'all': #WHATEVER YOU WANT TO OUTPUT IF NOT OPTIMIZING\n",
    "        subj_dict = {'params'      : [risk_aversion, loss_aversion, inverse_temp],\n",
    "                     'tr'          : tr,\n",
    "                     'TrialType'   : trial_list,\n",
    "                     'GambleChoice':choice_list,\n",
    "                     'ChoiceProb'  : choice_prob_list,\n",
    "                     'ChoiceUtil'  : choice_util,\n",
    "                     'util_gamble' : util_g,\n",
    "                     'util_safe'   : util_s, \n",
    "                     'p_gamble'    : p_g,\n",
    "                     'p_safe'      : p_s,\n",
    "                     'HighBet'     : high,\n",
    "                     'LowBet'      : low,\n",
    "                     'SafeBet'     : safe,\n",
    "                     'WeightedHigh': w_high,\n",
    "                     'WeightedLow' : w_low,\n",
    "                     'WeightedSafe': w_safe,\n",
    "                     'negll'       : negll,\n",
    "                     'bic'         : len(params) * np.log(150) + 2*negll}\n",
    "        \n",
    "        return subj_dict"
   ]
  },
  {
   "cell_type": "markdown",
   "metadata": {},
   "source": [
    "#### Testing PT function negative log likelihood calculation with fixed prior\n",
    "Risk upper bound = 2\n",
    "Loss upper bound = 6\n",
    "InvTemp upper bound = 10"
   ]
  },
  {
   "cell_type": "code",
   "execution_count": 11,
   "metadata": {},
   "outputs": [],
   "source": [
    "#set fixed prior for function testing  \n",
    "param_names = ['risk_aversion','loss_aversion','inverse_temp']\n",
    "nparams = len(param_names)\n",
    "prior= {}\n",
    "prior['mu']    = np.abs(0.1 * np.random.randn(nparams, 1)) #random means for prior distribution in gaussian space \n",
    "prior['sigma'] = np.full((nparams, 1), 100) # prior dist std\n",
    "prior['logpdf'] = lambda x: np.sum(norm.logpdf(x, prior['mu'],np.sqrt(prior['sigma']))) #calculates separate normpdfs per parameter and sums their logs\n"
   ]
  },
  {
   "cell_type": "code",
   "execution_count": 12,
   "metadata": {},
   "outputs": [
    {
     "name": "stdout",
     "output_type": "stream",
     "text": [
      "DA8 194.50019751784671\n",
      "DA9 736.581470044562\n",
      "DA10 880.0546379515141\n",
      "DA11 1488.1646982936672\n",
      "DA023 839.0983305925937\n",
      "DA026 1167.792269368353\n",
      "MS001 2262.3973867856034\n",
      "MS002 857.7966999917033\n",
      "MS003 1700.1660113806447\n",
      "MS004 1232.310475940339\n",
      "MS009 981.1049686697149\n",
      "MS011 813.349204771786\n",
      "MS015 2249.894329322804\n",
      "MS016 1330.809107384424\n",
      "MS017 516.2471390958041\n",
      "MS019 2316.912633065369\n",
      "MS020 1098.1945011453595\n",
      "MS022 1362.8869750866838\n",
      "MS024 523.7716604103131\n",
      "MS025 595.2466990731997\n",
      "MS026 572.6368222199126\n",
      "MS027 1192.8553847310004\n",
      "MS028 639.0602636233663\n",
      "MS029 1531.1675319239605\n",
      "MS030 1255.209546388457\n",
      "MS033 1035.8424424666962\n",
      "MS035 1370.0481723125513\n"
     ]
    }
   ],
   "source": [
    "#testing negll function & finding maximum parameter bounds - make sure none of the negll values = 10000000\n",
    "\n",
    "#set params to desired upper bound \n",
    "params = np.array([2,6,10]) #risk, loss, invtemp\n",
    "negll_list = []\n",
    "\n",
    "for s in range(len(subj_ids)):\n",
    "    df = behav_list[s]\n",
    "    negll = negll_base_pt_pyEM(params, df,prior=prior, output='npl')\n",
    "    negll_list.append(negll)\n",
    "    print(subj_ids[s],negll)"
   ]
  },
  {
   "cell_type": "markdown",
   "metadata": {},
   "source": [
    "## Parameter Estimation with MAP using pyEM "
   ]
  },
  {
   "cell_type": "code",
   "execution_count": 13,
   "metadata": {},
   "outputs": [
    {
     "name": "stdout",
     "output_type": "stream",
     "text": [
      "Intel MKL WARNING: Support of Intel(R) Streaming SIMD Extensions 4.2 (Intel(R) SSE4.2) enabled only processors has been deprecated. Intel oneAPI Math Kernel Library 2025.0 will require Intel(R) Advanced Vector Extensions (Intel(R) AVX) instructions.Intel MKL WARNING: Support of Intel(R) Streaming SIMD Extensions 4.2 (Intel(R) SSE4.2) enabled only processors has been deprecated. Intel oneAPI Math Kernel Library 2025.0 will require Intel(R) Advanced Vector Extensions (Intel(R) AVX) instructions.\n",
      "\n",
      "Intel MKL WARNING: Support of Intel(R) Streaming SIMD Extensions 4.2 (Intel(R) SSE4.2) enabled only processors has been deprecated. Intel oneAPI Math Kernel Library 2025.0 will require Intel(R) Advanced Vector Extensions (Intel(R) AVX) instructions.\n",
      "Intel MKL WARNING: Support of Intel(R) Streaming SIMD Extensions 4.2 (Intel(R) SSE4.2) enabled only processors has been deprecated. Intel oneAPI Math Kernel Library 2025.0 will require Intel(R) Advanced Vector Extensions (Intel(R) AVX) instructions.\n",
      "Intel MKL WARNING: Support of Intel(R) Streaming SIMD Extensions 4.2 (Intel(R) SSE4.2) enabled only processors has been deprecated. Intel oneAPI Math Kernel Library 2025.0 will require Intel(R) Advanced Vector Extensions (Intel(R) AVX) instructions.\n",
      "Intel MKL WARNING: Support of Intel(R) Streaming SIMD Extensions 4.2 (Intel(R) SSE4.2) enabled only processors has been deprecated. Intel oneAPI Math Kernel Library 2025.0 will require Intel(R) Advanced Vector Extensions (Intel(R) AVX) instructions.\n",
      "Intel MKL WARNING: Support of Intel(R) Streaming SIMD Extensions 4.2 (Intel(R) SSE4.2) enabled only processors has been deprecated. Intel oneAPI Math Kernel Library 2025.0 will require Intel(R) Advanced Vector Extensions (Intel(R) AVX) instructions.\n",
      "Intel MKL WARNING: Support of Intel(R) Streaming SIMD Extensions 4.2 (Intel(R) SSE4.2) enabled only processors has been deprecated. Intel oneAPI Math Kernel Library 2025.0 will require Intel(R) Advanced Vector Extensions (Intel(R) AVX) instructions.\n",
      "Intel MKL WARNING: Support of Intel(R) Streaming SIMD Extensions 4.2 (Intel(R) SSE4.2) enabled only processors has been deprecated. Intel oneAPI Math Kernel Library 2025.0 will require Intel(R) Advanced Vector Extensions (Intel(R) AVX) instructions.\n",
      "Intel MKL WARNING: Support of Intel(R) Streaming SIMD Extensions 4.2 (Intel(R) SSE4.2) enabled only processors has been deprecated. Intel oneAPI Math Kernel Library 2025.0 will require Intel(R) Advanced Vector Extensions (Intel(R) AVX) instructions.\n",
      "Intel MKL WARNING: Support of Intel(R) Streaming SIMD Extensions 4.2 (Intel(R) SSE4.2) enabled only processors has been deprecated. Intel oneAPI Math Kernel Library 2025.0 will require Intel(R) Advanced Vector Extensions (Intel(R) AVX) instructions.\n",
      "Intel MKL WARNING: Support of Intel(R) Streaming SIMD Extensions 4.2 (Intel(R) SSE4.2) enabled only processors has been deprecated. Intel oneAPI Math Kernel Library 2025.0 will require Intel(R) Advanced Vector Extensions (Intel(R) AVX) instructions.\n",
      "Intel MKL WARNING: Support of Intel(R) Streaming SIMD Extensions 4.2 (Intel(R) SSE4.2) enabled only processors has been deprecated. Intel oneAPI Math Kernel Library 2025.0 will require Intel(R) Advanced Vector Extensions (Intel(R) AVX) instructions.\n",
      "Intel MKL WARNING: Support of Intel(R) Streaming SIMD Extensions 4.2 (Intel(R) SSE4.2) enabled only processors has been deprecated. Intel oneAPI Math Kernel Library 2025.0 will require Intel(R) Advanced Vector Extensions (Intel(R) AVX) instructions.\n",
      "Intel MKL WARNING: Support of Intel(R) Streaming SIMD Extensions 4.2 (Intel(R) SSE4.2) enabled only processors has been deprecated. Intel oneAPI Math Kernel Library 2025.0 will require Intel(R) Advanced Vector Extensions (Intel(R) AVX) instructions.\n",
      "Intel MKL WARNING: Support of Intel(R) Streaming SIMD Extensions 4.2 (Intel(R) SSE4.2) enabled only processors has been deprecated. Intel oneAPI Math Kernel Library 2025.0 will require Intel(R) Advanced Vector Extensions (Intel(R) AVX) instructions.\n",
      "Intel MKL WARNING: Support of Intel(R) Streaming SIMD Extensions 4.2 (Intel(R) SSE4.2) enabled only processors has been deprecated. Intel oneAPI Math Kernel Library 2025.0 will require Intel(R) Advanced Vector Extensions (Intel(R) AVX) instructions.\n",
      "Intel MKL WARNING: Support of Intel(R) Streaming SIMD Extensions 4.2 (Intel(R) SSE4.2) enabled only processors has been deprecated. Intel oneAPI Math Kernel Library 2025.0 will require Intel(R) Advanced Vector Extensions (Intel(R) AVX) instructions.\n",
      "3079.801 (000), 2433.933 (001), 2419.012 (002), 2414.837 (003), 2413.334 (004), 2412.716 (005), 2412.448 (006), 2412.274 (007), 2412.195 (008), 2412.154 (009), 2412.129 (010), 2412.115 (011), 2412.094 (016), 2412.090 (020), 2412.088 (021), 2412.085 (023), 2412.084 (032), 2412.083 (033),  -- converged!!!!! \n"
     ]
    }
   ],
   "source": [
    "#run pyEM on all subjects \n",
    "\n",
    "param_names = ['risk_aversion','loss_aversion','inverse_temp']\n",
    "m, inv_h, posterior, NPL, NLPrior, NLL = pyEM.fitting.EMfit(behav_list, negll_base_pt_pyEM, param_names)\n",
    "\n",
    "#reorganize and rename outputs!"
   ]
  },
  {
   "cell_type": "markdown",
   "metadata": {},
   "source": [
    "### Extract parameter estimates "
   ]
  },
  {
   "cell_type": "code",
   "execution_count": 17,
   "metadata": {},
   "outputs": [
    {
     "data": {
      "text/plain": [
       "[('DA8', array([1.17272912, 3.82821301, 3.39208039])),\n",
       " ('DA9', array([1.36067787, 0.82132188, 3.59943827])),\n",
       " ('DA10', array([0.80034398, 1.67932434, 3.10161585])),\n",
       " ('DA11', array([1.03836166, 0.39301848, 2.12635665])),\n",
       " ('DA023', array([0.97874316, 1.72664345, 2.3969588 ])),\n",
       " ('DA026', array([0.59088054, 1.91977825, 2.90034574])),\n",
       " ('MS001', array([1.02628093, 0.08557569, 2.32585638])),\n",
       " ('MS002', array([0.81242614, 2.40426427, 2.21873728])),\n",
       " ('MS003', array([0.76202998, 0.10542025, 4.77096051])),\n",
       " ('MS004', array([0.70552386, 1.93003696, 1.43065807])),\n",
       " ('MS009', array([1.10266241, 1.46779494, 1.65139856])),\n",
       " ('MS011', array([1.27397543, 1.13601042, 2.13441151])),\n",
       " ('MS015', array([1.05241849, 0.0796456 , 2.41590676])),\n",
       " ('MS016', array([0.64500553, 0.99781585, 5.33908744])),\n",
       " ('MS017', array([1.32868409, 1.03094241, 5.45479551])),\n",
       " ('MS019', array([1.11152607, 0.04138384, 5.47652755])),\n",
       " ('MS020', array([0.62914338, 2.29183313, 1.83089634])),\n",
       " ('MS022', array([1.30538355, 0.23445875, 4.32615147])),\n",
       " ('MS024', array([0.67527148, 3.96866978, 2.09937798])),\n",
       " ('MS025', array([0.82027191, 4.1641682 , 1.69067161])),\n",
       " ('MS026', array([1.29825261, 1.59447713, 2.47233525])),\n",
       " ('MS027', array([0.67234066, 0.65394077, 4.62131444])),\n",
       " ('MS028', array([1.54312308, 0.68178574, 6.91246442])),\n",
       " ('MS029', array([0.57154481, 0.63779829, 2.21219203])),\n",
       " ('MS030', array([0.76576394, 1.15375724, 4.57510872])),\n",
       " ('MS033', array([1.47950785, 0.37731127, 5.42423285])),\n",
       " ('MS035', array([1.07199686, 0.6888913 , 1.99154951]))]"
      ]
     },
     "execution_count": 17,
     "metadata": {},
     "output_type": "execute_result"
    }
   ],
   "source": [
    "#transform gaussian params into native model space (using sigmoid function)\n",
    "\n",
    "param_names = ['risk_aversion','loss_aversion','inverse_temp']\n",
    "nparams = len(param_names)\n",
    "\n",
    "#extract estimated parameter values in gaussian space  \n",
    "est_params = m.T.copy() #rows = subj, cols = params\n",
    "\n",
    "\n",
    "for subj_idx in range(len(subj_ids)): #iterate through each subject\n",
    "\n",
    "    for param_idx, param_name in enumerate(param_names): #iterate through each free parameter \n",
    "        if 'risk_aversion' == param_name:\n",
    "            est_params[subj_idx, param_idx] = norm2riskaversion(m[param_idx, subj_idx]) #replace gaussian value with transformed value in param matrix \n",
    "        elif 'loss_aversion' == param_name:\n",
    "            est_params[subj_idx, param_idx] = norm2lossaversion(m[param_idx, subj_idx]) #replace gaussian value with transformed value in param matrix \n",
    "        elif 'inverse_temp' == param_name: \n",
    "            est_params[subj_idx, param_idx] = norm2invtmp(m[param_idx, subj_idx]) #replace gaussian value with transformed value in param matrix \n",
    "\n",
    "list(zip(subj_ids,est_params)) #each row is the 3 param estimates for each subj \n",
    "# can also make this a dataframe next time "
   ]
  },
  {
   "cell_type": "code",
   "execution_count": 16,
   "metadata": {},
   "outputs": [
    {
     "data": {
      "text/plain": [
       "array([[1.17272912, 3.82821301, 3.39208039],\n",
       "       [1.36067787, 0.82132188, 3.59943827],\n",
       "       [0.80034398, 1.67932434, 3.10161585],\n",
       "       [1.03836166, 0.39301848, 2.12635665],\n",
       "       [0.97874316, 1.72664345, 2.3969588 ],\n",
       "       [0.59088054, 1.91977825, 2.90034574],\n",
       "       [1.02628093, 0.08557569, 2.32585638],\n",
       "       [0.81242614, 2.40426427, 2.21873728],\n",
       "       [0.76202998, 0.10542025, 4.77096051],\n",
       "       [0.70552386, 1.93003696, 1.43065807],\n",
       "       [1.10266241, 1.46779494, 1.65139856],\n",
       "       [1.27397543, 1.13601042, 2.13441151],\n",
       "       [1.05241849, 0.0796456 , 2.41590676],\n",
       "       [0.64500553, 0.99781585, 5.33908744],\n",
       "       [1.32868409, 1.03094241, 5.45479551],\n",
       "       [1.11152607, 0.04138384, 5.47652755],\n",
       "       [0.62914338, 2.29183313, 1.83089634],\n",
       "       [1.30538355, 0.23445875, 4.32615147],\n",
       "       [0.67527148, 3.96866978, 2.09937798],\n",
       "       [0.82027191, 4.1641682 , 1.69067161],\n",
       "       [1.29825261, 1.59447713, 2.47233525],\n",
       "       [0.67234066, 0.65394077, 4.62131444],\n",
       "       [1.54312308, 0.68178574, 6.91246442],\n",
       "       [0.57154481, 0.63779829, 2.21219203],\n",
       "       [0.76576394, 1.15375724, 4.57510872],\n",
       "       [1.47950785, 0.37731127, 5.42423285],\n",
       "       [1.07199686, 0.6888913 , 1.99154951]])"
      ]
     },
     "execution_count": 16,
     "metadata": {},
     "output_type": "execute_result"
    }
   ],
   "source": [
    "est_params"
   ]
  },
  {
   "cell_type": "code",
   "execution_count": 18,
   "metadata": {},
   "outputs": [
    {
     "data": {
      "text/plain": [
       "array([[ 0.45249345, -0.2508828 ,  0.11786505],\n",
       "       [-0.2508828 ,  2.39506483, -0.454566  ],\n",
       "       [ 0.11786505, -0.454566  ,  0.66292522]])"
      ]
     },
     "execution_count": 18,
     "metadata": {},
     "output_type": "execute_result"
    }
   ],
   "source": [
    "# compute mean, std of posterior distributions & covariance matrix from inv hessians (just non-diag elements of inv hessian for all param combos)\n",
    "posterior_mu, posterior_std, _, covariance_mat = pyEM.math.compGauss_ms(m,inv_h,2) #posterior mu/std is same here as in EMfit output \n",
    "\n",
    "covariance_mat #covariance between free parameters "
   ]
  },
  {
   "cell_type": "code",
   "execution_count": 19,
   "metadata": {},
   "outputs": [],
   "source": [
    "#combine results into dictionary to save \n",
    "swb_pt_MAP_dict = {}\n",
    "\n",
    "swb_pt_MAP_dict['subj_ids'] = subj_ids\n",
    "swb_pt_MAP_dict['gauss_params'] = m\n",
    "swb_pt_MAP_dict['params'] = est_params\n",
    "swb_pt_MAP_dict['param_names'] = param_names\n",
    "swb_pt_MAP_dict['inverse_hess'] = inv_h\n",
    "swb_pt_MAP_dict['gauss_posterior_mu'] = posterior['mu']\n",
    "swb_pt_MAP_dict['gauss_posterior_std'] = posterior['sigma']\n",
    "swb_pt_MAP_dict['gauss_covariance_mat'] = covariance_mat\n",
    "swb_pt_MAP_dict['npl'] = NPL #negative joint posterior likelihood (current convergence criteria)\n",
    "swb_pt_MAP_dict['NLPrior'] = NLPrior #negative log prior estimate\n",
    "swb_pt_MAP_dict['nll'] =  NPL - NLPrior #negative log likelihood (neg joint posterior ll - neg log prior)\n",
    "swb_pt_MAP_dict['bic'] =  np.log(150)*nparams + 2*swb_pt_MAP_dict['nll'] \n",
    "swb_pt_MAP_dict['aic'] =  2*nparams + 2*swb_pt_MAP_dict['nll'] \n",
    "swb_pt_MAP_dict['lme'] = [] #not calculated yet - convergence type = npl instead \n",
    "\n",
    "# swb_pt_MAP_dict"
   ]
  },
  {
   "cell_type": "code",
   "execution_count": 37,
   "metadata": {},
   "outputs": [
    {
     "data": {
      "text/plain": [
       "array([125.99560362, 126.13735346, 126.33630931, 126.48404179,\n",
       "       126.57602039, 126.62604787, 126.65285097, 126.66836493,\n",
       "       126.67628086, 126.68078791, 126.68239846, 126.6833747 ,\n",
       "       126.68343905, 126.68461759, 126.68450723, 126.68544156,\n",
       "       126.68548135, 126.68585148, 126.68554133, 126.68442712,\n",
       "       126.68569738, 126.68578644, 126.68568926, 126.68604401,\n",
       "       126.68547093, 126.68528549, 126.68528818, 126.68552165,\n",
       "       126.6847966 , 126.68597526, 126.68516927, 126.68608901,\n",
       "       126.68518218, 126.68482719, 126.68541581, 126.68613851,\n",
       "       126.68645671, 126.68464304, 126.68552921, 126.6857255 ,\n",
       "       126.6863002 , 126.68684554, 126.68629195, 126.68540212,\n",
       "       126.68589331, 126.68622453, 126.68703667, 126.68632841,\n",
       "       126.68601981])"
      ]
     },
     "execution_count": 37,
     "metadata": {},
     "output_type": "execute_result"
    }
   ],
   "source": [
    "swb_pt_MAP_dict['bic'][0] # ask shawn why this is not just one number per subj?"
   ]
  },
  {
   "cell_type": "code",
   "execution_count": 21,
   "metadata": {},
   "outputs": [],
   "source": [
    "# Use parameter estimations to fit pt model to subjects and save data dicts --- remember to use gaussian form of vars!  est_params[subj_idx,:]\n",
    "swb_pt_MAP_fit_subj_dicts = {}\n",
    "\n",
    "for subj_idx in range(len(subj_ids)):\n",
    "    params = m[:,subj_idx] #make sure these are the gaussian parameter values \n",
    "    df = behav_list[subj_idx]\n",
    "    subj_dict = negll_base_pt_pyEM(params, df, prior=None, output='all')\n",
    "    swb_pt_MAP_fit_subj_dicts[subj_ids[subj_idx]] = subj_dict\n",
    "\n",
    "# swb_pt_MAP_fit_subj_dicts"
   ]
  },
  {
   "cell_type": "code",
   "execution_count": 22,
   "metadata": {},
   "outputs": [],
   "source": [
    "#### save estimation dict \n",
    "save_dir = f'{swb_dir}swb_computational_modeling/swb_behav_models/data/swb_pt_subj_fits/'\n",
    "os.makedirs(save_dir,exist_ok = True) \n",
    "date = datetime.date.today().strftime('%m%d%Y')\n",
    "\n",
    "# create a binary pickle file \n",
    "f = open(f'{save_dir}swb_pt_EMMAP_dict_{date}.pkl',\"wb\")\n",
    "# # write the python object (dict) to pickle file\n",
    "pickle.dump(swb_pt_MAP_dict,f)\n",
    "# # close file\n",
    "f.close()\n",
    "\n",
    "# create a binary pickle file \n",
    "f = open(f'{save_dir}swb_pt_EMMAP_fit_subj_dicts_{date}.pkl',\"wb\")\n",
    "# # write the python object (dict) to pickle file\n",
    "pickle.dump(swb_pt_MAP_fit_subj_dicts,f)\n",
    "# # close file\n",
    "f.close()\n"
   ]
  },
  {
   "cell_type": "markdown",
   "metadata": {},
   "source": [
    "## Explore parameters\n",
    "From Shawn \n",
    "- use spearman correlation instead of pearson because parameters are not gaussian! \n",
    "- Possible risk aversion x loss aversion interaction effect on BDI?\n",
    "- *** will have to change negative log likelihood for calculating counterfactual utility!!!"
   ]
  },
  {
   "cell_type": "code",
   "execution_count": 38,
   "metadata": {},
   "outputs": [],
   "source": [
    "#### create fig saving directory\n",
    "fig_dir = f'{swb_dir}swb_computational_modeling/figs/swb_pt_MAP_fits/'\n",
    "os.makedirs(fig_dir,exist_ok = True) #added so you don't have to manually make subject folders in clean_data\n",
    "date = datetime.date.today().strftime('%m%d%Y') #add date to file name --- update every run!\n",
    "\n",
    "\n",
    "%matplotlib inline\n",
    "\n",
    "#### set theme for all plots\n",
    "sns.set_theme(style='ticks',font='Arial') \n",
    "sns.set_context(\"talk\")"
   ]
  },
  {
   "cell_type": "code",
   "execution_count": 39,
   "metadata": {},
   "outputs": [],
   "source": [
    "### load pickle dicts\n",
    "save_dir = f'{swb_dir}swb_computational_modeling/swb_behav_models/data/swb_pt_subj_fits/'\n",
    "swb_pt_MAP_fit_subj_dicts = pickle.load(open(f'{save_dir}swb_pt_EMMAP_fit_subj_dicts_{date}.pkl', 'rb' ) )\n"
   ]
  },
  {
   "cell_type": "code",
   "execution_count": 40,
   "metadata": {},
   "outputs": [],
   "source": [
    "# extract estimated params for all subj\n",
    "risk_est    = []\n",
    "loss_est    = []\n",
    "invtemp_est = []\n",
    "\n",
    "\n",
    "for subj_id in subj_ids: \n",
    "    subj_data = swb_pt_MAP_fit_subj_dicts[subj_id]\n",
    "    risk_est.append(subj_data['params'][0])\n",
    "    loss_est.append(subj_data['params'][1])\n",
    "    invtemp_est.append(subj_data['params'][2])\n",
    "\n",
    "\n",
    "# risk_est = est_params[:,0]\n",
    "# loss_est = est_params[:,1]\n",
    "# invtemp_est = est_params[:,2]"
   ]
  },
  {
   "cell_type": "code",
   "execution_count": 41,
   "metadata": {},
   "outputs": [
    {
     "data": {
      "image/png": "[encoded data removed]",
      "text/plain": [
       "<Figure size 640x480 with 1 Axes>"
      ]
     },
     "metadata": {},
     "output_type": "display_data"
    }
   ],
   "source": [
    "#### histogram of risk aversion parameter values \n",
    "\n",
    "# Create a histogram\n",
    "fig, ax = plt.subplots()\n",
    "sns.histplot(data=risk_est, color = '#580F41',bins=10)\n",
    "\n",
    "# Set the xlabel and ylabel properties of the axes object\n",
    "ax.set_xlabel('Risk Aversion Parameters')\n",
    "ax.set_ylabel(\"Number of Patients\")\n",
    "sns.despine()\n",
    "\n",
    "\n",
    "plt.savefig(f'{fig_dir}risk_aversion_MAP_estimates_{date}.pdf', dpi=500, format='pdf', metadata=None,\n",
    "bbox_inches='tight', pad_inches=0.2,\n",
    "facecolor='auto', edgecolor='auto',\n",
    "backend=None) "
   ]
  },
  {
   "cell_type": "code",
   "execution_count": 42,
   "metadata": {},
   "outputs": [
    {
     "data": {
      "image/png": "[encoded data removed]",
      "text/plain": [
       "<Figure size 640x480 with 1 Axes>"
      ]
     },
     "metadata": {},
     "output_type": "display_data"
    }
   ],
   "source": [
    "#### histogram of loss aversion parameter values \n",
    "\n",
    "# Create a histogram\n",
    "fig, ax = plt.subplots()\n",
    "sns.histplot(data=loss_est, color = '#ffac4d',bins=10)\n",
    "\n",
    "# Set the xlabel and ylabel properties of the axes object\n",
    "plt.xlabel('Loss Aversion Parameters')\n",
    "ax.set_ylabel(\"Number of Patients\")\n",
    "sns.despine()\n",
    "\n",
    "\n",
    "plt.savefig(f'{fig_dir}loss_aversion_MAP_estimates_{date}.pdf', dpi=500, format='pdf', metadata=None,\n",
    "bbox_inches='tight', pad_inches=0.2,\n",
    "facecolor='auto', edgecolor='auto',\n",
    "backend=None) \n",
    "\n"
   ]
  },
  {
   "cell_type": "code",
   "execution_count": 45,
   "metadata": {},
   "outputs": [
    {
     "data": {
      "text/plain": [
       "[('DA8', 3.392080385452883),\n",
       " ('DA9', 3.5994382744648585),\n",
       " ('DA10', 3.101615849190332),\n",
       " ('DA11', 2.1263566496486916),\n",
       " ('DA023', 2.3969588021939754),\n",
       " ('DA026', 2.9003457389740017),\n",
       " ('MS001', 2.325856378270636),\n",
       " ('MS002', 2.2187372810515753),\n",
       " ('MS003', 4.770960505896557),\n",
       " ('MS004', 1.4306580730281226),\n",
       " ('MS009', 1.651398557626957),\n",
       " ('MS011', 2.1344115130505217),\n",
       " ('MS015', 2.4159067577240885),\n",
       " ('MS016', 5.339087441168183),\n",
       " ('MS017', 5.45479550753032),\n",
       " ('MS019', 5.476527547715378),\n",
       " ('MS020', 1.8308963417924247),\n",
       " ('MS022', 4.326151469491829),\n",
       " ('MS024', 2.099377976334831),\n",
       " ('MS025', 1.690671609971182),\n",
       " ('MS026', 2.4723352539464956),\n",
       " ('MS027', 4.621314442960878),\n",
       " ('MS028', 6.912464422185934),\n",
       " ('MS029', 2.2121920251696374),\n",
       " ('MS030', 4.575108720741539),\n",
       " ('MS033', 5.4242328463134735),\n",
       " ('MS035', 1.9915495090480613)]"
      ]
     },
     "execution_count": 45,
     "metadata": {},
     "output_type": "execute_result"
    }
   ],
   "source": [
    "list(zip(subj_ids,invtemp_est))"
   ]
  },
  {
   "cell_type": "code",
   "execution_count": 46,
   "metadata": {},
   "outputs": [
    {
     "data": {
      "image/png": "[encoded data removed]",
      "text/plain": [
       "<Figure size 640x480 with 1 Axes>"
      ]
     },
     "metadata": {},
     "output_type": "display_data"
    }
   ],
   "source": [
    "#### histogram of inv temp parameter values \n",
    "\n",
    "# Create a histogram\n",
    "fig, ax = plt.subplots()\n",
    "sns.histplot(data=invtemp_est, color = '#00467e',bins=10)\n",
    "\n",
    "# Set the xlabel and ylabel properties of the axes object\n",
    "plt.xlabel('Inverse Temperature Parameters')\n",
    "ax.set_ylabel(\"Number of Patients\")\n",
    "sns.despine()\n",
    "\n",
    "\n",
    "plt.savefig(f'{fig_dir}inverse_temperature_MAP_estimates_{date}.pdf', dpi=500, format='pdf', metadata=None,\n",
    "bbox_inches='tight', pad_inches=0.2,\n",
    "facecolor='auto', edgecolor='auto',\n",
    "backend=None) \n"
   ]
  },
  {
   "cell_type": "markdown",
   "metadata": {},
   "source": [
    "### Parameter x BDI correlations\n"
   ]
  },
  {
   "cell_type": "code",
   "execution_count": 47,
   "metadata": {},
   "outputs": [],
   "source": [
    "### Test SWB BDI\n",
    "\n",
    "#get swb bdi and bai \n",
    "raw_dir = '/Users/alexandrafink/Documents/GraduateSchool/SaezLab/SWB/behavior_analysis/behavior_raw/'\n",
    "subj_bdi = []\n",
    "for subj_id in subj_ids:\n",
    "    raw_data_dir = f'{raw_dir}{subj_id}/'\n",
    "    raw_data_files = os.listdir(raw_data_dir)\n",
    "    #load task data\n",
    "    #load swb bdi and bai info to add to mood df\n",
    "    raw_bdi_name = [x for x in raw_data_files if 'BDI' in x] #not all subj have BDI\n",
    "    if raw_bdi_name:\n",
    "        raw_bdi = pd.read_table(raw_data_dir+raw_bdi_name[0]) \n",
    "        bdi = raw_bdi['BDI Score'].iloc[-1]   \n",
    "    else:\n",
    "        bdi = 0\n",
    "    subj_bdi.append(bdi)\n",
    "\n",
    "# subj_bdi\n"
   ]
  },
  {
   "cell_type": "code",
   "execution_count": 48,
   "metadata": {},
   "outputs": [
    {
     "data": {
      "text/plain": [
       "[('DA8', 13, 1.1727291232774912, 3.828213014723358, 3.392080385452883),\n",
       " ('DA9', 32, 1.3606778676125892, 0.8213218756519162, 3.5994382744648585),\n",
       " ('DA10', 11, 0.8003439782114671, 1.679324338139457, 3.101615849190332),\n",
       " ('DA11', 41, 1.0383616592721066, 0.39301847525698436, 2.1263566496486916),\n",
       " ('DA023', 14, 0.9787431566415168, 1.7266434482525117, 2.3969588021939754),\n",
       " ('DA026', 19, 0.5908805423225564, 1.9197782524063587, 2.9003457389740017),\n",
       " ('MS001', 24, 1.0262809283947967, 0.08557569246574165, 2.325856378270636),\n",
       " ('MS002', 14, 0.8124261426654638, 2.4042642710903657, 2.2187372810515753),\n",
       " ('MS003', 8, 0.7620299818779782, 0.10542024887273546, 4.770960505896557),\n",
       " ('MS004', 7, 0.7055238554247097, 1.9300369571393075, 1.4306580730281226),\n",
       " ('MS009', 16, 1.1026624149173971, 1.4677949434833013, 1.651398557626957),\n",
       " ('MS011', 13, 1.2739754334994242, 1.1360104179474082, 2.1344115130505217),\n",
       " ('MS015', 26, 1.0524184933143612, 0.07964560371739958, 2.4159067577240885),\n",
       " ('MS016', 10, 0.6450055321525043, 0.9978158543726849, 5.339087441168183),\n",
       " ('MS017', 26, 1.3286840878147979, 1.03094241144297, 5.45479550753032),\n",
       " ('MS019', 12, 1.1115260728930958, 0.04138383663988392, 5.476527547715378),\n",
       " ('MS020', 6, 0.6291433845595474, 2.2918331324096424, 1.8308963417924247),\n",
       " ('MS022', 10, 1.305383553332705, 0.23445874668888567, 4.326151469491829),\n",
       " ('MS024', 16, 0.6752714810024429, 3.96866978177075, 2.099377976334831),\n",
       " ('MS025', 10, 0.8202719130617714, 4.164168197050823, 1.690671609971182),\n",
       " ('MS026', 9, 1.2982526078967422, 1.5944771339615287, 2.4723352539464956),\n",
       " ('MS027', 22, 0.672340656197223, 0.653940766693205, 4.621314442960878),\n",
       " ('MS028', 13, 1.5431230820844664, 0.6817857369156199, 6.912464422185934),\n",
       " ('MS029', 32, 0.5715448111126712, 0.637798292904213, 2.2121920251696374),\n",
       " ('MS030', 19, 0.7657639429122803, 1.1537572414498383, 4.575108720741539),\n",
       " ('MS033', 39, 1.479507847376897, 0.37731126730029596, 5.4242328463134735),\n",
       " ('MS035', 15, 1.0719968598128666, 0.6888913031240534, 1.9915495090480613)]"
      ]
     },
     "execution_count": 48,
     "metadata": {},
     "output_type": "execute_result"
    }
   ],
   "source": [
    "subj_bdi_param_info = list(zip(subj_ids,subj_bdi,risk_est,loss_est,invtemp_est))\n",
    "subj_bdi_param_info"
   ]
  },
  {
   "cell_type": "code",
   "execution_count": 49,
   "metadata": {},
   "outputs": [],
   "source": [
    "highbdi_subj_param_info = []\n",
    "lowbdi_subj_param_info = []\n",
    "\n",
    "highbdis = []\n",
    "lowbdis = []\n",
    "\n",
    "highbdi_risk = []\n",
    "lowbdi_risk = []\n",
    "\n",
    "highbdi_loss = []\n",
    "lowbdi_loss = []\n",
    "\n",
    "highbdi_invtemp = []\n",
    "lowbdi_invtemp = []\n",
    "\n",
    "for s in range(len(subj_ids)):\n",
    "    info = subj_bdi_param_info[s]\n",
    "    bdi = info[1]\n",
    "    if bdi >= 20:\n",
    "        highbdi_subj_param_info.append(info)\n",
    "        highbdis.append(bdi)\n",
    "        highbdi_risk.append(info[2])\n",
    "        highbdi_loss.append(info[3])\n",
    "        highbdi_invtemp.append(info[4])\n",
    "    else:\n",
    "        lowbdi_subj_param_info.append(info)\n",
    "        lowbdis.append(bdi)\n",
    "        lowbdi_risk.append(info[2])\n",
    "        lowbdi_loss.append(info[3])\n",
    "        lowbdi_invtemp.append(info[4])\n"
   ]
  },
  {
   "cell_type": "code",
   "execution_count": 50,
   "metadata": {},
   "outputs": [
    {
     "name": "stdout",
     "output_type": "stream",
     "text": [
      "Intel MKL WARNING: Support of Intel(R) Streaming SIMD Extensions 4.2 (Intel(R) SSE4.2) enabled only processors has been deprecated. Intel oneAPI Math Kernel Library 2025.0 will require Intel(R) Advanced Vector Extensions (Intel(R) AVX) instructions.\n",
      "Spearman correlation: 0.159\n",
      "0.4272368571748334\n"
     ]
    }
   ],
   "source": [
    "risk_corr, risk_p = spearmanr(subj_bdi,risk_est)\n",
    "print('Spearman correlation: %.3f' % risk_corr)\n",
    "print(risk_p)"
   ]
  },
  {
   "cell_type": "code",
   "execution_count": 51,
   "metadata": {},
   "outputs": [
    {
     "data": {
      "image/png": "[encoded data removed]",
      "text/plain": [
       "<Figure size 600x500 with 1 Axes>"
      ]
     },
     "metadata": {},
     "output_type": "display_data"
    }
   ],
   "source": [
    "# plt.scatter(subj_bdi,risk_est,color = '#78496b')\n",
    "fig,ax = plt.subplots(figsize=(6,5))\n",
    "\n",
    "sns.regplot(ax=ax,x=subj_bdi, y=risk_est,color = '#78496b',ci=None,scatter=True,line_kws={\"linewidth\": 4})\n",
    "ax.text(5, 1.45,f'corr = {np.round(risk_corr,2)} p = {np.round(risk_p,2)}',fontsize=12,color = 'k')\n",
    "plt.xlabel('BDI Score')\n",
    "plt.ylabel('Risk Aversion')\n",
    "sns.despine()\n",
    "\n",
    "\n",
    "plt.savefig(f'{fig_dir}risk_aversion_MAP_bdi_corr_{date}.pdf', dpi=500, format='pdf', metadata=None,\n",
    "bbox_inches='tight', pad_inches=0.2,\n",
    "facecolor='auto', edgecolor='auto',\n",
    "backend=None) "
   ]
  },
  {
   "cell_type": "code",
   "execution_count": 52,
   "metadata": {},
   "outputs": [
    {
     "name": "stdout",
     "output_type": "stream",
     "text": [
      "Spearman correlation: -0.348Intel MKL WARNING: Support of Intel(R) Streaming SIMD Extensions 4.2 (Intel(R) SSE4.2) enabled only processors has been deprecated. Intel oneAPI Math Kernel Library 2025.0 will require Intel(R) Advanced Vector Extensions (Intel(R) AVX) instructions.\n",
      "\n",
      "0.075218200015742\n"
     ]
    }
   ],
   "source": [
    "loss_corr, loss_p = spearmanr(subj_bdi,loss_est)\n",
    "print('Spearman correlation: %.3f' % loss_corr)\n",
    "print(loss_p)"
   ]
  },
  {
   "cell_type": "code",
   "execution_count": 53,
   "metadata": {},
   "outputs": [
    {
     "data": {
      "image/png": "[encoded data removed]",
      "text/plain": [
       "<Figure size 600x500 with 1 Axes>"
      ]
     },
     "metadata": {},
     "output_type": "display_data"
    }
   ],
   "source": [
    "# plt.scatter(subj_bdi,loss_est,color = '#ffac4d')\n",
    "fig,ax = plt.subplots(figsize=(6,5))\n",
    "\n",
    "sns.regplot(ax=ax,x=subj_bdi, y=loss_est,color = '#ffac4d',ci=None,scatter=True,line_kws={\"linewidth\": 4})\n",
    "ax.text(30, 3.75,f'corr = {np.round(loss_corr,2)} p = {np.round(loss_p,2)}',fontsize=12,color = 'k')\n",
    "plt.xlabel('BDI Score')\n",
    "plt.ylabel('Loss Aversion')\n",
    "sns.despine()\n",
    "\n",
    "\n",
    "plt.savefig(f'{fig_dir}loss_aversion_MAP_bdi_corr_{date}.pdf', dpi=500, format='pdf', metadata=None,\n",
    "bbox_inches='tight', pad_inches=0.2,\n",
    "facecolor='auto', edgecolor='auto',\n",
    "backend=None) "
   ]
  },
  {
   "cell_type": "code",
   "execution_count": 54,
   "metadata": {},
   "outputs": [
    {
     "name": "stdout",
     "output_type": "stream",
     "text": [
      "Spearman correlation: 0.105Intel MKL WARNING: Support of Intel(R) Streaming SIMD Extensions 4.2 (Intel(R) SSE4.2) enabled only processors has been deprecated. Intel oneAPI Math Kernel Library 2025.0 will require Intel(R) Advanced Vector Extensions (Intel(R) AVX) instructions.\n",
      "\n",
      "0.6014633363526274\n"
     ]
    }
   ],
   "source": [
    "invtemp_corr, invtemp_p = spearmanr(subj_bdi,invtemp_est)\n",
    "print('Spearman correlation: %.3f' % invtemp_corr)\n",
    "print(invtemp_p)"
   ]
  },
  {
   "cell_type": "code",
   "execution_count": 55,
   "metadata": {},
   "outputs": [
    {
     "data": {
      "image/png": "[encoded data removed]",
      "text/plain": [
       "<Figure size 600x500 with 1 Axes>"
      ]
     },
     "metadata": {},
     "output_type": "display_data"
    }
   ],
   "source": [
    "# plt.scatter(subj_bdi,invtemp_est,color = '#346a97')\n",
    "fig,ax = plt.subplots(figsize=(6,5))\n",
    "\n",
    "sns.regplot(ax=ax,x=subj_bdi, y=invtemp_est,color = '#346a97',ci=None,scatter=True,line_kws={\"linewidth\": 4})\n",
    "ax.text(30, 5,f'corr = {np.round(invtemp_corr,2)} p = {np.round(invtemp_p,2)}',fontsize=12,color = 'k')\n",
    "plt.xlabel('BDI Score')\n",
    "plt.ylabel('Inverse Temperature')\n",
    "sns.despine()\n",
    "\n",
    "\n",
    "\n",
    "plt.savefig(f'{fig_dir}invtemp_MAP_bdi_corr_{date}.pdf', dpi=500, format='pdf', metadata=None,\n",
    "bbox_inches='tight', pad_inches=0.2,\n",
    "facecolor='auto', edgecolor='auto',\n",
    "backend=None)"
   ]
  },
  {
   "cell_type": "markdown",
   "metadata": {},
   "source": [
    "## Model Evaluation "
   ]
  },
  {
   "cell_type": "code",
   "execution_count": 56,
   "metadata": {},
   "outputs": [
    {
     "data": {
      "text/plain": [
       "27"
      ]
     },
     "execution_count": 56,
     "metadata": {},
     "output_type": "execute_result"
    }
   ],
   "source": [
    "\n",
    "goodHessian = np.zeros(len(subj_ids))\n",
    "modelID = 'negll_base_pt_pyEM'\n",
    "modout = {}\n",
    "modout[modelID] = {}\n",
    "modout[modelID]['fit'] = {}\n",
    "for subj_idx in range(len(subj_ids)):\n",
    "    try:\n",
    "        det_inv_hessian = np.linalg.det(inv_h[:, :, subj_idx])\n",
    "        hHere = np.linalg.slogdet(inv_h[:, :, subj_idx])[1]\n",
    "        L = -NPL - 0.5 * np.log(1 / det_inv_hessian) + (nparams / 2) * np.log(2 * np.pi)\n",
    "        goodHessian[subj_idx] = 1\n",
    "    except:\n",
    "        print('Hessian is not positive definite')\n",
    "        try:\n",
    "            hHere = np.linalg.slogdet(inv_h[:,:,subj_idx])[1]\n",
    "            L = np.nan\n",
    "            goodHessian[subj_idx] = 0\n",
    "        except:\n",
    "            print('could not calculate')\n",
    "            goodHessian[subj_idx] = -1\n",
    "            L = np.nan\n",
    "    modout[modelID]['fit']['lme'] = L\n",
    "    modout[modelID]['fit']['goodHessian'] = goodHessian\n",
    "\n",
    "np.sum(modout[modelID]['fit']['goodHessian']==1)\n"
   ]
  },
  {
   "cell_type": "code",
   "execution_count": null,
   "metadata": {},
   "outputs": [],
   "source": [
    "#### Model Evaluation - Laplace Approximation (Bayes Factor similar to BIC that accounts for prior distribution, covariance from hessians, and paramater number)\n",
    "\n",
    "# from mfit_optimize_hierarchical.m from Sam Gershman\n",
    "# Also reference Daw 2009 (Equation 17) for Laplace approximation\n",
    "\n",
    "# goodHessian = np.zeros(len(subj_ids))\n",
    "# modelID = 'negll_base_pt_pyEM'\n",
    "# modout = {}\n",
    "# modout[modelID] = {}\n",
    "# modout[modelID]['fit'] = {}\n",
    "# for subj_idx in range(len(subj_ids)):\n",
    "#     try:\n",
    "#         det_inv_hessian = np.linalg.det(inv_h[:, :, subj_idx])\n",
    "#         hHere = np.linalg.slogdet(inv_h[:, :, subj_idx])[1]\n",
    "#         L = -NPL - 0.5 * np.log(1 / det_inv_hessian) + (nparams / 2) * np.log(2 * np.pi)\n",
    "#         goodHessian[subj_idx] = 1\n",
    "#     except:\n",
    "#         print('Hessian is not positive definite')\n",
    "#         try:\n",
    "#             hHere = np.linalg.slogdet(inv_h[:,:,subj_idx])[1]\n",
    "#             L = np.nan\n",
    "#             goodHessian[subj_idx] = 0\n",
    "#         except:\n",
    "#             print('could not calculate')\n",
    "#             goodHessian[subj_idx] = -1\n",
    "#             L = np.nan\n",
    "#     modout[modelID]['fit']['lme'] = L\n",
    "#     modout[modelID]['fit']['goodHessian'] = goodHessian\n",
    "\n",
    "#np.sum(modout[modelID]['fit']['goodHessian']==1)\n",
    "\n",
    "\n",
    "# goodHessian = np.zeros(len(subj_ids))\n",
    "# modelID = 'negll_base_pt_pyEM'\n",
    "# modout = {}\n",
    "# modout[modelID] = {}\n",
    "# modout[modelID]['fit'] = {}\n",
    "# for subj_idx in range(len(subj_ids)):\n",
    "#     try:\n",
    "#         det_inv_hessian = np.linalg.det(inv_h[:, :, subj_idx])\n",
    "#         hHere = np.linalg.slogdet(inv_h[:, :, subj_idx])[1]\n",
    "#         L = -NPL - 0.5 * np.log(1 / det_inv_hessian) + (nparams / 2) * np.log(2 * np.pi)\n",
    "#         goodHessian[subj_idx] = 1\n",
    "#     except:\n",
    "#         print('Hessian is not positive definite')\n",
    "#         try:\n",
    "#             hHere = np.linalg.slogdet(inv_h[:,:,subj_idx])[1]\n",
    "#             L = np.nan\n",
    "#             goodHessian[subj_idx] = 0\n",
    "#         except:\n",
    "#             print('could not calculate')\n",
    "#             goodHessian[subj_idx] = -1\n",
    "#             L = np.nan\n",
    "#     modout[modelID]['fit']['lme'] = L\n",
    "#     modout[modelID]['fit']['goodHessian'] = goodHessian\n",
    "\n",
    "\n",
    "# Make sure you know if BIC is positive or negative! and replace lme with\n",
    "# bic if covariance is negative.\n",
    "# Error check that BICs are in a similar range"
   ]
  },
  {
   "cell_type": "code",
   "execution_count": null,
   "metadata": {},
   "outputs": [],
   "source": [
    "# ############### code from shawn bayesian model selection    \"integrated BIC\" \n",
    "# #here, the mean and variance from a hierarchical model fit are use to generate 2000 samples of paramters, \n",
    "    # but you can still use the mean and variance from the individual fits in your data. \n",
    "    # fit.beh is just the behavioral data for all subjects. fit.objfunc is the function for outputing the negll\n",
    "\n",
    "# #https://www.nature.com/articles/s41467-020-17343-w\n",
    "\n",
    "# Nsample     = 2000\n",
    "\n",
    "# # % info for normpdf, and flip if it is the wrong orientation\n",
    "# mu          = mroot.(modelID).gauss.mu;            if size(mu,2)>size(mu,1),                 mu = mu'; end\n",
    "# sigmasqrt   = sqrt(mroot.(modelID).gauss.sigma);   if size(sigmasqrt,2)>size(sigmasqrt,1),   sigmasqrt = sigmasqrt'; end\n",
    "\n",
    "# # % collect integrated nll\n",
    "# iLog        = nan(numel(fit.beh),1); \n",
    "\n",
    "# # % 1)get integrated nll by sampling nll from group gaussian\n",
    "# fprintf([modelID ' - BICint: ']);\n",
    "# for is = 1:numel(fit.beh)\n",
    "   \n",
    "#    subnll = nan(1,Nsample);\n",
    "#    Gsamples    = normrnd(repmat(mu,1,Nsample),repmat(sigmasqrt,1,Nsample));  % samples from gaussian distribution found during EM; draw anew for each subject\n",
    "\n",
    "# #    % for each subject, get NLL for input params from gaussian\n",
    "#    for k=1:Nsample\n",
    "#       subnll(k)  = fit.objfunc(fit.beh{is},Gsamples(:,k)); \n",
    "#    end\n",
    "#    fprintf([ num2str(is) ',']);\n",
    "#    iLog(is) = log(sum(exp(-subnll))/Nsample);\n",
    "# end\n",
    "\n",
    "# % 2) Compute BICint\n",
    "# bicint  = -2*sum(iLog)   + fit.npar*log(sum(fit.ntrials)); "
   ]
  }
 ],
 "metadata": {
  "kernelspec": {
   "display_name": "Python 3 (ipykernel)",
   "language": "python",
   "name": "python3"
  },
  "language_info": {
   "codemirror_mode": {
    "name": "ipython",
    "version": 3
   },
   "file_extension": ".py",
   "mimetype": "text/x-python",
   "name": "python",
   "nbconvert_exporter": "python",
   "pygments_lexer": "ipython3",
   "version": "3.11.7"
  }
 },
 "nbformat": 4,
 "nbformat_minor": 2
}
