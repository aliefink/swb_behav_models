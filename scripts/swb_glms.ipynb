{
 "cells": [
  {
   "attachments": {},
   "cell_type": "markdown",
   "metadata": {},
   "source": [
    "# SWB Computational Models\n",
    "\n",
    "- Winning model from 2014 \"A computational and neural model of momentary subjective well-being\"\n",
    "- Adapted to include counterfactual information \n",
    "\n",
    "Created: 05/04/2023 by Alie Fink"
   ]
  },
  {
   "attachments": {},
   "cell_type": "markdown",
   "metadata": {},
   "source": [
    "### Computational Models:\n",
    "Standard GLMs:\n",
    "1) RPE (CR+EV+RPE)\n",
    "2) Counterfactual (CR+EV+CPE) *test tCPE vs dCPE\n",
    "3) Counterfactual+RPE (CR+EV+RPE+CPE)\n",
    "4) Regret (CR+EV+nCPE) *omit RPE if model 2 > model 3\n",
    "5) Relief (CR+EV+pCPE) *omit RPE if model 2 > model 3\n",
    "6) Regret/Relief (CR+EV+nCPE+pCPE) *omit RPE if model 2 > model 3\n",
    "7) Full model (CR+EV+RPE+nCPE+pCPE)\n",
    "\n",
    "Prospect Theory GLMs:\n",
    "\n",
    "8)  Rutledge EV (CR+EV)\n",
    "9)  PT (Util_s+Util_g) *validate this is better than Rutledge EV\n",
    "10) RPE PT (Util_s+Util_g+RPE)\n",
    "11) CPE PT (Util_s+Util_g+CPE) *test tCPE vs dCPE \n",
    "12) CPE+RPE PT (Util_s+Util_g+RPE+CPE) \n",
    "13) Regret PT (Util_s+Util_g+RPE+nCPE) *omit RPE if model 9 > model 8\n",
    "14) Relief PT (Util_s+Util_g+RPE+pCPE) *omit RPE if model 9 > model 8\n",
    "15) Regret/Relief PT (Util_s+Util_g+RPE+nCPE+pCPE) *omit RPE if model 9 > model 8\n"
   ]
  },
  {
   "cell_type": "code",
   "execution_count": 2,
   "metadata": {},
   "outputs": [
    {
     "name": "stdout",
     "output_type": "stream",
     "text": [
      "Intel MKL WARNING: Support of Intel(R) Streaming SIMD Extensions 4.2 (Intel(R) SSE4.2) enabled only processors has been deprecated. Intel oneAPI Math Kernel Library 2025.0 will require Intel(R) Advanced Vector Extensions (Intel(R) AVX) instructions.\n",
      "Intel MKL WARNING: Support of Intel(R) Streaming SIMD Extensions 4.2 (Intel(R) SSE4.2) enabled only processors has been deprecated. Intel oneAPI Math Kernel Library 2025.0 will require Intel(R) Advanced Vector Extensions (Intel(R) AVX) instructions.\n"
     ]
    }
   ],
   "source": [
    "import numpy as np\n",
    "from glob import glob\n",
    "import matplotlib.pyplot as plt\n",
    "import seaborn as sns\n",
    "from matplotlib.backends.backend_pdf import PdfPages\n",
    "import seaborn as sns\n",
    "from scipy.stats import zscore, linregress, ttest_ind, ttest_rel, ttest_1samp\n",
    "import pandas as pd\n",
    "import scipy\n",
    "from scipy.optimize import least_squares\n",
    "import sklearn\n",
    "from sklearn.metrics import r2_score\n",
    "import random\n"
   ]
  },
  {
   "cell_type": "code",
   "execution_count": 3,
   "metadata": {},
   "outputs": [],
   "source": [
    "%matplotlib inline\n",
    "%reload_ext autoreload\n",
    "%autoreload 2"
   ]
  },
  {
   "cell_type": "code",
   "execution_count": 4,
   "metadata": {},
   "outputs": [],
   "source": [
    "import sys\n",
    "sys.path.append('/Users/alexandrafink/Documents/GraduateSchool/SaezLab/SWB/swb_computational_modeling/swb_behav_models/scripts/')\n",
    "import SWB_modeling_utils"
   ]
  },
  {
   "cell_type": "code",
   "execution_count": 5,
   "metadata": {},
   "outputs": [],
   "source": [
    "swb_dir = '/Users/alexandrafink/Documents/GraduateSchool/SaezLab/SWB/'\n",
    "subj_list = pd.read_excel(f'{swb_dir}SWB_subjects.xlsx', sheet_name='Usable_Subjects', usecols=[0])\n",
    "subj_ids = list(subj_list.PatientID)"
   ]
  },
  {
   "attachments": {},
   "cell_type": "markdown",
   "metadata": {},
   "source": [
    "## Standard GLMs"
   ]
  },
  {
   "attachments": {},
   "cell_type": "markdown",
   "metadata": {},
   "source": [
    "Step 1: Choose winning model from 1-4 (RPE+CPE or CPE only & tCPE vs dCPE)\n",
    "\n",
    "1) RPE (CR+EV+RPE)\n",
    "2) tCPE (CR+EV+tCPE) \n",
    "3) dCPE (CR+EV+dCPE) \n",
    "4) tCPE+RPE (CR+EV+RPE+tCPE)\n",
    "5) dCPE+RPE  (CR+EV+RPE+dCPE)\n",
    "\n",
    "Step 2: Choose winning model from 6-11\n",
    "\n",
    "6) total Regret (CR+EV+tRegret) *omit RPE if model 2 > model 1\n",
    "7) decision Regret (CR+EV+dRegret) *omit RPE if model 2 > model 1\n",
    "8) total Relief (CR+EV+tRelief) *omit RPE if model 2 > model 1\n",
    "9) decision Relief (CR+EV+dRelief) *omit RPE if model 2 > model 1\n",
    "10) total Regret/Relief (CR+EV+tRegret+tRelief) *omit RPE if model 2 > model 1\n",
    "11) decision Regret/Relief (CR+EV+dRegret+dRelief) *omit RPE if model 2 > model 1"
   ]
  },
  {
   "cell_type": "code",
   "execution_count": 30,
   "metadata": {},
   "outputs": [],
   "source": [
    "model_input_path = '/Users/alexandrafink/Documents/GraduateSchool/SaezLab/SWB/swb_computational_modeling/swb_behav_models/data/pt_model_input_data_06232023'\n",
    "model_input = pd.read_csv(model_input_path)\n",
    "date = '06232023'"
   ]
  },
  {
   "cell_type": "code",
   "execution_count": 26,
   "metadata": {},
   "outputs": [
    {
     "data": {
      "text/plain": [
       "Index(['subj_id', 'round', 'rate', 'zscore_rate', 'cr(t-1)', 'cr(t-2)',\n",
       "       'cr(t-3)', 'choice_ev(t-1)', 'choice_ev(t-2)', 'choice_ev(t-3)',\n",
       "       'rpe(t-1)', 'rpe(t-2)', 'rpe(t-3)', 'totalcpe(t-1)', 'totalcpe(t-2)',\n",
       "       'totalcpe(t-3)', 'decisioncpe(t-1)', 'decisioncpe(t-2)',\n",
       "       'decisioncpe(t-3)', 'totalregret(t-1)', 'totalregret(t-2)',\n",
       "       'totalregret(t-3)', 'decisionregret(t-1)', 'decisionregret(t-2)',\n",
       "       'decisionregret(t-3)', 'totalrelief(t-1)', 'totalrelief(t-2)',\n",
       "       'totalrelief(t-3)', 'decisionrelief(t-1)', 'decisionrelief(t-2)',\n",
       "       'decisionrelief(t-3)', 'util_g(t-1)', 'util_g(t-2)', 'util_g(t-3)',\n",
       "       'util_s(t-1)', 'util_s(t-2)', 'util_s(t-3)'],\n",
       "      dtype='object')"
      ]
     },
     "execution_count": 26,
     "metadata": {},
     "output_type": "execute_result"
    }
   ],
   "source": [
    "model_input.columns"
   ]
  },
  {
   "attachments": {},
   "cell_type": "markdown",
   "metadata": {},
   "source": [
    "### Step 1: Choose winning model from 1-4 (RPE+CPE or CPE only & tCPE vs dCPE)\n",
    "- Include RPE in CPE models?\n",
    "- Is total CPE or decision CPE a better CPE metric (total = outcome - max possible, decision = outcome - max unchosen)"
   ]
  },
  {
   "cell_type": "code",
   "execution_count": 27,
   "metadata": {},
   "outputs": [],
   "source": [
    "model1_vars = [\"cr(t-1)\",\"cr(t-2)\",\"cr(t-3)\",\"choice_ev(t-1)\",\"choice_ev(t-2)\",\"choice_ev(t-3)\",\"rpe(t-1)\",\"rpe(t-2)\",\"rpe(t-3)\"]\n",
    "model2_vars = [\"cr(t-1)\",\"cr(t-2)\",\"cr(t-3)\",\"choice_ev(t-1)\",\"choice_ev(t-2)\",\"choice_ev(t-3)\",\"totalcpe(t-1)\",\"totalcpe(t-2)\",\"totalcpe(t-3)\"]\n",
    "model3_vars = [\"cr(t-1)\",\"cr(t-2)\",\"cr(t-3)\",\"choice_ev(t-1)\",\"choice_ev(t-2)\",\"choice_ev(t-3)\",\"decisioncpe(t-1)\",\"decisioncpe(t-2)\",\"decisioncpe(t-3)\"]\n",
    "model4_vars = [\"cr(t-1)\",\"cr(t-2)\",\"cr(t-3)\",\"choice_ev(t-1)\",\"choice_ev(t-2)\",\"choice_ev(t-3)\",\"rpe(t-1)\",\"rpe(t-2)\",\"rpe(t-3)\",\"totalcpe(t-1)\",\"totalcpe(t-2)\",\"totalcpe(t-3)\"]\n",
    "model5_vars = [\"cr(t-1)\",\"cr(t-2)\",\"cr(t-3)\",\"choice_ev(t-1)\",\"choice_ev(t-2)\",\"choice_ev(t-3)\",\"rpe(t-1)\",\"rpe(t-2)\",\"rpe(t-3)\",\"decisioncpe(t-1)\",\"decisioncpe(t-2)\",\"decisioncpe(t-3)\"]\n"
   ]
  },
  {
   "cell_type": "code",
   "execution_count": 28,
   "metadata": {},
   "outputs": [],
   "source": [
    "models_dict = {}\n",
    "models_dict['rpe'] = model1_vars\n",
    "models_dict['tcpe'] = model2_vars\n",
    "models_dict['dcpe'] = model3_vars\n",
    "models_dict['rpe+tcpe'] = model4_vars\n",
    "models_dict['rpe+dcpe'] = model5_vars\n"
   ]
  },
  {
   "cell_type": "code",
   "execution_count": 29,
   "metadata": {},
   "outputs": [],
   "source": [
    "#### run swb to find optimal parameters \n",
    "models_list = ['rpe','tcpe','dcpe','rpe+tcpe','rpe+dcpe']\n",
    "lam_method = 'exp'\n",
    "\n",
    "step1_results = {}\n",
    "\n",
    "for model in models_list:\n",
    "\n",
    "    reg_list = models_dict[model]\n",
    "    n_regs = int(len(reg_list)/3)\n",
    "\n",
    "    mood_est_df, optim_resid_df, optim_inits_df, param_fits_df, aic_dict,bic1_dict,bic2_dict, rsq_dict = \\\n",
    "    SWB_modeling_utils.run_swb(model_input, subj_ids, n_regs, reg_list,lam_method)\n",
    "    \n",
    "\n",
    "    step1_results[model] = {'mood_est': mood_est_df,\n",
    "                            'optim_residuals':optim_resid_df,\n",
    "                           'optim_inits': optim_inits_df,\n",
    "                           'param_fits': param_fits_df,\n",
    "                            'aics':aic_dict,\n",
    "                           'bics1': bic1_dict,\n",
    "                            'bics2': bic2_dict,\n",
    "                           'rsqs': rsq_dict\n",
    "                           }\n",
    "\n"
   ]
  },
  {
   "cell_type": "code",
   "execution_count": 31,
   "metadata": {},
   "outputs": [],
   "source": [
    "### use optimal parameters to run model \n",
    "\n",
    "models_list = ['rpe','tcpe','dcpe','rpe+tcpe','rpe+dcpe']\n",
    "lam_method = 'exp'\n",
    "\n",
    "step1_data = {}\n",
    "\n",
    "for model in models_list:\n",
    "\n",
    "    reg_list = models_dict[model]\n",
    "    n_regs = int(len(reg_list)/3)\n",
    "    params = step1_results[model]['param_fits']\n",
    "\n",
    "    mood_est_df, resid_df, rss_dict, aic_dict, bic1_dict, bic2_dict, rsq_dict = \\\n",
    "    SWB_modeling_utils.fit_swb(model_input,subj_ids,params,n_regs,reg_list,lam_method)\n",
    "    \n",
    "\n",
    "    step1_data[model] = {'mood_est': mood_est_df,\n",
    "                            'residuals':resid_df,\n",
    "                           'rss': rss_dict,\n",
    "                            'aic':aic_dict,\n",
    "                           'bics1': bic1_dict,\n",
    "                            'bics2': bic2_dict,\n",
    "                           'rsqs': rsq_dict\n",
    "                           }\n"
   ]
  },
  {
   "cell_type": "code",
   "execution_count": 32,
   "metadata": {},
   "outputs": [
    {
     "name": "stdout",
     "output_type": "stream",
     "text": [
      "best model bic for  DA8 is tcpe -87.26049994458361\n",
      "best model rsq for  DA8 is tcpe -0.13666778229933207\n",
      "best model bic for  DA9 is rpe -144.75489472900932\n",
      "best model rsq for  DA9 is rpe -0.057844122807082066\n",
      "best model bic for  DA10 is rpe -154.9474037353115\n",
      "best model rsq for  DA10 is rpe+tcpe -0.042730487865407785\n",
      "best model bic for  DA11 is rpe -234.0190723037698\n",
      "best model rsq for  DA11 is rpe+tcpe 0.05389275799691218\n",
      "best model bic for  DA023 is rpe -212.82425859504133\n",
      "best model rsq for  DA023 is rpe+dcpe 0.035261493135972266\n",
      "best model bic for  MS002 is tcpe -227.9465020394386\n",
      "best model rsq for  MS002 is tcpe 0.0466341142204697\n",
      "best model bic for  MS003 is rpe -233.46913137536512\n",
      "best model rsq for  MS003 is rpe 0.0531928079135513\n",
      "best model bic for  MS016 is rpe -262.3093757537949\n",
      "best model rsq for  MS016 is rpe 0.08671757661373536\n",
      "best model bic for  MS017 is rpe -152.0359514796624\n",
      "best model rsq for  MS017 is rpe -0.04826002407929497\n",
      "best model bic for  MS019 is rpe+tcpe -206.7154466137597\n",
      "best model rsq for  MS019 is rpe+tcpe 0.029140448082700887\n",
      "best model bic for  MS022 is rpe -233.45609690594887\n",
      "best model rsq for  MS022 is rpe 0.053177381376144806\n",
      "best model bic for  MS025 is dcpe -99.57312290188824\n",
      "best model rsq for  MS025 is dcpe -0.11930751669796691\n",
      "best model bic for  MS026 is tcpe -193.37583444274983\n",
      "best model rsq for  MS026 is rpe+dcpe 0.010956360954998079\n",
      "best model bic for  MS027 is tcpe -209.116951789995\n",
      "best model rsq for  MS027 is tcpe 0.023928640192500072\n",
      "best model bic for  MS029 is rpe+dcpe -193.05759108041084\n",
      "best model rsq for  MS029 is rpe+dcpe 0.01242332974631466\n",
      "best model bic for  MS030 is tcpe -149.22254835987675\n",
      "best model rsq for  MS030 is tcpe -0.05195298642069113\n"
     ]
    }
   ],
   "source": [
    "for ix,s in enumerate(subj_ids):\n",
    "    best_bic = np.inf\n",
    "    best_rsq = -np.inf\n",
    "    best_model_bic = []\n",
    "    best_model_rsq = []\n",
    "    for model in models_list:\n",
    "        bic = step1_data[model]['bics1'][s]\n",
    "        rsq = step1_data[model]['rsqs'][s]\n",
    "        if bic<best_bic:\n",
    "            best_bic = bic \n",
    "            best_model_bic = model\n",
    "        if rsq>best_rsq:\n",
    "            best_rsq=rsq\n",
    "            best_model_rsq = model\n",
    "        \n",
    "    print('best model bic for ',s,'is',best_model_bic,best_bic)\n",
    "    print('best model rsq for ',s,'is',best_model_rsq,best_rsq)"
   ]
  },
  {
   "cell_type": "code",
   "execution_count": 33,
   "metadata": {},
   "outputs": [
    {
     "name": "stdout",
     "output_type": "stream",
     "text": [
      "model 1 bic1 mean -146.16380252708785\n",
      "model 2 bic1 mean -164.99133111392706\n",
      "model 3 bic1 mean -132.51081809563257\n",
      "model 4 bic1 mean -122.60727732912494\n",
      "model 5 bic1 mean -113.86157171812305\n"
     ]
    }
   ],
   "source": [
    "print('model 1 bic1 mean',np.mean(np.array(list(step1_data['rpe']['bics1'].values()))))\n",
    "print('model 2 bic1 mean',np.mean(np.array(list(step1_data['tcpe']['bics1'].values()))))\n",
    "print('model 3 bic1 mean',np.mean(np.array(list(step1_data['dcpe']['bics1'].values()))))\n",
    "print('model 4 bic1 mean',np.mean(np.array(list(step1_data['rpe+tcpe']['bics1'].values()))))\n",
    "print('model 5 bic1 mean',np.mean(np.array(list(step1_data['rpe+dcpe']['bics1'].values()))))"
   ]
  },
  {
   "cell_type": "code",
   "execution_count": 34,
   "metadata": {},
   "outputs": [
    {
     "name": "stdout",
     "output_type": "stream",
     "text": [
      "model 1 bic1 sum -2338.6208404334056\n",
      "model 2 bic1 sum -2639.861297822833\n",
      "model 3 bic1 sum -2120.173089530121\n",
      "model 4 bic1 sum -1961.716437265999\n",
      "model 5 bic1 sum -1821.7851474899687\n"
     ]
    }
   ],
   "source": [
    "print('model 1 bic1 sum',np.sum(np.array(list(step1_data['rpe']['bics1'].values()))))\n",
    "print('model 2 bic1 sum',np.sum(np.array(list(step1_data['tcpe']['bics1'].values()))))\n",
    "print('model 3 bic1 sum',np.sum(np.array(list(step1_data['dcpe']['bics1'].values()))))\n",
    "print('model 4 bic1 sum',np.sum(np.array(list(step1_data['rpe+tcpe']['bics1'].values()))))\n",
    "print('model 5 bic1 sum',np.sum(np.array(list(step1_data['rpe+dcpe']['bics1'].values()))))"
   ]
  },
  {
   "cell_type": "code",
   "execution_count": 35,
   "metadata": {},
   "outputs": [
    {
     "name": "stdout",
     "output_type": "stream",
     "text": [
      "model 1 bic2 mean 33.8720257912532\n",
      "model 2 bic2 mean 33.9190946127203\n",
      "model 3 bic2 mean 33.837893330174566\n",
      "model 4 bic2 mean 40.514457735245394\n",
      "model 5 bic2 mean 40.49259347121789\n"
     ]
    }
   ],
   "source": [
    "print('model 1 bic2 mean',np.mean(np.array(list(step1_data['rpe']['bics2'].values()))))\n",
    "print('model 2 bic2 mean',np.mean(np.array(list(step1_data['tcpe']['bics2'].values()))))\n",
    "print('model 3 bic2 mean',np.mean(np.array(list(step1_data['dcpe']['bics2'].values()))))\n",
    "print('model 4 bic2 mean',np.mean(np.array(list(step1_data['rpe+tcpe']['bics2'].values()))))\n",
    "print('model 5 bic2 mean',np.mean(np.array(list(step1_data['rpe+dcpe']['bics2'].values()))))"
   ]
  },
  {
   "cell_type": "code",
   "execution_count": 36,
   "metadata": {},
   "outputs": [
    {
     "name": "stdout",
     "output_type": "stream",
     "text": [
      "model 1 bic2 sum 541.9524126600512\n",
      "model 2 bic2 sum 542.7055138035248\n",
      "model 3 bic2 sum 541.4062932827931\n",
      "model 4 bic2 sum 648.2313237639263\n",
      "model 5 bic2 sum 647.8814955394862\n"
     ]
    }
   ],
   "source": [
    "print('model 1 bic2 sum',np.sum(np.array(list(step1_data['rpe']['bics2'].values()))))\n",
    "print('model 2 bic2 sum',np.sum(np.array(list(step1_data['tcpe']['bics2'].values()))))\n",
    "print('model 3 bic2 sum',np.sum(np.array(list(step1_data['dcpe']['bics2'].values()))))\n",
    "print('model 4 bic2 sum',np.sum(np.array(list(step1_data['rpe+tcpe']['bics2'].values()))))\n",
    "print('model 5 bic2 sum',np.sum(np.array(list(step1_data['rpe+dcpe']['bics2'].values()))))"
   ]
  },
  {
   "cell_type": "code",
   "execution_count": 37,
   "metadata": {},
   "outputs": [
    {
     "name": "stdout",
     "output_type": "stream",
     "text": [
      "model 1 aic mean -169.58686116542748\n",
      "model 2 aic mean -188.4143897522667\n",
      "model 3 aic mean -155.9338767339722\n",
      "model 4 aic mean -150.71494769513254\n",
      "model 5 aic mean -141.9692420841306\n"
     ]
    }
   ],
   "source": [
    "print('model 1 aic mean',np.mean(np.array(list(step1_data['rpe']['aic'].values()))))\n",
    "print('model 2 aic mean',np.mean(np.array(list(step1_data['tcpe']['aic'].values()))))\n",
    "print('model 3 aic mean',np.mean(np.array(list(step1_data['dcpe']['aic'].values()))))\n",
    "print('model 4 aic mean',np.mean(np.array(list(step1_data['rpe+tcpe']['aic'].values()))))\n",
    "print('model 5 aic mean',np.mean(np.array(list(step1_data['rpe+dcpe']['aic'].values()))))\n"
   ]
  },
  {
   "cell_type": "code",
   "execution_count": 38,
   "metadata": {},
   "outputs": [
    {
     "name": "stdout",
     "output_type": "stream",
     "text": [
      "model 1 aic sum -2713.3897786468397\n",
      "model 2 aic sum -3014.630236036267\n",
      "model 3 aic sum -2494.942027743555\n",
      "model 4 aic sum -2411.4391631221206\n",
      "model 5 aic sum -2271.5078733460896\n"
     ]
    }
   ],
   "source": [
    "print('model 1 aic sum',np.sum(np.array(list(step1_data['rpe']['aic'].values()))))\n",
    "print('model 2 aic sum',np.sum(np.array(list(step1_data['tcpe']['aic'].values()))))\n",
    "print('model 3 aic sum',np.sum(np.array(list(step1_data['dcpe']['aic'].values()))))\n",
    "print('model 4 aic sum',np.sum(np.array(list(step1_data['rpe+tcpe']['aic'].values()))))\n",
    "print('model 5 aic sum',np.sum(np.array(list(step1_data['rpe+dcpe']['aic'].values()))))\n"
   ]
  },
  {
   "cell_type": "code",
   "execution_count": 39,
   "metadata": {},
   "outputs": [
    {
     "name": "stdout",
     "output_type": "stream",
     "text": [
      "model 1 rsq mean -0.07639747350634138\n",
      "model 2 rsq mean -0.033264899625555594\n",
      "model 3 rsq mean -0.0791317184496362\n",
      "model 4 rsq mean -0.0989080896099136\n",
      "model 5 rsq mean -0.11510586620152455\n"
     ]
    }
   ],
   "source": [
    "print('model 1 rsq mean',np.mean(np.array(list(step1_data['rpe']['rsqs'].values()))))\n",
    "print('model 2 rsq mean',np.mean(np.array(list(step1_data['tcpe']['rsqs'].values()))))\n",
    "print('model 3 rsq mean',np.mean(np.array(list(step1_data['dcpe']['rsqs'].values()))))\n",
    "print('model 4 rsq mean',np.mean(np.array(list(step1_data['rpe+tcpe']['rsqs'].values()))))\n",
    "print('model 5 rsq mean',np.mean(np.array(list(step1_data['rpe+dcpe']['rsqs'].values()))))\n"
   ]
  },
  {
   "cell_type": "code",
   "execution_count": 40,
   "metadata": {},
   "outputs": [
    {
     "name": "stdout",
     "output_type": "stream",
     "text": [
      "model 1 rsq sum -1.222359576101462\n",
      "model 2 rsq sum -0.5322383940088895\n",
      "model 3 rsq sum -1.2661074951941793\n",
      "model 4 rsq sum -1.5825294337586175\n",
      "model 5 rsq sum -1.8416938592243928\n"
     ]
    }
   ],
   "source": [
    "print('model 1 rsq sum',np.sum(np.array(list(step1_data['rpe']['rsqs'].values()))))\n",
    "print('model 2 rsq sum',np.sum(np.array(list(step1_data['tcpe']['rsqs'].values()))))\n",
    "print('model 3 rsq sum',np.sum(np.array(list(step1_data['dcpe']['rsqs'].values()))))\n",
    "print('model 4 rsq sum',np.sum(np.array(list(step1_data['rpe+tcpe']['rsqs'].values()))))\n",
    "print('model 5 rsq sum',np.sum(np.array(list(step1_data['rpe+dcpe']['rsqs'].values()))))"
   ]
  },
  {
   "attachments": {},
   "cell_type": "markdown",
   "metadata": {},
   "source": [
    "### Results of step 1: \n",
    "- adding RPE adds explanatory power to the model but worsens BIC\n",
    "- total CPE is better"
   ]
  },
  {
   "attachments": {},
   "cell_type": "markdown",
   "metadata": {},
   "source": [
    "### Step 2: Choose winning regret/relief model\n",
    "- total vs decision regret/relief\n",
    "- regret or relief?"
   ]
  },
  {
   "cell_type": "code",
   "execution_count": 41,
   "metadata": {},
   "outputs": [],
   "source": [
    "model6_vars = [\"cr(t-1)\",\"cr(t-2)\",\"cr(t-3)\",\"choice_ev(t-1)\",\"choice_ev(t-2)\",\"choice_ev(t-3)\",\"totalregret(t-1)\",\"totalregret(t-2)\",\"totalregret(t-3)\"]\n",
    "model7_vars = [\"cr(t-1)\",\"cr(t-2)\",\"cr(t-3)\",\"choice_ev(t-1)\",\"choice_ev(t-2)\",\"choice_ev(t-3)\",\"decisionregret(t-1)\",\"decisionregret(t-2)\",\"decisionregret(t-3)\"]\n",
    "model8_vars = [\"cr(t-1)\",\"cr(t-2)\",\"cr(t-3)\",\"choice_ev(t-1)\",\"choice_ev(t-2)\",\"choice_ev(t-3)\",\"totalrelief(t-1)\",\"totalrelief(t-2)\",\"totalrelief(t-3)\"]\n",
    "model9_vars = [\"cr(t-1)\",\"cr(t-2)\",\"cr(t-3)\",\"choice_ev(t-1)\",\"choice_ev(t-2)\",\"choice_ev(t-3)\",\"decisionrelief(t-1)\",\"decisionrelief(t-2)\",\"decisionrelief(t-3)\"]\n",
    "model10_vars = [\"cr(t-1)\",\"cr(t-2)\",\"cr(t-3)\",\"choice_ev(t-1)\",\"choice_ev(t-2)\",\"choice_ev(t-3)\",\"totalregret(t-1)\",\"totalregret(t-2)\",\"totalregret(t-3)\",\"totalrelief(t-1)\",\"totalrelief(t-2)\",\"totalrelief(t-3)\"]\n",
    "model11_vars = [\"cr(t-1)\",\"cr(t-2)\",\"cr(t-3)\",\"choice_ev(t-1)\",\"choice_ev(t-2)\",\"choice_ev(t-3)\",\"decisionregret(t-1)\",\"decisionregret(t-2)\",\"decisionregret(t-3)\",\"decisionrelief(t-1)\",\"decisionrelief(t-2)\",\"decisionrelief(t-3)\"]"
   ]
  },
  {
   "cell_type": "code",
   "execution_count": 42,
   "metadata": {},
   "outputs": [],
   "source": [
    "models_dict['treg'] = model6_vars\n",
    "models_dict['dreg'] = model7_vars\n",
    "models_dict['trel'] = model8_vars\n",
    "models_dict['drel'] = model9_vars\n",
    "models_dict['treg/rel'] = model10_vars\n",
    "models_dict['dreg/rel'] = model11_vars\n"
   ]
  },
  {
   "cell_type": "code",
   "execution_count": 43,
   "metadata": {},
   "outputs": [],
   "source": [
    "models_list2 = ['treg','dreg','trel','drel','treg/rel','dreg/rel']\n",
    "lam_method = 'exp'\n",
    "\n",
    "step2_results = {}\n",
    "\n",
    "for model in models_list2:\n",
    "\n",
    "    reg_list = models_dict[model]\n",
    "    n_regs = int(len(reg_list)/3)\n",
    "\n",
    "    mood_est_df, optim_resid_df, optim_inits_df, param_fits_df, aic_dict,bic1_dict,bic2_dict, rsq_dict = \\\n",
    "    SWB_modeling_utils.run_swb(model_input, subj_ids, n_regs, reg_list,lam_method)\n",
    "    \n",
    "\n",
    "    step2_results[model] = {'mood_est': mood_est_df,\n",
    "                            'optim_residuals':optim_resid_df,\n",
    "                           'optim_inits': optim_inits_df,\n",
    "                           'param_fits': param_fits_df,\n",
    "                            'aics':aic_dict,\n",
    "                           'bics1': bic1_dict,\n",
    "                            'bics2': bic2_dict,\n",
    "                           'rsqs': rsq_dict\n",
    "                           }\n",
    "\n"
   ]
  },
  {
   "cell_type": "code",
   "execution_count": 44,
   "metadata": {},
   "outputs": [],
   "source": [
    "### use optimal parameters to run model \n",
    "\n",
    "models_list2 = ['treg','dreg','trel','drel','treg/rel','dreg/rel']\n",
    "lam_method = 'exp'\n",
    "\n",
    "step2_data = {}\n",
    "\n",
    "for model in models_list2:\n",
    "\n",
    "    reg_list = models_dict[model]\n",
    "    n_regs = int(len(reg_list)/3)\n",
    "    params = step2_results[model]['param_fits']\n",
    "\n",
    "    mood_est_df, resid_df, rss_dict, aic_dict, bic1_dict, bic2_dict, rsq_dict = \\\n",
    "    SWB_modeling_utils.fit_swb(model_input,subj_ids,params,n_regs,reg_list,lam_method)\n",
    "    \n",
    "\n",
    "    step2_data[model] = {'mood_est': mood_est_df,\n",
    "                            'residuals':resid_df,\n",
    "                           'rss': rss_dict,\n",
    "                            'aic':aic_dict,\n",
    "                           'bics1': bic1_dict,\n",
    "                            'bics2': bic2_dict,\n",
    "                           'rsqs': rsq_dict\n",
    "                           }\n"
   ]
  },
  {
   "cell_type": "code",
   "execution_count": 45,
   "metadata": {},
   "outputs": [
    {
     "name": "stdout",
     "output_type": "stream",
     "text": [
      "best model bic for  DA8 is treg -52.99556877035673\n",
      "best model rsq for  DA8 is treg/rel -0.18020219247640235\n",
      "best model bic for  DA9 is treg -169.1054677591245\n",
      "best model rsq for  DA9 is treg -0.02613033860095082\n",
      "best model bic for  DA10 is treg/rel -149.3732242989954\n",
      "best model rsq for  DA10 is treg/rel -0.04300327293977424\n",
      "best model bic for  DA11 is treg -239.1332516721581\n",
      "best model rsq for  DA11 is treg 0.05987267008725272\n",
      "best model bic for  DA023 is trel -228.04571443697887\n",
      "best model rsq for  DA023 is trel 0.04675233903353959\n",
      "best model bic for  MS002 is treg/rel -253.68422363293618\n",
      "best model rsq for  MS002 is treg/rel 0.08449956081679022\n",
      "best model bic for  MS003 is treg -236.96156504995668\n",
      "best model rsq for  MS003 is treg/rel 0.06203036865100231\n",
      "best model bic for  MS016 is treg/rel -252.3673016660654\n",
      "best model rsq for  MS016 is treg/rel 0.08299126641732357\n",
      "best model bic for  MS017 is treg/rel -165.51358552766345\n",
      "best model rsq for  MS017 is treg/rel -0.022171067172758407\n",
      "best model bic for  MS019 is trel -205.83371759158706\n",
      "best model rsq for  MS019 is trel 0.019914570283626754\n",
      "best model bic for  MS022 is drel -212.35136034267464\n",
      "best model rsq for  MS022 is treg/rel 0.03540428098064963\n",
      "best model bic for  MS025 is dreg -152.10734582105113\n",
      "best model rsq for  MS025 is dreg -0.04816647846097122\n",
      "best model bic for  MS026 is trel -127.29506741966429\n",
      "best model rsq for  MS026 is trel -0.08118512209606377\n",
      "best model bic for  MS027 is treg -222.60770632449083\n",
      "best model rsq for  MS027 is treg 0.04025055545688605\n",
      "best model bic for  MS029 is treg -222.4406229549438\n",
      "best model rsq for  MS029 is treg 0.04005008680936184\n",
      "best model bic for  MS030 is dreg -164.69778776469892\n",
      "best model rsq for  MS030 is dreg -0.03179950939808851\n"
     ]
    }
   ],
   "source": [
    "for ix,s in enumerate(subj_ids):\n",
    "    best_bic = np.inf\n",
    "    best_rsq = -np.inf\n",
    "    best_model_bic = []\n",
    "    best_model_rsq = []\n",
    "    for model in models_list2:\n",
    "        bic = step2_data[model]['bics1'][s]\n",
    "        rsq = step2_data[model]['rsqs'][s]\n",
    "        if bic<best_bic:\n",
    "            best_bic = bic \n",
    "            best_model_bic = model\n",
    "        if rsq>best_rsq:\n",
    "            best_rsq=rsq\n",
    "            best_model_rsq = model\n",
    "        \n",
    "    print('best model bic for ',s,'is',best_model_bic,best_bic)\n",
    "    print('best model rsq for ',s,'is',best_model_rsq,best_rsq)"
   ]
  },
  {
   "cell_type": "code",
   "execution_count": 46,
   "metadata": {},
   "outputs": [
    {
     "name": "stdout",
     "output_type": "stream",
     "text": [
      "model 6 bic1 mean -167.39208822657372\n",
      "model 7 bic1 mean -145.20275757488886\n",
      "model 8 bic1 mean -135.48170330162299\n",
      "model 9 bic1 mean -134.4724579839558\n",
      "model 10 bic1 mean -157.04033122784892\n",
      "model 11 bic1 mean -137.93141186974086\n"
     ]
    }
   ],
   "source": [
    "print('model 6 bic1 mean',np.mean(np.array(list(step2_data['treg']['bics1'].values()))))\n",
    "print('model 7 bic1 mean',np.mean(np.array(list(step2_data['dreg']['bics1'].values()))))\n",
    "print('model 8 bic1 mean',np.mean(np.array(list(step2_data['trel']['bics1'].values()))))\n",
    "print('model 9 bic1 mean',np.mean(np.array(list(step2_data['drel']['bics1'].values()))))\n",
    "print('model 10 bic1 mean',np.mean(np.array(list(step2_data['treg/rel']['bics1'].values()))))\n",
    "print('model 11 bic1 mean',np.mean(np.array(list(step2_data['dreg/rel']['bics1'].values()))))"
   ]
  },
  {
   "cell_type": "code",
   "execution_count": 47,
   "metadata": {},
   "outputs": [
    {
     "name": "stdout",
     "output_type": "stream",
     "text": [
      "model 6 bic1 sum -2678.2734116251795\n",
      "model 7 bic1 sum -2323.244121198222\n",
      "model 8 bic1 sum -2167.7072528259678\n",
      "model 9 bic1 sum -2151.5593277432927\n",
      "model 10 bic1 sum -2512.645299645583\n",
      "model 11 bic1 sum -2206.9025899158537\n"
     ]
    }
   ],
   "source": [
    "print('model 6 bic1 sum',np.sum(np.array(list(step2_data['treg']['bics1'].values()))))\n",
    "print('model 7 bic1 sum',np.sum(np.array(list(step2_data['dreg']['bics1'].values()))))\n",
    "print('model 8 bic1 sum',np.sum(np.array(list(step2_data['trel']['bics1'].values()))))\n",
    "print('model 9 bic1 sum',np.sum(np.array(list(step2_data['drel']['bics1'].values()))))\n",
    "print('model 10 bic1 sum',np.sum(np.array(list(step2_data['treg/rel']['bics1'].values()))))\n",
    "print('model 11 bic1 sum',np.sum(np.array(list(step2_data['dreg/rel']['bics1'].values()))))"
   ]
  },
  {
   "cell_type": "code",
   "execution_count": 48,
   "metadata": {},
   "outputs": [
    {
     "name": "stdout",
     "output_type": "stream",
     "text": [
      "model 6 bic2 mean 33.92509650550191\n",
      "model 7 bic2 mean 33.8696231788727\n",
      "model 8 bic2 mean 33.845320543189544\n",
      "model 9 bic2 mean 33.84279742989538\n",
      "model 10 bic2 mean 40.6005403699922\n",
      "model 11 bic2 mean 40.55276807159693\n"
     ]
    }
   ],
   "source": [
    "print('model 6 bic2 mean',np.mean(np.array(list(step2_data['treg']['bics2'].values()))))\n",
    "print('model 7 bic2 mean',np.mean(np.array(list(step2_data['dreg']['bics2'].values()))))\n",
    "print('model 8 bic2 mean',np.mean(np.array(list(step2_data['trel']['bics2'].values()))))\n",
    "print('model 9 bic2 mean',np.mean(np.array(list(step2_data['drel']['bics2'].values()))))\n",
    "print('model 10 bic2 mean',np.mean(np.array(list(step2_data['treg/rel']['bics2'].values()))))\n",
    "print('model 11 bic2 mean',np.mean(np.array(list(step2_data['dreg/rel']['bics2'].values()))))"
   ]
  },
  {
   "cell_type": "code",
   "execution_count": 49,
   "metadata": {},
   "outputs": [
    {
     "name": "stdout",
     "output_type": "stream",
     "text": [
      "model 6 bic2 sum 542.8015440880306\n",
      "model 7 bic2 sum 541.9139708619632\n",
      "model 8 bic2 sum 541.5251286910327\n",
      "model 9 bic2 sum 541.484758878326\n",
      "model 10 bic2 sum 649.6086459198752\n",
      "model 11 bic2 sum 648.8442891455509\n"
     ]
    }
   ],
   "source": [
    "print('model 6 bic2 sum',np.sum(np.array(list(step2_data['treg']['bics2'].values()))))\n",
    "print('model 7 bic2 sum',np.sum(np.array(list(step2_data['dreg']['bics2'].values()))))\n",
    "print('model 8 bic2 sum',np.sum(np.array(list(step2_data['trel']['bics2'].values()))))\n",
    "print('model 9 bic2 sum',np.sum(np.array(list(step2_data['drel']['bics2'].values()))))\n",
    "print('model 10 bic2 sum',np.sum(np.array(list(step2_data['treg/rel']['bics2'].values()))))\n",
    "print('model 11 bic2 sum',np.sum(np.array(list(step2_data['dreg/rel']['bics2'].values()))))"
   ]
  },
  {
   "cell_type": "code",
   "execution_count": 50,
   "metadata": {},
   "outputs": [
    {
     "name": "stdout",
     "output_type": "stream",
     "text": [
      "model 6 aic mean -190.81514686491334\n",
      "model 7 aic mean -168.6258162132285\n",
      "model 8 aic mean -158.9047619399626\n",
      "model 9 aic mean -157.89551662229545\n",
      "model 10 aic mean -185.14800159385646\n",
      "model 11 aic mean -166.03908223574842\n"
     ]
    }
   ],
   "source": [
    "print('model 6 aic mean',np.mean(np.array(list(step2_data['treg']['aic'].values()))))\n",
    "print('model 7 aic mean',np.mean(np.array(list(step2_data['dreg']['aic'].values()))))\n",
    "print('model 8 aic mean',np.mean(np.array(list(step2_data['trel']['aic'].values()))))\n",
    "print('model 9 aic mean',np.mean(np.array(list(step2_data['drel']['aic'].values()))))\n",
    "print('model 10 aic mean',np.mean(np.array(list(step2_data['treg/rel']['aic'].values()))))\n",
    "print('model 11 aic mean',np.mean(np.array(list(step2_data['dreg/rel']['aic'].values()))))\n"
   ]
  },
  {
   "cell_type": "code",
   "execution_count": 51,
   "metadata": {},
   "outputs": [
    {
     "name": "stdout",
     "output_type": "stream",
     "text": [
      "model 6 aic sum -3053.0423498386135\n",
      "model 7 aic sum -2698.013059411656\n",
      "model 8 aic sum -2542.476191039402\n",
      "model 9 aic sum -2526.328265956727\n",
      "model 10 aic sum -2962.3680255017034\n",
      "model 11 aic sum -2656.625315771975\n"
     ]
    }
   ],
   "source": [
    "print('model 6 aic sum',np.sum(np.array(list(step2_data['treg']['aic'].values()))))\n",
    "print('model 7 aic sum',np.sum(np.array(list(step2_data['dreg']['aic'].values()))))\n",
    "print('model 8 aic sum',np.sum(np.array(list(step2_data['trel']['aic'].values()))))\n",
    "print('model 9 aic sum',np.sum(np.array(list(step2_data['drel']['aic'].values()))))\n",
    "print('model 10 aic sum',np.sum(np.array(list(step2_data['treg/rel']['aic'].values()))))\n",
    "print('model 11 aic sum',np.sum(np.array(list(step2_data['dreg/rel']['aic'].values()))))\n"
   ]
  },
  {
   "cell_type": "code",
   "execution_count": 52,
   "metadata": {},
   "outputs": [
    {
     "name": "stdout",
     "output_type": "stream",
     "text": [
      "model 6 rsq mean -0.03209821837195725\n",
      "model 7 rsq mean -0.0609207866044603\n",
      "model 8 rsq mean -0.07823537892210636\n",
      "model 9 rsq mean -0.07992115192349766\n",
      "model 10 rsq mean -0.03893873779987825\n",
      "model 11 rsq mean -0.061676584624790004\n"
     ]
    }
   ],
   "source": [
    "print('model 6 rsq mean',np.mean(np.array(list(step2_data['treg']['rsqs'].values()))))\n",
    "print('model 7 rsq mean',np.mean(np.array(list(step2_data['dreg']['rsqs'].values()))))\n",
    "print('model 8 rsq mean',np.mean(np.array(list(step2_data['trel']['rsqs'].values()))))\n",
    "print('model 9 rsq mean',np.mean(np.array(list(step2_data['drel']['rsqs'].values()))))\n",
    "print('model 10 rsq mean',np.mean(np.array(list(step2_data['treg/rel']['rsqs'].values()))))\n",
    "print('model 11 rsq mean',np.mean(np.array(list(step2_data['dreg/rel']['rsqs'].values()))))\n"
   ]
  },
  {
   "cell_type": "code",
   "execution_count": 53,
   "metadata": {},
   "outputs": [
    {
     "name": "stdout",
     "output_type": "stream",
     "text": [
      "model 6 rsq sum -0.513571493951316\n",
      "model 7 rsq sum -0.9747325856713648\n",
      "model 8 rsq sum -1.2517660627537017\n",
      "model 9 rsq sum -1.2787384307759626\n",
      "model 10 rsq sum -0.623019804798052\n",
      "model 11 rsq sum -0.9868253539966401\n"
     ]
    }
   ],
   "source": [
    "print('model 6 rsq sum',np.sum(np.array(list(step2_data['treg']['rsqs'].values()))))\n",
    "print('model 7 rsq sum',np.sum(np.array(list(step2_data['dreg']['rsqs'].values()))))\n",
    "print('model 8 rsq sum',np.sum(np.array(list(step2_data['trel']['rsqs'].values()))))\n",
    "print('model 9 rsq sum',np.sum(np.array(list(step2_data['drel']['rsqs'].values()))))\n",
    "print('model 10 rsq sum',np.sum(np.array(list(step2_data['treg/rel']['rsqs'].values()))))\n",
    "print('model 11 rsq sum',np.sum(np.array(list(step2_data['dreg/rel']['rsqs'].values()))))"
   ]
  },
  {
   "attachments": {},
   "cell_type": "markdown",
   "metadata": {},
   "source": [
    "### Results of step 2\n",
    "- best fit is total regret (consistent with step 1 results that total calculation is best)\n",
    "- regret is overall a better fit than relief\n",
    "- adding total regret & total relief together out performs relief alone "
   ]
  },
  {
   "attachments": {},
   "cell_type": "markdown",
   "metadata": {},
   "source": [
    "### Step 3: Summary of basic GLMs\n",
    "Finalize - \n",
    "\n",
    "1) RPE (CR+EV+RPE)\n",
    "2) Counterfactual (CR+EV+tCPE) \n",
    "3) Counterfactual+RPE (CR+EV+RPE+tCPE)\n",
    "4) Regret (CR+EV+regret) \n",
    "5) Relief (CR+EV+relief)\n",
    "6) Regret/Relief (CR+EV+regret+relief)\n",
    "7) Full model (CR+EV+RPE+regret+relief)\n"
   ]
  },
  {
   "cell_type": "code",
   "execution_count": 54,
   "metadata": {},
   "outputs": [],
   "source": [
    "glm1_vars = [\"cr(t-1)\",\"cr(t-2)\",\"cr(t-3)\",\"choice_ev(t-1)\",\"choice_ev(t-2)\",\"choice_ev(t-3)\",\"rpe(t-1)\",\"rpe(t-2)\",\"rpe(t-3)\"]\n",
    "glm2_vars = [\"cr(t-1)\",\"cr(t-2)\",\"cr(t-3)\",\"choice_ev(t-1)\",\"choice_ev(t-2)\",\"choice_ev(t-3)\",\"totalcpe(t-1)\",\"totalcpe(t-2)\",\"totalcpe(t-3)\"]\n",
    "glm3_vars = [\"cr(t-1)\",\"cr(t-2)\",\"cr(t-3)\",\"choice_ev(t-1)\",\"choice_ev(t-2)\",\"choice_ev(t-3)\",\"rpe(t-1)\",\"rpe(t-2)\",\"rpe(t-3)\",\"totalcpe(t-1)\",\"totalcpe(t-2)\",\"totalcpe(t-3)\"]\n",
    "glm4_vars = [\"cr(t-1)\",\"cr(t-2)\",\"cr(t-3)\",\"choice_ev(t-1)\",\"choice_ev(t-2)\",\"choice_ev(t-3)\",\"totalregret(t-1)\",\"totalregret(t-2)\",\"totalregret(t-3)\"]\n",
    "glm5_vars = [\"cr(t-1)\",\"cr(t-2)\",\"cr(t-3)\",\"choice_ev(t-1)\",\"choice_ev(t-2)\",\"choice_ev(t-3)\",\"totalrelief(t-1)\",\"totalrelief(t-2)\",\"totalrelief(t-3)\"]\n",
    "glm6_vars = [\"cr(t-1)\",\"cr(t-2)\",\"cr(t-3)\",\"choice_ev(t-1)\",\"choice_ev(t-2)\",\"choice_ev(t-3)\",\"totalregret(t-1)\",\"totalregret(t-2)\",\"totalregret(t-3)\",\"totalrelief(t-1)\",\"totalrelief(t-2)\",\"totalrelief(t-3)\"]\n",
    "glm7_vars = [\"cr(t-1)\",\"cr(t-2)\",\"cr(t-3)\",\"choice_ev(t-1)\",\"choice_ev(t-2)\",\"choice_ev(t-3)\",\"rpe(t-1)\",\"rpe(t-2)\",\"rpe(t-3)\",\"totalregret(t-1)\",\"totalregret(t-2)\",\"totalregret(t-3)\",\"totalrelief(t-1)\",\"totalrelief(t-2)\",\"totalrelief(t-3)\"]\n"
   ]
  },
  {
   "cell_type": "code",
   "execution_count": 55,
   "metadata": {},
   "outputs": [],
   "source": [
    "glms_dict = {}\n",
    "glms_dict['RPE'] = glm1_vars\n",
    "glms_dict['CPE'] = glm2_vars\n",
    "glms_dict['CPE+RPE'] = glm3_vars\n",
    "glms_dict['Regret'] = glm4_vars\n",
    "glms_dict['Relief'] = glm5_vars\n",
    "glms_dict['Regret+Relief'] = glm6_vars\n",
    "glms_dict['Full'] = glm7_vars"
   ]
  },
  {
   "cell_type": "code",
   "execution_count": 56,
   "metadata": {},
   "outputs": [],
   "source": [
    "glms_list = ['RPE','CPE','CPE+RPE','Regret','Relief','Regret+Relief','Full']\n",
    "lam_method = 'exp'\n",
    "glm_results = {}\n",
    "\n",
    "for model in glms_list:\n",
    "\n",
    "    reg_list = glms_dict[model]\n",
    "    n_regs = int(len(reg_list)/3)\n",
    "\n",
    "    mood_est_df, optim_resid_df, optim_inits_df, param_fits_df, aic_dict,bic1_dict,bic2_dict, rsq_dict = \\\n",
    "    SWB_modeling_utils.run_swb(model_input, subj_ids, n_regs, reg_list,lam_method)\n",
    "    \n",
    "\n",
    "    glm_results[model] = {'mood_est': mood_est_df,\n",
    "                            'optim_residuals':optim_resid_df,\n",
    "                           'optim_inits': optim_inits_df,\n",
    "                           'param_fits': param_fits_df,\n",
    "                            'aics':aic_dict,\n",
    "                           'bics1': bic1_dict,\n",
    "                            'bics2': bic2_dict,\n",
    "                           'rsqs': rsq_dict\n",
    "                           }\n"
   ]
  },
  {
   "cell_type": "code",
   "execution_count": 57,
   "metadata": {},
   "outputs": [],
   "source": [
    "### use optimal parameters to run model \n",
    "\n",
    "glms_list = ['RPE','CPE','CPE+RPE','Regret','Relief','Regret+Relief','Full']\n",
    "lam_method = 'exp'\n",
    "glm_data = {}\n",
    "\n",
    "for model in glms_list:\n",
    "\n",
    "    reg_list = glms_dict[model]\n",
    "    n_regs = int(len(reg_list)/3)\n",
    "    params = glm_results[model]['param_fits']\n",
    "\n",
    "    mood_est_df, resid_df, rss_dict, aic_dict, bic1_dict, bic2_dict, rsq_dict = \\\n",
    "    SWB_modeling_utils.fit_swb(model_input,subj_ids,params,n_regs,reg_list,lam_method)\n",
    "    \n",
    "\n",
    "    glm_data[model] = {'mood_est': mood_est_df,\n",
    "                            'residuals':resid_df,\n",
    "                           'rss': rss_dict,\n",
    "                            'aic':aic_dict,\n",
    "                           'bics1': bic1_dict,\n",
    "                            'bics2': bic2_dict,\n",
    "                           'rsqs': rsq_dict\n",
    "                           }\n"
   ]
  },
  {
   "cell_type": "code",
   "execution_count": 58,
   "metadata": {},
   "outputs": [
    {
     "name": "stdout",
     "output_type": "stream",
     "text": [
      "best model bic for  DA8 is CPE -87.26024162221492\n",
      "best model rsq for  DA8 is CPE -0.13666814933278193\n",
      "best model bic for  DA9 is Regret -169.10531425643921\n",
      "best model rsq for  DA9 is Regret -0.026130535493172458\n",
      "best model bic for  DA10 is RPE -154.94722865150436\n",
      "best model rsq for  DA10 is Full -0.038257077953154583\n",
      "best model bic for  DA11 is Regret -239.13325209781203\n",
      "best model rsq for  DA11 is Full 0.061268984011170424\n",
      "best model bic for  DA023 is Relief -228.0457146414592\n",
      "best model rsq for  DA023 is Relief 0.04675233927719025\n",
      "best model bic for  MS002 is Regret+Relief -253.6836601082454\n",
      "best model rsq for  MS002 is Regret+Relief 0.08449891593268621\n",
      "best model bic for  MS003 is Regret -236.96156483613902\n",
      "best model rsq for  MS003 is Regret+Relief 0.062030368771923805\n",
      "best model bic for  MS016 is RPE -262.3093542369127\n",
      "best model rsq for  MS016 is Full 0.08750111345579281\n",
      "best model bic for  MS017 is Regret+Relief -165.5135219043929\n",
      "best model rsq for  MS017 is Regret+Relief -0.02217114846509327\n",
      "best model bic for  MS019 is CPE+RPE -206.71410991025746\n",
      "best model rsq for  MS019 is Full 0.03532896600245128\n",
      "best model bic for  MS022 is RPE -233.45609643426815\n",
      "best model rsq for  MS022 is RPE 0.0531773808178968\n",
      "best model bic for  MS025 is Regret -98.81176471956269\n",
      "best model rsq for  MS025 is Regret -0.12037326617367494\n",
      "best model bic for  MS026 is CPE -193.3758330260126\n",
      "best model rsq for  MS026 is CPE 0.004532877588746653\n",
      "best model bic for  MS027 is Regret -222.60847987586584\n",
      "best model rsq for  MS027 is Regret 0.040251483475814975\n",
      "best model bic for  MS029 is Regret -222.44359534134117\n",
      "best model rsq for  MS029 is Regret 0.04005365348031675\n",
      "best model bic for  MS030 is Regret -154.8742255179646\n",
      "best model rsq for  MS030 is Regret -0.04454755209179595\n"
     ]
    }
   ],
   "source": [
    "for ix,s in enumerate(subj_ids):\n",
    "    best_bic = np.inf\n",
    "    best_rsq = -np.inf\n",
    "    best_model_bic = []\n",
    "    best_model_rsq = []\n",
    "    for model in glms_list:\n",
    "        bic = glm_data[model]['bics1'][s]\n",
    "        rsq = glm_data[model]['rsqs'][s]\n",
    "        if bic<best_bic:\n",
    "            best_bic = bic \n",
    "            best_model_bic = model\n",
    "        if rsq>best_rsq:\n",
    "            best_rsq=rsq\n",
    "            best_model_rsq = model\n",
    "        \n",
    "    print('best model bic for ',s,'is',best_model_bic,best_bic)\n",
    "    print('best model rsq for ',s,'is',best_model_rsq,best_rsq)"
   ]
  },
  {
   "cell_type": "code",
   "execution_count": 59,
   "metadata": {},
   "outputs": [
    {
     "name": "stdout",
     "output_type": "stream",
     "text": [
      "glm1 bic1 mean -146.16458340254852\n",
      "glm2 bic1 mean -164.9919630201279\n",
      "glm3 bic1 mean -122.60737958127531\n",
      "glm4 bic1 mean -170.51670229203214\n",
      "glm5 bic1 mean -135.4755411076073\n",
      "glm6 bic1 mean -157.0400444859947\n",
      "glm7 bic1 mean -108.62220887957274\n"
     ]
    }
   ],
   "source": [
    "print('glm1 bic1 mean',np.mean(np.array(list(glm_data['RPE']['bics1'].values()))))\n",
    "print('glm2 bic1 mean',np.mean(np.array(list(glm_data['CPE']['bics1'].values()))))\n",
    "print('glm3 bic1 mean',np.mean(np.array(list(glm_data['CPE+RPE']['bics1'].values()))))\n",
    "print('glm4 bic1 mean',np.mean(np.array(list(glm_data['Regret']['bics1'].values()))))\n",
    "print('glm5 bic1 mean',np.mean(np.array(list(glm_data['Relief']['bics1'].values()))))\n",
    "print('glm6 bic1 mean',np.mean(np.array(list(glm_data['Regret+Relief']['bics1'].values()))))\n",
    "print('glm7 bic1 mean',np.mean(np.array(list(glm_data['Full']['bics1'].values()))))"
   ]
  },
  {
   "cell_type": "code",
   "execution_count": 60,
   "metadata": {},
   "outputs": [
    {
     "name": "stdout",
     "output_type": "stream",
     "text": [
      "glm1 bic1 sum -2338.6333344407763\n",
      "glm2 bic1 sum -2639.8714083220466\n",
      "glm3 bic1 sum -1961.718073300405\n",
      "glm4 bic1 sum -2728.267236672514\n",
      "glm5 bic1 sum -2167.608657721717\n",
      "glm6 bic1 sum -2512.6407117759154\n",
      "glm7 bic1 sum -1737.9553420731638\n"
     ]
    }
   ],
   "source": [
    "print('glm1 bic1 sum',np.sum(np.array(list(glm_data['RPE']['bics1'].values()))))\n",
    "print('glm2 bic1 sum',np.sum(np.array(list(glm_data['CPE']['bics1'].values()))))\n",
    "print('glm3 bic1 sum',np.sum(np.array(list(glm_data['CPE+RPE']['bics1'].values()))))\n",
    "print('glm4 bic1 sum',np.sum(np.array(list(glm_data['Regret']['bics1'].values()))))\n",
    "print('glm5 bic1 sum',np.sum(np.array(list(glm_data['Relief']['bics1'].values()))))\n",
    "print('glm6 bic1 sum',np.sum(np.array(list(glm_data['Regret+Relief']['bics1'].values()))))\n",
    "print('glm7 bic1 sum',np.sum(np.array(list(glm_data['Full']['bics1'].values()))))"
   ]
  },
  {
   "cell_type": "code",
   "execution_count": 61,
   "metadata": {},
   "outputs": [
    {
     "name": "stdout",
     "output_type": "stream",
     "text": [
      "glm1 bic2 mean 33.872027743441855\n",
      "glm2 bic2 mean 33.9190961924858\n",
      "glm3 bic2 mean 40.51445799087577\n",
      "glm4 bic2 mean 33.93290804066556\n",
      "glm5 bic2 mean 33.8453051377045\n",
      "glm6 bic2 mean 40.60053965313757\n",
      "glm7 bic2 mean 47.18081832110861\n"
     ]
    }
   ],
   "source": [
    "print('glm1 bic2 mean',np.mean(np.array(list(glm_data['RPE']['bics2'].values()))))\n",
    "print('glm2 bic2 mean',np.mean(np.array(list(glm_data['CPE']['bics2'].values()))))\n",
    "print('glm3 bic2 mean',np.mean(np.array(list(glm_data['CPE+RPE']['bics2'].values()))))\n",
    "print('glm4 bic2 mean',np.mean(np.array(list(glm_data['Regret']['bics2'].values()))))\n",
    "print('glm5 bic2 mean',np.mean(np.array(list(glm_data['Relief']['bics2'].values()))))\n",
    "print('glm6 bic2 mean',np.mean(np.array(list(glm_data['Regret+Relief']['bics2'].values()))))\n",
    "print('glm7 bic2 mean',np.mean(np.array(list(glm_data['Full']['bics2'].values()))))"
   ]
  },
  {
   "cell_type": "code",
   "execution_count": 62,
   "metadata": {},
   "outputs": [
    {
     "name": "stdout",
     "output_type": "stream",
     "text": [
      "glm1 bic2 sum 541.9524438950697\n",
      "glm2 bic2 sum 542.7055390797728\n",
      "glm3 bic2 sum 648.2313278540123\n",
      "glm4 bic2 sum 542.926528650649\n",
      "glm5 bic2 sum 541.524882203272\n",
      "glm6 bic2 sum 649.6086344502011\n",
      "glm7 bic2 sum 754.8930931377378\n"
     ]
    }
   ],
   "source": [
    "print('glm1 bic2 sum',np.sum(np.array(list(glm_data['RPE']['bics2'].values()))))\n",
    "print('glm2 bic2 sum',np.sum(np.array(list(glm_data['CPE']['bics2'].values()))))\n",
    "print('glm3 bic2 sum',np.sum(np.array(list(glm_data['CPE+RPE']['bics2'].values()))))\n",
    "print('glm4 bic2 sum',np.sum(np.array(list(glm_data['Regret']['bics2'].values()))))\n",
    "print('glm5 bic2 sum',np.sum(np.array(list(glm_data['Relief']['bics2'].values()))))\n",
    "print('glm6 bic2 sum',np.sum(np.array(list(glm_data['Regret+Relief']['bics2'].values()))))\n",
    "print('glm7 bic2 sum',np.sum(np.array(list(glm_data['Full']['bics2'].values()))))"
   ]
  },
  {
   "cell_type": "code",
   "execution_count": 63,
   "metadata": {},
   "outputs": [
    {
     "name": "stdout",
     "output_type": "stream",
     "text": [
      "glm1 aic mean -169.58764204088814\n",
      "glm2 aic mean -188.41502165846754\n",
      "glm3 aic mean -150.71504994728286\n",
      "glm4 aic mean -193.93976093037176\n",
      "glm5 aic mean -158.89859974594694\n",
      "glm6 aic mean -185.14771485200225\n",
      "glm7 aic mean -141.41449097324823\n"
     ]
    }
   ],
   "source": [
    "print('glm1 aic mean',np.mean(np.array(list(glm_data['RPE']['aic'].values()))))\n",
    "print('glm2 aic mean',np.mean(np.array(list(glm_data['CPE']['aic'].values()))))\n",
    "print('glm3 aic mean',np.mean(np.array(list(glm_data['CPE+RPE']['aic'].values()))))\n",
    "print('glm4 aic mean',np.mean(np.array(list(glm_data['Regret']['aic'].values()))))\n",
    "print('glm5 aic mean',np.mean(np.array(list(glm_data['Relief']['aic'].values()))))\n",
    "print('glm6 aic mean',np.mean(np.array(list(glm_data['Regret+Relief']['aic'].values()))))\n",
    "print('glm7 aic mean',np.mean(np.array(list(glm_data['Full']['aic'].values()))))\n"
   ]
  },
  {
   "cell_type": "code",
   "execution_count": 64,
   "metadata": {},
   "outputs": [
    {
     "name": "stdout",
     "output_type": "stream",
     "text": [
      "glm1 aic sum -2713.4022726542103\n",
      "glm2 aic sum -3014.6403465354806\n",
      "glm3 aic sum -2411.440799156526\n",
      "glm4 aic sum -3103.036174885948\n",
      "glm5 aic sum -2542.377595935151\n",
      "glm6 aic sum -2962.363437632036\n",
      "glm7 aic sum -2262.6318555719718\n"
     ]
    }
   ],
   "source": [
    "print('glm1 aic sum',np.sum(np.array(list(glm_data['RPE']['aic'].values()))))\n",
    "print('glm2 aic sum',np.sum(np.array(list(glm_data['CPE']['aic'].values()))))\n",
    "print('glm3 aic sum',np.sum(np.array(list(glm_data['CPE+RPE']['aic'].values()))))\n",
    "print('glm4 aic sum',np.sum(np.array(list(glm_data['Regret']['aic'].values()))))\n",
    "print('glm5 aic sum',np.sum(np.array(list(glm_data['Relief']['aic'].values()))))\n",
    "print('glm6 aic sum',np.sum(np.array(list(glm_data['Regret+Relief']['aic'].values()))))\n",
    "print('glm7 aic sum',np.sum(np.array(list(glm_data['Full']['aic'].values()))))\n"
   ]
  },
  {
   "cell_type": "code",
   "execution_count": 194,
   "metadata": {},
   "outputs": [],
   "source": [
    "import pickle \n",
    "save_path = '/Users/alexandrafink/Documents/GraduateSchool/SaezLab/SWB/swb_computational_modeling/swb_behav_models/data/glm_data/'\n",
    "\n",
    "# create a binary pickle file \n",
    "f = open(f'{save_path}/glm_data_{date}.pkl',\"wb\")\n",
    "# # write the python object (dict) to pickle file\n",
    "pickle.dump(glm_data,f)\n",
    "# # close file\n",
    "f.close()\n",
    "\n",
    "# create a binary pickle file \n",
    "f = open(f'{save_path}/step1_data_{date}.pkl',\"wb\")\n",
    "# # write the python object (dict) to pickle file\n",
    "pickle.dump(step1_data,f)\n",
    "# # close file\n",
    "f.close()\n",
    "\n",
    "# create a binary pickle file \n",
    "f = open(f'{save_path}/step2_data_{date}.pkl',\"wb\")\n",
    "# # write the python object (dict) to pickle file\n",
    "pickle.dump(step2_data,f)\n",
    "# # close file\n",
    "f.close()"
   ]
  },
  {
   "cell_type": "code",
   "execution_count": 65,
   "metadata": {},
   "outputs": [],
   "source": [
    "import pickle \n",
    "save_path = '/Users/alexandrafink/Documents/GraduateSchool/SaezLab/SWB/swb_computational_modeling/swb_behav_models/data/glm_data/'\n",
    "\n",
    "# create a binary pickle file \n",
    "f = open(f'{save_path}/glm_optim_results_06192023.pkl',\"wb\")\n",
    "# # write the python object (dict) to pickle file\n",
    "pickle.dump(glm_results,f)\n",
    "# # close file\n",
    "f.close()\n",
    "\n",
    "# create a binary pickle file \n",
    "f = open(f'{save_path}/step1_optim_results_06192023.pkl',\"wb\")\n",
    "# # write the python object (dict) to pickle file\n",
    "pickle.dump(step1_results,f)\n",
    "# # close file\n",
    "f.close()\n",
    "\n",
    "# create a binary pickle file \n",
    "f = open(f'{save_path}/step2_optim_results_06192023.pkl',\"wb\")\n",
    "# # write the python object (dict) to pickle file\n",
    "pickle.dump(step2_results,f)\n",
    "# # close file\n",
    "f.close()"
   ]
  },
  {
   "attachments": {},
   "cell_type": "markdown",
   "metadata": {},
   "source": [
    "## Test Lambda Parameter"
   ]
  },
  {
   "cell_type": "code",
   "execution_count": 66,
   "metadata": {},
   "outputs": [],
   "source": [
    "glm1_vars = [\"cr(t-1)\",\"cr(t-2)\",\"cr(t-3)\",\"choice_ev(t-1)\",\"choice_ev(t-2)\",\"choice_ev(t-3)\",\"rpe(t-1)\",\"rpe(t-2)\",\"rpe(t-3)\"]\n",
    "glm2_vars = [\"cr(t-1)\",\"cr(t-2)\",\"cr(t-3)\",\"choice_ev(t-1)\",\"choice_ev(t-2)\",\"choice_ev(t-3)\",\"totalcpe(t-1)\",\"totalcpe(t-2)\",\"totalcpe(t-3)\"]\n",
    "glm3_vars = [\"cr(t-1)\",\"cr(t-2)\",\"cr(t-3)\",\"choice_ev(t-1)\",\"choice_ev(t-2)\",\"choice_ev(t-3)\",\"rpe(t-1)\",\"rpe(t-2)\",\"rpe(t-3)\",\"totalcpe(t-1)\",\"totalcpe(t-2)\",\"totalcpe(t-3)\"]\n",
    "glm4_vars = [\"cr(t-1)\",\"cr(t-2)\",\"cr(t-3)\",\"choice_ev(t-1)\",\"choice_ev(t-2)\",\"choice_ev(t-3)\",\"totalregret(t-1)\",\"totalregret(t-2)\",\"totalregret(t-3)\"]\n",
    "glm5_vars = [\"cr(t-1)\",\"cr(t-2)\",\"cr(t-3)\",\"choice_ev(t-1)\",\"choice_ev(t-2)\",\"choice_ev(t-3)\",\"totalrelief(t-1)\",\"totalrelief(t-2)\",\"totalrelief(t-3)\"]\n",
    "glm6_vars = [\"cr(t-1)\",\"cr(t-2)\",\"cr(t-3)\",\"choice_ev(t-1)\",\"choice_ev(t-2)\",\"choice_ev(t-3)\",\"totalregret(t-1)\",\"totalregret(t-2)\",\"totalregret(t-3)\",\"totalrelief(t-1)\",\"totalrelief(t-2)\",\"totalrelief(t-3)\"]\n",
    "glm7_vars = [\"cr(t-1)\",\"cr(t-2)\",\"cr(t-3)\",\"choice_ev(t-1)\",\"choice_ev(t-2)\",\"choice_ev(t-3)\",\"rpe(t-1)\",\"rpe(t-2)\",\"rpe(t-3)\",\"totalregret(t-1)\",\"totalregret(t-2)\",\"totalregret(t-3)\",\"totalrelief(t-1)\",\"totalrelief(t-2)\",\"totalrelief(t-3)\"]\n"
   ]
  },
  {
   "cell_type": "code",
   "execution_count": 67,
   "metadata": {},
   "outputs": [],
   "source": [
    "lam_test_results = {}\n",
    "\n",
    "lam_methods = ['exp','linear','none']\n",
    "\n",
    "for lam in lam_methods: \n",
    "    reg_list = glm4_vars #test multiple here \n",
    "    n_regs = int(len(reg_list)/3)\n",
    "    mood_est_df, optim_resid_df, optim_inits_df, param_fits_df, aic_dict,bic1_dict,bic2_dict, rsq_dict = \\\n",
    "    SWB_modeling_utils.run_swb(model_input, subj_ids, n_regs, reg_list,lam_method=lam)\n",
    "    \n",
    "    lam_test_results[lam] = {'mood_est': mood_est_df,\n",
    "                            'optim_residuals':optim_resid_df,\n",
    "                           'optim_inits': optim_inits_df,\n",
    "                           'param_fits': param_fits_df,\n",
    "                            'aics':aic_dict,\n",
    "                           'bics1': bic1_dict,\n",
    "                            'bics2': bic2_dict,\n",
    "                           'rsqs': rsq_dict\n",
    "                           }\n",
    "    \n",
    "    \n",
    "    \n",
    "\n"
   ]
  },
  {
   "cell_type": "code",
   "execution_count": 68,
   "metadata": {},
   "outputs": [],
   "source": [
    "### use optimal parameters to run model \n",
    "\n",
    "lam_methods = ['exp','linear','none']\n",
    "lam_test_data = {}\n",
    "\n",
    "for lam in lam_methods: \n",
    "\n",
    "    reg_list = glm4_vars #test multiple here \n",
    "    n_regs = int(len(reg_list)/3)\n",
    "    params = lam_test_results[lam]['param_fits']\n",
    "\n",
    "    mood_est_df, resid_df, rss_dict, aic_dict, bic1_dict, bic2_dict, rsq_dict = \\\n",
    "    SWB_modeling_utils.fit_swb(model_input,subj_ids,params,n_regs,reg_list,lam_method=lam)\n",
    "    \n",
    "\n",
    "    lam_test_data[lam] = {'mood_est': mood_est_df,\n",
    "                            'residuals':resid_df,\n",
    "                           'rss': rss_dict,\n",
    "                            'aic':aic_dict,\n",
    "                           'bics1': bic1_dict,\n",
    "                            'bics2': bic2_dict,\n",
    "                           'rsqs': rsq_dict\n",
    "                           }\n"
   ]
  },
  {
   "cell_type": "code",
   "execution_count": 69,
   "metadata": {},
   "outputs": [
    {
     "name": "stdout",
     "output_type": "stream",
     "text": [
      "best model bic for  DA8 is exp -52.99456531428546\n",
      "best model rsq for  DA8 is exp -0.18641173422806379\n",
      "best model bic for  DA9 is exp -169.10577984002543\n",
      "best model rsq for  DA9 is exp -0.02612993830642729\n",
      "best model bic for  DA10 is none -170.80690453348296\n",
      "best model rsq for  DA10 is none -0.023950287817578353\n",
      "best model bic for  DA11 is exp -239.13325235656305\n",
      "best model rsq for  DA11 is exp 0.05987267089153736\n",
      "best model bic for  DA023 is none -216.64597137384\n",
      "best model rsq for  DA023 is none 0.033071624619188444\n",
      "best model bic for  MS002 is exp -252.7876416582153\n",
      "best model rsq for  MS002 is exp 0.07578259019469713\n",
      "best model bic for  MS003 is linear -236.9615652750884\n",
      "best model rsq for  MS003 is linear 0.05731712583880999\n",
      "best model bic for  MS016 is exp -246.24166331648587\n",
      "best model rsq for  MS016 is exp 0.06818918219913217\n",
      "best model bic for  MS017 is exp -157.59392507450966\n",
      "best model rsq for  MS017 is exp -0.041002512015781756\n",
      "best model bic for  MS019 is none -118.78893814668814\n",
      "best model rsq for  MS019 is none -0.09274233067897719\n",
      "best model bic for  MS022 is linear -210.09606708142596\n",
      "best model rsq for  MS022 is linear 0.025122517446192427\n",
      "best model bic for  MS025 is none -155.1943111288803\n",
      "best model rsq for  MS025 is none -0.04412970488749046\n",
      "best model bic for  MS026 is none -201.5644236266207\n",
      "best model rsq for  MS026 is none 0.01467024824685803\n",
      "best model bic for  MS027 is exp -222.60805161120072\n",
      "best model rsq for  MS027 is exp 0.04025096969270692\n",
      "best model bic for  MS029 is linear -222.44260043360248\n",
      "best model rsq for  MS029 is linear 0.04005245965701054\n",
      "best model bic for  MS030 is none -191.3326200226004\n",
      "best model rsq for  MS030 is none 0.001987188896165004\n"
     ]
    }
   ],
   "source": [
    "for ix,s in enumerate(subj_ids):\n",
    "    best_bic = np.inf\n",
    "    best_rsq = -np.inf\n",
    "    best_model_bic = []\n",
    "    best_model_rsq = []\n",
    "    for lam in lam_methods: \n",
    "        bic = lam_test_data[lam]['bics1'][s]\n",
    "        rsq = lam_test_data[lam]['rsqs'][s]\n",
    "        if bic<best_bic:\n",
    "            best_bic = bic \n",
    "            best_model_bic = lam\n",
    "        if rsq>best_rsq:\n",
    "            best_rsq=rsq\n",
    "            best_model_rsq = lam\n",
    "        \n",
    "    print('best model bic for ',s,'is',best_model_bic,best_bic)\n",
    "    print('best model rsq for ',s,'is',best_model_rsq,best_rsq)"
   ]
  },
  {
   "cell_type": "code",
   "execution_count": 70,
   "metadata": {},
   "outputs": [
    {
     "name": "stdout",
     "output_type": "stream",
     "text": [
      "exp bic1 mean -167.39151953582365\n",
      "linear bic1 mean -172.79526560093996\n",
      "none bic1 mean -160.14524497502163\n"
     ]
    }
   ],
   "source": [
    "print('exp bic1 mean',np.mean(np.array(list(lam_test_data['exp']['bics1'].values()))))\n",
    "print('linear bic1 mean',np.mean(np.array(list(lam_test_data['linear']['bics1'].values()))))\n",
    "print('none bic1 mean',np.mean(np.array(list(lam_test_data['none']['bics1'].values()))))\n"
   ]
  },
  {
   "cell_type": "code",
   "execution_count": 71,
   "metadata": {},
   "outputs": [
    {
     "name": "stdout",
     "output_type": "stream",
     "text": [
      "exp bic2 mean 33.92509508377504\n",
      "linear bic2 mean 33.93860444893783\n",
      "none bic2 mean 33.906979397373036\n"
     ]
    }
   ],
   "source": [
    "print('exp bic2 mean',np.mean(np.array(list(lam_test_data['exp']['bics2'].values()))))\n",
    "print('linear bic2 mean',np.mean(np.array(list(lam_test_data['linear']['bics2'].values()))))\n",
    "print('none bic2 mean',np.mean(np.array(list(lam_test_data['none']['bics2'].values()))))\n"
   ]
  },
  {
   "cell_type": "code",
   "execution_count": 72,
   "metadata": {},
   "outputs": [
    {
     "name": "stdout",
     "output_type": "stream",
     "text": [
      "exp aic mean -190.81457817416327\n",
      "linear aic mean -196.21832423927958\n",
      "none aic mean -183.56830361336125\n"
     ]
    }
   ],
   "source": [
    "print('exp aic mean',np.mean(np.array(list(lam_test_data['exp']['aic'].values()))))\n",
    "print('linear aic mean',np.mean(np.array(list(lam_test_data['linear']['aic'].values()))))\n",
    "print('none aic mean',np.mean(np.array(list(lam_test_data['none']['aic'].values()))))\n"
   ]
  },
  {
   "cell_type": "code",
   "execution_count": 73,
   "metadata": {},
   "outputs": [
    {
     "name": "stdout",
     "output_type": "stream",
     "text": [
      "exp rsq mean -0.0320989749593319\n",
      "linear rsq mean -0.025292817975624104\n",
      "none rsq mean -0.04123702746933431\n"
     ]
    }
   ],
   "source": [
    "print('exp rsq mean',np.mean(np.array(list(lam_test_data['exp']['rsqs'].values()))))\n",
    "print('linear rsq mean',np.mean(np.array(list(lam_test_data['linear']['rsqs'].values()))))\n",
    "print('none rsq mean',np.mean(np.array(list(lam_test_data['none']['rsqs'].values()))))"
   ]
  },
  {
   "attachments": {},
   "cell_type": "markdown",
   "metadata": {},
   "source": [
    "Best fitting lambda for regret model (glm4) is exponential lambda - will keep exponential lambda for now\n",
    "\n",
    "\n",
    "RPE (glm1) best fitting lambda is none\n",
    "CPE (glm2) best fitting lambda is tie between exponential and linear\n",
    "RPE/CPE (glm3) best fitting lambda is none\n",
    "Regret (glm4) best fitting lambda is exponential (close to linear)\n",
    "Relief (glm5) best fitting lambda is none\n",
    "Reg/Rel (glm6) best fitting lambda is tie between exponential and linear\n",
    "Full (glm7) best fitting lambda is none "
   ]
  },
  {
   "attachments": {},
   "cell_type": "markdown",
   "metadata": {},
   "source": [
    "## BDI Comparison"
   ]
  },
  {
   "cell_type": "code",
   "execution_count": 94,
   "metadata": {},
   "outputs": [],
   "source": [
    "bdi_list = pd.read_excel(f'{swb_dir}SWB_subjects.xlsx', sheet_name='Usable_Subjects', usecols=[4])\n",
    "bdi_list = list(bdi_list.SWB_BDI)"
   ]
  },
  {
   "cell_type": "code",
   "execution_count": 95,
   "metadata": {},
   "outputs": [
    {
     "data": {
      "text/plain": [
       "[13, 32, 11, 41, 14, 14, 8, 10, 26, 12, 10, 7, 11, 22, 32, 19]"
      ]
     },
     "execution_count": 95,
     "metadata": {},
     "output_type": "execute_result"
    }
   ],
   "source": [
    "bdi_list"
   ]
  },
  {
   "cell_type": "code",
   "execution_count": 96,
   "metadata": {},
   "outputs": [
    {
     "data": {
      "text/plain": [
       "[('DA8', 13),\n",
       " ('DA9', 32),\n",
       " ('DA10', 11),\n",
       " ('DA11', 41),\n",
       " ('DA023', 14),\n",
       " ('MS002', 14),\n",
       " ('MS003', 8),\n",
       " ('MS016', 10),\n",
       " ('MS017', 26),\n",
       " ('MS019', 12),\n",
       " ('MS022', 10),\n",
       " ('MS025', 7),\n",
       " ('MS026', 11),\n",
       " ('MS027', 22),\n",
       " ('MS029', 32),\n",
       " ('MS030', 19)]"
      ]
     },
     "execution_count": 96,
     "metadata": {},
     "output_type": "execute_result"
    }
   ],
   "source": [
    "list(zip(subj_ids,bdi_list))"
   ]
  },
  {
   "cell_type": "code",
   "execution_count": 97,
   "metadata": {},
   "outputs": [],
   "source": [
    "dep_subj = []\n",
    "nodep_subj = []\n",
    "\n",
    "for s,b in list(zip(subj_ids,bdi_list)):\n",
    "    if b > 20:\n",
    "        dep_subj.append(s)\n",
    "    else:\n",
    "        nodep_subj.append(s)\n",
    "        "
   ]
  },
  {
   "cell_type": "code",
   "execution_count": 98,
   "metadata": {},
   "outputs": [],
   "source": [
    "\n",
    "# import pickle\n",
    "# with open('/Users/alexandrafink/Documents/GraduateSchool/SaezLab/SWB/swb_computational_modeling/swb_behav_models/data/glm_data/glm_optim_results_06192023.pkl', 'rb') as f:\n",
    "#   glm_results = pickle.load(f)"
   ]
  },
  {
   "cell_type": "code",
   "execution_count": 99,
   "metadata": {},
   "outputs": [],
   "source": [
    "cpe_fits = glm_results['CPE']['param_fits'] #CR/EV/CPE\n",
    "cpe_rpe_fits = glm_results['CPE+RPE']['param_fits'] #CR/EV/RPE/CPE\n",
    "regret_fits = glm_results['Regret']['param_fits'] #CR/EV/Reg\n",
    "relief_fits = glm_results['Relief']['param_fits'] #CR/EV/Rel\n",
    "full_fits = glm_results['Full']['param_fits'] #CR/EV/RPE/Reg/Rel\n",
    "#2 = 'CPE', 3 = 'CPE+RPE', 4 = 'Regret', 5 = 'Relief', 7 = 'Full'"
   ]
  },
  {
   "cell_type": "code",
   "execution_count": 100,
   "metadata": {},
   "outputs": [
    {
     "data": {
      "text/html": [
       "<div>\n",
       "<style scoped>\n",
       "    .dataframe tbody tr th:only-of-type {\n",
       "        vertical-align: middle;\n",
       "    }\n",
       "\n",
       "    .dataframe tbody tr th {\n",
       "        vertical-align: top;\n",
       "    }\n",
       "\n",
       "    .dataframe thead th {\n",
       "        text-align: right;\n",
       "    }\n",
       "</style>\n",
       "<table border=\"1\" class=\"dataframe\">\n",
       "  <thead>\n",
       "    <tr style=\"text-align: right;\">\n",
       "      <th></th>\n",
       "      <th>DA8</th>\n",
       "      <th>DA9</th>\n",
       "      <th>DA10</th>\n",
       "      <th>DA11</th>\n",
       "      <th>DA023</th>\n",
       "      <th>MS002</th>\n",
       "      <th>MS003</th>\n",
       "      <th>MS016</th>\n",
       "      <th>MS017</th>\n",
       "      <th>MS019</th>\n",
       "      <th>MS022</th>\n",
       "      <th>MS025</th>\n",
       "      <th>MS026</th>\n",
       "      <th>MS027</th>\n",
       "      <th>MS029</th>\n",
       "      <th>MS030</th>\n",
       "    </tr>\n",
       "  </thead>\n",
       "  <tbody>\n",
       "    <tr>\n",
       "      <th>0</th>\n",
       "      <td>0.207698</td>\n",
       "      <td>0.110147</td>\n",
       "      <td>0.252514</td>\n",
       "      <td>8.707409e-24</td>\n",
       "      <td>4.413048e-22</td>\n",
       "      <td>0.404336</td>\n",
       "      <td>7.377239e-20</td>\n",
       "      <td>0.302076</td>\n",
       "      <td>0.307592</td>\n",
       "      <td>0.210258</td>\n",
       "      <td>1.169983e-16</td>\n",
       "      <td>0.273110</td>\n",
       "      <td>1.000000</td>\n",
       "      <td>0.196704</td>\n",
       "      <td>0.450679</td>\n",
       "      <td>5.567394e-19</td>\n",
       "    </tr>\n",
       "    <tr>\n",
       "      <th>1</th>\n",
       "      <td>0.167967</td>\n",
       "      <td>0.261357</td>\n",
       "      <td>0.494597</td>\n",
       "      <td>2.845186e-01</td>\n",
       "      <td>-1.602330e-01</td>\n",
       "      <td>0.229137</td>\n",
       "      <td>9.330817e-02</td>\n",
       "      <td>0.166149</td>\n",
       "      <td>0.633060</td>\n",
       "      <td>0.357592</td>\n",
       "      <td>1.891494e-01</td>\n",
       "      <td>0.097366</td>\n",
       "      <td>0.322730</td>\n",
       "      <td>0.097702</td>\n",
       "      <td>0.264393</td>\n",
       "      <td>8.058646e-02</td>\n",
       "    </tr>\n",
       "    <tr>\n",
       "      <th>2</th>\n",
       "      <td>-0.442702</td>\n",
       "      <td>-0.467426</td>\n",
       "      <td>0.545103</td>\n",
       "      <td>1.017529e+00</td>\n",
       "      <td>1.793029e-01</td>\n",
       "      <td>-0.024881</td>\n",
       "      <td>3.380955e-01</td>\n",
       "      <td>0.068245</td>\n",
       "      <td>0.661610</td>\n",
       "      <td>-0.858645</td>\n",
       "      <td>-6.240938e-02</td>\n",
       "      <td>0.813583</td>\n",
       "      <td>0.349782</td>\n",
       "      <td>-0.136567</td>\n",
       "      <td>0.589478</td>\n",
       "      <td>2.303231e-01</td>\n",
       "    </tr>\n",
       "    <tr>\n",
       "      <th>3</th>\n",
       "      <td>1.132860</td>\n",
       "      <td>0.980653</td>\n",
       "      <td>0.774211</td>\n",
       "      <td>5.695769e-01</td>\n",
       "      <td>5.011222e-01</td>\n",
       "      <td>0.571289</td>\n",
       "      <td>2.804920e-01</td>\n",
       "      <td>0.425984</td>\n",
       "      <td>0.322349</td>\n",
       "      <td>0.282065</td>\n",
       "      <td>8.514756e-01</td>\n",
       "      <td>-0.345489</td>\n",
       "      <td>-0.000556</td>\n",
       "      <td>0.411447</td>\n",
       "      <td>0.654152</td>\n",
       "      <td>-6.612919e-02</td>\n",
       "    </tr>\n",
       "    <tr>\n",
       "      <th>4</th>\n",
       "      <td>0.456865</td>\n",
       "      <td>0.508892</td>\n",
       "      <td>0.658729</td>\n",
       "      <td>4.648101e-01</td>\n",
       "      <td>-1.760625e-01</td>\n",
       "      <td>0.205012</td>\n",
       "      <td>3.984895e-01</td>\n",
       "      <td>0.332438</td>\n",
       "      <td>0.703071</td>\n",
       "      <td>0.295205</td>\n",
       "      <td>5.569215e-01</td>\n",
       "      <td>0.052769</td>\n",
       "      <td>0.120014</td>\n",
       "      <td>0.028996</td>\n",
       "      <td>0.142801</td>\n",
       "      <td>-9.702137e-02</td>\n",
       "    </tr>\n",
       "  </tbody>\n",
       "</table>\n",
       "</div>"
      ],
      "text/plain": [
       "        DA8       DA9      DA10          DA11         DA023     MS002  \\\n",
       "0  0.207698  0.110147  0.252514  8.707409e-24  4.413048e-22  0.404336   \n",
       "1  0.167967  0.261357  0.494597  2.845186e-01 -1.602330e-01  0.229137   \n",
       "2 -0.442702 -0.467426  0.545103  1.017529e+00  1.793029e-01 -0.024881   \n",
       "3  1.132860  0.980653  0.774211  5.695769e-01  5.011222e-01  0.571289   \n",
       "4  0.456865  0.508892  0.658729  4.648101e-01 -1.760625e-01  0.205012   \n",
       "\n",
       "          MS003     MS016     MS017     MS019         MS022     MS025  \\\n",
       "0  7.377239e-20  0.302076  0.307592  0.210258  1.169983e-16  0.273110   \n",
       "1  9.330817e-02  0.166149  0.633060  0.357592  1.891494e-01  0.097366   \n",
       "2  3.380955e-01  0.068245  0.661610 -0.858645 -6.240938e-02  0.813583   \n",
       "3  2.804920e-01  0.425984  0.322349  0.282065  8.514756e-01 -0.345489   \n",
       "4  3.984895e-01  0.332438  0.703071  0.295205  5.569215e-01  0.052769   \n",
       "\n",
       "      MS026     MS027     MS029         MS030  \n",
       "0  1.000000  0.196704  0.450679  5.567394e-19  \n",
       "1  0.322730  0.097702  0.264393  8.058646e-02  \n",
       "2  0.349782 -0.136567  0.589478  2.303231e-01  \n",
       "3 -0.000556  0.411447  0.654152 -6.612919e-02  \n",
       "4  0.120014  0.028996  0.142801 -9.702137e-02  "
      ]
     },
     "execution_count": 100,
     "metadata": {},
     "output_type": "execute_result"
    }
   ],
   "source": [
    "cpe_fits"
   ]
  },
  {
   "cell_type": "code",
   "execution_count": 101,
   "metadata": {},
   "outputs": [],
   "source": [
    "cpe_betas = cpe_fits.iloc[-1]\n",
    "regret_betas = regret_fits.iloc[-1]\n",
    "relief_betas = relief_fits.iloc[-1]\n",
    "full_regret_betas = full_fits.iloc[-2]\n",
    "full_relief_betas = full_fits.iloc[-1]\n",
    "full_rpe_betas = full_fits.iloc[-3]"
   ]
  },
  {
   "cell_type": "code",
   "execution_count": 102,
   "metadata": {},
   "outputs": [
    {
     "data": {
      "text/plain": [
       "[('DA8', 0.45686501103340915, 13),\n",
       " ('DA9', 0.5088924457742888, 32),\n",
       " ('DA10', 0.6587291961316089, 11),\n",
       " ('DA11', 0.46481007157122733, 41),\n",
       " ('DA023', -0.1760625297369702, 14),\n",
       " ('MS002', 0.20501191132244492, 14),\n",
       " ('MS003', 0.3984895322335867, 8),\n",
       " ('MS016', 0.3324379570571256, 10),\n",
       " ('MS017', 0.7030712246985824, 26),\n",
       " ('MS019', 0.2952052098931542, 12),\n",
       " ('MS022', 0.5569214610136025, 10),\n",
       " ('MS025', 0.052769193875124625, 7),\n",
       " ('MS026', 0.12001369191861884, 11),\n",
       " ('MS027', 0.028995713440383094, 22),\n",
       " ('MS029', 0.1428012978922713, 32),\n",
       " ('MS030', -0.09702136979114558, 19)]"
      ]
     },
     "execution_count": 102,
     "metadata": {},
     "output_type": "execute_result"
    }
   ],
   "source": [
    "list(zip(subj_ids,cpe_betas,bdi_list))"
   ]
  },
  {
   "cell_type": "code",
   "execution_count": 103,
   "metadata": {},
   "outputs": [],
   "source": [
    "x = bdi_list\n",
    "cpe_y = cpe_betas"
   ]
  },
  {
   "cell_type": "code",
   "execution_count": 104,
   "metadata": {},
   "outputs": [
    {
     "data": {
      "text/plain": [
       "<matplotlib.collections.PathCollection at 0x13604c410>"
      ]
     },
     "execution_count": 104,
     "metadata": {},
     "output_type": "execute_result"
    },
    {
     "data": {
      "image/png": "[encoded data removed]",
      "text/plain": [
       "<Figure size 640x480 with 1 Axes>"
      ]
     },
     "metadata": {},
     "output_type": "display_data"
    }
   ],
   "source": [
    "plt.scatter(x,cpe_y)"
   ]
  },
  {
   "cell_type": "code",
   "execution_count": 105,
   "metadata": {},
   "outputs": [
    {
     "data": {
      "text/plain": [
       "<matplotlib.collections.PathCollection at 0x1362d4a10>"
      ]
     },
     "execution_count": 105,
     "metadata": {},
     "output_type": "execute_result"
    },
    {
     "data": {
      "image/png": "[encoded data removed]",
      "text/plain": [
       "<Figure size 640x480 with 1 Axes>"
      ]
     },
     "metadata": {},
     "output_type": "display_data"
    }
   ],
   "source": [
    "plt.scatter(x,regret_betas)"
   ]
  },
  {
   "cell_type": "code",
   "execution_count": 106,
   "metadata": {},
   "outputs": [
    {
     "data": {
      "text/plain": [
       "<matplotlib.collections.PathCollection at 0x136fcc150>"
      ]
     },
     "execution_count": 106,
     "metadata": {},
     "output_type": "execute_result"
    },
    {
     "data": {
      "image/png": "[encoded data removed]",
      "text/plain": [
       "<Figure size 640x480 with 1 Axes>"
      ]
     },
     "metadata": {},
     "output_type": "display_data"
    }
   ],
   "source": [
    "plt.scatter(x,relief_betas)"
   ]
  },
  {
   "cell_type": "code",
   "execution_count": 107,
   "metadata": {},
   "outputs": [],
   "source": [
    "dep_regret_betas = regret_fits[dep_subj].iloc[-1]\n",
    "nodep_regret_betas = regret_fits[nodep_subj].iloc[-1]\n",
    "\n",
    "dep_cpe_betas = cpe_fits[dep_subj].iloc[-1]\n",
    "nodep_cpe_betas = cpe_fits[nodep_subj].iloc[-1]\n",
    "\n",
    "dep_relief_betas = relief_fits[dep_subj].iloc[-1]\n",
    "nodep_relief_betas = relief_fits[nodep_subj].iloc[-1]\n",
    "\n",
    "dep_full_regret_betas = full_fits[dep_subj].iloc[-2]\n",
    "nodep_full_regret_betas = full_fits[nodep_subj].iloc[-2]\n",
    "\n",
    "dep_full_relief_betas = full_fits[dep_subj].iloc[-1]\n",
    "nodep_full_relief_betas = full_fits[nodep_subj].iloc[-1]\n",
    "\n",
    "dep_full_rpe_betas = full_fits[dep_subj].iloc[-3]\n",
    "nodep_full_rpe_betas = full_fits[nodep_subj].iloc[-3]\n"
   ]
  },
  {
   "cell_type": "code",
   "execution_count": 108,
   "metadata": {},
   "outputs": [
    {
     "data": {
      "text/plain": [
       "Ttest_indResult(statistic=0.5432402164654145, pvalue=0.6000214304533696)"
      ]
     },
     "execution_count": 108,
     "metadata": {},
     "output_type": "execute_result"
    }
   ],
   "source": [
    "import scipy.stats as stats\n",
    "stats.ttest_ind(dep_regret_betas, nodep_regret_betas, equal_var=False)\n"
   ]
  },
  {
   "cell_type": "code",
   "execution_count": 109,
   "metadata": {},
   "outputs": [
    {
     "data": {
      "text/plain": [
       "Ttest_indResult(statistic=0.7802967796339095, pvalue=0.45925297771105256)"
      ]
     },
     "execution_count": 109,
     "metadata": {},
     "output_type": "execute_result"
    }
   ],
   "source": [
    "stats.ttest_ind(dep_cpe_betas, nodep_cpe_betas, equal_var=False)\n"
   ]
  },
  {
   "cell_type": "code",
   "execution_count": 110,
   "metadata": {},
   "outputs": [
    {
     "data": {
      "text/plain": [
       "Ttest_indResult(statistic=0.028189275038133454, pvalue=0.9783948516446517)"
      ]
     },
     "execution_count": 110,
     "metadata": {},
     "output_type": "execute_result"
    }
   ],
   "source": [
    "stats.ttest_ind(dep_relief_betas, nodep_relief_betas, equal_var=False)\n"
   ]
  },
  {
   "cell_type": "code",
   "execution_count": 111,
   "metadata": {},
   "outputs": [
    {
     "data": {
      "text/plain": [
       "Ttest_indResult(statistic=1.524701829358518, pvalue=0.16625233011233456)"
      ]
     },
     "execution_count": 111,
     "metadata": {},
     "output_type": "execute_result"
    }
   ],
   "source": [
    "stats.ttest_ind(dep_full_regret_betas, nodep_full_regret_betas, equal_var=False)\n"
   ]
  },
  {
   "cell_type": "code",
   "execution_count": 112,
   "metadata": {},
   "outputs": [
    {
     "data": {
      "text/plain": [
       "Ttest_indResult(statistic=-0.1264751344389692, pvalue=0.901349592559612)"
      ]
     },
     "execution_count": 112,
     "metadata": {},
     "output_type": "execute_result"
    }
   ],
   "source": [
    "stats.ttest_ind(dep_full_relief_betas, nodep_full_relief_betas, equal_var=False)\n"
   ]
  },
  {
   "cell_type": "code",
   "execution_count": 113,
   "metadata": {},
   "outputs": [
    {
     "data": {
      "text/plain": [
       "Ttest_indResult(statistic=-1.4441534556894007, pvalue=0.17849490475536922)"
      ]
     },
     "execution_count": 113,
     "metadata": {},
     "output_type": "execute_result"
    }
   ],
   "source": [
    "stats.ttest_ind(dep_full_rpe_betas, nodep_full_rpe_betas, equal_var=False)\n"
   ]
  },
  {
   "attachments": {},
   "cell_type": "markdown",
   "metadata": {},
   "source": [
    "## Prospect Theory GLMs\n",
    "\n",
    "PT models - \n",
    "\n",
    "1) PT (Util_s+Util_g) *validate this is better than Rutledge EV (PT1)\n",
    "2) RPE PT (Util_s+Util_g+RPE)\n",
    "3) CPE PT (Util_s+Util_g+tCPE) *tCPE always now\n",
    "4) CPE+RPE PT (Util_s+Util_g+RPE+tCPE) \n",
    "5) Regret PT (Util_s+Util_g+tRegret) *omit RPE if model 4 > model 5\n",
    "6) Relief PT (Util_s+Util_g+tRelief) *omit RPE if model 4 > model 5\n",
    "7) Regret/Relief PT (Util_s+Util_g+tRegret+tRelief) \n",
    "8) RPE Regret (Util_s+Util_g+RPE+tRegret)\n",
    "9) RPE Relief (Util_s+Util_g+RPE+tRelief)\n",
    "10) RPE Regret/Relief PT (Util_s+Util_g+RPE+tRegret+tRelief) \n",
    "\n",
    "GLM Comparison - \n",
    "\n",
    "1) Rutledge EV (CR+EV)\n",
    "2) RPE (CR+EV+RPE)\n",
    "3) Counterfactual (CR+EV+tCPE) \n",
    "4) Counterfactual+RPE (CR+EV+RPE+tCPE)\n",
    "5) Regret (CR+EV+regret) \n",
    "6) Relief (CR+EV+relief)\n",
    "7) Regret/Relief (CR+EV+regret+relief)\n",
    "8) RPE/Regret (CR+EV+RPE+Regret)\n",
    "9) RPE/Relief (CR+EV+RPE+Relief)\n",
    "10) RPE/Regret/Relief (CR+EV+RPE+regret+relief)\n"
   ]
  },
  {
   "cell_type": "code",
   "execution_count": 116,
   "metadata": {},
   "outputs": [],
   "source": [
    "pt1_vars = [\"util_s(t-1)\",\"util_s(t-2)\",\"util_s(t-3)\",\"util_g(t-1)\",\"util_g(t-2)\",\"util_g(t-3)\"]\n",
    "pt2_vars = [\"util_s(t-1)\",\"util_s(t-2)\",\"util_s(t-3)\",\"util_g(t-1)\",\"util_g(t-2)\",\"util_g(t-3)\",\"rpe(t-1)\",\"rpe(t-2)\",\"rpe(t-3)\"]\n",
    "pt3_vars = [\"util_s(t-1)\",\"util_s(t-2)\",\"util_s(t-3)\",\"util_g(t-1)\",\"util_g(t-2)\",\"util_g(t-3)\",\"totalcpe(t-1)\",\"totalcpe(t-2)\",\"totalcpe(t-3)\"]\n",
    "pt4_vars = [\"util_s(t-1)\",\"util_s(t-2)\",\"util_s(t-3)\",\"util_g(t-1)\",\"util_g(t-2)\",\"util_g(t-3)\",\"rpe(t-1)\",\"rpe(t-2)\",\"rpe(t-3)\",\"totalcpe(t-1)\",\"totalcpe(t-2)\",\"totalcpe(t-3)\"]\n",
    "pt5_vars = [\"util_s(t-1)\",\"util_s(t-2)\",\"util_s(t-3)\",\"util_g(t-1)\",\"util_g(t-2)\",\"util_g(t-3)\",\"totalregret(t-1)\",\"totalregret(t-2)\",\"totalregret(t-3)\"]\n",
    "pt6_vars = [\"util_s(t-1)\",\"util_s(t-2)\",\"util_s(t-3)\",\"util_g(t-1)\",\"util_g(t-2)\",\"util_g(t-3)\",\"totalrelief(t-1)\",\"totalrelief(t-2)\",\"totalrelief(t-3)\"]\n",
    "pt7_vars = [\"util_s(t-1)\",\"util_s(t-2)\",\"util_s(t-3)\",\"util_g(t-1)\",\"util_g(t-2)\",\"util_g(t-3)\",\"totalregret(t-1)\",\"totalregret(t-2)\",\"totalregret(t-3)\",\"totalrelief(t-1)\",\"totalrelief(t-2)\",\"totalrelief(t-3)\"]\n",
    "pt8_vars = [\"util_s(t-1)\",\"util_s(t-2)\",\"util_s(t-3)\",\"util_g(t-1)\",\"util_g(t-2)\",\"util_g(t-3)\",\"rpe(t-1)\",\"rpe(t-2)\",\"rpe(t-3)\",\"totalregret(t-1)\",\"totalregret(t-2)\",\"totalregret(t-3)\"]\n",
    "pt9_vars = [\"util_s(t-1)\",\"util_s(t-2)\",\"util_s(t-3)\",\"util_g(t-1)\",\"util_g(t-2)\",\"util_g(t-3)\",\"rpe(t-1)\",\"rpe(t-2)\",\"rpe(t-3)\",\"totalrelief(t-1)\",\"totalrelief(t-2)\",\"totalrelief(t-3)\"]\n",
    "pt10_vars = [\"util_s(t-1)\",\"util_s(t-2)\",\"util_s(t-3)\",\"util_g(t-1)\",\"util_g(t-2)\",\"util_g(t-3)\",\"rpe(t-1)\",\"rpe(t-2)\",\"rpe(t-3)\",\"totalregret(t-1)\",\"totalregret(t-2)\",\"totalregret(t-3)\",\"totalrelief(t-1)\",\"totalrelief(t-2)\",\"totalrelief(t-3)\"]\n",
    "\n",
    "\n",
    "glm1_vars = [\"cr(t-1)\",\"cr(t-2)\",\"cr(t-3)\",\"choice_ev(t-1)\",\"choice_ev(t-2)\",\"choice_ev(t-3)\"]\n",
    "glm2_vars = [\"cr(t-1)\",\"cr(t-2)\",\"cr(t-3)\",\"choice_ev(t-1)\",\"choice_ev(t-2)\",\"choice_ev(t-3)\",\"rpe(t-1)\",\"rpe(t-2)\",\"rpe(t-3)\"]\n",
    "glm3_vars = [\"cr(t-1)\",\"cr(t-2)\",\"cr(t-3)\",\"choice_ev(t-1)\",\"choice_ev(t-2)\",\"choice_ev(t-3)\",\"totalcpe(t-1)\",\"totalcpe(t-2)\",\"totalcpe(t-3)\"]\n",
    "glm4_vars = [\"cr(t-1)\",\"cr(t-2)\",\"cr(t-3)\",\"choice_ev(t-1)\",\"choice_ev(t-2)\",\"choice_ev(t-3)\",\"rpe(t-1)\",\"rpe(t-2)\",\"rpe(t-3)\",\"totalcpe(t-1)\",\"totalcpe(t-2)\",\"totalcpe(t-3)\"]\n",
    "glm5_vars = [\"cr(t-1)\",\"cr(t-2)\",\"cr(t-3)\",\"choice_ev(t-1)\",\"choice_ev(t-2)\",\"choice_ev(t-3)\",\"totalregret(t-1)\",\"totalregret(t-2)\",\"totalregret(t-3)\"]\n",
    "glm6_vars = [\"cr(t-1)\",\"cr(t-2)\",\"cr(t-3)\",\"choice_ev(t-1)\",\"choice_ev(t-2)\",\"choice_ev(t-3)\",\"totalrelief(t-1)\",\"totalrelief(t-2)\",\"totalrelief(t-3)\"]\n",
    "glm7_vars = [\"cr(t-1)\",\"cr(t-2)\",\"cr(t-3)\",\"choice_ev(t-1)\",\"choice_ev(t-2)\",\"choice_ev(t-3)\",\"totalregret(t-1)\",\"totalregret(t-2)\",\"totalregret(t-3)\",\"totalrelief(t-1)\",\"totalrelief(t-2)\",\"totalrelief(t-3)\"]\n",
    "glm8_vars = [\"cr(t-1)\",\"cr(t-2)\",\"cr(t-3)\",\"choice_ev(t-1)\",\"choice_ev(t-2)\",\"choice_ev(t-3)\",\"rpe(t-1)\",\"rpe(t-2)\",\"rpe(t-3)\",\"totalregret(t-1)\",\"totalregret(t-2)\",\"totalregret(t-3)\"]\n",
    "glm9_vars = [\"cr(t-1)\",\"cr(t-2)\",\"cr(t-3)\",\"choice_ev(t-1)\",\"choice_ev(t-2)\",\"choice_ev(t-3)\",\"rpe(t-1)\",\"rpe(t-2)\",\"rpe(t-3)\",\"totalrelief(t-1)\",\"totalrelief(t-2)\",\"totalrelief(t-3)\"]\n",
    "glm10_vars = [\"cr(t-1)\",\"cr(t-2)\",\"cr(t-3)\",\"choice_ev(t-1)\",\"choice_ev(t-2)\",\"choice_ev(t-3)\",\"rpe(t-1)\",\"rpe(t-2)\",\"rpe(t-3)\",\"totalregret(t-1)\",\"totalregret(t-2)\",\"totalregret(t-3)\",\"totalrelief(t-1)\",\"totalrelief(t-2)\",\"totalrelief(t-3)\"]\n"
   ]
  },
  {
   "cell_type": "code",
   "execution_count": 117,
   "metadata": {},
   "outputs": [],
   "source": [
    "pt_glms_dict = {}\n",
    "pt_glms_dict['Util'] = pt1_vars\n",
    "pt_glms_dict['RPE'] = pt2_vars\n",
    "pt_glms_dict['CPE'] = pt3_vars\n",
    "pt_glms_dict['CPE_RPE'] = pt4_vars\n",
    "pt_glms_dict['UtilReg'] = pt5_vars\n",
    "pt_glms_dict['UtilRel'] = pt6_vars\n",
    "pt_glms_dict['Reg_Rel'] = pt7_vars\n",
    "pt_glms_dict['RPE_Reg'] = pt8_vars\n",
    "pt_glms_dict['RPE_Rel'] = pt9_vars\n",
    "pt_glms_dict['RPE_Reg_Rel'] = pt10_vars\n"
   ]
  },
  {
   "cell_type": "code",
   "execution_count": 118,
   "metadata": {},
   "outputs": [],
   "source": [
    "glms_dict = {}\n",
    "glms_dict['CR_EV'] = glm1_vars\n",
    "glms_dict['RPE'] = glm2_vars\n",
    "glms_dict['CPE'] = glm3_vars\n",
    "glms_dict['CPE_RPE'] = glm4_vars\n",
    "glms_dict['Regret'] = glm5_vars\n",
    "glms_dict['Relief'] = glm6_vars\n",
    "glms_dict['Regret_Relief'] = glm7_vars\n",
    "glms_dict['RPE_Reg'] = glm8_vars\n",
    "glms_dict['RPE_Rel'] = glm9_vars\n",
    "glms_dict['RPE_Reg_Rel'] = glm10_vars\n"
   ]
  },
  {
   "cell_type": "code",
   "execution_count": 119,
   "metadata": {},
   "outputs": [],
   "source": [
    "pt_list = ['Util','RPE','CPE','CPE_RPE','UtilReg','UtilRel','Reg_Rel','RPE_Reg','RPE_Rel','RPE_Reg_Rel']\n",
    "glms_list = ['CR_EV','RPE','CPE','CPE_RPE','Regret','Relief','Regret_Relief','RPE_Reg','RPE_Rel','RPE_Reg_Rel']\n"
   ]
  },
  {
   "cell_type": "code",
   "execution_count": 121,
   "metadata": {},
   "outputs": [],
   "source": [
    "#find optim PT params\n",
    "\n",
    "lam_method = 'exp'\n",
    "pt_results = {}\n",
    "\n",
    "for model in pt_list:\n",
    "\n",
    "    reg_list = pt_glms_dict[model]\n",
    "    n_regs = int(len(reg_list)/3)\n",
    "\n",
    "    mood_est_df, optim_resid_df, optim_inits_df, param_fits_df, aic_dict,bic1_dict,bic2_dict, rsq_dict = \\\n",
    "    SWB_modeling_utils.run_swb(model_input, subj_ids, n_regs, reg_list,lam_method)\n",
    "    \n",
    "\n",
    "    pt_results[model] = {'mood_est': mood_est_df,\n",
    "                            'optim_residuals':optim_resid_df,\n",
    "                           'optim_inits': optim_inits_df,\n",
    "                           'param_fits': param_fits_df,\n",
    "                            'aics':aic_dict,\n",
    "                           'bics1': bic1_dict,\n",
    "                            'bics2': bic2_dict,\n",
    "                           'rsqs': rsq_dict\n",
    "                           }"
   ]
  },
  {
   "cell_type": "code",
   "execution_count": 122,
   "metadata": {},
   "outputs": [],
   "source": [
    "\n",
    "lam_method = 'exp'\n",
    "glm_results = {}\n",
    "\n",
    "for model in glms_list:\n",
    "\n",
    "    reg_list = glms_dict[model]\n",
    "    n_regs = int(len(reg_list)/3)\n",
    "\n",
    "    mood_est_df, optim_resid_df, optim_inits_df, param_fits_df, aic_dict,bic1_dict,bic2_dict, rsq_dict = \\\n",
    "    SWB_modeling_utils.run_swb(model_input, subj_ids, n_regs, reg_list,lam_method)\n",
    "    \n",
    "\n",
    "    glm_results[model] = {'mood_est': mood_est_df,\n",
    "                            'optim_residuals':optim_resid_df,\n",
    "                           'optim_inits': optim_inits_df,\n",
    "                           'param_fits': param_fits_df,\n",
    "                            'aics':aic_dict,\n",
    "                           'bics1': bic1_dict,\n",
    "                            'bics2': bic2_dict,\n",
    "                           'rsqs': rsq_dict\n",
    "                           }"
   ]
  },
  {
   "cell_type": "code",
   "execution_count": 123,
   "metadata": {},
   "outputs": [],
   "source": [
    "### use optimal parameters to run model \n",
    "\n",
    "pt_list = ['Util','RPE','CPE','CPE_RPE','UtilReg','UtilRel','Reg_Rel','RPE_Reg','RPE_Rel','RPE_Reg_Rel']\n",
    "lam_method = 'exp'\n",
    "pt_data = {}\n",
    "\n",
    "for model in pt_list:\n",
    "\n",
    "    reg_list = pt_glms_dict[model]\n",
    "    n_regs = int(len(reg_list)/3)\n",
    "    params = pt_results[model]['param_fits']\n",
    "\n",
    "    mood_est_df, resid_df, rss_dict, aic_dict, bic1_dict, bic2_dict, rsq_dict = \\\n",
    "    SWB_modeling_utils.fit_swb(model_input,subj_ids,params,n_regs,reg_list,lam_method)\n",
    "    \n",
    "\n",
    "    pt_data[model] = {'mood_est': mood_est_df,\n",
    "                            'residuals':resid_df,\n",
    "                           'rss': rss_dict,\n",
    "                            'aic':aic_dict,\n",
    "                           'bics1': bic1_dict,\n",
    "                            'bics2': bic2_dict,\n",
    "                           'rsqs': rsq_dict\n",
    "                           }\n"
   ]
  },
  {
   "cell_type": "code",
   "execution_count": 124,
   "metadata": {},
   "outputs": [],
   "source": [
    "### use optimal parameters to run model \n",
    "\n",
    "glms_list = ['CR_EV','RPE','CPE','CPE_RPE','Regret','Relief','Regret_Relief','RPE_Reg','RPE_Rel','RPE_Reg_Rel']\n",
    "lam_method = 'exp'\n",
    "glm_data = {}\n",
    "\n",
    "for model in glms_list:\n",
    "\n",
    "    reg_list = glms_dict[model]\n",
    "    n_regs = int(len(reg_list)/3)\n",
    "    params = glm_results[model]['param_fits']\n",
    "\n",
    "    mood_est_df, resid_df, rss_dict, aic_dict, bic1_dict, bic2_dict, rsq_dict = \\\n",
    "    SWB_modeling_utils.fit_swb(model_input,subj_ids,params,n_regs,reg_list,lam_method)\n",
    "    \n",
    "\n",
    "    glm_data[model] = {'mood_est': mood_est_df,\n",
    "                            'residuals':resid_df,\n",
    "                           'rss': rss_dict,\n",
    "                            'aic':aic_dict,\n",
    "                           'bics1': bic1_dict,\n",
    "                            'bics2': bic2_dict,\n",
    "                           'rsqs': rsq_dict\n",
    "                           }\n"
   ]
  },
  {
   "cell_type": "code",
   "execution_count": 211,
   "metadata": {},
   "outputs": [
    {
     "data": {
      "text/plain": [
       "{'Util': {'mood_est':           DA8       DA9      DA10      DA11     DA023     MS002     MS003  \\\n",
       "  0   -0.037337 -2.506241 -1.627253 -2.554567 -0.240460 -0.400959  0.260496   \n",
       "  1   -0.010905 -0.252596 -1.471419 -1.929541 -0.617123 -0.138695 -0.710046   \n",
       "  2    0.253531  0.206992  1.019775  0.680199  0.313904  0.418772  0.028980   \n",
       "  3    0.024770  1.253870 -0.010358 -1.820611 -0.986637  0.517567 -1.460707   \n",
       "  4    0.083282 -0.383504 -2.023673 -0.455347 -0.011550 -0.543448 -0.140152   \n",
       "  ..        ...       ...       ...       ...       ...       ...       ...   \n",
       "  795  0.204125 -0.097468  0.254796  0.276926  0.259656  0.216892  0.086287   \n",
       "  796  0.125014  0.393410 -0.193669 -0.516660 -0.276096  0.114943 -0.621916   \n",
       "  797  0.151286  0.609643  0.211063 -0.294763 -0.251899  0.238563 -0.664267   \n",
       "  798  0.158195  0.297740  0.417972 -0.332730 -0.175520  0.276488 -0.502931   \n",
       "  799  0.151984  0.477648 -0.123483 -0.179908 -0.113269  0.181752 -0.444859   \n",
       "  \n",
       "          MS016     MS017     MS019     MS022     MS025     MS026     MS027  \\\n",
       "  0   -0.152552 -0.567947 -0.890591  0.671879  0.528722  0.657993 -1.057338   \n",
       "  1   -0.563674 -1.118882 -2.164643 -5.217214  0.041610 -0.313174 -0.385745   \n",
       "  2    0.057084  0.477186  0.333392  1.649412  0.203872  0.165643  0.388414   \n",
       "  3   -0.564612 -0.297147 -0.699102 -6.419252 -0.181957 -0.876012  0.710307   \n",
       "  4   -0.539007 -1.721994 -3.547828 -4.378875  0.083379 -0.058042 -1.001340   \n",
       "  ..        ...       ...       ...       ...       ...       ...       ...   \n",
       "  795 -0.091167 -0.088471 -0.700155  0.221459  0.176166  0.171134  0.124386   \n",
       "  796 -0.289025 -0.300825 -0.812639 -2.426782  0.082798 -0.264192 -0.060615   \n",
       "  797 -0.227669 -0.034134 -0.347080 -1.894613  0.077903 -0.290958  0.122081   \n",
       "  798 -0.120627  0.219254  0.148241 -0.548045  0.161469 -0.124087  0.133869   \n",
       "  799 -0.308035 -0.428546 -1.227894 -2.616566  0.028874 -0.230367  0.121972   \n",
       "  \n",
       "          MS029     MS030  \n",
       "  0   -0.854924  1.577016  \n",
       "  1   -1.583194  0.687062  \n",
       "  2    0.510922 -0.044404  \n",
       "  3   -1.050833  0.169751  \n",
       "  4   -1.731215  0.368816  \n",
       "  ..        ...       ...  \n",
       "  795 -0.061717  0.175453  \n",
       "  796 -0.572506  0.096738  \n",
       "  797 -0.305035 -0.030974  \n",
       "  798 -0.026453  0.086856  \n",
       "  799 -0.603068  0.053238  \n",
       "  \n",
       "  [800 rows x 16 columns],\n",
       "  'residuals':           DA8       DA9      DA10      DA11     DA023     MS002     MS003  \\\n",
       "  0   -1.119190  1.349714  0.470726  1.398040 -0.916067 -0.755568 -1.417023   \n",
       "  1    0.065239  0.306929  1.525753  1.983874  0.671457  0.193029  0.764379   \n",
       "  2    0.608043  0.654582 -0.158201  0.181375  0.547670  0.442802  0.832594   \n",
       "  3    1.644044  0.414944  1.679172  3.489425  2.655451  1.151247  3.129521   \n",
       "  4    1.787342  2.254129  3.894298  2.325971  1.882175  2.414073  2.010777   \n",
       "  ..        ...       ...       ...       ...       ...       ...       ...   \n",
       "  795  0.056974  0.358568  0.006304 -0.015827  0.001443  0.044207  0.174813   \n",
       "  796 -0.498013 -0.766409 -0.179330  0.143661 -0.096904 -0.487942  0.248917   \n",
       "  797 -0.524285 -0.982642 -0.584062 -0.078236 -0.121101 -0.611563  0.291268   \n",
       "  798  0.102904 -0.036641 -0.156873  0.593830  0.436619 -0.015389  0.764031   \n",
       "  799 -0.524983 -0.850648 -0.249516 -0.193091 -0.259730 -0.554751  0.071860   \n",
       "  \n",
       "          MS016     MS017     MS019     MS022     MS025     MS026     MS027  \\\n",
       "  0   -1.003975 -0.588580 -0.265936 -1.828406 -1.685249 -1.814520 -0.099189   \n",
       "  1    0.618007  1.173216  2.218977  5.271547  0.012724  0.367507  0.440078   \n",
       "  2    0.804490  0.384388  0.528182 -0.787839  0.657702  0.695931  0.473160   \n",
       "  3    2.233427  1.965961  2.367916  8.088066  1.850772  2.544826  0.958507   \n",
       "  4    2.409631  3.592618  5.418452  6.249499  1.787246  1.928666  2.871964   \n",
       "  ..        ...       ...       ...       ...       ...       ...       ...   \n",
       "  795  0.352266  0.349571  0.961255  0.039640  0.084934  0.089965  0.136714   \n",
       "  796 -0.083975 -0.072175  0.439640  2.053782 -0.455797 -0.108808 -0.312384   \n",
       "  797 -0.145330 -0.338865 -0.025919  1.521614 -0.450902 -0.082042 -0.495081   \n",
       "  798  0.381727  0.041845  0.112859  0.809144  0.099631  0.385187  0.127231   \n",
       "  799 -0.064965  0.055547  0.854895  2.243566 -0.401873 -0.142632 -0.494972   \n",
       "  \n",
       "          MS029     MS030  \n",
       "  0   -0.301603 -2.733543  \n",
       "  1    1.637527 -0.632729  \n",
       "  2    0.350652  0.905978  \n",
       "  3    2.719647  1.499063  \n",
       "  4    3.601839  1.501808  \n",
       "  ..        ...       ...  \n",
       "  795  0.322816  0.085647  \n",
       "  796  0.199507 -0.469737  \n",
       "  797 -0.067964 -0.342025  \n",
       "  798  0.287552  0.174244  \n",
       "  799  0.230069 -0.426238  \n",
       "  \n",
       "  [800 rows x 16 columns],\n",
       "  'rss': {'DA8': 612.3781392425951,\n",
       "   'DA9': 1248.5465779480342,\n",
       "   'DA10': 1377.6279620167481,\n",
       "   'DA11': 1235.4436031083844,\n",
       "   'DA023': 661.2095592348322,\n",
       "   'MS002': 711.8162009211446,\n",
       "   'MS003': 778.4995871007815,\n",
       "   'MS016': 634.18580515368,\n",
       "   'MS017': 943.7788239996308,\n",
       "   'MS019': 2072.802532336008,\n",
       "   'MS022': 11141.26625399308,\n",
       "   'MS025': 596.5822465663101,\n",
       "   'MS026': 637.8807254501236,\n",
       "   'MS027': 921.5660401472558,\n",
       "   'MS029': 1164.1372421055319,\n",
       "   'MS030': 696.204065334614},\n",
       "  'aic': {'DA8': -205.80940910568262,\n",
       "   'DA9': 364.09895078638937,\n",
       "   'DA10': 442.80536274459996,\n",
       "   'DA11': 355.65891976013694,\n",
       "   'DA023': -144.43272353809027,\n",
       "   'MS002': -85.4335954837777,\n",
       "   'MS003': -13.794613417555972,\n",
       "   'MS016': -177.81579848081364,\n",
       "   'MS017': 140.2240915322192,\n",
       "   'MS019': 769.6360986219332,\n",
       "   'MS022': 2115.039557342433,\n",
       "   'MS025': -226.7156909704544,\n",
       "   'MS026': -173.16833000458738,\n",
       "   'MS027': 121.17017023697223,\n",
       "   'MS029': 308.0990394096665,\n",
       "   'MS030': -103.17513039007557},\n",
       "  'bics1': {'DA8': -187.0709621950109,\n",
       "   'DA9': 382.8373976970611,\n",
       "   'DA10': 461.5438096552717,\n",
       "   'DA11': 374.39736667080865,\n",
       "   'DA023': -125.69427662741856,\n",
       "   'MS002': -66.69514857310598,\n",
       "   'MS003': 4.943833493115736,\n",
       "   'MS016': -159.07735157014193,\n",
       "   'MS017': 158.96253844289092,\n",
       "   'MS019': 788.3745455326049,\n",
       "   'MS022': 2133.778004253105,\n",
       "   'MS025': -207.9772440597827,\n",
       "   'MS026': -154.42988309391566,\n",
       "   'MS027': 139.90861714764392,\n",
       "   'MS029': 326.8374863203382,\n",
       "   'MS030': -84.43668347940385},\n",
       "  'bics2': {'DA8': 27.272970433435916,\n",
       "   'DA9': 25.848199533705735,\n",
       "   'DA10': 25.65143350381021,\n",
       "   'DA11': 25.869299611271366,\n",
       "   'DA023': 27.119528719516936,\n",
       "   'MS002': 26.972030899381153,\n",
       "   'MS003': 26.7929334442156,\n",
       "   'MS016': 27.20298640687374,\n",
       "   'MS017': 26.40788668184116,\n",
       "   'MS019': 24.834356664116875,\n",
       "   'MS022': 21.470848017315625,\n",
       "   'MS025': 27.325236138097843,\n",
       "   'MS026': 27.191367735683176,\n",
       "   'MS027': 26.455521485079277,\n",
       "   'MS029': 25.988199312147543,\n",
       "   'MS030': 27.0163847366469},\n",
       "  'rsqs': {'DA8': -0.011762309222222544,\n",
       "   'DA9': -1.0628306073084266,\n",
       "   'DA10': -1.2760970040881938,\n",
       "   'DA11': -1.041182061692739,\n",
       "   'DA023': -0.09244087543468105,\n",
       "   'MS002': -0.1760524372677903,\n",
       "   'MS003': -0.2862257639500776,\n",
       "   'MS016': -0.04779261959260306,\n",
       "   'MS017': -0.559297729905774,\n",
       "   'MS019': -2.4246543798441307,\n",
       "   'MS022': -17.40743904859432,\n",
       "   'MS025': 0.014335436314791505,\n",
       "   'MS026': -0.05389731349324789,\n",
       "   'MS027': -0.5225980895291109,\n",
       "   'MS029': -0.9233707228364685,\n",
       "   'MS030': -0.15025829253810374}},\n",
       " 'RPE': {'mood_est':           DA8       DA9      DA10      DA11     DA023     MS002     MS003  \\\n",
       "  0    0.222474 -2.090247 -0.467012 -2.034694 -0.238065 -0.611959  1.479535   \n",
       "  1    0.095423 -0.564907 -0.928035 -1.946020 -0.616561 -0.369249 -0.087981   \n",
       "  2    0.604063  0.522006  0.871419  0.697179  0.313805  0.822251 -0.145593   \n",
       "  3    1.457754  0.745918  0.315540 -2.206424 -0.987243  1.001646 -1.148516   \n",
       "  4    0.078543 -0.353529 -0.927285 -0.380616 -0.011139 -0.518763  0.085861   \n",
       "  ..        ...       ...       ...       ...       ...       ...       ...   \n",
       "  795 -0.975412 -0.448467 -0.532063  0.137753  0.262630 -0.254143 -0.136507   \n",
       "  796 -0.789310 -0.362293 -0.792288 -0.990784 -0.272508 -0.277418 -0.868892   \n",
       "  797 -0.322608  0.153625 -0.313695 -0.662429 -0.250319  0.088227 -0.862905   \n",
       "  798  0.405501  0.097472  0.332806 -0.619249 -0.173679  0.523077 -0.629068   \n",
       "  799 -0.198812  0.393460 -0.399601 -0.208512 -0.114361  0.000530 -0.363807   \n",
       "  \n",
       "          MS016     MS017     MS019     MS022     MS025     MS026     MS027  \\\n",
       "  0    0.262314 -0.382272 -0.604759  1.709145  0.786879  0.464629 -1.131880   \n",
       "  1   -0.467558 -0.699167 -1.951222 -4.607419  0.037448 -0.419562 -0.412463   \n",
       "  2    0.142174  0.497911  0.581265  1.901228  0.576433  0.364540  0.392181   \n",
       "  3   -0.365863 -0.264596 -1.471740 -8.271119  0.849180 -0.339273  0.707290   \n",
       "  4   -0.365873 -0.398943 -1.791209 -1.245358  0.110263 -0.296812 -1.062854   \n",
       "  ..        ...       ...       ...       ...       ...       ...       ...   \n",
       "  795 -0.401628 -0.432614 -0.446274  1.029364 -0.923057 -0.225478  0.148042   \n",
       "  796 -0.606294 -0.844525 -1.162596 -3.406093 -0.969953 -0.492594 -0.059054   \n",
       "  797 -0.441867 -0.454022 -0.781562 -3.096103 -0.499527 -0.313447  0.129166   \n",
       "  798 -0.105784 -0.121574 -0.200778 -1.799868  0.232812  0.063708  0.118154   \n",
       "  799 -0.421081 -0.179239 -0.989223 -1.980666 -0.248387 -0.314290  0.140321   \n",
       "  \n",
       "          MS029     MS030  \n",
       "  0   -0.759674  1.030241  \n",
       "  1   -1.493051  0.405603  \n",
       "  2    0.573191  0.046611  \n",
       "  3   -0.772403  0.023774  \n",
       "  4   -1.643898  0.274367  \n",
       "  ..        ...       ...  \n",
       "  795 -0.206266  0.269290  \n",
       "  796 -0.650857  0.187116  \n",
       "  797 -0.335874  0.049934  \n",
       "  798  0.050664  0.135935  \n",
       "  799 -0.625428  0.028967  \n",
       "  \n",
       "  [800 rows x 16 columns],\n",
       "  'residuals':           DA8       DA9      DA10      DA11     DA023     MS002     MS003  \\\n",
       "  0   -1.379001  0.933720 -0.689516  0.878167 -0.918462 -0.544568 -2.636062   \n",
       "  1   -0.041089  0.619240  0.982368  2.000354  0.670895  0.423582  0.142315   \n",
       "  2    0.257511  0.339568 -0.009845  0.164395  0.547769  0.039323  1.007166   \n",
       "  3    0.211060  0.922896  1.353275  3.875238  2.656057  0.667168  2.817330   \n",
       "  4    1.792081  2.224153  2.797910  2.251240  1.881764  2.389387  1.784763   \n",
       "  ..        ...       ...       ...       ...       ...       ...       ...   \n",
       "  795  1.236512  0.709567  0.793163  0.123346 -0.001531  0.515243  0.397607   \n",
       "  796  0.416311 -0.010707  0.419288  0.617785 -0.100491 -0.095582  0.495893   \n",
       "  797 -0.050391 -0.526624 -0.059304  0.289430 -0.122681 -0.461226  0.489906   \n",
       "  798 -0.144401  0.163627 -0.071707  0.880348  0.434779 -0.261977  0.890167   \n",
       "  799 -0.174188 -0.766459  0.026602 -0.164488 -0.258638 -0.373530 -0.009193   \n",
       "  \n",
       "          MS016     MS017     MS019     MS022     MS025     MS026     MS027  \\\n",
       "  0   -1.418841 -0.774255 -0.551768 -2.865672 -1.943407 -1.621156 -0.024647   \n",
       "  1    0.521891  0.753501  2.005555  4.661752  0.016886  0.473896  0.466796   \n",
       "  2    0.719400  0.363663  0.280308 -1.039654  0.285141  0.497034  0.469393   \n",
       "  3    2.034677  1.933410  3.140555  9.939933  0.819635  2.008088  0.961524   \n",
       "  4    2.236497  2.269568  3.661833  3.115982  1.760362  2.167437  2.933478   \n",
       "  ..        ...       ...       ...       ...       ...       ...       ...   \n",
       "  795  0.662728  0.693713  0.707373 -0.768265  1.184157  0.486577  0.113057   \n",
       "  796  0.233295  0.471525  0.789597  3.033094  0.596954  0.119594 -0.313945   \n",
       "  797  0.068868  0.081023  0.408563  2.723104  0.126528 -0.059553 -0.502165   \n",
       "  798  0.366883  0.382674  0.461877  2.060967  0.028287  0.197391  0.142946   \n",
       "  799  0.048082 -0.193760  0.616224  1.607667 -0.124613 -0.058710 -0.513320   \n",
       "  \n",
       "          MS029     MS030  \n",
       "  0   -0.396853 -2.186768  \n",
       "  1    1.547384 -0.351269  \n",
       "  2    0.288383  0.814962  \n",
       "  3    2.441218  1.645040  \n",
       "  4    3.514522  1.596257  \n",
       "  ..        ...       ...  \n",
       "  795  0.467365 -0.008190  \n",
       "  796  0.277858 -0.560116  \n",
       "  797 -0.037126 -0.422933  \n",
       "  798  0.210435  0.125164  \n",
       "  799  0.252429 -0.401966  \n",
       "  \n",
       "  [800 rows x 16 columns],\n",
       "  'rss': {'DA8': 838.9830134602249,\n",
       "   'DA9': 947.5655536506997,\n",
       "   'DA10': 819.8110383762361,\n",
       "   'DA11': 1254.2947914850422,\n",
       "   'DA023': 662.1495063566274,\n",
       "   'MS002': 723.1258996303937,\n",
       "   'MS003': 744.5626468470336,\n",
       "   'MS016': 578.2467220403342,\n",
       "   'MS017': 662.2666168449226,\n",
       "   'MS019': 1459.5669658076192,\n",
       "   'MS022': 11117.772233091273,\n",
       "   'MS025': 811.9513492786517,\n",
       "   'MS026': 583.3582078270612,\n",
       "   'MS027': 962.836619014378,\n",
       "   'MS029': 1065.8716664977737,\n",
       "   'MS030': 666.8636453884449},\n",
       "  'aic': {'DA8': 48.06298593645899,\n",
       "   'DA9': 145.42751424515845,\n",
       "   'DA10': 29.569716024138604,\n",
       "   'DA11': 369.77363746144607,\n",
       "   'DA023': -141.29628544892887,\n",
       "   'MS002': -70.82270850702817,\n",
       "   'MS003': -47.451786305947195,\n",
       "   'MS016': -249.68887626484434,\n",
       "   'MS017': -141.15480666557818,\n",
       "   'MS019': 491.0266754227505,\n",
       "   'MS022': 2115.3507850522983,\n",
       "   'MS025': 21.8629568138648,\n",
       "   'MS026': -242.6482466706986,\n",
       "   'MS027': 158.21760911378388,\n",
       "   'MS029': 239.54918552790593,\n",
       "   'MS030': -135.62090588270794},\n",
       "  'bics1': {'DA8': 71.48604457479863,\n",
       "   'DA9': 168.85057288349807,\n",
       "   'DA10': 52.99277466247824,\n",
       "   'DA11': 393.1966960997857,\n",
       "   'DA023': -117.87322681058924,\n",
       "   'MS002': -47.399649868688535,\n",
       "   'MS003': -24.028727667607562,\n",
       "   'MS016': -226.2658176265047,\n",
       "   'MS017': -117.73174802723855,\n",
       "   'MS019': 514.4497340610901,\n",
       "   'MS022': 2138.773843690638,\n",
       "   'MS025': 45.28601545220443,\n",
       "   'MS026': -219.22518803235897,\n",
       "   'MS027': 181.6406677521235,\n",
       "   'MS029': 262.97224416624556,\n",
       "   'MS030': -112.19784724436832},\n",
       "  'bics2': {'DA8': 33.32790117349848,\n",
       "   'DA9': 33.08448985272673,\n",
       "   'DA10': 33.374134348279284,\n",
       "   'DA11': 32.523624544686015,\n",
       "   'DA023': 33.80129935196196,\n",
       "   'MS002': 33.625115409607204,\n",
       "   'MS003': 33.5666881041045,\n",
       "   'MS016': 34.07228082900174,\n",
       "   'MS017': 33.80094565500358,\n",
       "   'MS019': 32.220491949782755,\n",
       "   'MS022': 28.15968167570889,\n",
       "   'MS025': 33.39340124630497,\n",
       "   'MS026': 34.05467925501638,\n",
       "   'MS027': 33.052514615555175,\n",
       "   'MS029': 32.849185674519866,\n",
       "   'MS030': 33.787110903046404},\n",
       "  'rsqs': {'DA8': -0.38615560664300785,\n",
       "   'DA9': -0.5655541098949477,\n",
       "   'DA10': -0.35447994655605974,\n",
       "   'DA11': -1.0723277226190744,\n",
       "   'DA023': -0.09399384248159648,\n",
       "   'MS002': -0.1947381579841272,\n",
       "   'MS003': -0.23015564184948145,\n",
       "   'MS016': 0.04462912488137971,\n",
       "   'MS017': -0.09418733073742946,\n",
       "   'MS019': -1.4114754416551394,\n",
       "   'MS022': -17.368622566885932,\n",
       "   'MS025': -0.34149428184736164,\n",
       "   'MS026': 0.036184001955321565,\n",
       "   'MS027': -0.5907847433328921,\n",
       "   'MS029': -0.7610177593278094,\n",
       "   'MS030': -0.10178247484317304}},\n",
       " 'CPE': {'mood_est':           DA8       DA9      DA10      DA11     DA023     MS002     MS003  \\\n",
       "  0   -0.431245 -3.133660 -1.603011 -4.376846 -0.202627 -0.491707 -0.780314   \n",
       "  1    0.342556 -0.459912 -1.104023 -2.669907 -0.042557 -0.137222 -1.128314   \n",
       "  2   -0.299406  0.039092  0.701782  0.423236  0.140864  0.531273 -0.149207   \n",
       "  3    0.171876  0.758734 -0.285610 -2.542748  0.245828  0.631314 -1.967087   \n",
       "  4    0.444748 -0.149307 -1.165482 -0.508435 -0.261873 -0.604200 -0.100808   \n",
       "  ..        ...       ...       ...       ...       ...       ...       ...   \n",
       "  795 -0.470649 -0.364213 -0.223227 -0.059673 -0.178125  0.109685 -0.111389   \n",
       "  796 -0.662955 -0.231397 -0.656181 -1.387569 -0.074539  0.088432 -1.235872   \n",
       "  797 -0.060325  0.459316  0.059880 -0.634312  0.069214  0.316540 -0.912042   \n",
       "  798  0.018721  0.216051  0.314468 -0.707513  0.136118  0.399648 -0.753542   \n",
       "  799  0.275476  0.658934 -0.180805 -0.007292 -0.147920  0.106828 -0.299695   \n",
       "  \n",
       "          MS016     MS017     MS019     MS022     MS025     MS026     MS027  \\\n",
       "  0   -1.278207 -1.791427 -2.192979 -0.075066  0.466922  0.252426 -1.129645   \n",
       "  1   -1.059353 -0.859265 -2.513005 -4.471085  0.145686 -0.179196 -0.443455   \n",
       "  2    0.204168  0.171418  0.555351  1.348524  0.174883  0.151567  0.422874   \n",
       "  3   -0.726558 -0.371557 -1.689003 -7.573939 -0.084162 -0.112935  0.747565   \n",
       "  4   -0.868593 -0.658636 -2.434870 -1.260548  0.172902 -0.394580 -1.130729   \n",
       "  ..        ...       ...       ...       ...       ...       ...       ...   \n",
       "  795 -0.275560 -0.506303 -0.444466  0.863192  0.008913 -0.270440  0.089769   \n",
       "  796 -0.698829 -0.914725 -1.280797 -3.155984 -0.035910 -0.092046 -0.088366   \n",
       "  797 -0.284985 -0.165596 -0.646987 -2.619078  0.096978  0.066374  0.127118   \n",
       "  798 -0.138006 -0.012325 -0.273125 -1.610821  0.213439  0.234855  0.157559   \n",
       "  799 -0.320137 -0.119239 -0.961706 -1.656836  0.007103 -0.347535  0.081286   \n",
       "  \n",
       "          MS029     MS030  \n",
       "  0   -1.521343  1.629452  \n",
       "  1   -1.911978  0.634748  \n",
       "  2    0.697543  0.025088  \n",
       "  3   -0.957587  0.147278  \n",
       "  4   -2.202834  0.307759  \n",
       "  ..        ...       ...  \n",
       "  795 -0.238480  0.221632  \n",
       "  796 -0.802414  0.189041  \n",
       "  797 -0.269174 -0.011177  \n",
       "  798  0.083731  0.104460  \n",
       "  799 -0.695210 -0.013703  \n",
       "  \n",
       "  [800 rows x 16 columns],\n",
       "  'residuals':           DA8       DA9      DA10      DA11     DA023     MS002     MS003  \\\n",
       "  0   -0.725282  1.977133  0.446484  3.220319 -0.953900 -0.664820 -0.376213   \n",
       "  1   -0.288222  0.514246  1.158356  2.724241  0.096890  0.191555  1.182647   \n",
       "  2    1.160980  0.822482  0.159792  0.438338  0.720710  0.330301  1.010781   \n",
       "  3    1.496939  0.910081  1.954424  4.211562  1.422986  1.037501  3.635901   \n",
       "  4    1.425876  2.019931  3.036107  2.379060  2.132497  2.474824  1.971433   \n",
       "  ..        ...       ...       ...       ...       ...       ...       ...   \n",
       "  795  0.731749  0.625313  0.484326  0.320772  0.439225  0.151414  0.372488   \n",
       "  796  0.289955 -0.141602  0.283181  1.014569 -0.298460 -0.461432  0.862873   \n",
       "  797 -0.312674 -0.832315 -0.432879  0.261313 -0.442213 -0.689539  0.539043   \n",
       "  798  0.242378  0.045049 -0.053368  0.968612  0.124982 -0.138548  1.014642   \n",
       "  799 -0.648475 -1.031933 -0.192194 -0.365708 -0.225079 -0.479827 -0.073304   \n",
       "  \n",
       "          MS016     MS017     MS019     MS022     MS025     MS026     MS027  \\\n",
       "  0    0.121679  0.634900  1.036451 -1.081461 -1.623449 -1.408953 -0.026882   \n",
       "  1    1.113686  0.913599  2.567339  4.525419 -0.091353  0.233530  0.497789   \n",
       "  2    0.657406  0.690156  0.306223 -0.486950  0.686691  0.710007  0.438700   \n",
       "  3    2.395373  2.040372  3.357818  9.242753  1.752976  1.781749  0.921249   \n",
       "  4    2.739218  2.529261  4.305494  3.131173  1.697722  2.265205  3.001353   \n",
       "  ..        ...       ...       ...       ...       ...       ...       ...   \n",
       "  795  0.536659  0.767402  0.705565 -0.602092  0.252186  0.531539  0.171330   \n",
       "  796  0.325829  0.541726  0.907797  2.782985 -0.337089 -0.280953 -0.284633   \n",
       "  797 -0.088015 -0.207403  0.273988  2.246079 -0.469977 -0.439373 -0.500117   \n",
       "  798  0.399105  0.273425  0.534224  1.871920  0.047660  0.026244  0.103540   \n",
       "  799 -0.052862 -0.253761  0.588707  1.283837 -0.380103 -0.025464 -0.454285   \n",
       "  \n",
       "          MS029     MS030  \n",
       "  0    0.364816 -2.785979  \n",
       "  1    1.966312 -0.580414  \n",
       "  2    0.164031  0.836486  \n",
       "  3    2.626401  1.521537  \n",
       "  4    4.073459  1.562865  \n",
       "  ..        ...       ...  \n",
       "  795  0.499579  0.039468  \n",
       "  796  0.429415 -0.562040  \n",
       "  797 -0.103826 -0.361822  \n",
       "  798  0.177368  0.156640  \n",
       "  799  0.322211 -0.359296  \n",
       "  \n",
       "  [800 rows x 16 columns],\n",
       "  'rss': {'DA8': 671.5328026811314,\n",
       "   'DA9': 1107.4094631431674,\n",
       "   'DA10': 1097.5060491658562,\n",
       "   'DA11': 1957.4831101554178,\n",
       "   'DA023': 599.9653051117585,\n",
       "   'MS002': 720.9109747960975,\n",
       "   'MS003': 959.1142318244158,\n",
       "   'MS016': 813.3598944619436,\n",
       "   'MS017': 898.4452669064323,\n",
       "   'MS019': 2108.62268446173,\n",
       "   'MS022': 9093.41731003501,\n",
       "   'MS025': 571.2058258926827,\n",
       "   'MS026': 584.8736377549808,\n",
       "   'MS027': 956.2863485337365,\n",
       "   'MS029': 1548.212797044882,\n",
       "   'MS030': 710.0168913707301},\n",
       "  'aic': {'DA8': -130.03909043003196,\n",
       "   'DA9': 270.13361764385263,\n",
       "   'DA10': 262.9471432277146,\n",
       "   'DA11': 725.8424575093702,\n",
       "   'DA023': -220.19191914994857,\n",
       "   'MS002': -73.276858104476,\n",
       "   'MS003': 155.11876454743438,\n",
       "   'MS016': 23.249566834655006,\n",
       "   'MS017': 102.84324850002115,\n",
       "   'MS019': 785.342823587871,\n",
       "   'MS022': 1954.555464442595,\n",
       "   'MS025': -259.48969384209164,\n",
       "   'MS026': -240.57272608471948,\n",
       "   'MS027': 152.75653463115685,\n",
       "   'MS029': 538.1958262603653,\n",
       "   'MS030': -85.45837380204742},\n",
       "  'bics1': {'DA8': -106.61603179169234,\n",
       "   'DA9': 293.55667628219226,\n",
       "   'DA10': 286.37020186605423,\n",
       "   'DA11': 749.2655161477098,\n",
       "   'DA023': -196.76886051160895,\n",
       "   'MS002': -49.85379946613637,\n",
       "   'MS003': 178.541823185774,\n",
       "   'MS016': 46.67262547299464,\n",
       "   'MS017': 126.26630713836079,\n",
       "   'MS019': 808.7658822262106,\n",
       "   'MS022': 1977.9785230809346,\n",
       "   'MS025': -236.066635203752,\n",
       "   'MS026': -217.14966744637985,\n",
       "   'MS027': 176.17959326949648,\n",
       "   'MS029': 561.6188848987049,\n",
       "   'MS030': -62.035315163707786},\n",
       "  'bics2': {'DA8': 33.77315636441471,\n",
       "   'DA9': 32.77272459423,\n",
       "   'DA10': 32.790690780270346,\n",
       "   'DA11': 31.633452494566207,\n",
       "   'DA023': 33.9985384362145,\n",
       "   'MS002': 33.63125078360082,\n",
       "   'MS003': 33.06026172697105,\n",
       "   'MS016': 33.389934721253,\n",
       "   'MS017': 33.19095051708958,\n",
       "   'MS019': 31.484701579369954,\n",
       "   'MS022': 28.561669977233144,\n",
       "   'MS025': 34.096782872944864,\n",
       "   'MS026': 34.04949045355143,\n",
       "   'MS027': 33.06616730176174,\n",
       "   'MS029': 32.102569072688716,\n",
       "   'MS030': 33.66170457284475},\n",
       "  'rsqs': {'DA8': -0.10949678902560289,\n",
       "   'DA9': -0.8296459064819921,\n",
       "   'DA10': -0.8132836290707501,\n",
       "   'DA11': -2.2341252975553445,\n",
       "   'DA023': 0.008745995890922398,\n",
       "   'MS002': -0.19107869119147947,\n",
       "   'MS003': -0.5846346690278321,\n",
       "   'MS016': -0.34382145983750645,\n",
       "   'MS017': -0.484398282210595,\n",
       "   'MS019': -2.4838359173762172,\n",
       "   'MS022': -14.024012626743387,\n",
       "   'MS025': 0.05626199171453106,\n",
       "   'MS026': 0.03368023053520941,\n",
       "   'MS027': -0.5799624811343724,\n",
       "   'MS029': -1.5579348025762658,\n",
       "   'MS030': -0.17307964403910914}},\n",
       " 'CPE_RPE': {'mood_est':           DA8       DA9      DA10      DA11     DA023     MS002     MS003  \\\n",
       "  0    0.021206 -1.711242 -0.500472 -4.688641  0.018296 -0.475890  0.062980   \n",
       "  1    0.246111 -0.601660 -0.925653 -2.753222 -0.722494 -0.478640 -0.737900   \n",
       "  2    0.317100  0.677043  0.861461  0.389997  0.570087  0.930671 -0.154234   \n",
       "  3    1.161368  0.708843  0.306188 -2.553599 -0.992638  1.124819 -1.666299   \n",
       "  4    0.244881 -0.414488 -0.931181 -0.528866 -0.174464 -0.597453 -0.026623   \n",
       "  ..        ...       ...       ...       ...       ...       ...       ...   \n",
       "  795 -1.048211 -0.442370 -0.533184 -0.072474  0.289098 -0.258214 -0.128321   \n",
       "  796 -0.933772 -0.351142 -0.793627 -1.398974 -0.139445 -0.285312 -1.115001   \n",
       "  797 -0.296625  0.069931 -0.301427 -0.603944 -0.261187 -0.015986 -0.901839   \n",
       "  798  0.269938  0.059371  0.336345 -0.696712 -0.191653  0.515589 -0.714075   \n",
       "  799 -0.092403  0.300775 -0.396340  0.018312 -0.250879 -0.044451 -0.319442   \n",
       "  \n",
       "          MS016     MS017     MS019     MS022     MS025     MS026     MS027  \\\n",
       "  0    0.118404 -2.388510  1.638096  3.596451  0.768276  1.001659 -2.059690   \n",
       "  1   -0.524108 -0.913748 -1.251190 -4.619282  0.052947 -0.395761 -0.941574   \n",
       "  2    0.152096  0.053923  0.590549  2.451036  0.563837  0.484647  0.629516   \n",
       "  3   -0.385633 -0.457155 -1.085513 -8.549022  0.852827 -0.538918  0.918170   \n",
       "  4   -0.422772 -0.761570 -1.067274 -1.399580  0.125686 -0.204813 -2.259530   \n",
       "  ..        ...       ...       ...       ...       ...       ...       ...   \n",
       "  795 -0.404419 -0.460419 -0.433099  1.173388 -0.927815 -0.180079  0.086613   \n",
       "  796 -0.625173 -0.868535 -0.875252 -3.366805 -0.970297 -0.561595 -0.220550   \n",
       "  797 -0.428859 -0.014101 -0.914581 -3.374931 -0.486134 -0.568892  0.205999   \n",
       "  798 -0.102426 -0.005570 -0.003619 -1.801512  0.244578 -0.253352  0.163256   \n",
       "  799 -0.418775 -0.048622 -1.082838 -2.334903 -0.244770 -0.335576  0.007130   \n",
       "  \n",
       "          MS029     MS030  \n",
       "  0   -1.781157  0.985550  \n",
       "  1   -2.063760  0.392835  \n",
       "  2    0.713561  0.043954  \n",
       "  3   -1.089912  0.016551  \n",
       "  4   -2.424752  0.275698  \n",
       "  ..        ...       ...  \n",
       "  795 -0.206689  0.269837  \n",
       "  796 -0.818649  0.181470  \n",
       "  797 -0.229598  0.052990  \n",
       "  798  0.075739  0.137067  \n",
       "  799 -0.712361  0.035924  \n",
       "  \n",
       "  [800 rows x 16 columns],\n",
       "  'residuals':           DA8       DA9      DA10      DA11     DA023     MS002     MS003  \\\n",
       "  0   -1.177733  0.554715 -0.656056  3.532114 -1.174823 -0.680637 -1.219507   \n",
       "  1   -0.191778  0.655993  0.979986  2.807556  0.776827  0.532974  0.792234   \n",
       "  2    0.544474  0.184531  0.000113  0.471577  0.291487 -0.069097  1.015808   \n",
       "  3    0.507447  0.959971  1.362626  4.222413  2.661452  0.543996  3.335113   \n",
       "  4    1.625743  2.285112  2.801805  2.399491  2.045088  2.468077  1.897248   \n",
       "  ..        ...       ...       ...       ...       ...       ...       ...   \n",
       "  795  1.309311  0.703469  0.794284  0.333573 -0.027999  0.519314  0.389420   \n",
       "  796  0.560773 -0.021857  0.420628  1.025975 -0.233555 -0.087688  0.742001   \n",
       "  797 -0.076374 -0.442931 -0.071572  0.230945 -0.111812 -0.357013  0.528839   \n",
       "  798 -0.008838  0.201729 -0.075246  0.957812  0.452753 -0.254489  0.975174   \n",
       "  799 -0.280596 -0.673775  0.023341 -0.391312 -0.122120 -0.328548 -0.053557   \n",
       "  \n",
       "          MS016     MS017     MS019      MS022     MS025     MS026     MS027  \\\n",
       "  0   -1.274931  1.231983 -2.794623  -4.752978 -1.924803 -2.158186  0.903163   \n",
       "  1    0.578442  0.968081  1.305523   4.673615  0.001386  0.450095  0.995907   \n",
       "  2    0.709478  0.807651  0.271025  -1.589462  0.297737  0.376927  0.232058   \n",
       "  3    2.054447  2.125970  2.754327  10.217836  0.815988  2.207732  0.750644   \n",
       "  4    2.293397  2.632195  2.937899   3.270205  1.744938  2.075438  4.130155   \n",
       "  ..        ...       ...       ...        ...       ...       ...       ...   \n",
       "  795  0.665519  0.721519  0.694199  -0.912288  1.188915  0.441179  0.174486   \n",
       "  796  0.252174  0.495535  0.502253   2.993806  0.597298  0.188596 -0.152449   \n",
       "  797  0.055860 -0.358898  0.541582   3.001932  0.113134  0.195893 -0.578998   \n",
       "  798  0.363526  0.266670  0.264718   2.062612  0.016522  0.514451  0.097843   \n",
       "  799  0.045776 -0.324377  0.709838   1.961903 -0.128229 -0.037423 -0.380129   \n",
       "  \n",
       "          MS029     MS030  \n",
       "  0    0.624630 -2.142077  \n",
       "  1    2.118094 -0.338501  \n",
       "  2    0.148012  0.817620  \n",
       "  3    2.758727  1.652263  \n",
       "  4    4.295377  1.594926  \n",
       "  ..        ...       ...  \n",
       "  795  0.467789 -0.008737  \n",
       "  796  0.445650 -0.554469  \n",
       "  797 -0.143402 -0.425989  \n",
       "  798  0.185361  0.124033  \n",
       "  799  0.339361 -0.408924  \n",
       "  \n",
       "  [800 rows x 16 columns],\n",
       "  'rss': {'DA8': 869.7054706015846,\n",
       "   'DA9': 917.9340663053024,\n",
       "   'DA10': 824.8758449389841,\n",
       "   'DA11': 2062.6010477909854,\n",
       "   'DA023': 694.3508447594712,\n",
       "   'MS002': 732.7861947795145,\n",
       "   'MS003': 821.7789957595487,\n",
       "   'MS016': 588.0203170988258,\n",
       "   'MS017': 1061.3672201405916,\n",
       "   'MS019': 1184.3985870986016,\n",
       "   'MS022': 12735.327204242698,\n",
       "   'MS025': 814.5224873914543,\n",
       "   'MS026': 605.1325800197737,\n",
       "   'MS027': 1683.493231393029,\n",
       "   'MS029': 1776.152362622122,\n",
       "   'MS030': 663.8402132066552},\n",
       "  'aic': {'DA8': 78.83430969987808,\n",
       "   'DA9': 122.0110697410524,\n",
       "   'DA10': 36.49692508703997,\n",
       "   'DA11': 769.6891057673231,\n",
       "   'DA023': -101.30748392334354,\n",
       "   'MS002': -58.20620278977378,\n",
       "   'MS003': 33.487815705682266,\n",
       "   'MS016': -234.28018198166254,\n",
       "   'MS017': 238.1611669143671,\n",
       "   'MS019': 325.90294050634327,\n",
       "   'MS022': 2226.0186821766715,\n",
       "   'MS025': 26.392247057874307,\n",
       "   'MS026': -211.33132249304995,\n",
       "   'MS027': 607.2115922948464,\n",
       "   'MS029': 650.0743855753319,\n",
       "   'MS030': -137.25619992933602},\n",
       "  'bics1': {'DA8': 106.94198006588564,\n",
       "   'DA9': 150.11874010705995,\n",
       "   'DA10': 64.60459545304752,\n",
       "   'DA11': 797.7967761333307,\n",
       "   'DA023': -73.19981355733597,\n",
       "   'MS002': -30.098532423766223,\n",
       "   'MS003': 61.59548607168983,\n",
       "   'MS016': -206.17251161565497,\n",
       "   'MS017': 266.26883728037467,\n",
       "   'MS019': 354.0106108723508,\n",
       "   'MS022': 2254.126352542679,\n",
       "   'MS025': 54.49991742388187,\n",
       "   'MS026': -183.22365212704239,\n",
       "   'MS027': 635.319262660854,\n",
       "   'MS029': 678.1820559413395,\n",
       "   'MS030': -109.14852956332845},\n",
       "  'bics2': {'DA8': 39.94058459175787,\n",
       "   'DA9': 39.83264269165493,\n",
       "   'DA10': 40.04642805328996,\n",
       "   'DA11': 38.21344760158925,\n",
       "   'DA023': 40.39093907581592,\n",
       "   'MS002': 40.283185872981996,\n",
       "   'MS003': 40.05395082674335,\n",
       "   'MS016': 40.72337082096172,\n",
       "   'MS017': 39.542267448721645,\n",
       "   'MS019': 39.3229130147417,\n",
       "   'MS022': 34.57262366056588,\n",
       "   'MS025': 40.07168974836288,\n",
       "   'MS026': 40.665998672240185,\n",
       "   'MS027': 38.61964138527045,\n",
       "   'MS029': 38.512484402069234,\n",
       "   'MS030': 40.480810865830904},\n",
       "  'rsqs': {'DA8': -0.43691480621334056,\n",
       "   'DA9': -0.5165973948506344,\n",
       "   'DA10': -0.36284794674304854,\n",
       "   'DA11': -2.4077996345497703,\n",
       "   'DA023': -0.14719642829369572,\n",
       "   'MS002': -0.21069875798191728,\n",
       "   'MS003': -0.35773137729630977,\n",
       "   'MS016': 0.028481332411171567,\n",
       "   'MS017': -0.7535755781719824,\n",
       "   'MS019': -0.9568462241394584,\n",
       "   'MS022': -20.04112350712232,\n",
       "   'MS025': -0.34574227906939936,\n",
       "   'MS026': 0.00020869898514830343,\n",
       "   'MS027': -1.781443180615283,\n",
       "   'MS029': -1.9345332577673298,\n",
       "   'MS030': -0.09678720389864126}},\n",
       " 'UtilReg': {'mood_est':           DA8       DA9      DA10      DA11     DA023     MS002     MS003  \\\n",
       "  0   -0.561044 -3.342937 -2.357101 -3.585829 -0.024760 -0.836630 -1.052360   \n",
       "  1    0.272012 -0.796562 -1.398646 -2.260909 -0.624419 -0.195191 -1.306766   \n",
       "  2    0.647093  0.923337  1.461063  0.974795  0.245874  0.796006  0.413254   \n",
       "  3    0.155551  0.305110 -0.383237 -2.273120 -0.993805  0.512313 -2.110570   \n",
       "  4    0.496423 -0.214382 -1.236870 -0.357000 -0.066809 -0.423196 -0.126065   \n",
       "  ..        ...       ...       ...       ...       ...       ...       ...   \n",
       "  795 -0.772433 -0.406301 -0.389689 -0.088899  0.365612 -0.106093 -0.142146   \n",
       "  796 -0.592400 -0.489041 -0.793392 -1.290187 -0.115034 -0.042483 -1.308912   \n",
       "  797 -0.031856  0.268342  0.032453 -0.639546 -0.205213  0.313653 -0.960955   \n",
       "  798 -0.013674  0.063671  0.194529 -0.676766 -0.122280  0.355660 -0.811420   \n",
       "  799 -0.152360  0.488419 -0.279568 -0.049090 -0.184311  0.008472 -0.342173   \n",
       "  \n",
       "          MS016     MS017     MS019     MS022     MS025     MS026     MS027  \\\n",
       "  0   -1.187849 -1.801414 -2.193842 -0.107949  0.080187  0.209851 -1.263813   \n",
       "  1   -0.917409 -1.051660 -2.452007 -5.143350  0.183226 -0.249851 -0.516699   \n",
       "  2    0.404765  1.036760  0.893127  2.138778  0.560896  0.284777  0.491719   \n",
       "  3   -0.629824 -0.650489 -1.749974 -7.894739 -0.098744 -0.180675  0.797024   \n",
       "  4   -0.698481 -0.694857 -2.180693 -2.274668  0.359218 -0.435778 -1.274344   \n",
       "  ..        ...       ...       ...       ...       ...       ...       ...   \n",
       "  795 -0.300108 -0.632351 -0.397095  0.584851 -0.502228 -0.316062  0.037396   \n",
       "  796 -0.600485 -0.993665 -1.220740 -3.311303 -0.361041 -0.091697 -0.123378   \n",
       "  797 -0.270278 -0.250260 -0.628583 -2.654680  0.006912  0.072336  0.129931   \n",
       "  798 -0.188489 -0.113568 -0.314904 -1.477577  0.095789  0.216742  0.166040   \n",
       "  799 -0.322347 -0.371859 -0.919466 -2.178115 -0.244154 -0.419211  0.025605   \n",
       "  \n",
       "          MS029     MS030  \n",
       "  0   -2.285520  1.715092  \n",
       "  1   -2.275662  0.697438  \n",
       "  2    1.072127 -0.103872  \n",
       "  3   -1.586779  0.181644  \n",
       "  4   -1.836967  0.331607  \n",
       "  ..        ...       ...  \n",
       "  795 -0.198819  0.217189  \n",
       "  796 -1.056160  0.181811  \n",
       "  797 -0.455705 -0.011859  \n",
       "  798 -0.193915  0.109472  \n",
       "  799 -0.652640  0.004921  \n",
       "  \n",
       "  [800 rows x 16 columns],\n",
       "  'residuals':           DA8       DA9      DA10      DA11     DA023     MS002     MS003  \\\n",
       "  0   -0.595483  2.186410  1.200574  2.429302 -1.131767 -0.319897 -0.104167   \n",
       "  1   -0.217678  0.850895  1.452979  2.315242  0.678753  0.249525  1.361099   \n",
       "  2    0.214481 -0.061763 -0.599489 -0.113221  0.615700  0.065568  0.448320   \n",
       "  3    1.513264  1.363705  2.052051  3.941934  2.662619  1.156501  3.779384   \n",
       "  4    1.374201  2.085006  3.107494  2.227625  1.937433  2.293821  1.996690   \n",
       "  ..        ...       ...       ...       ...       ...       ...       ...   \n",
       "  795  1.033532  0.667401  0.650789  0.349998 -0.104513  0.367193  0.403245   \n",
       "  796  0.219401  0.116041  0.420392  0.917188 -0.257966 -0.330517  0.935913   \n",
       "  797 -0.341143 -0.641341 -0.405452  0.266546 -0.167787 -0.686652  0.587955   \n",
       "  798  0.274774  0.197428  0.066570  0.937866  0.383379 -0.094561  1.072519   \n",
       "  799 -0.220640 -0.861419 -0.093431 -0.323909 -0.188689 -0.381472 -0.030826   \n",
       "  \n",
       "          MS016     MS017     MS019     MS022     MS025     MS026     MS027  \\\n",
       "  0    0.031322  0.644886  1.037315 -1.048578 -1.236714 -1.366378  0.107286   \n",
       "  1    0.971742  1.105994  2.506340  5.197683 -0.128893  0.304184  0.571033   \n",
       "  2    0.456809 -0.175186 -0.031553 -1.277204  0.300678  0.576797  0.369855   \n",
       "  3    2.298638  2.319303  3.418788  9.563553  1.767558  1.849489  0.871790   \n",
       "  4    2.569106  2.565481  4.051317  4.145293  1.511406  2.306403  3.144969   \n",
       "  ..        ...       ...       ...       ...       ...       ...       ...   \n",
       "  795  0.561207  0.893450  0.658195 -0.323752  0.763327  0.577162  0.223704   \n",
       "  796  0.227485  0.620666  0.847741  2.938304 -0.011958 -0.281302 -0.249621   \n",
       "  797 -0.102722 -0.122740  0.255584  2.281681 -0.379912 -0.445336 -0.502930   \n",
       "  798  0.449589  0.374667  0.576003  1.738677  0.165310  0.044357  0.095060   \n",
       "  799 -0.050653 -0.001141  0.546467  1.805116 -0.128845  0.046212 -0.398604   \n",
       "  \n",
       "          MS029     MS030  \n",
       "  0    1.128992 -2.871619  \n",
       "  1    2.329995 -0.643104  \n",
       "  2   -0.210553  0.965446  \n",
       "  3    3.255593  1.487171  \n",
       "  4    3.707591  1.539018  \n",
       "  ..        ...       ...  \n",
       "  795  0.459919  0.043911  \n",
       "  796  0.683161 -0.554811  \n",
       "  797  0.082706 -0.361140  \n",
       "  798  0.455015  0.151627  \n",
       "  799  0.279640 -0.377920  \n",
       "  \n",
       "  [800 rows x 16 columns],\n",
       "  'rss': {'DA8': 672.206704228359,\n",
       "   'DA9': 1027.9097358651009,\n",
       "   'DA10': 1261.841159546543,\n",
       "   'DA11': 1465.1924287720092,\n",
       "   'DA023': 705.0675493669816,\n",
       "   'MS002': 697.5316882953306,\n",
       "   'MS003': 986.6091174298523,\n",
       "   'MS016': 714.8304430515929,\n",
       "   'MS017': 909.0096829032325,\n",
       "   'MS019': 1931.6118981473182,\n",
       "   'MS022': 11102.77398586122,\n",
       "   'MS025': 587.0404533654427,\n",
       "   'MS026': 595.0207841692993,\n",
       "   'MS027': 1016.5817653011858,\n",
       "   'MS029': 1726.3036391823898,\n",
       "   'MS030': 719.4863159435873},\n",
       "  'aic': {'DA8': -129.23667109174693,\n",
       "   'DA9': 210.5367271306815,\n",
       "   'DA10': 374.5723547551753,\n",
       "   'DA11': 494.1041086840881,\n",
       "   'DA023': -91.05449179252477,\n",
       "   'MS002': -99.651027005271,\n",
       "   'MS003': 177.72976188142707,\n",
       "   'MS016': -80.0530845454828,\n",
       "   'MS017': 112.19521496927857,\n",
       "   'MS019': 715.1987088393128,\n",
       "   'MS022': 2114.270829637346,\n",
       "   'MS025': -237.61439581656538,\n",
       "   'MS026': -226.81231308432817,\n",
       "   'MS027': 201.67147219078987,\n",
       "   'MS029': 625.3008393876839,\n",
       "   'MS030': -74.85937629024042},\n",
       "  'bics1': {'DA8': -105.8136124534073,\n",
       "   'DA9': 233.95978576902112,\n",
       "   'DA10': 397.9954133935149,\n",
       "   'DA11': 517.5271673224278,\n",
       "   'DA023': -67.63143315418515,\n",
       "   'MS002': -76.22796836693138,\n",
       "   'MS003': 201.1528205197667,\n",
       "   'MS016': -56.63002590714317,\n",
       "   'MS017': 135.6182736076182,\n",
       "   'MS019': 738.6217674776524,\n",
       "   'MS022': 2137.693888275686,\n",
       "   'MS025': -214.19133717822575,\n",
       "   'MS026': -203.38925444598854,\n",
       "   'MS027': 225.0945308291295,\n",
       "   'MS029': 648.7238980260236,\n",
       "   'MS030': -51.43631765190079},\n",
       "  'bics2': {'DA8': 33.771150316069,\n",
       "   'DA9': 32.92171682051293,\n",
       "   'DA10': 32.5116277514517,\n",
       "   'DA11': 32.212798366629414,\n",
       "   'DA023': 33.675694867820944,\n",
       "   'MS002': 33.69718620585281,\n",
       "   'MS003': 33.00373423363607,\n",
       "   'MS016': 33.64819134970334,\n",
       "   'MS017': 33.167570600916434,\n",
       "   'MS019': 31.66006186624135,\n",
       "   'MS022': 28.162381564246267,\n",
       "   'MS025': 34.04209462788105,\n",
       "   'MS026': 34.015089421050455,\n",
       "   'MS027': 32.943879957862656,\n",
       "   'MS029': 31.88480653987042,\n",
       "   'MS030': 33.63520707906523},\n",
       "  'rsqs': {'DA8': -0.11061019942012584,\n",
       "   'DA9': -0.6982976063077271,\n",
       "   'DA10': -1.0847957228412692,\n",
       "   'DA11': -1.420769750244168,\n",
       "   'DA023': -0.16490241272736195,\n",
       "   'MS002': -0.1524517720019083,\n",
       "   'MS003': -0.6300613215637378,\n",
       "   'MS016': -0.18103252454234275,\n",
       "   'MS017': -0.5018526576031055,\n",
       "   'MS019': -2.1913812550654073,\n",
       "   'MS022': -17.34384267962455,\n",
       "   'MS025': 0.030100249106722266,\n",
       "   'MS026': 0.01691526191489867,\n",
       "   'MS027': -0.679581697097247,\n",
       "   'MS029': -1.8521739175048801,\n",
       "   'MS030': -0.18872489042998852}},\n",
       " 'UtilRel': {'mood_est':           DA8       DA9      DA10      DA11     DA023     MS002     MS003  \\\n",
       "  0   -0.141377 -2.622602 -1.483582 -2.134412 -0.333470 -0.828897  2.493824   \n",
       "  1   -0.097003 -0.926353 -1.619496 -1.921791 -0.658825 -0.510711  0.396775   \n",
       "  2    0.504126  0.447781  0.930566  0.704656  0.322014  0.954769 -0.290227   \n",
       "  3    1.535473  0.456778 -0.214004 -2.081423 -0.995026  1.886265 -0.923310   \n",
       "  4    0.365608 -0.456971 -1.102862 -0.394260 -0.033864 -0.826439  0.245731   \n",
       "  ..        ...       ...       ...       ...       ...       ...       ...   \n",
       "  795 -0.230569 -0.392705 -0.154804  0.257009  0.222118  0.005497 -0.074533   \n",
       "  796  0.177232 -0.029604 -0.441129 -0.669291 -0.297454  0.177071 -0.597430   \n",
       "  797 -0.132183  0.136735 -0.354481 -0.491588 -0.267708  0.134530 -0.845816   \n",
       "  798  0.706307  0.052432  0.246416 -0.469875 -0.198736  0.916839 -0.550365   \n",
       "  799 -0.080893  0.189133 -0.382960 -0.247157 -0.114488  0.022584 -0.456152   \n",
       "  \n",
       "          MS016     MS017     MS019     MS022     MS025     MS026     MS027  \\\n",
       "  0    0.608819  0.263496  0.614694  2.642820  0.337370  0.419965 -1.563523   \n",
       "  1   -0.276443 -0.781751 -1.369885 -4.965724 -0.200208 -0.411760 -0.602990   \n",
       "  2   -0.039908  0.438928  0.364554  2.043136  0.869454  0.235507  0.471060   \n",
       "  3   -0.453095 -0.732059 -1.469052 -8.645735  0.676918 -0.444545  0.781879   \n",
       "  4   -0.005422 -0.169514 -0.780142 -1.627343  0.373399 -0.156708 -1.576491   \n",
       "  ..        ...       ...       ...       ...       ...       ...       ...   \n",
       "  795 -0.264116 -0.158725 -0.326681  1.016501  0.020689 -0.056358  0.173945   \n",
       "  796 -0.342567 -0.481744 -0.817914 -3.196318  0.135513 -0.223103 -0.152316   \n",
       "  797 -0.479189 -0.593073 -0.911926 -3.275159 -0.064391 -0.282822  0.162143   \n",
       "  798 -0.149096 -0.091480 -0.165083 -1.563659  0.617185  0.044380  0.067050   \n",
       "  799 -0.400180 -0.406559 -0.945434 -2.495487  0.075295 -0.286590  0.147052   \n",
       "  \n",
       "          MS029     MS030  \n",
       "  0   -0.210823  1.117940  \n",
       "  1   -1.097289  0.485120  \n",
       "  2    0.369330  0.030324  \n",
       "  3   -0.748755  0.103253  \n",
       "  4   -1.079727  0.302661  \n",
       "  ..        ...       ...  \n",
       "  795 -0.132393  0.223154  \n",
       "  796 -0.428780  0.120388  \n",
       "  797 -0.323247  0.036863  \n",
       "  798  0.044066  0.123118  \n",
       "  799 -0.536998  0.076207  \n",
       "  \n",
       "  [800 rows x 16 columns],\n",
       "  'residuals':           DA8       DA9      DA10      DA11     DA023     MS002     MS003  \\\n",
       "  0   -1.015150  1.466075  0.327055  0.977885 -0.823057 -0.327631 -3.650351   \n",
       "  1    0.151337  0.980687  1.673829  1.976124  0.713159  0.565045 -0.342442   \n",
       "  2    0.357448  0.413793 -0.068992  0.156918  0.539560 -0.093195  1.151801   \n",
       "  3    0.133341  1.212037  1.882818  3.750237  2.663841 -0.217451  2.592124   \n",
       "  4    1.505016  2.327596  2.973487  2.264885  1.904488  2.697063  1.624894   \n",
       "  ..        ...       ...       ...       ...       ...       ...       ...   \n",
       "  795  0.491668  0.653804  0.415903  0.004090  0.038981  0.255602  0.335632   \n",
       "  796 -0.550232 -0.343395  0.068129  0.296291 -0.075545 -0.550071  0.224431   \n",
       "  797 -0.240817 -0.509735 -0.018518  0.118588 -0.105292 -0.507529  0.472817   \n",
       "  798 -0.445207  0.208668  0.014684  0.730974  0.459836 -0.655739  0.811464   \n",
       "  799 -0.292106 -0.562132  0.009960 -0.125842 -0.258511 -0.395584  0.083153   \n",
       "  \n",
       "          MS016     MS017     MS019      MS022     MS025     MS026     MS027  \\\n",
       "  0   -1.765346 -1.420023 -1.771221  -3.799347 -1.493897 -1.576492  0.406996   \n",
       "  1    0.330776  0.836084  1.424218   5.020058  0.254541  0.466094  0.657323   \n",
       "  2    0.901482  0.422646  0.497020  -1.181562 -0.007880  0.626067  0.390514   \n",
       "  3    2.121909  2.400873  3.137866  10.314549  0.991897  2.113360  0.886935   \n",
       "  4    1.876046  2.040139  2.650767   3.497967  1.497226  2.027333  3.447115   \n",
       "  ..        ...       ...       ...        ...       ...       ...       ...   \n",
       "  795  0.525216  0.419825  0.587781  -0.755401  0.240410  0.317457  0.087155   \n",
       "  796 -0.030433  0.108744  0.444914   2.823319 -0.508512 -0.149896 -0.220683   \n",
       "  797  0.106189  0.220074  0.538926   2.902159 -0.308608 -0.090177 -0.535142   \n",
       "  798  0.410196  0.352579  0.426182   1.824758 -0.356086  0.216719  0.194049   \n",
       "  799  0.027181  0.033560  0.572434   2.122488 -0.448294 -0.086409 -0.520052   \n",
       "  \n",
       "          MS029     MS030  \n",
       "  0   -0.945704 -2.274467  \n",
       "  1    1.151622 -0.430787  \n",
       "  2    0.492244  0.831250  \n",
       "  3    2.417569  1.565562  \n",
       "  4    2.950351  1.567964  \n",
       "  ..        ...       ...  \n",
       "  795  0.393493  0.037946  \n",
       "  796  0.055781 -0.493388  \n",
       "  797 -0.049752 -0.409863  \n",
       "  798  0.217034  0.137982  \n",
       "  799  0.163999 -0.449206  \n",
       "  \n",
       "  [800 rows x 16 columns],\n",
       "  'rss': {'DA8': 698.018155427166,\n",
       "   'DA9': 1063.85312165341,\n",
       "   'DA10': 1023.7967174786313,\n",
       "   'DA11': 1175.2334931318267,\n",
       "   'DA023': 649.5992033681705,\n",
       "   'MS002': 966.3835833832211,\n",
       "   'MS003': 890.3335427169924,\n",
       "   'MS016': 579.5767292570661,\n",
       "   'MS017': 682.0557932877844,\n",
       "   'MS019': 1090.5179643519066,\n",
       "   'MS022': 13013.344055372774,\n",
       "   'MS025': 826.3027160644612,\n",
       "   'MS026': 575.9806536661304,\n",
       "   'MS027': 1267.9634814281776,\n",
       "   'MS029': 809.4342556854656,\n",
       "   'MS030': 659.7939933098173},\n",
       "  'aic': {'DA8': -99.09329168254939,\n",
       "   'DA9': 238.03271131675854,\n",
       "   'DA10': 207.32923210954237,\n",
       "   'DA11': 317.68831738209167,\n",
       "   'DA023': -156.60493213065052,\n",
       "   'MS002': 161.15928958011656,\n",
       "   'MS003': 95.5875455586834,\n",
       "   'MS016': -247.85093414993247,\n",
       "   'MS017': -117.60021186458017,\n",
       "   'MS019': 257.83706507057076,\n",
       "   'MS022': 2241.295078494291,\n",
       "   'MS025': 35.87957044288771,\n",
       "   'MS026': -252.83012393703615,\n",
       "   'MS027': 378.44448542320436,\n",
       "   'MS029': 19.379060958280604,\n",
       "   'MS030': -144.14725817547688},\n",
       "  'bics1': {'DA8': -75.67023304420977,\n",
       "   'DA9': 261.45576995509816,\n",
       "   'DA10': 230.752290747882,\n",
       "   'DA11': 341.1113760204313,\n",
       "   'DA023': -133.1818734923109,\n",
       "   'MS002': 184.5823482184562,\n",
       "   'MS003': 119.01060419702304,\n",
       "   'MS016': -224.42787551159284,\n",
       "   'MS017': -94.17715322624053,\n",
       "   'MS019': 281.2601237089104,\n",
       "   'MS022': 2264.7181371326305,\n",
       "   'MS025': 59.302629081227344,\n",
       "   'MS026': -229.40706529869652,\n",
       "   'MS027': 401.867544061544,\n",
       "   'MS029': 42.80211959662024,\n",
       "   'MS030': -120.72419953713725},\n",
       "  'bics2': {'DA8': 33.695791867546006,\n",
       "   'DA9': 32.85297686004774,\n",
       "   'DA10': 32.92973555806578,\n",
       "   'DA11': 32.65383784488441,\n",
       "   'DA023': 33.83957096866626,\n",
       "   'MS002': 33.04516041438934,\n",
       "   'MS003': 33.20908977444292,\n",
       "   'MS016': 34.06768597371446,\n",
       "   'MS017': 33.742059168001084,\n",
       "   'MS019': 32.80346597566321,\n",
       "   'MS022': 27.844820942103905,\n",
       "   'MS025': 33.358359712232414,\n",
       "   'MS026': 34.08013394818222,\n",
       "   'MS027': 32.50194742478162,\n",
       "   'MS029': 33.39961098594393,\n",
       "   'MS030': 33.80842678377832},\n",
       "  'rsqs': {'DA8': -0.15325550596483972,\n",
       "   'DA9': -0.7576827487156903,\n",
       "   'DA10': -0.6915021367867005,\n",
       "   'DA11': -0.9417037883765944,\n",
       "   'DA023': -0.07325841330911675,\n",
       "   'MS002': -0.5966449865887797,\n",
       "   'MS003': -0.4709962087665116,\n",
       "   'MS016': 0.042431706184254736,\n",
       "   'MS017': -0.12688272198735118,\n",
       "   'MS019': -0.8017380163597103,\n",
       "   'MS022': -20.50045892959505,\n",
       "   'MS025': -0.3652054025899554,\n",
       "   'MS026': 0.048373090291341736,\n",
       "   'MS027': -1.0949109345508616,\n",
       "   'MS029': -0.3373355761993766,\n",
       "   'MS030': -0.09010209787655277}},\n",
       " 'Reg_Rel': {'mood_est':           DA8       DA9      DA10      DA11     DA023     MS002     MS003  \\\n",
       "  0   -0.501768 -3.065365 -2.101043 -3.505324 -0.118145 -1.039708  0.539313   \n",
       "  1    0.155901 -0.992522 -1.510114 -2.249257 -0.751650 -0.529554 -0.536865   \n",
       "  2    0.713074  0.794103  1.291102  0.967938  0.213617  1.084398  0.116763   \n",
       "  3    0.608559  0.274883 -0.287696 -2.287528 -1.024079  1.660997 -1.610391   \n",
       "  4    0.515059 -0.335968 -1.107671 -0.353377 -0.177034 -0.788454  0.064412   \n",
       "  ..        ...       ...       ...       ...       ...       ...       ...   \n",
       "  795 -0.791701 -0.468980 -0.395438 -0.079216  0.343436 -0.111601 -0.143435   \n",
       "  796 -0.412296 -0.412052 -0.738340 -1.282060 -0.044945  0.111240 -1.055454   \n",
       "  797 -0.078000  0.075788 -0.187131 -0.650311 -0.212858  0.207240 -0.948792   \n",
       "  798  0.213174  0.008975  0.200557 -0.680889 -0.146082  0.859838 -0.727197   \n",
       "  799 -0.238293  0.300288 -0.341365 -0.060861 -0.246160 -0.044826 -0.383923   \n",
       "  \n",
       "          MS016     MS017     MS019     MS022     MS025     MS026     MS027  \\\n",
       "  0   -0.056542 -1.785483  1.153063  2.736310  0.129307  1.085974 -2.829800   \n",
       "  1   -0.495499 -1.049707 -1.204759 -4.944215 -0.068726 -0.249757 -1.270911   \n",
       "  2    0.173619  1.033325  0.228920  2.024159  0.893590  0.008657  0.882379   \n",
       "  3   -0.452180 -0.650853 -1.389335 -8.622918  0.569392 -0.882043  1.130015   \n",
       "  4   -0.193490 -0.681751 -0.599355 -1.624474  0.451569 -0.003961 -3.128167   \n",
       "  ..        ...       ...       ...       ...       ...       ...       ...   \n",
       "  795 -0.386769 -0.631034 -0.306906  1.028256 -0.284740  0.184805 -0.017214   \n",
       "  796 -0.498294 -0.993406 -0.707794 -3.164352 -0.132511 -0.184918 -0.456256   \n",
       "  797 -0.443284 -0.257598 -0.951867 -3.272878 -0.083951 -0.437827  0.237397   \n",
       "  798 -0.148630 -0.114060 -0.106931 -1.547823  0.491619 -0.240581  0.074584   \n",
       "  799 -0.408461 -0.370307 -0.971554 -2.503630 -0.040082 -0.330214 -0.103558   \n",
       "  \n",
       "          MS029     MS030  \n",
       "  0   -2.871280  1.228449  \n",
       "  1   -2.646597  0.516004  \n",
       "  2    1.231883 -0.000686  \n",
       "  3   -1.831719  0.116406  \n",
       "  4   -2.153515  0.298484  \n",
       "  ..        ...       ...  \n",
       "  795 -0.171069  0.231412  \n",
       "  796 -1.186182  0.147145  \n",
       "  797 -0.458055  0.034444  \n",
       "  798 -0.239248  0.126189  \n",
       "  799 -0.684549  0.056102  \n",
       "  \n",
       "  [800 rows x 16 columns],\n",
       "  'residuals':           DA8       DA9      DA10      DA11     DA023     MS002     MS003  \\\n",
       "  0   -0.654759  1.908838  0.944516  2.348797 -1.038382 -0.116819 -1.695840   \n",
       "  1   -0.101567  1.046856  1.564448  2.303590  0.805984  0.583888  0.591199   \n",
       "  2    0.148499  0.067471 -0.429529 -0.106365  0.647957 -0.222824  0.744811   \n",
       "  3    1.060255  1.393931  1.956510  3.956342  2.692894  0.007817  3.279206   \n",
       "  4    1.355566  2.206593  2.978296  2.224002  2.047658  2.659078  1.806213   \n",
       "  ..        ...       ...       ...       ...       ...       ...       ...   \n",
       "  795  1.052800  0.730080  0.656537  0.340316 -0.082337  0.372700  0.404534   \n",
       "  796  0.039297  0.039053  0.365341  0.909061 -0.328054 -0.484240  0.682455   \n",
       "  797 -0.294999 -0.448787 -0.185868  0.277312 -0.160141 -0.580240  0.575792   \n",
       "  798  0.047925  0.252125  0.060543  0.941988  0.407182 -0.598739  0.988296   \n",
       "  799 -0.134706 -0.673287 -0.031635 -0.312138 -0.126840 -0.328173  0.010924   \n",
       "  \n",
       "          MS016     MS017     MS019      MS022     MS025     MS026     MS027  \\\n",
       "  0   -1.099985  0.628956 -2.309590  -3.892838 -1.285834 -2.242501  1.673273   \n",
       "  1    0.549832  1.104041  1.259093   4.998549  0.123060  0.304091  1.325244   \n",
       "  2    0.687954 -0.171751  0.632654  -1.162585 -0.032016  0.852917 -0.020805   \n",
       "  3    2.120995  2.319668  3.058150  10.291732  1.099423  2.550858  0.538800   \n",
       "  4    2.064114  2.552375  2.469979   3.495098  1.419055  1.874585  4.998792   \n",
       "  ..        ...       ...       ...        ...       ...       ...       ...   \n",
       "  795  0.647869  0.892133  0.568005  -0.767156  0.545840  0.076294  0.278314   \n",
       "  796  0.125294  0.620406  0.334794   2.791353 -0.240488 -0.188081  0.083257   \n",
       "  797  0.070285 -0.115401  0.578868   2.899879 -0.289049  0.064828 -0.610396   \n",
       "  798  0.409730  0.375159  0.368031   1.808922 -0.230520  0.501680  0.186515   \n",
       "  799  0.035462 -0.002692  0.598555   2.130630 -0.332917 -0.042785 -0.269441   \n",
       "  \n",
       "          MS029     MS030  \n",
       "  0    1.714753 -2.384976  \n",
       "  1    2.700931 -0.461670  \n",
       "  2   -0.370309  0.862260  \n",
       "  3    3.500533  1.552408  \n",
       "  4    4.024139  1.572141  \n",
       "  ..        ...       ...  \n",
       "  795  0.432169  0.029687  \n",
       "  796  0.813183 -0.520144  \n",
       "  797  0.085056 -0.407444  \n",
       "  798  0.500348  0.134911  \n",
       "  799  0.311549 -0.429101  \n",
       "  \n",
       "  [800 rows x 16 columns],\n",
       "  'rss': {'DA8': 676.4733815778102,\n",
       "   'DA9': 1011.605073069379,\n",
       "   'DA10': 1126.859164921299,\n",
       "   'DA11': 1447.9093598663667,\n",
       "   'DA023': 710.3715643691012,\n",
       "   'MS002': 953.468577413075,\n",
       "   'MS003': 782.7712639240729,\n",
       "   'MS016': 569.3108341750806,\n",
       "   'MS017': 903.1494406878545,\n",
       "   'MS019': 1092.76235482278,\n",
       "   'MS022': 12994.776130685646,\n",
       "   'MS025': 704.7294150604596,\n",
       "   'MS026': 649.7304320923506,\n",
       "   'MS027': 2590.1148616260816,\n",
       "   'MS029': 2192.551854886978,\n",
       "   'MS030': 670.7687641723146},\n",
       "  'aic': {'DA8': -122.17490247391254,\n",
       "   'DA9': 199.74544160950964,\n",
       "   'DA10': 286.06225118860095,\n",
       "   'DA11': 486.61139723288267,\n",
       "   'DA023': -83.0588515397433,\n",
       "   'MS002': 152.39579346829248,\n",
       "   'MS003': -5.416961732524172,\n",
       "   'MS016': -260.1481289569919,\n",
       "   'MS017': 109.02104449601964,\n",
       "   'MS019': 261.48184974930155,\n",
       "   'MS022': 2242.1527935335052,\n",
       "   'MS025': -89.43824556307493,\n",
       "   'MS026': -154.44333652498443,\n",
       "   'MS027': 951.8766193283885,\n",
       "   'MS029': 818.5677178643348,\n",
       "   'MS030': -128.94981107307945},\n",
       "  'bics1': {'DA8': -94.06723210790497,\n",
       "   'DA9': 227.8531119755172,\n",
       "   'DA10': 314.1699215546085,\n",
       "   'DA11': 514.7190675988902,\n",
       "   'DA023': -54.95118117373574,\n",
       "   'MS002': 180.50346383430005,\n",
       "   'MS003': 22.69070863348339,\n",
       "   'MS016': -232.04045859098434,\n",
       "   'MS017': 137.1287148620272,\n",
       "   'MS019': 289.5895201153091,\n",
       "   'MS022': 2270.2604638995126,\n",
       "   'MS025': -61.33057519706737,\n",
       "   'MS026': -126.33566615897686,\n",
       "   'MS027': 979.9842896943961,\n",
       "   'MS029': 846.6753882303424,\n",
       "   'MS030': -100.84214070707188},\n",
       "  'bics2': {'DA8': 40.44310762219234,\n",
       "   'DA9': 39.638306761983785,\n",
       "   'DA10': 39.42251473803606,\n",
       "   'DA11': 38.921141872925354,\n",
       "   'DA023': 40.34531749485692,\n",
       "   'MS002': 39.75668088233683,\n",
       "   'MS003': 40.15121277033887,\n",
       "   'MS016': 40.78804068840004,\n",
       "   'MS017': 39.86511775476751,\n",
       "   'MS019': 39.48396574163431,\n",
       "   'MS022': 34.532288382173796,\n",
       "   'MS025': 40.361265979915245,\n",
       "   'MS026': 40.52377870732002,\n",
       "   'MS027': 37.75797881768659,\n",
       "   'MS029': 38.091251071346726,\n",
       "   'MS030': 40.46004489369026},\n",
       "  'rsqs': {'DA8': -0.11765954205852691,\n",
       "   'DA9': -0.6713592781340747,\n",
       "   'DA10': -0.8617804225982335,\n",
       "   'DA11': -1.3922149136393758,\n",
       "   'DA023': -0.17366562963992527,\n",
       "   'MS002': -0.5753070004220369,\n",
       "   'MS003': -0.2932833666468859,\n",
       "   'MS016': 0.059392869636675893,\n",
       "   'MS017': -0.49217045012952454,\n",
       "   'MS019': -0.8054461658511576,\n",
       "   'MS022': -20.46978127284174,\n",
       "   'MS025': -0.16434375211413843,\n",
       "   'MS026': -0.07347522751018509,\n",
       "   'MS027': -3.2793503321180033,\n",
       "   'MS029': -2.6225024794869745,\n",
       "   'MS030': -0.10823445564614853}},\n",
       " 'RPE_Reg': {'mood_est':           DA8       DA9      DA10      DA11     DA023     MS002     MS003  \\\n",
       "  0   -0.149939 -2.603410 -0.925381 -3.395006  0.100056 -0.638549 -0.578419   \n",
       "  1    0.215223 -0.675348 -1.017699 -2.230997 -0.662014 -0.361773 -1.077532   \n",
       "  2    0.718243  0.713142  1.039636  0.948602  0.172476  0.831829  0.311569   \n",
       "  3    1.055097  0.548618  0.206350 -2.294442 -0.970649  0.977074 -1.935159   \n",
       "  4    0.331556 -0.296832 -1.005479 -0.353927 -0.151938 -0.504035 -0.082558   \n",
       "  ..        ...       ...       ...       ...       ...       ...       ...   \n",
       "  795 -1.151763 -0.451662 -0.557581 -0.076579  0.333637 -0.261162 -0.148071   \n",
       "  796 -0.905432 -0.460944 -0.815195 -1.294912 -0.115204 -0.279907 -1.240748   \n",
       "  797 -0.280398  0.175625 -0.227679 -0.668403 -0.233283  0.095444 -0.950211   \n",
       "  798  0.228806  0.072688  0.316684 -0.691812 -0.156310  0.513362 -0.783908   \n",
       "  799 -0.268631  0.429353 -0.401703 -0.066907 -0.209678 -0.000814 -0.343391   \n",
       "  \n",
       "          MS016     MS017     MS019     MS022     MS025     MS026     MS027  \\\n",
       "  0    0.375668 -2.198436  1.774840  3.072180  0.332730  1.702021 -2.411239   \n",
       "  1   -0.433836 -1.127329 -1.363925 -4.208549  0.130086 -0.119941 -1.072155   \n",
       "  2    0.113491  1.125977 -0.033752  1.659908  0.791267 -0.300595  0.784837   \n",
       "  3   -0.351819 -0.769816 -1.034284 -8.390488  0.708145 -0.674327  0.991298   \n",
       "  4   -0.340421 -0.754347 -1.391827 -0.782924  0.300324 -0.175681 -2.481040   \n",
       "  ..        ...       ...       ...       ...       ...       ...       ...   \n",
       "  795 -0.394608 -0.613194 -0.441677  1.339739 -1.075656 -0.057328  0.015390   \n",
       "  796 -0.592082 -0.972047 -0.956998 -3.287424 -0.947471 -0.452494 -0.269203   \n",
       "  797 -0.449393 -0.170363 -0.991456 -3.268752 -0.345530 -0.606424  0.209173   \n",
       "  798 -0.097972 -0.141246  0.078730 -1.937495  0.260445 -0.454633  0.115801   \n",
       "  799 -0.424439 -0.359773 -1.113860 -1.921487 -0.377500 -0.298284 -0.064627   \n",
       "  \n",
       "          MS029     MS030  \n",
       "  0   -3.105733  0.695646  \n",
       "  1   -2.709495  0.285672  \n",
       "  2    1.285412  0.133746  \n",
       "  3   -2.099325 -0.044038  \n",
       "  4   -1.967665  0.269186  \n",
       "  ..        ...       ...  \n",
       "  795 -0.098790  0.270330  \n",
       "  796 -1.170423  0.149449  \n",
       "  797 -0.470592  0.065368  \n",
       "  798 -0.306338  0.135801  \n",
       "  799 -0.654747  0.061030  \n",
       "  \n",
       "  [800 rows x 16 columns],\n",
       "  'residuals':           DA8       DA9      DA10      DA11     DA023     MS002     MS003  \\\n",
       "  0   -1.006588  1.446883 -0.231147  2.238479 -1.256583 -0.517978 -0.578109   \n",
       "  1   -0.160889  0.729681  1.072033  2.285331  0.716348  0.416107  1.131866   \n",
       "  2    0.143331  0.148432 -0.178062 -0.087028  0.689098  0.029745  0.550005   \n",
       "  3    0.613717  1.120196  1.462465  3.963256  2.639464  0.691740  3.603974   \n",
       "  4    1.539068  2.167456  2.876103  2.224551  2.022563  2.374659  1.953182   \n",
       "  ..        ...       ...       ...       ...       ...       ...       ...   \n",
       "  795  1.412862  0.712762  0.818681  0.337678 -0.072537  0.522262  0.409170   \n",
       "  796  0.532433  0.087944  0.442196  0.921912 -0.257795 -0.093092  0.867749   \n",
       "  797 -0.092602 -0.548624 -0.145321  0.295404 -0.139716 -0.468443  0.577212   \n",
       "  798  0.032294  0.188412 -0.055584  0.952911  0.417410 -0.252263  1.045007   \n",
       "  799 -0.104368 -0.802352  0.028704 -0.306093 -0.163321 -0.372185 -0.029608   \n",
       "  \n",
       "          MS016     MS017     MS019      MS022     MS025     MS026     MS027  \\\n",
       "  0   -1.532195  1.041909 -2.931367  -4.228707 -1.489258 -2.858548  1.254711   \n",
       "  1    0.488169  1.181663  1.418259   4.262883 -0.075753  0.174274  1.126488   \n",
       "  2    0.748083 -0.264403  0.895326  -0.798334  0.070307  1.162169  0.076737   \n",
       "  3    2.020634  2.438630  2.703098  10.059302  0.960670  2.343141  0.677516   \n",
       "  4    2.211045  2.624971  3.262452   2.653548  1.570300  2.046305  4.351665   \n",
       "  ..        ...       ...       ...        ...       ...       ...       ...   \n",
       "  795  0.655707  0.874294  0.702777  -1.078639  1.336755  0.318427  0.245710   \n",
       "  796  0.219082  0.599048  0.583999   2.914425  0.574472  0.079495 -0.103796   \n",
       "  797  0.076394 -0.202636  0.618456   2.895753 -0.027469  0.233424 -0.582172   \n",
       "  798  0.359072  0.402346  0.182369   2.198594  0.000654  0.715732  0.145298   \n",
       "  799  0.051440 -0.013226  0.740861   1.548487  0.004501 -0.074715 -0.308373   \n",
       "  \n",
       "          MS029     MS030  \n",
       "  0    1.949206 -1.852173  \n",
       "  1    2.763828 -0.231338  \n",
       "  2   -0.423838  0.727828  \n",
       "  3    3.768140  1.712852  \n",
       "  4    3.838289  1.601439  \n",
       "  ..        ...       ...  \n",
       "  795  0.359889 -0.009230  \n",
       "  796  0.797423 -0.522448  \n",
       "  797  0.097593 -0.438367  \n",
       "  798  0.567437  0.125299  \n",
       "  799  0.281748 -0.434029  \n",
       "  \n",
       "  [800 rows x 16 columns],\n",
       "  'rss': {'DA8': 836.201065726015,\n",
       "   'DA9': 960.1113044848715,\n",
       "   'DA10': 893.2057274044996,\n",
       "   'DA11': 1442.1745611839615,\n",
       "   'DA023': 706.6848870448194,\n",
       "   'MS002': 720.3388687909377,\n",
       "   'MS003': 897.6628303174429,\n",
       "   'MS016': 576.009008494279,\n",
       "   'MS017': 998.3356409427986,\n",
       "   'MS019': 1332.8579794250631,\n",
       "   'MS022': 11240.976719154249,\n",
       "   'MS025': 802.4867166223154,\n",
       "   'MS026': 696.3055532961388,\n",
       "   'MS027': 1952.5602877384479,\n",
       "   'MS029': 2224.5352638609306,\n",
       "   'MS030': 646.8890407744934},\n",
       "  'aic': {'DA8': 47.405892592566374,\n",
       "   'DA9': 157.9499937959373,\n",
       "   'DA10': 100.16416360660824,\n",
       "   'DA11': 483.4365102104057,\n",
       "   'DA023': -87.22149235870333,\n",
       "   'MS002': -71.91198022463246,\n",
       "   'MS003': 104.14624222099485,\n",
       "   'MS016': -250.7907418778588,\n",
       "   'MS017': 189.18224453819442,\n",
       "   'MS019': 420.3752358144423,\n",
       "   'MS022': 2126.167430981089,\n",
       "   'MS025': 14.482859762953847,\n",
       "   'MS026': -99.0585202521242,\n",
       "   'MS027': 725.8280246176104,\n",
       "   'MS029': 830.15325995291,\n",
       "   'MS030': -157.94955672371583},\n",
       "  'bics1': {'DA8': 75.51356295857394,\n",
       "   'DA9': 186.05766416194487,\n",
       "   'DA10': 128.2718339726158,\n",
       "   'DA11': 511.5441805764132,\n",
       "   'DA023': -59.11382199269577,\n",
       "   'MS002': -43.8043098586249,\n",
       "   'MS003': 132.25391258700242,\n",
       "   'MS016': -222.68307151185124,\n",
       "   'MS017': 217.289914904202,\n",
       "   'MS019': 448.48290618044985,\n",
       "   'MS022': 2154.2751013470966,\n",
       "   'MS025': 42.590530128961404,\n",
       "   'MS026': -70.95084988611663,\n",
       "   'MS027': 753.935694983618,\n",
       "   'MS029': 858.2609303189176,\n",
       "   'MS030': -129.84188635770826},\n",
       "  'bics2': {'DA8': 40.01915563452614,\n",
       "   'DA9': 39.742795381517716,\n",
       "   'DA10': 39.88725995699104,\n",
       "   'DA11': 38.929079090481544,\n",
       "   'DA023': 40.35572409690432,\n",
       "   'MS002': 40.31745031656914,\n",
       "   'MS003': 39.877304760455075,\n",
       "   'MS016': 40.76464722070221,\n",
       "   'MS017': 39.66471475466207,\n",
       "   'MS019': 39.08673227647145,\n",
       "   'MS022': 34.82225178855484,\n",
       "   'MS025': 40.10146321660017,\n",
       "   'MS026': 40.38531666663787,\n",
       "   'MS027': 38.32310030446354,\n",
       "   'MS029': 38.062287216125284,\n",
       "   'MS030': 40.53254425781685},\n",
       "  'rsqs': {'DA8': -0.3815593128119119,\n",
       "   'DA9': -0.5862820180639274,\n",
       "   'DA10': -0.4757415907873954,\n",
       "   'DA11': -1.382739962157582,\n",
       "   'DA023': -0.1675745546587284,\n",
       "   'MS002': -0.19013346592002267,\n",
       "   'MS003': -0.4831055517890368,\n",
       "   'MS016': 0.04832624285416631,\n",
       "   'MS017': -0.649435714195195,\n",
       "   'MS019': -1.20212868603747,\n",
       "   'MS022': -17.572179237736027,\n",
       "   'MS025': -0.3258569525916841,\n",
       "   'MS026': -0.1504259694810406,\n",
       "   'MS027': -2.2259918815215127,\n",
       "   'MS029': -2.6753450054470083,\n",
       "   'MS030': -0.06878072184949491}},\n",
       " 'RPE_Rel': {'mood_est':           DA8       DA9      DA10      DA11     DA023     MS002     MS003  \\\n",
       "  0    0.178688 -2.344780 -0.593485 -2.127347 -0.454237 -0.917082  2.164951   \n",
       "  1    0.051953 -0.817587 -1.021985 -1.963063 -0.741344 -0.566378  0.242207   \n",
       "  2    0.629817  0.526330  0.874824  0.683973  0.338604  1.034770 -0.243380   \n",
       "  3    1.512287  0.540385  0.251545 -2.186024 -1.051487  1.604501 -0.993584   \n",
       "  4    0.115402 -0.410355 -0.920354 -0.394588 -0.071917 -0.780338  0.196135   \n",
       "  ..        ...       ...       ...       ...       ...       ...       ...   \n",
       "  795 -0.961077 -0.458831 -0.506336  0.074782  0.284699 -0.150258 -0.114289   \n",
       "  796 -0.728688 -0.277006 -0.769038 -1.124915 -0.156751 -0.030382 -0.723363   \n",
       "  797 -0.337610  0.063242 -0.349362 -0.692035 -0.223200  0.137476 -0.865854   \n",
       "  798  0.445966  0.040721  0.308467 -0.657720 -0.159966  0.835003 -0.590482   \n",
       "  799 -0.207103  0.264589 -0.399044 -0.161564 -0.178369 -0.027245 -0.413509   \n",
       "  \n",
       "          MS016     MS017     MS019     MS022     MS025     MS026     MS027  \\\n",
       "  0    0.385779 -0.445111  0.670994  2.715095  0.486131  0.519136 -1.707609   \n",
       "  1   -0.412902 -0.709694 -1.344073 -5.018652 -0.155039 -0.392773 -0.687955   \n",
       "  2    0.107298  0.504654  0.352599  2.039525  0.838419  0.376043  0.531434   \n",
       "  3   -0.349287 -0.247540 -1.465611 -8.552754  0.795744 -0.408347  0.861697   \n",
       "  4   -0.269607 -0.439887 -0.738205 -1.768333  0.297905 -0.409823 -1.841868   \n",
       "  ..        ...       ...       ...       ...       ...       ...       ...   \n",
       "  795 -0.402503 -0.435588 -0.320995  0.980854 -0.621935 -0.227095  0.116322   \n",
       "  796 -0.562175 -0.858914 -0.796897 -3.074499 -0.637316 -0.568036 -0.244478   \n",
       "  797 -0.460903 -0.432418 -0.915998 -3.229629 -0.446730 -0.262654  0.168349   \n",
       "  798 -0.097927 -0.116297 -0.160596 -1.446400  0.326682  0.052581  0.073792   \n",
       "  799 -0.431305 -0.170336 -0.945514 -2.583365 -0.034384 -0.313587  0.089931   \n",
       "  \n",
       "          MS029     MS030  \n",
       "  0   -0.891959  1.022387  \n",
       "  1   -1.589748  0.404183  \n",
       "  2    0.613839  0.047790  \n",
       "  3   -0.802588  0.025956  \n",
       "  4   -1.775049  0.274014  \n",
       "  ..        ...       ...  \n",
       "  795 -0.210525  0.268266  \n",
       "  796 -0.694496  0.184429  \n",
       "  797 -0.336634  0.051089  \n",
       "  798  0.045108  0.136263  \n",
       "  799 -0.642740  0.031926  \n",
       "  \n",
       "  [800 rows x 16 columns],\n",
       "  'residuals':           DA8       DA9      DA10      DA11     DA023     MS002     MS003  \\\n",
       "  0   -1.335215  1.188253 -0.563042  0.970820 -0.702290 -0.239445 -3.321478   \n",
       "  1    0.002380  0.871921  1.076319  2.017396  0.795678  0.620711 -0.187874   \n",
       "  2    0.231757  0.335243 -0.013250  0.177600  0.522970 -0.173196  1.104954   \n",
       "  3    0.156527  1.128430  1.417269  3.854839  2.720301  0.064313  2.662398   \n",
       "  4    1.755222  2.280980  2.790979  2.265213  1.942541  2.650963  1.674489   \n",
       "  ..        ...       ...       ...       ...       ...       ...       ...   \n",
       "  795  1.222176  0.719930  0.767436  0.186318 -0.023600  0.411357  0.375389   \n",
       "  796  0.355689 -0.095994  0.396039  0.751916 -0.216248 -0.342618  0.350363   \n",
       "  797 -0.035390 -0.436241 -0.023638  0.319036 -0.149800 -0.510476  0.492854   \n",
       "  798 -0.184867  0.220379 -0.047368  0.918819  0.421065 -0.573904  0.851582   \n",
       "  799 -0.165896 -0.637589  0.026045 -0.211435 -0.194630 -0.345755  0.040509   \n",
       "  \n",
       "          MS016     MS017     MS019      MS022     MS025     MS026     MS027  \\\n",
       "  0   -1.542306 -0.711416 -1.827521  -3.871622 -1.642658 -1.675663  0.551082   \n",
       "  1    0.467236  0.764027  1.398406   5.072986  0.209372  0.447107  0.742288   \n",
       "  2    0.754276  0.356920  0.508975  -1.177951  0.023155  0.485531  0.330140   \n",
       "  3    2.018102  1.916354  3.134425  10.221569  0.873071  2.077161  0.807117   \n",
       "  4    2.140232  2.310511  2.608829   3.638958  1.572720  2.280447  3.712492   \n",
       "  ..        ...       ...       ...        ...       ...       ...       ...   \n",
       "  795  0.663602  0.696687  0.582095  -0.719754  0.883034  0.488194  0.144778   \n",
       "  796  0.189176  0.485915  0.423898   2.701500  0.264317  0.195037 -0.128521   \n",
       "  797  0.087904  0.059419  0.542999   2.856629  0.073731 -0.110345 -0.541348   \n",
       "  798  0.359027  0.377397  0.421695   1.707500 -0.065582  0.208518  0.187308   \n",
       "  799  0.058306 -0.202663  0.572514   2.210366 -0.338615 -0.059412 -0.462930   \n",
       "  \n",
       "          MS029     MS030  \n",
       "  0   -0.264568 -2.178915  \n",
       "  1    1.644082 -0.349849  \n",
       "  2    0.247735  0.813784  \n",
       "  3    2.471403  1.642859  \n",
       "  4    3.645673  1.596611  \n",
       "  ..        ...       ...  \n",
       "  795  0.471625 -0.007166  \n",
       "  796  0.321497 -0.557428  \n",
       "  797 -0.036365 -0.424088  \n",
       "  798  0.215992  0.124837  \n",
       "  799  0.269741 -0.404925  \n",
       "  \n",
       "  [800 rows x 16 columns],\n",
       "  'rss': {'DA8': 852.3548101258147,\n",
       "   'DA9': 993.7455286887594,\n",
       "   'DA10': 834.4926835698509,\n",
       "   'DA11': 1326.377724772232,\n",
       "   'DA023': 672.3222611337796,\n",
       "   'MS002': 906.2194593810455,\n",
       "   'MS003': 819.714053493049,\n",
       "   'MS016': 570.3737290182462,\n",
       "   'MS017': 669.8921259685501,\n",
       "   'MS019': 1084.4166535837023,\n",
       "   'MS022': 13113.148822538447,\n",
       "   'MS025': 991.6671840713792,\n",
       "   'MS026': 609.8184262660836,\n",
       "   'MS027': 1411.0648282813938,\n",
       "   'MS029': 1148.038275206393,\n",
       "   'MS030': 665.9429578566022},\n",
       "  'aic': {'DA8': 62.71292502589859,\n",
       "   'DA9': 185.49555108623744,\n",
       "   'DA10': 45.76979836301419,\n",
       "   'DA11': 416.47621025901566,\n",
       "   'DA023': -127.09915746884141,\n",
       "   'MS002': 111.73582235181647,\n",
       "   'MS003': 31.475069218152065,\n",
       "   'MS016': -258.65593339951164,\n",
       "   'MS017': -129.9960274102921,\n",
       "   'MS019': 255.3485978050494,\n",
       "   'MS022': 2249.4072040284896,\n",
       "   'MS025': 183.82065871696673,\n",
       "   'MS026': -205.1603813356272,\n",
       "   'MS027': 465.9905344391493,\n",
       "   'MS029': 300.95855154233016,\n",
       "   'MS030': -134.72616772765775},\n",
       "  'bics1': {'DA8': 90.82059539190615,\n",
       "   'DA9': 213.603221452245,\n",
       "   'DA10': 73.87746872902176,\n",
       "   'DA11': 444.5838806250232,\n",
       "   'DA023': -98.99148710283384,\n",
       "   'MS002': 139.84349271782403,\n",
       "   'MS003': 59.582739584159626,\n",
       "   'MS016': -230.54826303350407,\n",
       "   'MS017': -101.88835704428453,\n",
       "   'MS019': 283.45626817105693,\n",
       "   'MS022': 2277.514874394497,\n",
       "   'MS025': 211.9283290829743,\n",
       "   'MS026': -177.05271096961962,\n",
       "   'MS027': 494.09820480515685,\n",
       "   'MS029': 329.0662219083377,\n",
       "   'MS030': -106.61849736165018},\n",
       "  'bics2': {'DA8': 39.98088805344281,\n",
       "   'DA9': 39.67393148829197,\n",
       "   'DA10': 40.02324587010003,\n",
       "   'DA11': 39.09647984036002,\n",
       "   'DA023': 40.45541825967967,\n",
       "   'MS002': 39.85833081012802,\n",
       "   'MS003': 40.05898269296218,\n",
       "   'MS016': 40.784310199506336,\n",
       "   'MS017': 40.46266043453329,\n",
       "   'MS019': 39.499298871494936,\n",
       "   'MS022': 34.51415235593634,\n",
       "   'MS025': 39.67811871921514,\n",
       "   'MS026': 40.65057131934663,\n",
       "   'MS027': 38.97269402990969,\n",
       "   'MS029': 39.385273987151734,\n",
       "   'MS030': 40.474485785326706},\n",
       "  'rsqs': {'DA8': -0.4082482957934761,\n",
       "   'DA9': -0.6418519970829542,\n",
       "   'DA10': -0.37873674850958117,\n",
       "   'DA11': -1.1914221029775263,\n",
       "   'DA023': -0.11080112086878979,\n",
       "   'MS002': -0.49724269063474447,\n",
       "   'MS003': -0.3543197095340562,\n",
       "   'MS016': 0.057636770141824334,\n",
       "   'MS017': -0.10678608667842115,\n",
       "   'MS019': -0.7916575189079955,\n",
       "   'MS022': -20.665354923145404,\n",
       "   'MS025': -0.6384181861503153,\n",
       "   'MS026': -0.0075331884452074505,\n",
       "   'MS027': -1.3313409111729793,\n",
       "   'MS029': -0.8967722424496467,\n",
       "   'MS030': -0.10026132821236367}},\n",
       " 'RPE_Reg_Rel': {'mood_est':           DA8       DA9      DA10      DA11     DA023     MS002     MS003  \\\n",
       "  0   -0.141569 -3.117876 -1.024920 -3.374127 -0.092953 -0.999609 -0.278037   \n",
       "  1    0.238088 -1.006679 -1.097236 -2.226177 -0.745452 -0.550601 -0.932157   \n",
       "  2    0.708949  0.807926  1.038619  0.939027  0.206538  1.076426  0.328498   \n",
       "  3    1.016519  0.256085  0.155592 -2.288117 -1.018257  1.572898 -1.984764   \n",
       "  4    0.322156 -0.332557 -0.992291 -0.357312 -0.178783 -0.764181  0.025232   \n",
       "  ..        ...       ...       ...       ...       ...       ...       ...   \n",
       "  795 -1.162870 -0.467162 -0.534620 -0.082405  0.341073 -0.166253 -0.118177   \n",
       "  796 -0.939449 -0.412477 -0.797806 -1.311618 -0.051187 -0.007372 -1.153177   \n",
       "  797 -0.274254  0.078587 -0.263147 -0.673814 -0.215982  0.171193 -0.986651   \n",
       "  798  0.203004  0.007353  0.297147 -0.697016 -0.148579  0.826853 -0.781248   \n",
       "  799 -0.263771  0.300321 -0.398188 -0.062050 -0.244107 -0.044404 -0.412257   \n",
       "  \n",
       "          MS016     MS017     MS019     MS022     MS025     MS026     MS027  \\\n",
       "  0    0.378631 -2.214622  1.744282  2.037712  0.271561  1.701337 -2.985460   \n",
       "  1   -0.414762 -1.156067 -1.445396 -5.355549 -0.022771 -0.094488 -1.346892   \n",
       "  2    0.109056  1.143912 -0.056356  2.211982  0.881850 -0.307144  0.923668   \n",
       "  3   -0.350136 -0.896430 -0.952954 -8.590312  0.758830 -0.638445  1.145341   \n",
       "  4   -0.270278 -0.532853 -1.644620 -2.133449  0.375560 -0.164466 -3.258229   \n",
       "  ..        ...       ...       ...       ...       ...       ...       ...   \n",
       "  795 -0.403074 -0.569341 -0.480774  0.798037 -0.785765 -0.053815 -0.016205   \n",
       "  796 -0.562663 -0.949033 -1.026472 -3.084897 -0.708896 -0.484662 -0.454280   \n",
       "  797 -0.460573 -0.251582 -0.977600 -3.151919 -0.354562 -0.591713  0.248258   \n",
       "  798 -0.098432 -0.169201  0.120700 -1.331802  0.345210 -0.442543  0.071490   \n",
       "  799 -0.431195 -0.327019 -1.141676 -2.728006 -0.169189 -0.266108 -0.114821   \n",
       "  \n",
       "          MS029     MS030  \n",
       "  0   -2.752897  0.694373  \n",
       "  1   -2.443339  0.283890  \n",
       "  2    1.184789  0.134901  \n",
       "  3   -2.039818 -0.047880  \n",
       "  4   -1.629356  0.269386  \n",
       "  ..        ...       ...  \n",
       "  795 -0.084443  0.271330  \n",
       "  796 -1.062522  0.151018  \n",
       "  797 -0.477633  0.064673  \n",
       "  798 -0.307718  0.135486  \n",
       "  799 -0.615462  0.059056  \n",
       "  \n",
       "  [800 rows x 16 columns],\n",
       "  'residuals':           DA8       DA9      DA10      DA11     DA023     MS002     MS003  \\\n",
       "  0   -1.014958  1.961349 -0.131607  2.217600 -1.063574 -0.156918 -0.878490   \n",
       "  1   -0.183755  1.061012  1.151570  2.280511  0.799786  0.604934  0.986491   \n",
       "  2    0.152625  0.053648 -0.177045 -0.077453  0.655035 -0.214852  0.533076   \n",
       "  3    0.652295  1.412729  1.513222  3.956931  2.687071  0.095917  3.653578   \n",
       "  4    1.548468  2.203181  2.862916  2.227937  2.049407  2.634805  1.845393   \n",
       "  ..        ...       ...       ...       ...       ...       ...       ...   \n",
       "  795  1.423970  0.728262  0.795720  0.343505 -0.079974  0.427352  0.379276   \n",
       "  796  0.566449  0.039478  0.424807  0.938618 -0.321812 -0.365627  0.780177   \n",
       "  797 -0.098746 -0.451586 -0.109853  0.300815 -0.157017 -0.544193  0.613652   \n",
       "  798  0.058096  0.253747 -0.036048  0.958116  0.409679 -0.565753  1.042348   \n",
       "  799 -0.109228 -0.673320  0.025189 -0.310949 -0.128892 -0.328595  0.039258   \n",
       "  \n",
       "          MS016     MS017     MS019      MS022     MS025     MS026     MS027  \\\n",
       "  0   -1.535158  1.058095 -2.900809  -3.194240 -1.428089 -2.857864  1.828933   \n",
       "  1    0.469095  1.210400  1.499730   5.409882  0.077104  0.148821  1.401226   \n",
       "  2    0.752518 -0.282338  0.917930  -1.350408 -0.020276  1.168718 -0.062095   \n",
       "  3    2.018951  2.565244  2.621768  10.259126  0.909984  2.307259  0.523473   \n",
       "  4    2.140902  2.403478  3.515244   4.004074  1.495065  2.035091  5.128853   \n",
       "  ..        ...       ...       ...        ...       ...       ...       ...   \n",
       "  795  0.664173  0.830440  0.741873  -0.536937  1.046865  0.314915  0.277304   \n",
       "  796  0.189664  0.576033  0.653472   2.711897  0.335897  0.111663  0.081281   \n",
       "  797  0.087574 -0.121418  0.604601   2.778920 -0.018437  0.218714 -0.621257   \n",
       "  798  0.359531  0.430300  0.140400   1.592901 -0.084111  0.703643  0.189610   \n",
       "  799  0.058196 -0.045980  0.768676   2.355006 -0.203810 -0.106891 -0.258179   \n",
       "  \n",
       "          MS029     MS030  \n",
       "  0    1.596370 -1.850900  \n",
       "  1    2.497672 -0.229557  \n",
       "  2   -0.323215  0.726673  \n",
       "  3    3.708633  1.716694  \n",
       "  4    3.499980  1.601238  \n",
       "  ..        ...       ...  \n",
       "  795  0.345543 -0.010230  \n",
       "  796  0.689523 -0.524018  \n",
       "  797  0.104634 -0.437673  \n",
       "  798  0.568817  0.125614  \n",
       "  799  0.242463 -0.432056  \n",
       "  \n",
       "  [800 rows x 16 columns],\n",
       "  'rss': {'DA8': 836.6965792032157,\n",
       "   'DA9': 1015.7100479333935,\n",
       "   'DA10': 903.2460731697128,\n",
       "   'DA11': 1451.622671064339,\n",
       "   'DA023': 710.0487985045058,\n",
       "   'MS002': 914.1576731156844,\n",
       "   'MS003': 864.6317549183681,\n",
       "   'MS016': 570.3520013079558,\n",
       "   'MS017': 947.837438487036,\n",
       "   'MS019': 1402.6603632678205,\n",
       "   'MS022': 13682.123513433733,\n",
       "   'MS025': 821.9562053070932,\n",
       "   'MS026': 690.402359499493,\n",
       "   'MS027': 2767.0760553699542,\n",
       "   'MS029': 1861.7849399794716,\n",
       "   'MS030': 647.0870919566299},\n",
       "  'aic': {'DA8': 49.87981374913587,\n",
       "   'DA9': 204.98517907829407,\n",
       "   'DA10': 111.10663592377433,\n",
       "   'DA11': 490.66045242574205,\n",
       "   'DA023': -81.42242376507828,\n",
       "   'MS002': 120.71307023006531,\n",
       "   'MS003': 76.1535774107411,\n",
       "   'MS016': -256.6864090305461,\n",
       "   'MS017': 149.6570251950336,\n",
       "   'MS019': 463.2113953627301,\n",
       "   'MS022': 2285.3869432417946,\n",
       "   'MS025': 35.66031020296244,\n",
       "   'MS026': -103.86973625701937,\n",
       "   'MS027': 1006.7477906578941,\n",
       "   'MS029': 689.7433792196313,\n",
       "   'MS030': -155.70466666285816},\n",
       "  'bics1': {'DA8': 82.67209584281136,\n",
       "   'DA9': 237.77746117196955,\n",
       "   'DA10': 143.89891801744983,\n",
       "   'DA11': 523.4527345194175,\n",
       "   'DA023': -48.63014167140279,\n",
       "   'MS002': 153.5053523237408,\n",
       "   'MS003': 108.94585950441659,\n",
       "   'MS016': -223.8941269368706,\n",
       "   'MS017': 182.4493072887091,\n",
       "   'MS019': 496.0036774564056,\n",
       "   'MS022': 2318.17922533547,\n",
       "   'MS025': 68.45259229663793,\n",
       "   'MS026': -71.07745416334387,\n",
       "   'MS027': 1039.5400727515696,\n",
       "   'MS029': 722.5356613133067,\n",
       "   'MS030': -122.91238456918268},\n",
       "  'bics2': {'DA8': 46.70258255930265,\n",
       "   'DA9': 46.314819145979754,\n",
       "   'DA10': 46.549515503866054,\n",
       "   'DA11': 45.600630962611135,\n",
       "   'DA023': 47.03083815308818,\n",
       "   'MS002': 46.525499418100324,\n",
       "   'MS003': 46.63689815014864,\n",
       "   'MS016': 47.46899811625185,\n",
       "   'MS017': 46.453139530687906,\n",
       "   'MS019': 45.669253605268665,\n",
       "   'MS022': 41.113814735571005,\n",
       "   'MS025': 46.73813131816808,\n",
       "   'MS026': 47.08695643431804,\n",
       "   'MS027': 44.31041261703076,\n",
       "   'MS029': 45.10292364562641,\n",
       "   'MS030': 47.216543760332634},\n",
       "  'rsqs': {'DA8': -0.3823779930158866,\n",
       "   'DA9': -0.6781414582635799,\n",
       "   'DA10': -0.49233010491914664,\n",
       "   'DA11': -1.398349992721672,\n",
       "   'DA023': -0.17313236054428782,\n",
       "   'MS002': -0.5103580926136477,\n",
       "   'MS003': -0.42853208650630314,\n",
       "   'MS016': 0.057672668350673306,\n",
       "   'MS017': -0.5660033140912224,\n",
       "   'MS019': -1.3174551755710686,\n",
       "   'MS022': -21.605406682441078,\n",
       "   'MS025': -0.3580241603490544,\n",
       "   'MS026': -0.14067279802579113,\n",
       "   'MS027': -3.5717230583006625,\n",
       "   'MS029': -2.0760141641871463,\n",
       "   'MS030': -0.06910793914962654}}}"
      ]
     },
     "execution_count": 211,
     "metadata": {},
     "output_type": "execute_result"
    }
   ],
   "source": [
    "pt_data"
   ]
  },
  {
   "cell_type": "code",
   "execution_count": 213,
   "metadata": {},
   "outputs": [],
   "source": [
    "pt_list_noutil = ['RPE','CPE','CPE_RPE','UtilReg','UtilRel','Reg_Rel','RPE_Reg','RPE_Rel','RPE_Reg_Rel']\n",
    "\n",
    "gl_list_nocr = ['RPE','CPE','CPE_RPE','Regret','Relief','Regret_Relief','RPE_Reg','RPE_Rel','RPE_Reg_Rel']\n"
   ]
  },
  {
   "cell_type": "code",
   "execution_count": 214,
   "metadata": {},
   "outputs": [
    {
     "name": "stdout",
     "output_type": "stream",
     "text": [
      "best pt model bic for  DA8 is RPE 33.32790117349848\n",
      "best model bic for  DA8 is Relief 33.496494001448\n",
      "best pt model bic for  DA9 is CPE 32.77272459423\n",
      "best model bic for  DA9 is Relief 33.75745526458038\n",
      "best pt model bic for  DA10 is UtilReg 32.5116277514517\n",
      "best model bic for  DA10 is Relief 33.78078458435115\n",
      "best pt model bic for  DA11 is CPE 31.633452494566207\n",
      "best model bic for  DA11 is Relief 34.031453160739886\n",
      "best pt model bic for  DA023 is UtilReg 33.675694867820944\n",
      "best model bic for  DA023 is CPE 33.89801369034184\n",
      "best pt model bic for  MS002 is UtilRel 33.04516041438934\n",
      "best model bic for  MS002 is RPE 33.94133945247566\n",
      "best pt model bic for  MS003 is UtilReg 33.00373423363607\n",
      "best model bic for  MS003 is Relief 34.03821345037194\n",
      "best pt model bic for  MS016 is CPE 33.389934721253\n",
      "best model bic for  MS016 is Relief 34.087290415248304\n",
      "best pt model bic for  MS017 is UtilReg 33.167570600916434\n",
      "best model bic for  MS017 is Relief 33.38716895075214\n",
      "best pt model bic for  MS019 is CPE 31.484701579369954\n",
      "best model bic for  MS019 is Regret 33.66123066255751\n",
      "best pt model bic for  MS022 is UtilRel 27.844820942103905\n",
      "best model bic for  MS022 is CPE 33.9303018305582\n",
      "best pt model bic for  MS025 is UtilRel 33.358359712232414\n",
      "best model bic for  MS025 is RPE 32.58201507589104\n",
      "best pt model bic for  MS026 is UtilReg 34.015089421050455\n",
      "best model bic for  MS026 is Regret 33.652032616701945\n",
      "best pt model bic for  MS027 is UtilRel 32.50194742478162\n",
      "best model bic for  MS027 is Relief 33.97666359421448\n",
      "best pt model bic for  MS029 is UtilReg 31.88480653987042\n",
      "best model bic for  MS029 is Relief 33.821177937501254\n",
      "best pt model bic for  MS030 is UtilReg 33.63520707906523\n",
      "best model bic for  MS030 is RPE 33.846064507723206\n"
     ]
    }
   ],
   "source": [
    "for ix,s in enumerate(subj_ids):\n",
    "    best_pt_bic = np.inf\n",
    "    best_bic = np.inf\n",
    "    best_pt_model_bic = []\n",
    "    best_model_bic = []\n",
    "    for model in pt_list_noutil:\n",
    "        bic1 = pt_data[model]['bics2'][s]\n",
    "        if bic1<best_pt_bic:\n",
    "            best_pt_bic = bic1 \n",
    "            best_pt_model_bic = model\n",
    "    for model in gl_list_nocr:\n",
    "        bic = glm_data[model]['bics2'][s]\n",
    "        if bic<best_bic:\n",
    "            best_bic = bic \n",
    "            best_model_bic = model\n",
    "        \n",
    "    print('best pt model bic for ',s,'is',best_pt_model_bic,best_pt_bic)\n",
    "    print('best model bic for ',s,'is',best_model_bic,best_bic)"
   ]
  },
  {
   "cell_type": "code",
   "execution_count": null,
   "metadata": {},
   "outputs": [],
   "source": [
    "pt_list = ['Util','RPE','CPE','CPE_RPE','UtilReg','UtilRel','Reg_Rel','RPE_Reg','RPE_Rel','RPE_Reg_Rel']\n",
    "\n",
    "glms_list = ['CR_EV','RPE','CPE','CPE_RPE','Regret','Relief','Regret_Relief','RPE_Reg','RPE_Rel','RPE_Reg_Rel']\n"
   ]
  },
  {
   "cell_type": "code",
   "execution_count": 127,
   "metadata": {},
   "outputs": [
    {
     "name": "stdout",
     "output_type": "stream",
     "text": [
      "Util PT bic1 mean 236.63762810087877\n",
      "RPE PT bic1 mean 185.30789925409414\n",
      "CPE PT bic1 mean 271.0453577490722\n",
      "CPE_RPE PT bic1 mean 301.3513484540854\n",
      "UtilReg PT bic1 mean 278.8167247539411\n",
      "UtilRel PT bic1 mean 206.8296589131022\n",
      "Reg_Rel PT bic1 mean 319.6254622789154\n",
      "RPE_Reg PT bic1 mean 311.3801432820499\n",
      "RPE_Rel PT bic1 mean 243.9547488343944\n",
      "RPE_Reg_Rel PT bic1 mean 350.68117815506906\n",
      "CR_EV GLM bic1 mean -154.77042785505307\n",
      "RPE GLM bic1 mean -146.16614021905113\n",
      "CPE GLM bic1 mean -164.9914838153185\n",
      "CPE_RPE GLM bic1 mean -122.6088936636323\n",
      "Regret GLM bic1 mean -167.39165927686167\n",
      "Relief GLM bic1 mean -135.4752592309149\n",
      "Regret_Relief GLM bic1 mean -162.0115554192102\n",
      "RPE_Reg GLM bic1 mean -127.07430335941874\n",
      "RPE_Rel GLM bic1 mean -127.49003992033948\n",
      "RPE_Reg_Rel GLM bic1 mean -108.62330090009993\n"
     ]
    }
   ],
   "source": [
    "pt_bic1_means = []\n",
    "for model in pt_list:\n",
    "    pt_bic1_means.append(np.mean(np.array(list(pt_data[model]['bics1'].values()))))\n",
    "    print(model,'PT bic1 mean',np.mean(np.array(list(pt_data[model]['bics1'].values()))))\n",
    "\n",
    "glm_bic1_means = []\n",
    "for model in glms_list:\n",
    "    glm_bic1_means.append(np.mean(np.array(list(glm_data[model]['bics1'].values()))))\n",
    "    print(model,'GLM bic1 mean',np.mean(np.array(list(glm_data[model]['bics1'].values()))))"
   ]
  },
  {
   "cell_type": "code",
   "execution_count": 128,
   "metadata": {},
   "outputs": [
    {
     "name": "stdout",
     "output_type": "stream",
     "text": [
      "Util PT bic1 sum 3786.2020496140603\n",
      "RPE PT bic1 sum 2964.926388065506\n",
      "CPE PT bic1 sum 4336.725723985155\n",
      "CPE_RPE PT bic1 sum 4821.621575265366\n",
      "UtilReg PT bic1 sum 4461.067596063058\n",
      "UtilRel PT bic1 sum 3309.2745426096353\n",
      "Reg_Rel PT bic1 sum 5114.007396462646\n",
      "RPE_Reg PT bic1 sum 4982.082292512799\n",
      "RPE_Rel PT bic1 sum 3903.2759813503103\n",
      "RPE_Reg_Rel PT bic1 sum 5610.898850481105\n",
      "CR_EV GLM bic1 sum -2476.326845680849\n",
      "RPE GLM bic1 sum -2338.658243504818\n",
      "CPE GLM bic1 sum -2639.863741045096\n",
      "CPE_RPE GLM bic1 sum -1961.7422986181168\n",
      "Regret GLM bic1 sum -2678.266548429787\n",
      "Relief GLM bic1 sum -2167.6041476946384\n",
      "Regret_Relief GLM bic1 sum -2592.184886707363\n",
      "RPE_Reg GLM bic1 sum -2033.1888537506998\n",
      "RPE_Rel GLM bic1 sum -2039.8406387254317\n",
      "RPE_Reg_Rel GLM bic1 sum -1737.972814401599\n"
     ]
    }
   ],
   "source": [
    "pt_bic1_sum = []\n",
    "for model in pt_list:\n",
    "    pt_bic1_sum.append(np.sum(np.array(list(pt_data[model]['bics1'].values()))))\n",
    "    print(model,'PT bic1 sum',np.sum(np.array(list(pt_data[model]['bics1'].values()))))\n",
    "\n",
    "glm_bic1_sum = []\n",
    "for model in glms_list:\n",
    "    glm_bic1_sum.append(np.sum(np.array(list(glm_data[model]['bics1'].values()))))\n",
    "    print(model,'GLM bic1 sum',np.sum(np.array(list(glm_data[model]['bics1'].values()))))"
   ]
  },
  {
   "cell_type": "code",
   "execution_count": 129,
   "metadata": {},
   "outputs": [
    {
     "name": "stdout",
     "output_type": "stream",
     "text": [
      "Util PT bic2 mean 26.213698957696188\n",
      "RPE PT bic2 mean 33.04334653680024\n",
      "CPE PT bic2 mean 32.829002890562805\n",
      "CPE_RPE PT bic2 mean 39.45456117078737\n",
      "UtilReg PT bic2 mean 32.80957447305063\n",
      "UtilRel PT bic2 mean 32.98954213765273\n",
      "Reg_Rel PT bic2 mean 39.40887588622529\n",
      "RPE_Reg PT bic2 mean 39.42948918371745\n",
      "RPE_Rel PT bic2 mean 39.5980526698366\n",
      "RPE_Reg_Rel PT bic2 mean 46.032559853522\n",
      "CR_EV GLM bic2 mean 27.19221909758602\n",
      "RPE GLM bic2 mean 33.87203163548311\n",
      "CPE GLM bic2 mean 33.91909499447378\n",
      "CPE_RPE GLM bic2 mean 40.51446177608166\n",
      "Regret GLM bic2 mean 33.92509543312764\n",
      "Relief GLM bic2 mean 33.84530443301277\n",
      "Regret_Relief GLM bic2 mean 40.6129684304706\n",
      "RPE_Reg GLM bic2 mean 40.525625300321124\n",
      "RPE_Rel GLM bic2 mean 40.52666464172343\n",
      "RPE_Reg_Rel GLM bic2 mean 47.180821051159924\n"
     ]
    }
   ],
   "source": [
    "pt_bic2_means = []\n",
    "for model in pt_list:\n",
    "    pt_bic2_means.append(np.mean(np.array(list(pt_data[model]['bics2'].values()))))\n",
    "    print(model,'PT bic2 mean',np.mean(np.array(list(pt_data[model]['bics2'].values()))))\n",
    "\n",
    "glm_bic2_means = []\n",
    "for model in glms_list:\n",
    "    glm_bic2_means.append(np.mean(np.array(list(glm_data[model]['bics2'].values()))))\n",
    "    print(model,'GLM bic2 mean',np.mean(np.array(list(glm_data[model]['bics2'].values()))))"
   ]
  },
  {
   "cell_type": "code",
   "execution_count": 130,
   "metadata": {},
   "outputs": [
    {
     "name": "stdout",
     "output_type": "stream",
     "text": [
      "Util PT bic2 sum 419.419183323139\n",
      "RPE PT bic2 sum 528.6935445888039\n",
      "CPE PT bic2 sum 525.2640462490049\n",
      "CPE_RPE PT bic2 sum 631.272978732598\n",
      "UtilReg PT bic2 sum 524.9531915688101\n",
      "UtilRel PT bic2 sum 527.8326742024436\n",
      "Reg_Rel PT bic2 sum 630.5420141796046\n",
      "RPE_Reg PT bic2 sum 630.8718269394792\n",
      "RPE_Rel PT bic2 sum 633.5688427173856\n",
      "RPE_Reg_Rel PT bic2 sum 736.520957656352\n",
      "CR_EV GLM bic2 sum 435.0755055613763\n",
      "RPE GLM bic2 sum 541.9525061677298\n",
      "CPE GLM bic2 sum 542.7055199115805\n",
      "CPE_RPE GLM bic2 sum 648.2313884173066\n",
      "Regret GLM bic2 sum 542.8015269300422\n",
      "Relief GLM bic2 sum 541.5248709282043\n",
      "Regret_Relief GLM bic2 sum 649.8074948875296\n",
      "RPE_Reg GLM bic2 sum 648.410004805138\n",
      "RPE_Rel GLM bic2 sum 648.4266342675749\n",
      "RPE_Reg_Rel GLM bic2 sum 754.8931368185588\n"
     ]
    }
   ],
   "source": [
    "pt_bic2_sum = []\n",
    "for model in pt_list:\n",
    "    pt_bic2_sum.append(np.sum(np.array(list(pt_data[model]['bics2'].values()))))\n",
    "    print(model,'PT bic2 sum',np.sum(np.array(list(pt_data[model]['bics2'].values()))))\n",
    "\n",
    "glm_bic2_sum = []\n",
    "for model in glms_list:\n",
    "    glm_bic2_sum.append(np.sum(np.array(list(glm_data[model]['bics2'].values()))))\n",
    "    print(model,'GLM bic2 sum',np.sum(np.array(list(glm_data[model]['bics2'].values()))))"
   ]
  },
  {
   "cell_type": "code",
   "execution_count": 131,
   "metadata": {},
   "outputs": [
    {
     "name": "stdout",
     "output_type": "stream",
     "text": [
      "Util PT aic mean 217.89918119020706\n",
      "RPE PT aic mean 161.8848406157545\n",
      "CPE PT aic mean 247.62229911073257\n",
      "CPE_RPE PT aic mean 273.2436780880778\n",
      "UtilReg PT aic mean 255.39366611560146\n",
      "UtilRel PT aic mean 183.40660027476258\n",
      "Reg_Rel PT aic mean 291.5177919129078\n",
      "RPE_Reg PT aic mean 283.2724729160424\n",
      "RPE_Rel PT aic mean 215.84707846838685\n",
      "RPE_Reg_Rel PT aic mean 317.88889606139355\n",
      "CR_EV GLM aic mean -173.50887476572478\n",
      "RPE GLM aic mean -169.58919885739078\n",
      "CPE GLM aic mean -188.4145424536581\n",
      "CPE_RPE GLM aic mean -150.71656402963987\n",
      "Regret GLM aic mean -190.8147179152013\n",
      "Relief GLM aic mean -158.89831786925453\n",
      "Regret_Relief GLM aic mean -190.11922578521776\n",
      "RPE_Reg GLM aic mean -155.1819737254263\n",
      "RPE_Rel GLM aic mean -155.59771028634702\n",
      "RPE_Reg_Rel GLM aic mean -141.41558299377542\n"
     ]
    }
   ],
   "source": [
    "pt_aic_means = []\n",
    "for model in pt_list:\n",
    "    pt_aic_means.append(np.mean(np.array(list(pt_data[model]['aic'].values()))))\n",
    "    print(model,'PT aic mean',np.mean(np.array(list(pt_data[model]['aic'].values()))))\n",
    "\n",
    "glm_aic_means = []\n",
    "for model in glms_list:\n",
    "    glm_aic_means.append(np.mean(np.array(list(glm_data[model]['aic'].values()))))\n",
    "    print(model,'GLM aic mean',np.mean(np.array(list(glm_data[model]['aic'].values()))))"
   ]
  },
  {
   "cell_type": "code",
   "execution_count": 132,
   "metadata": {},
   "outputs": [
    {
     "name": "stdout",
     "output_type": "stream",
     "text": [
      "Util PT aic sum 3486.386899043313\n",
      "RPE PT aic sum 2590.157449852072\n",
      "CPE PT aic sum 3961.956785771721\n",
      "CPE_RPE PT aic sum 4371.898849409245\n",
      "UtilReg PT aic sum 4086.2986578496234\n",
      "UtilRel PT aic sum 2934.5056043962013\n",
      "Reg_Rel PT aic sum 4664.284670606525\n",
      "RPE_Reg PT aic sum 4532.359566656678\n",
      "RPE_Rel PT aic sum 3453.5532554941897\n",
      "RPE_Reg_Rel PT aic sum 5086.222336982297\n",
      "CR_EV GLM aic mean -2776.1419962515965\n",
      "RPE GLM aic mean -2713.4271817182525\n",
      "CPE GLM aic mean -3014.6326792585296\n",
      "CPE_RPE GLM aic mean -2411.465024474238\n",
      "Regret GLM aic mean -3053.035486643221\n",
      "Relief GLM aic mean -2542.3730859080724\n",
      "Regret_Relief GLM aic mean -3041.9076125634842\n",
      "RPE_Reg GLM aic mean -2482.911579606821\n",
      "RPE_Rel GLM aic mean -2489.5633645815524\n",
      "RPE_Reg_Rel GLM aic mean -2262.6493279004067\n"
     ]
    }
   ],
   "source": [
    "pt_aic_sum = []\n",
    "for model in pt_list:\n",
    "    pt_aic_sum.append(np.sum(np.array(list(pt_data[model]['aic'].values()))))\n",
    "    print(model,'PT aic sum',np.sum(np.array(list(pt_data[model]['aic'].values()))))\n",
    "\n",
    "glm_aic_sum = []\n",
    "for model in glms_list:\n",
    "    glm_aic_sum.append(np.sum(np.array(list(glm_data[model]['aic'].values()))))\n",
    "    print(model,'GLM aic mean',np.sum(np.array(list(glm_data[model]['aic'].values()))))"
   ]
  },
  {
   "attachments": {},
   "cell_type": "markdown",
   "metadata": {},
   "source": [
    "plot residuals of functions "
   ]
  },
  {
   "attachments": {},
   "cell_type": "markdown",
   "metadata": {},
   "source": [
    "Model 2: Dual Risk "
   ]
  },
  {
   "cell_type": "code",
   "execution_count": null,
   "metadata": {},
   "outputs": [],
   "source": [
    "### use optimal parameters to run model \n",
    "\n",
    "pt_list = ['Util','RPE','CPE','CPE_RPE','UtilReg','UtilRel','Reg_Rel','RPE_Reg','RPE_Rel','RPE_Reg_Rel']\n",
    "lam_method = 'exp'\n",
    "pt_data = {}\n",
    "\n",
    "for model in pt_list:\n",
    "\n",
    "    reg_list = pt_glms_dict[model]\n",
    "    n_regs = int(len(reg_list)/3)\n",
    "    params = pt_results[model]['param_fits']\n",
    "\n",
    "    mood_est_df, resid_df, rss_dict, aic_dict, bic1_dict, bic2_dict, rsq_dict = \\\n",
    "    SWB_modeling_utils.fit_swb(model_input,subj_ids,params,n_regs,reg_list,lam_method)\n",
    "    \n",
    "\n",
    "    pt_data[model] = {'mood_est': mood_est_df,\n",
    "                            'residuals':resid_df,\n",
    "                           'rss': rss_dict,\n",
    "                            'aic':aic_dict,\n",
    "                           'bics1': bic1_dict,\n",
    "                            'bics2': bic2_dict,\n",
    "                           'rsqs': rsq_dict\n",
    "                           }\n"
   ]
  },
  {
   "cell_type": "code",
   "execution_count": null,
   "metadata": {},
   "outputs": [],
   "source": []
  },
  {
   "attachments": {},
   "cell_type": "markdown",
   "metadata": {},
   "source": [
    "# PT Params with BDI"
   ]
  },
  {
   "cell_type": "code",
   "execution_count": 135,
   "metadata": {},
   "outputs": [],
   "source": [
    "bdi_info = pd.read_excel(f'{swb_dir}SWB_subjects.xlsx', sheet_name='Usable_Subjects', usecols=[3,4])\n",
    "swb_bdi_list = list(bdi_info.SWB_BDI)\n",
    "np_bdi_list = list(bdi_info.BDI)"
   ]
  },
  {
   "cell_type": "code",
   "execution_count": 155,
   "metadata": {},
   "outputs": [
    {
     "data": {
      "text/plain": [
       "[13, 32, 11, 41, 14, 14, 8, 10, 26, 12, 10, 7, 11, 22, 32, 19]"
      ]
     },
     "execution_count": 155,
     "metadata": {},
     "output_type": "execute_result"
    }
   ],
   "source": [
    "swb_bdi_list"
   ]
  },
  {
   "cell_type": "code",
   "execution_count": 139,
   "metadata": {},
   "outputs": [],
   "source": [
    "pt_params_df= pd.read_csv('/Users/alexandrafink/Documents/GraduateSchool/SaezLab/SWB/swb_computational_modeling/swb_behav_models/data/swb_base_pt_params.csv')"
   ]
  },
  {
   "cell_type": "code",
   "execution_count": 141,
   "metadata": {},
   "outputs": [],
   "source": [
    "pt_params_df['swb_bdi'] = swb_bdi_list\n",
    "pt_params_df['np_bdi'] = np_bdi_list"
   ]
  },
  {
   "cell_type": "code",
   "execution_count": 142,
   "metadata": {},
   "outputs": [
    {
     "data": {
      "text/html": [
       "<div>\n",
       "<style scoped>\n",
       "    .dataframe tbody tr th:only-of-type {\n",
       "        vertical-align: middle;\n",
       "    }\n",
       "\n",
       "    .dataframe tbody tr th {\n",
       "        vertical-align: top;\n",
       "    }\n",
       "\n",
       "    .dataframe thead th {\n",
       "        text-align: right;\n",
       "    }\n",
       "</style>\n",
       "<table border=\"1\" class=\"dataframe\">\n",
       "  <thead>\n",
       "    <tr style=\"text-align: right;\">\n",
       "      <th></th>\n",
       "      <th>PatientID</th>\n",
       "      <th>Risk_Aversion</th>\n",
       "      <th>Loss_Aversion</th>\n",
       "      <th>Inverse_Temperature</th>\n",
       "      <th>swb_bdi</th>\n",
       "      <th>np_bdi</th>\n",
       "    </tr>\n",
       "  </thead>\n",
       "  <tbody>\n",
       "    <tr>\n",
       "      <th>0</th>\n",
       "      <td>DA8</td>\n",
       "      <td>1.212121</td>\n",
       "      <td>5.111118</td>\n",
       "      <td>2.625557</td>\n",
       "      <td>13</td>\n",
       "      <td>13</td>\n",
       "    </tr>\n",
       "    <tr>\n",
       "      <th>1</th>\n",
       "      <td>DA9</td>\n",
       "      <td>1.484386</td>\n",
       "      <td>0.836855</td>\n",
       "      <td>3.261052</td>\n",
       "      <td>32</td>\n",
       "      <td>32</td>\n",
       "    </tr>\n",
       "    <tr>\n",
       "      <th>2</th>\n",
       "      <td>DA10</td>\n",
       "      <td>0.781768</td>\n",
       "      <td>1.727190</td>\n",
       "      <td>3.058603</td>\n",
       "      <td>11</td>\n",
       "      <td>11</td>\n",
       "    </tr>\n",
       "    <tr>\n",
       "      <th>3</th>\n",
       "      <td>DA11</td>\n",
       "      <td>1.199625</td>\n",
       "      <td>0.226255</td>\n",
       "      <td>1.527750</td>\n",
       "      <td>41</td>\n",
       "      <td>41</td>\n",
       "    </tr>\n",
       "    <tr>\n",
       "      <th>4</th>\n",
       "      <td>DA023</td>\n",
       "      <td>0.994608</td>\n",
       "      <td>1.864381</td>\n",
       "      <td>2.089041</td>\n",
       "      <td>14</td>\n",
       "      <td>14</td>\n",
       "    </tr>\n",
       "    <tr>\n",
       "      <th>5</th>\n",
       "      <td>MS002</td>\n",
       "      <td>0.818264</td>\n",
       "      <td>3.179061</td>\n",
       "      <td>1.528016</td>\n",
       "      <td>14</td>\n",
       "      <td>14</td>\n",
       "    </tr>\n",
       "    <tr>\n",
       "      <th>6</th>\n",
       "      <td>MS003</td>\n",
       "      <td>0.733145</td>\n",
       "      <td>0.001000</td>\n",
       "      <td>5.118690</td>\n",
       "      <td>8</td>\n",
       "      <td>6</td>\n",
       "    </tr>\n",
       "    <tr>\n",
       "      <th>7</th>\n",
       "      <td>MS016</td>\n",
       "      <td>0.623760</td>\n",
       "      <td>0.969737</td>\n",
       "      <td>6.760218</td>\n",
       "      <td>10</td>\n",
       "      <td>0</td>\n",
       "    </tr>\n",
       "    <tr>\n",
       "      <th>8</th>\n",
       "      <td>MS017</td>\n",
       "      <td>1.325976</td>\n",
       "      <td>0.989178</td>\n",
       "      <td>6.336838</td>\n",
       "      <td>26</td>\n",
       "      <td>29</td>\n",
       "    </tr>\n",
       "    <tr>\n",
       "      <th>9</th>\n",
       "      <td>MS019</td>\n",
       "      <td>1.140644</td>\n",
       "      <td>0.001000</td>\n",
       "      <td>6.780384</td>\n",
       "      <td>12</td>\n",
       "      <td>13</td>\n",
       "    </tr>\n",
       "    <tr>\n",
       "      <th>10</th>\n",
       "      <td>MS022</td>\n",
       "      <td>1.921448</td>\n",
       "      <td>0.102132</td>\n",
       "      <td>3.493744</td>\n",
       "      <td>10</td>\n",
       "      <td>12</td>\n",
       "    </tr>\n",
       "    <tr>\n",
       "      <th>11</th>\n",
       "      <td>MS025</td>\n",
       "      <td>0.887061</td>\n",
       "      <td>10.000000</td>\n",
       "      <td>0.657655</td>\n",
       "      <td>7</td>\n",
       "      <td>10</td>\n",
       "    </tr>\n",
       "    <tr>\n",
       "      <th>12</th>\n",
       "      <td>MS026</td>\n",
       "      <td>1.442294</td>\n",
       "      <td>1.728298</td>\n",
       "      <td>1.999431</td>\n",
       "      <td>11</td>\n",
       "      <td>30</td>\n",
       "    </tr>\n",
       "    <tr>\n",
       "      <th>13</th>\n",
       "      <td>MS027</td>\n",
       "      <td>0.641948</td>\n",
       "      <td>0.648616</td>\n",
       "      <td>5.595923</td>\n",
       "      <td>22</td>\n",
       "      <td>43</td>\n",
       "    </tr>\n",
       "    <tr>\n",
       "      <th>14</th>\n",
       "      <td>MS029</td>\n",
       "      <td>0.001000</td>\n",
       "      <td>0.603489</td>\n",
       "      <td>0.723385</td>\n",
       "      <td>32</td>\n",
       "      <td>27</td>\n",
       "    </tr>\n",
       "    <tr>\n",
       "      <th>15</th>\n",
       "      <td>MS030</td>\n",
       "      <td>0.732821</td>\n",
       "      <td>1.144258</td>\n",
       "      <td>5.357342</td>\n",
       "      <td>19</td>\n",
       "      <td>19</td>\n",
       "    </tr>\n",
       "  </tbody>\n",
       "</table>\n",
       "</div>"
      ],
      "text/plain": [
       "   PatientID  Risk_Aversion  Loss_Aversion  Inverse_Temperature  swb_bdi  \\\n",
       "0        DA8       1.212121       5.111118             2.625557       13   \n",
       "1        DA9       1.484386       0.836855             3.261052       32   \n",
       "2       DA10       0.781768       1.727190             3.058603       11   \n",
       "3       DA11       1.199625       0.226255             1.527750       41   \n",
       "4      DA023       0.994608       1.864381             2.089041       14   \n",
       "5      MS002       0.818264       3.179061             1.528016       14   \n",
       "6      MS003       0.733145       0.001000             5.118690        8   \n",
       "7      MS016       0.623760       0.969737             6.760218       10   \n",
       "8      MS017       1.325976       0.989178             6.336838       26   \n",
       "9      MS019       1.140644       0.001000             6.780384       12   \n",
       "10     MS022       1.921448       0.102132             3.493744       10   \n",
       "11     MS025       0.887061      10.000000             0.657655        7   \n",
       "12     MS026       1.442294       1.728298             1.999431       11   \n",
       "13     MS027       0.641948       0.648616             5.595923       22   \n",
       "14     MS029       0.001000       0.603489             0.723385       32   \n",
       "15     MS030       0.732821       1.144258             5.357342       19   \n",
       "\n",
       "    np_bdi  \n",
       "0       13  \n",
       "1       32  \n",
       "2       11  \n",
       "3       41  \n",
       "4       14  \n",
       "5       14  \n",
       "6        6  \n",
       "7        0  \n",
       "8       29  \n",
       "9       13  \n",
       "10      12  \n",
       "11      10  \n",
       "12      30  \n",
       "13      43  \n",
       "14      27  \n",
       "15      19  "
      ]
     },
     "execution_count": 142,
     "metadata": {},
     "output_type": "execute_result"
    }
   ],
   "source": [
    "pt_params_df"
   ]
  },
  {
   "cell_type": "code",
   "execution_count": null,
   "metadata": {},
   "outputs": [],
   "source": [
    "pt_list = ['Util','RPE','CPE','CPE_RPE','UtilReg','UtilRel','Reg_Rel','RPE_Reg','RPE_Rel','RPE_Reg_Rel']"
   ]
  },
  {
   "cell_type": "code",
   "execution_count": 144,
   "metadata": {},
   "outputs": [
    {
     "data": {
      "text/html": [
       "<div>\n",
       "<style scoped>\n",
       "    .dataframe tbody tr th:only-of-type {\n",
       "        vertical-align: middle;\n",
       "    }\n",
       "\n",
       "    .dataframe tbody tr th {\n",
       "        vertical-align: top;\n",
       "    }\n",
       "\n",
       "    .dataframe thead th {\n",
       "        text-align: right;\n",
       "    }\n",
       "</style>\n",
       "<table border=\"1\" class=\"dataframe\">\n",
       "  <thead>\n",
       "    <tr style=\"text-align: right;\">\n",
       "      <th></th>\n",
       "      <th>DA8</th>\n",
       "      <th>DA9</th>\n",
       "      <th>DA10</th>\n",
       "      <th>DA11</th>\n",
       "      <th>DA023</th>\n",
       "      <th>MS002</th>\n",
       "      <th>MS003</th>\n",
       "      <th>MS016</th>\n",
       "      <th>MS017</th>\n",
       "      <th>MS019</th>\n",
       "      <th>MS022</th>\n",
       "      <th>MS025</th>\n",
       "      <th>MS026</th>\n",
       "      <th>MS027</th>\n",
       "      <th>MS029</th>\n",
       "      <th>MS030</th>\n",
       "    </tr>\n",
       "  </thead>\n",
       "  <tbody>\n",
       "    <tr>\n",
       "      <th>0</th>\n",
       "      <td>0.171340</td>\n",
       "      <td>0.072487</td>\n",
       "      <td>0.354708</td>\n",
       "      <td>4.876799e-19</td>\n",
       "      <td>1.000000</td>\n",
       "      <td>0.856688</td>\n",
       "      <td>1.664079e-16</td>\n",
       "      <td>0.261294</td>\n",
       "      <td>0.255569</td>\n",
       "      <td>0.335089</td>\n",
       "      <td>0.091675</td>\n",
       "      <td>0.417869</td>\n",
       "      <td>1.000000</td>\n",
       "      <td>1.000000</td>\n",
       "      <td>0.433918</td>\n",
       "      <td>9.552593e-17</td>\n",
       "    </tr>\n",
       "    <tr>\n",
       "      <th>1</th>\n",
       "      <td>0.708307</td>\n",
       "      <td>0.547028</td>\n",
       "      <td>0.746319</td>\n",
       "      <td>1.690039e-01</td>\n",
       "      <td>0.201820</td>\n",
       "      <td>0.414120</td>\n",
       "      <td>-3.125438e-02</td>\n",
       "      <td>0.165853</td>\n",
       "      <td>0.614298</td>\n",
       "      <td>-0.001985</td>\n",
       "      <td>0.128026</td>\n",
       "      <td>0.366521</td>\n",
       "      <td>0.226285</td>\n",
       "      <td>0.118272</td>\n",
       "      <td>0.173142</td>\n",
       "      <td>6.155183e-02</td>\n",
       "    </tr>\n",
       "    <tr>\n",
       "      <th>2</th>\n",
       "      <td>0.086227</td>\n",
       "      <td>-1.246497</td>\n",
       "      <td>0.059987</td>\n",
       "      <td>-3.404675e-01</td>\n",
       "      <td>-0.043391</td>\n",
       "      <td>-0.155890</td>\n",
       "      <td>7.372084e-01</td>\n",
       "      <td>0.112377</td>\n",
       "      <td>-0.047650</td>\n",
       "      <td>0.412159</td>\n",
       "      <td>3.736717</td>\n",
       "      <td>0.279703</td>\n",
       "      <td>0.212023</td>\n",
       "      <td>-0.337535</td>\n",
       "      <td>0.323971</td>\n",
       "      <td>5.378479e-01</td>\n",
       "    </tr>\n",
       "    <tr>\n",
       "      <th>3</th>\n",
       "      <td>-0.016427</td>\n",
       "      <td>0.818168</td>\n",
       "      <td>0.421719</td>\n",
       "      <td>1.094101e+00</td>\n",
       "      <td>0.056284</td>\n",
       "      <td>0.185387</td>\n",
       "      <td>3.357622e-02</td>\n",
       "      <td>0.273431</td>\n",
       "      <td>0.375108</td>\n",
       "      <td>0.477529</td>\n",
       "      <td>-0.171159</td>\n",
       "      <td>-0.097489</td>\n",
       "      <td>-0.047033</td>\n",
       "      <td>0.287910</td>\n",
       "      <td>0.372680</td>\n",
       "      <td>-4.211364e-01</td>\n",
       "    </tr>\n",
       "    <tr>\n",
       "      <th>4</th>\n",
       "      <td>0.798186</td>\n",
       "      <td>0.585450</td>\n",
       "      <td>0.531952</td>\n",
       "      <td>5.795859e-01</td>\n",
       "      <td>0.109854</td>\n",
       "      <td>0.093518</td>\n",
       "      <td>4.241566e-01</td>\n",
       "      <td>0.307406</td>\n",
       "      <td>0.706123</td>\n",
       "      <td>0.295127</td>\n",
       "      <td>0.528214</td>\n",
       "      <td>0.175843</td>\n",
       "      <td>0.116089</td>\n",
       "      <td>0.014636</td>\n",
       "      <td>0.197988</td>\n",
       "      <td>-1.018461e-01</td>\n",
       "    </tr>\n",
       "  </tbody>\n",
       "</table>\n",
       "</div>"
      ],
      "text/plain": [
       "        DA8       DA9      DA10          DA11     DA023     MS002  \\\n",
       "0  0.171340  0.072487  0.354708  4.876799e-19  1.000000  0.856688   \n",
       "1  0.708307  0.547028  0.746319  1.690039e-01  0.201820  0.414120   \n",
       "2  0.086227 -1.246497  0.059987 -3.404675e-01 -0.043391 -0.155890   \n",
       "3 -0.016427  0.818168  0.421719  1.094101e+00  0.056284  0.185387   \n",
       "4  0.798186  0.585450  0.531952  5.795859e-01  0.109854  0.093518   \n",
       "\n",
       "          MS003     MS016     MS017     MS019     MS022     MS025     MS026  \\\n",
       "0  1.664079e-16  0.261294  0.255569  0.335089  0.091675  0.417869  1.000000   \n",
       "1 -3.125438e-02  0.165853  0.614298 -0.001985  0.128026  0.366521  0.226285   \n",
       "2  7.372084e-01  0.112377 -0.047650  0.412159  3.736717  0.279703  0.212023   \n",
       "3  3.357622e-02  0.273431  0.375108  0.477529 -0.171159 -0.097489 -0.047033   \n",
       "4  4.241566e-01  0.307406  0.706123  0.295127  0.528214  0.175843  0.116089   \n",
       "\n",
       "      MS027     MS029         MS030  \n",
       "0  1.000000  0.433918  9.552593e-17  \n",
       "1  0.118272  0.173142  6.155183e-02  \n",
       "2 -0.337535  0.323971  5.378479e-01  \n",
       "3  0.287910  0.372680 -4.211364e-01  \n",
       "4  0.014636  0.197988 -1.018461e-01  "
      ]
     },
     "execution_count": 144,
     "metadata": {},
     "output_type": "execute_result"
    }
   ],
   "source": [
    "pt_results['CPE']['param_fits']"
   ]
  },
  {
   "cell_type": "code",
   "execution_count": 145,
   "metadata": {},
   "outputs": [],
   "source": [
    "util_fits = pt_results['Util']['param_fits'] \n",
    "rpe_fits = pt_results['RPE']['param_fits'] \n",
    "cpe_fits = pt_results['CPE']['param_fits'] \n",
    "cpe_rpe_fits = pt_results['CPE_RPE']['param_fits'] \n",
    "regret_fits = pt_results['UtilReg']['param_fits'] \n",
    "relief_fits = pt_results['UtilRel']['param_fits'] \n",
    "reg_rel_fits = pt_results['Reg_Rel']['param_fits'] \n",
    "rpe_reg_fits = pt_results['RPE_Reg']['param_fits'] \n",
    "rpe_rel_fits = pt_results['RPE_Rel']['param_fits'] \n",
    "rpe_reg_rel_fits = pt_results['RPE_Reg_Rel']['param_fits'] "
   ]
  },
  {
   "cell_type": "code",
   "execution_count": 151,
   "metadata": {},
   "outputs": [
    {
     "data": {
      "text/html": [
       "<div>\n",
       "<style scoped>\n",
       "    .dataframe tbody tr th:only-of-type {\n",
       "        vertical-align: middle;\n",
       "    }\n",
       "\n",
       "    .dataframe tbody tr th {\n",
       "        vertical-align: top;\n",
       "    }\n",
       "\n",
       "    .dataframe thead th {\n",
       "        text-align: right;\n",
       "    }\n",
       "</style>\n",
       "<table border=\"1\" class=\"dataframe\">\n",
       "  <thead>\n",
       "    <tr style=\"text-align: right;\">\n",
       "      <th></th>\n",
       "      <th>DA8</th>\n",
       "      <th>DA9</th>\n",
       "      <th>DA10</th>\n",
       "      <th>DA11</th>\n",
       "      <th>DA023</th>\n",
       "      <th>MS002</th>\n",
       "      <th>MS003</th>\n",
       "      <th>MS016</th>\n",
       "      <th>MS017</th>\n",
       "      <th>MS019</th>\n",
       "      <th>MS022</th>\n",
       "      <th>MS025</th>\n",
       "      <th>MS026</th>\n",
       "      <th>MS027</th>\n",
       "      <th>MS029</th>\n",
       "      <th>MS030</th>\n",
       "    </tr>\n",
       "  </thead>\n",
       "  <tbody>\n",
       "    <tr>\n",
       "      <th>0</th>\n",
       "      <td>0.109938</td>\n",
       "      <td>0.165124</td>\n",
       "      <td>0.511086</td>\n",
       "      <td>1.111957e-19</td>\n",
       "      <td>1.348999e-16</td>\n",
       "      <td>1.000000</td>\n",
       "      <td>1.917530e-19</td>\n",
       "      <td>0.363836</td>\n",
       "      <td>0.724420</td>\n",
       "      <td>0.997382</td>\n",
       "      <td>0.318743</td>\n",
       "      <td>0.403484</td>\n",
       "      <td>0.145579</td>\n",
       "      <td>1.000000</td>\n",
       "      <td>0.423202</td>\n",
       "      <td>2.051334e-17</td>\n",
       "    </tr>\n",
       "    <tr>\n",
       "      <th>1</th>\n",
       "      <td>0.178914</td>\n",
       "      <td>0.097486</td>\n",
       "      <td>0.291534</td>\n",
       "      <td>-3.948930e-02</td>\n",
       "      <td>3.379698e-02</td>\n",
       "      <td>0.227056</td>\n",
       "      <td>-2.195210e-01</td>\n",
       "      <td>-0.112674</td>\n",
       "      <td>0.039380</td>\n",
       "      <td>-0.314457</td>\n",
       "      <td>-0.232347</td>\n",
       "      <td>0.169491</td>\n",
       "      <td>0.017417</td>\n",
       "      <td>0.095655</td>\n",
       "      <td>-0.071803</td>\n",
       "      <td>1.294704e-01</td>\n",
       "    </tr>\n",
       "    <tr>\n",
       "      <th>2</th>\n",
       "      <td>-0.000546</td>\n",
       "      <td>-1.402404</td>\n",
       "      <td>-0.110339</td>\n",
       "      <td>-1.765902e-01</td>\n",
       "      <td>3.552507e-01</td>\n",
       "      <td>-0.141384</td>\n",
       "      <td>7.503986e-01</td>\n",
       "      <td>0.240015</td>\n",
       "      <td>0.219351</td>\n",
       "      <td>0.444627</td>\n",
       "      <td>3.546439</td>\n",
       "      <td>0.273105</td>\n",
       "      <td>0.646258</td>\n",
       "      <td>-0.331553</td>\n",
       "      <td>0.404121</td>\n",
       "      <td>5.480459e-01</td>\n",
       "    </tr>\n",
       "    <tr>\n",
       "      <th>3</th>\n",
       "      <td>0.062519</td>\n",
       "      <td>0.742113</td>\n",
       "      <td>0.502410</td>\n",
       "      <td>7.484754e-01</td>\n",
       "      <td>8.161764e-02</td>\n",
       "      <td>0.147485</td>\n",
       "      <td>-1.428509e-01</td>\n",
       "      <td>0.010816</td>\n",
       "      <td>0.151426</td>\n",
       "      <td>0.135376</td>\n",
       "      <td>-0.247973</td>\n",
       "      <td>-0.096501</td>\n",
       "      <td>-0.183495</td>\n",
       "      <td>0.270773</td>\n",
       "      <td>0.209376</td>\n",
       "      <td>-4.307828e-01</td>\n",
       "    </tr>\n",
       "  </tbody>\n",
       "</table>\n",
       "</div>"
      ],
      "text/plain": [
       "        DA8       DA9      DA10          DA11         DA023     MS002  \\\n",
       "0  0.109938  0.165124  0.511086  1.111957e-19  1.348999e-16  1.000000   \n",
       "1  0.178914  0.097486  0.291534 -3.948930e-02  3.379698e-02  0.227056   \n",
       "2 -0.000546 -1.402404 -0.110339 -1.765902e-01  3.552507e-01 -0.141384   \n",
       "3  0.062519  0.742113  0.502410  7.484754e-01  8.161764e-02  0.147485   \n",
       "\n",
       "          MS003     MS016     MS017     MS019     MS022     MS025     MS026  \\\n",
       "0  1.917530e-19  0.363836  0.724420  0.997382  0.318743  0.403484  0.145579   \n",
       "1 -2.195210e-01 -0.112674  0.039380 -0.314457 -0.232347  0.169491  0.017417   \n",
       "2  7.503986e-01  0.240015  0.219351  0.444627  3.546439  0.273105  0.646258   \n",
       "3 -1.428509e-01  0.010816  0.151426  0.135376 -0.247973 -0.096501 -0.183495   \n",
       "\n",
       "      MS027     MS029         MS030  \n",
       "0  1.000000  0.423202  2.051334e-17  \n",
       "1  0.095655 -0.071803  1.294704e-01  \n",
       "2 -0.331553  0.404121  5.480459e-01  \n",
       "3  0.270773  0.209376 -4.307828e-01  "
      ]
     },
     "execution_count": 151,
     "metadata": {},
     "output_type": "execute_result"
    }
   ],
   "source": [
    "util_fits"
   ]
  },
  {
   "cell_type": "code",
   "execution_count": 152,
   "metadata": {},
   "outputs": [],
   "source": [
    "util_s_weights = util_fits.iloc[2]\n",
    "util_g_weights = util_fits.iloc[3]\n",
    "rpe_weights = rpe_fits.iloc[-1]\n",
    "cpe_weights = cpe_fits.iloc[-1]\n",
    "cpe_rpe_weights = cpe_rpe_fits.iloc[-1]\n",
    "regret_weights = regret_fits.iloc[-1]\n",
    "relief_weights = relief_fits.iloc[-1]\n",
    "reg_rel_weights = reg_rel_fits.iloc[-1]\n",
    "rel_reg_weights = reg_rel_fits.iloc[-2]\n",
    "reg_rpe_rel_weights = rpe_reg_rel_fits.iloc[-2]\n",
    "\n"
   ]
  },
  {
   "cell_type": "code",
   "execution_count": 160,
   "metadata": {},
   "outputs": [
    {
     "data": {
      "text/plain": [
       "<matplotlib.collections.PathCollection at 0x136f8d210>"
      ]
     },
     "execution_count": 160,
     "metadata": {},
     "output_type": "execute_result"
    },
    {
     "data": {
      "image/png": "[encoded data removed]",
      "text/plain": [
       "<Figure size 640x480 with 1 Axes>"
      ]
     },
     "metadata": {},
     "output_type": "display_data"
    }
   ],
   "source": [
    "plt.scatter(swb_bdi_list,util_g_weights)"
   ]
  },
  {
   "cell_type": "code",
   "execution_count": 161,
   "metadata": {},
   "outputs": [
    {
     "data": {
      "text/plain": [
       "<matplotlib.collections.PathCollection at 0x136c8e190>"
      ]
     },
     "execution_count": 161,
     "metadata": {},
     "output_type": "execute_result"
    },
    {
     "data": {
      "image/png": "[encoded data removed]",
      "text/plain": [
       "<Figure size 640x480 with 1 Axes>"
      ]
     },
     "metadata": {},
     "output_type": "display_data"
    }
   ],
   "source": [
    "plt.scatter(np_bdi_list,util_g_weights)"
   ]
  },
  {
   "cell_type": "code",
   "execution_count": 164,
   "metadata": {},
   "outputs": [
    {
     "data": {
      "text/plain": [
       "<matplotlib.collections.PathCollection at 0x137088190>"
      ]
     },
     "execution_count": 164,
     "metadata": {},
     "output_type": "execute_result"
    },
    {
     "data": {
      "image/png": "[encoded data removed]",
      "text/plain": [
       "<Figure size 640x480 with 1 Axes>"
      ]
     },
     "metadata": {},
     "output_type": "display_data"
    }
   ],
   "source": [
    "plt.scatter(swb_bdi_list,rpe_weights)"
   ]
  },
  {
   "cell_type": "code",
   "execution_count": 162,
   "metadata": {},
   "outputs": [
    {
     "data": {
      "text/plain": [
       "<matplotlib.collections.PathCollection at 0x137346e50>"
      ]
     },
     "execution_count": 162,
     "metadata": {},
     "output_type": "execute_result"
    },
    {
     "data": {
      "image/png": "[encoded data removed]",
      "text/plain": [
       "<Figure size 640x480 with 1 Axes>"
      ]
     },
     "metadata": {},
     "output_type": "display_data"
    }
   ],
   "source": [
    "plt.scatter(np_bdi_list,rpe_weights)"
   ]
  },
  {
   "cell_type": "code",
   "execution_count": 165,
   "metadata": {},
   "outputs": [
    {
     "data": {
      "text/plain": [
       "<matplotlib.collections.PathCollection at 0x1375955d0>"
      ]
     },
     "execution_count": 165,
     "metadata": {},
     "output_type": "execute_result"
    },
    {
     "data": {
      "image/png": "[encoded data removed]",
      "text/plain": [
       "<Figure size 640x480 with 1 Axes>"
      ]
     },
     "metadata": {},
     "output_type": "display_data"
    }
   ],
   "source": [
    "plt.scatter(swb_bdi_list,cpe_weights)"
   ]
  },
  {
   "cell_type": "code",
   "execution_count": 166,
   "metadata": {},
   "outputs": [
    {
     "data": {
      "text/plain": [
       "<matplotlib.collections.PathCollection at 0x136d7dbd0>"
      ]
     },
     "execution_count": 166,
     "metadata": {},
     "output_type": "execute_result"
    },
    {
     "data": {
      "image/png": "[encoded data removed]",
      "text/plain": [
       "<Figure size 640x480 with 1 Axes>"
      ]
     },
     "metadata": {},
     "output_type": "display_data"
    }
   ],
   "source": [
    "plt.scatter(np_bdi_list,cpe_weights)"
   ]
  },
  {
   "cell_type": "code",
   "execution_count": 168,
   "metadata": {},
   "outputs": [
    {
     "data": {
      "text/plain": [
       "<matplotlib.collections.PathCollection at 0x136d3e250>"
      ]
     },
     "execution_count": 168,
     "metadata": {},
     "output_type": "execute_result"
    },
    {
     "data": {
      "image/png": "[encoded data removed]",
      "text/plain": [
       "<Figure size 640x480 with 1 Axes>"
      ]
     },
     "metadata": {},
     "output_type": "display_data"
    }
   ],
   "source": [
    "plt.scatter(swb_bdi_list,cpe_rpe_weights)"
   ]
  },
  {
   "cell_type": "code",
   "execution_count": 169,
   "metadata": {},
   "outputs": [
    {
     "data": {
      "text/plain": [
       "<matplotlib.collections.PathCollection at 0x137804a50>"
      ]
     },
     "execution_count": 169,
     "metadata": {},
     "output_type": "execute_result"
    },
    {
     "data": {
      "image/png": "[encoded data removed]",
      "text/plain": [
       "<Figure size 640x480 with 1 Axes>"
      ]
     },
     "metadata": {},
     "output_type": "display_data"
    }
   ],
   "source": [
    "plt.scatter(np_bdi_list,cpe_rpe_weights)"
   ]
  },
  {
   "cell_type": "code",
   "execution_count": 170,
   "metadata": {},
   "outputs": [
    {
     "data": {
      "text/plain": [
       "<matplotlib.collections.PathCollection at 0x1378b73d0>"
      ]
     },
     "execution_count": 170,
     "metadata": {},
     "output_type": "execute_result"
    },
    {
     "data": {
      "image/png": "[encoded data removed]",
      "text/plain": [
       "<Figure size 640x480 with 1 Axes>"
      ]
     },
     "metadata": {},
     "output_type": "display_data"
    }
   ],
   "source": [
    "plt.scatter(swb_bdi_list,regret_weights)"
   ]
  },
  {
   "cell_type": "code",
   "execution_count": 171,
   "metadata": {},
   "outputs": [
    {
     "data": {
      "text/plain": [
       "<matplotlib.collections.PathCollection at 0x13793d590>"
      ]
     },
     "execution_count": 171,
     "metadata": {},
     "output_type": "execute_result"
    },
    {
     "data": {
      "image/png": "[encoded data removed]",
      "text/plain": [
       "<Figure size 640x480 with 1 Axes>"
      ]
     },
     "metadata": {},
     "output_type": "display_data"
    }
   ],
   "source": [
    "plt.scatter(np_bdi_list,regret_weights)"
   ]
  },
  {
   "cell_type": "code",
   "execution_count": 172,
   "metadata": {},
   "outputs": [
    {
     "data": {
      "text/plain": [
       "<matplotlib.collections.PathCollection at 0x1379945d0>"
      ]
     },
     "execution_count": 172,
     "metadata": {},
     "output_type": "execute_result"
    },
    {
     "data": {
      "image/png": "[encoded data removed]",
      "text/plain": [
       "<Figure size 640x480 with 1 Axes>"
      ]
     },
     "metadata": {},
     "output_type": "display_data"
    }
   ],
   "source": [
    "plt.scatter(swb_bdi_list,relief_weights)"
   ]
  },
  {
   "cell_type": "code",
   "execution_count": 173,
   "metadata": {},
   "outputs": [
    {
     "data": {
      "text/plain": [
       "<matplotlib.collections.PathCollection at 0x137a68b90>"
      ]
     },
     "execution_count": 173,
     "metadata": {},
     "output_type": "execute_result"
    },
    {
     "data": {
      "image/png": "[encoded data removed]",
      "text/plain": [
       "<Figure size 640x480 with 1 Axes>"
      ]
     },
     "metadata": {},
     "output_type": "display_data"
    }
   ],
   "source": [
    "plt.scatter(np_bdi_list,relief_weights)"
   ]
  },
  {
   "cell_type": "code",
   "execution_count": 174,
   "metadata": {},
   "outputs": [
    {
     "data": {
      "text/plain": [
       "<matplotlib.collections.PathCollection at 0x137989c10>"
      ]
     },
     "execution_count": 174,
     "metadata": {},
     "output_type": "execute_result"
    },
    {
     "data": {
      "image/png": "[encoded data removed]",
      "text/plain": [
       "<Figure size 640x480 with 1 Axes>"
      ]
     },
     "metadata": {},
     "output_type": "display_data"
    }
   ],
   "source": [
    "plt.scatter(swb_bdi_list,reg_rel_weights)"
   ]
  },
  {
   "cell_type": "code",
   "execution_count": 175,
   "metadata": {},
   "outputs": [
    {
     "data": {
      "text/plain": [
       "<matplotlib.collections.PathCollection at 0x136eaf910>"
      ]
     },
     "execution_count": 175,
     "metadata": {},
     "output_type": "execute_result"
    },
    {
     "data": {
      "image/png": "[encoded data removed]",
      "text/plain": [
       "<Figure size 640x480 with 1 Axes>"
      ]
     },
     "metadata": {},
     "output_type": "display_data"
    }
   ],
   "source": [
    "plt.scatter(np_bdi_list,reg_rel_weights)"
   ]
  },
  {
   "cell_type": "code",
   "execution_count": 176,
   "metadata": {},
   "outputs": [
    {
     "data": {
      "text/plain": [
       "<matplotlib.collections.PathCollection at 0x1360595d0>"
      ]
     },
     "execution_count": 176,
     "metadata": {},
     "output_type": "execute_result"
    },
    {
     "data": {
      "image/png": "[encoded data removed]",
      "text/plain": [
       "<Figure size 640x480 with 1 Axes>"
      ]
     },
     "metadata": {},
     "output_type": "display_data"
    }
   ],
   "source": [
    "plt.scatter(swb_bdi_list,rel_reg_weights)"
   ]
  },
  {
   "cell_type": "code",
   "execution_count": 178,
   "metadata": {},
   "outputs": [
    {
     "data": {
      "text/plain": [
       "<matplotlib.collections.PathCollection at 0x135e8a050>"
      ]
     },
     "execution_count": 178,
     "metadata": {},
     "output_type": "execute_result"
    },
    {
     "data": {
      "image/png": "[encoded data removed]",
      "text/plain": [
       "<Figure size 640x480 with 1 Axes>"
      ]
     },
     "metadata": {},
     "output_type": "display_data"
    }
   ],
   "source": [
    "plt.scatter(np_bdi_list,rel_reg_weights)"
   ]
  },
  {
   "cell_type": "code",
   "execution_count": 179,
   "metadata": {},
   "outputs": [
    {
     "data": {
      "text/plain": [
       "<matplotlib.collections.PathCollection at 0x135ab4150>"
      ]
     },
     "execution_count": 179,
     "metadata": {},
     "output_type": "execute_result"
    },
    {
     "data": {
      "image/png": "[encoded data removed]",
      "text/plain": [
       "<Figure size 640x480 with 1 Axes>"
      ]
     },
     "metadata": {},
     "output_type": "display_data"
    }
   ],
   "source": [
    "plt.scatter(swb_bdi_list,reg_rpe_rel_weights)"
   ]
  },
  {
   "cell_type": "code",
   "execution_count": 180,
   "metadata": {},
   "outputs": [
    {
     "data": {
      "text/plain": [
       "<matplotlib.collections.PathCollection at 0x1367d07d0>"
      ]
     },
     "execution_count": 180,
     "metadata": {},
     "output_type": "execute_result"
    },
    {
     "data": {
      "image/png": "[encoded data removed]",
      "text/plain": [
       "<Figure size 640x480 with 1 Axes>"
      ]
     },
     "metadata": {},
     "output_type": "display_data"
    }
   ],
   "source": [
    "plt.scatter(np_bdi_list,reg_rpe_rel_weights)"
   ]
  },
  {
   "cell_type": "code",
   "execution_count": 181,
   "metadata": {},
   "outputs": [
    {
     "data": {
      "text/html": [
       "<div>\n",
       "<style scoped>\n",
       "    .dataframe tbody tr th:only-of-type {\n",
       "        vertical-align: middle;\n",
       "    }\n",
       "\n",
       "    .dataframe tbody tr th {\n",
       "        vertical-align: top;\n",
       "    }\n",
       "\n",
       "    .dataframe thead th {\n",
       "        text-align: right;\n",
       "    }\n",
       "</style>\n",
       "<table border=\"1\" class=\"dataframe\">\n",
       "  <thead>\n",
       "    <tr style=\"text-align: right;\">\n",
       "      <th></th>\n",
       "      <th>PatientID</th>\n",
       "      <th>Risk_Aversion</th>\n",
       "      <th>Loss_Aversion</th>\n",
       "      <th>Inverse_Temperature</th>\n",
       "      <th>swb_bdi</th>\n",
       "      <th>np_bdi</th>\n",
       "    </tr>\n",
       "  </thead>\n",
       "  <tbody>\n",
       "    <tr>\n",
       "      <th>0</th>\n",
       "      <td>DA8</td>\n",
       "      <td>1.212121</td>\n",
       "      <td>5.111118</td>\n",
       "      <td>2.625557</td>\n",
       "      <td>13</td>\n",
       "      <td>13</td>\n",
       "    </tr>\n",
       "    <tr>\n",
       "      <th>1</th>\n",
       "      <td>DA9</td>\n",
       "      <td>1.484386</td>\n",
       "      <td>0.836855</td>\n",
       "      <td>3.261052</td>\n",
       "      <td>32</td>\n",
       "      <td>32</td>\n",
       "    </tr>\n",
       "    <tr>\n",
       "      <th>2</th>\n",
       "      <td>DA10</td>\n",
       "      <td>0.781768</td>\n",
       "      <td>1.727190</td>\n",
       "      <td>3.058603</td>\n",
       "      <td>11</td>\n",
       "      <td>11</td>\n",
       "    </tr>\n",
       "    <tr>\n",
       "      <th>3</th>\n",
       "      <td>DA11</td>\n",
       "      <td>1.199625</td>\n",
       "      <td>0.226255</td>\n",
       "      <td>1.527750</td>\n",
       "      <td>41</td>\n",
       "      <td>41</td>\n",
       "    </tr>\n",
       "    <tr>\n",
       "      <th>4</th>\n",
       "      <td>DA023</td>\n",
       "      <td>0.994608</td>\n",
       "      <td>1.864381</td>\n",
       "      <td>2.089041</td>\n",
       "      <td>14</td>\n",
       "      <td>14</td>\n",
       "    </tr>\n",
       "    <tr>\n",
       "      <th>5</th>\n",
       "      <td>MS002</td>\n",
       "      <td>0.818264</td>\n",
       "      <td>3.179061</td>\n",
       "      <td>1.528016</td>\n",
       "      <td>14</td>\n",
       "      <td>14</td>\n",
       "    </tr>\n",
       "    <tr>\n",
       "      <th>6</th>\n",
       "      <td>MS003</td>\n",
       "      <td>0.733145</td>\n",
       "      <td>0.001000</td>\n",
       "      <td>5.118690</td>\n",
       "      <td>8</td>\n",
       "      <td>6</td>\n",
       "    </tr>\n",
       "    <tr>\n",
       "      <th>7</th>\n",
       "      <td>MS016</td>\n",
       "      <td>0.623760</td>\n",
       "      <td>0.969737</td>\n",
       "      <td>6.760218</td>\n",
       "      <td>10</td>\n",
       "      <td>0</td>\n",
       "    </tr>\n",
       "    <tr>\n",
       "      <th>8</th>\n",
       "      <td>MS017</td>\n",
       "      <td>1.325976</td>\n",
       "      <td>0.989178</td>\n",
       "      <td>6.336838</td>\n",
       "      <td>26</td>\n",
       "      <td>29</td>\n",
       "    </tr>\n",
       "    <tr>\n",
       "      <th>9</th>\n",
       "      <td>MS019</td>\n",
       "      <td>1.140644</td>\n",
       "      <td>0.001000</td>\n",
       "      <td>6.780384</td>\n",
       "      <td>12</td>\n",
       "      <td>13</td>\n",
       "    </tr>\n",
       "    <tr>\n",
       "      <th>10</th>\n",
       "      <td>MS022</td>\n",
       "      <td>1.921448</td>\n",
       "      <td>0.102132</td>\n",
       "      <td>3.493744</td>\n",
       "      <td>10</td>\n",
       "      <td>12</td>\n",
       "    </tr>\n",
       "    <tr>\n",
       "      <th>11</th>\n",
       "      <td>MS025</td>\n",
       "      <td>0.887061</td>\n",
       "      <td>10.000000</td>\n",
       "      <td>0.657655</td>\n",
       "      <td>7</td>\n",
       "      <td>10</td>\n",
       "    </tr>\n",
       "    <tr>\n",
       "      <th>12</th>\n",
       "      <td>MS026</td>\n",
       "      <td>1.442294</td>\n",
       "      <td>1.728298</td>\n",
       "      <td>1.999431</td>\n",
       "      <td>11</td>\n",
       "      <td>30</td>\n",
       "    </tr>\n",
       "    <tr>\n",
       "      <th>13</th>\n",
       "      <td>MS027</td>\n",
       "      <td>0.641948</td>\n",
       "      <td>0.648616</td>\n",
       "      <td>5.595923</td>\n",
       "      <td>22</td>\n",
       "      <td>43</td>\n",
       "    </tr>\n",
       "    <tr>\n",
       "      <th>14</th>\n",
       "      <td>MS029</td>\n",
       "      <td>0.001000</td>\n",
       "      <td>0.603489</td>\n",
       "      <td>0.723385</td>\n",
       "      <td>32</td>\n",
       "      <td>27</td>\n",
       "    </tr>\n",
       "    <tr>\n",
       "      <th>15</th>\n",
       "      <td>MS030</td>\n",
       "      <td>0.732821</td>\n",
       "      <td>1.144258</td>\n",
       "      <td>5.357342</td>\n",
       "      <td>19</td>\n",
       "      <td>19</td>\n",
       "    </tr>\n",
       "  </tbody>\n",
       "</table>\n",
       "</div>"
      ],
      "text/plain": [
       "   PatientID  Risk_Aversion  Loss_Aversion  Inverse_Temperature  swb_bdi  \\\n",
       "0        DA8       1.212121       5.111118             2.625557       13   \n",
       "1        DA9       1.484386       0.836855             3.261052       32   \n",
       "2       DA10       0.781768       1.727190             3.058603       11   \n",
       "3       DA11       1.199625       0.226255             1.527750       41   \n",
       "4      DA023       0.994608       1.864381             2.089041       14   \n",
       "5      MS002       0.818264       3.179061             1.528016       14   \n",
       "6      MS003       0.733145       0.001000             5.118690        8   \n",
       "7      MS016       0.623760       0.969737             6.760218       10   \n",
       "8      MS017       1.325976       0.989178             6.336838       26   \n",
       "9      MS019       1.140644       0.001000             6.780384       12   \n",
       "10     MS022       1.921448       0.102132             3.493744       10   \n",
       "11     MS025       0.887061      10.000000             0.657655        7   \n",
       "12     MS026       1.442294       1.728298             1.999431       11   \n",
       "13     MS027       0.641948       0.648616             5.595923       22   \n",
       "14     MS029       0.001000       0.603489             0.723385       32   \n",
       "15     MS030       0.732821       1.144258             5.357342       19   \n",
       "\n",
       "    np_bdi  \n",
       "0       13  \n",
       "1       32  \n",
       "2       11  \n",
       "3       41  \n",
       "4       14  \n",
       "5       14  \n",
       "6        6  \n",
       "7        0  \n",
       "8       29  \n",
       "9       13  \n",
       "10      12  \n",
       "11      10  \n",
       "12      30  \n",
       "13      43  \n",
       "14      27  \n",
       "15      19  "
      ]
     },
     "execution_count": 181,
     "metadata": {},
     "output_type": "execute_result"
    }
   ],
   "source": [
    "pt_params_df"
   ]
  },
  {
   "cell_type": "code",
   "execution_count": 182,
   "metadata": {},
   "outputs": [
    {
     "data": {
      "text/plain": [
       "(array([1., 0., 0., 4., 3., 2., 3., 2., 0., 1.]),\n",
       " array([1.00000000e-03, 1.93044823e-01, 3.85089646e-01, 5.77134469e-01,\n",
       "        7.69179292e-01, 9.61224115e-01, 1.15326894e+00, 1.34531376e+00,\n",
       "        1.53735858e+00, 1.72940341e+00, 1.92144823e+00]),\n",
       " <BarContainer object of 10 artists>)"
      ]
     },
     "execution_count": 182,
     "metadata": {},
     "output_type": "execute_result"
    },
    {
     "data": {
      "image/png": "[encoded data removed]",
      "text/plain": [
       "<Figure size 640x480 with 1 Axes>"
      ]
     },
     "metadata": {},
     "output_type": "display_data"
    }
   ],
   "source": [
    "plt.hist(pt_params_df.Risk_Aversion)"
   ]
  },
  {
   "cell_type": "code",
   "execution_count": 183,
   "metadata": {},
   "outputs": [
    {
     "data": {
      "text/plain": [
       "(array([9., 4., 0., 1., 0., 1., 0., 0., 0., 1.]),\n",
       " array([1.0000e-03, 1.0009e+00, 2.0008e+00, 3.0007e+00, 4.0006e+00,\n",
       "        5.0005e+00, 6.0004e+00, 7.0003e+00, 8.0002e+00, 9.0001e+00,\n",
       "        1.0000e+01]),\n",
       " <BarContainer object of 10 artists>)"
      ]
     },
     "execution_count": 183,
     "metadata": {},
     "output_type": "execute_result"
    },
    {
     "data": {
      "image/png": "[encoded data removed]",
      "text/plain": [
       "<Figure size 640x480 with 1 Axes>"
      ]
     },
     "metadata": {},
     "output_type": "display_data"
    }
   ],
   "source": [
    "plt.hist(pt_params_df.Loss_Aversion)"
   ]
  },
  {
   "cell_type": "code",
   "execution_count": 186,
   "metadata": {},
   "outputs": [],
   "source": [
    "swbdep_df = pt_params_df[pt_params_df.swb_bdi>=20]\n",
    "noswbdep_df = pt_params_df[pt_params_df.swb_bdi<20]"
   ]
  },
  {
   "cell_type": "code",
   "execution_count": 187,
   "metadata": {},
   "outputs": [],
   "source": [
    "npdep_df = pt_params_df[pt_params_df.swb_bdi>=20]\n",
    "nonpdep_df = pt_params_df[pt_params_df.swb_bdi<20]"
   ]
  },
  {
   "cell_type": "code",
   "execution_count": 201,
   "metadata": {},
   "outputs": [
    {
     "data": {
      "text/html": [
       "<div>\n",
       "<style scoped>\n",
       "    .dataframe tbody tr th:only-of-type {\n",
       "        vertical-align: middle;\n",
       "    }\n",
       "\n",
       "    .dataframe tbody tr th {\n",
       "        vertical-align: top;\n",
       "    }\n",
       "\n",
       "    .dataframe thead th {\n",
       "        text-align: right;\n",
       "    }\n",
       "</style>\n",
       "<table border=\"1\" class=\"dataframe\">\n",
       "  <thead>\n",
       "    <tr style=\"text-align: right;\">\n",
       "      <th></th>\n",
       "      <th>PatientID</th>\n",
       "      <th>Risk_Aversion</th>\n",
       "      <th>Loss_Aversion</th>\n",
       "      <th>Inverse_Temperature</th>\n",
       "      <th>swb_bdi</th>\n",
       "      <th>np_bdi</th>\n",
       "    </tr>\n",
       "  </thead>\n",
       "  <tbody>\n",
       "    <tr>\n",
       "      <th>1</th>\n",
       "      <td>DA9</td>\n",
       "      <td>1.484386</td>\n",
       "      <td>0.836855</td>\n",
       "      <td>3.261052</td>\n",
       "      <td>32</td>\n",
       "      <td>32</td>\n",
       "    </tr>\n",
       "    <tr>\n",
       "      <th>3</th>\n",
       "      <td>DA11</td>\n",
       "      <td>1.199625</td>\n",
       "      <td>0.226255</td>\n",
       "      <td>1.527750</td>\n",
       "      <td>41</td>\n",
       "      <td>41</td>\n",
       "    </tr>\n",
       "    <tr>\n",
       "      <th>8</th>\n",
       "      <td>MS017</td>\n",
       "      <td>1.325976</td>\n",
       "      <td>0.989178</td>\n",
       "      <td>6.336838</td>\n",
       "      <td>26</td>\n",
       "      <td>29</td>\n",
       "    </tr>\n",
       "    <tr>\n",
       "      <th>13</th>\n",
       "      <td>MS027</td>\n",
       "      <td>0.641948</td>\n",
       "      <td>0.648616</td>\n",
       "      <td>5.595923</td>\n",
       "      <td>22</td>\n",
       "      <td>43</td>\n",
       "    </tr>\n",
       "    <tr>\n",
       "      <th>14</th>\n",
       "      <td>MS029</td>\n",
       "      <td>0.001000</td>\n",
       "      <td>0.603489</td>\n",
       "      <td>0.723385</td>\n",
       "      <td>32</td>\n",
       "      <td>27</td>\n",
       "    </tr>\n",
       "  </tbody>\n",
       "</table>\n",
       "</div>"
      ],
      "text/plain": [
       "   PatientID  Risk_Aversion  Loss_Aversion  Inverse_Temperature  swb_bdi  \\\n",
       "1        DA9       1.484386       0.836855             3.261052       32   \n",
       "3       DA11       1.199625       0.226255             1.527750       41   \n",
       "8      MS017       1.325976       0.989178             6.336838       26   \n",
       "13     MS027       0.641948       0.648616             5.595923       22   \n",
       "14     MS029       0.001000       0.603489             0.723385       32   \n",
       "\n",
       "    np_bdi  \n",
       "1       32  \n",
       "3       41  \n",
       "8       29  \n",
       "13      43  \n",
       "14      27  "
      ]
     },
     "execution_count": 201,
     "metadata": {},
     "output_type": "execute_result"
    }
   ],
   "source": [
    "npdep_df"
   ]
  },
  {
   "cell_type": "code",
   "execution_count": 202,
   "metadata": {},
   "outputs": [
    {
     "data": {
      "text/html": [
       "<div>\n",
       "<style scoped>\n",
       "    .dataframe tbody tr th:only-of-type {\n",
       "        vertical-align: middle;\n",
       "    }\n",
       "\n",
       "    .dataframe tbody tr th {\n",
       "        vertical-align: top;\n",
       "    }\n",
       "\n",
       "    .dataframe thead th {\n",
       "        text-align: right;\n",
       "    }\n",
       "</style>\n",
       "<table border=\"1\" class=\"dataframe\">\n",
       "  <thead>\n",
       "    <tr style=\"text-align: right;\">\n",
       "      <th></th>\n",
       "      <th>PatientID</th>\n",
       "      <th>Risk_Aversion</th>\n",
       "      <th>Loss_Aversion</th>\n",
       "      <th>Inverse_Temperature</th>\n",
       "      <th>swb_bdi</th>\n",
       "      <th>np_bdi</th>\n",
       "    </tr>\n",
       "  </thead>\n",
       "  <tbody>\n",
       "    <tr>\n",
       "      <th>0</th>\n",
       "      <td>DA8</td>\n",
       "      <td>1.212121</td>\n",
       "      <td>5.111118</td>\n",
       "      <td>2.625557</td>\n",
       "      <td>13</td>\n",
       "      <td>13</td>\n",
       "    </tr>\n",
       "    <tr>\n",
       "      <th>2</th>\n",
       "      <td>DA10</td>\n",
       "      <td>0.781768</td>\n",
       "      <td>1.727190</td>\n",
       "      <td>3.058603</td>\n",
       "      <td>11</td>\n",
       "      <td>11</td>\n",
       "    </tr>\n",
       "    <tr>\n",
       "      <th>4</th>\n",
       "      <td>DA023</td>\n",
       "      <td>0.994608</td>\n",
       "      <td>1.864381</td>\n",
       "      <td>2.089041</td>\n",
       "      <td>14</td>\n",
       "      <td>14</td>\n",
       "    </tr>\n",
       "    <tr>\n",
       "      <th>5</th>\n",
       "      <td>MS002</td>\n",
       "      <td>0.818264</td>\n",
       "      <td>3.179061</td>\n",
       "      <td>1.528016</td>\n",
       "      <td>14</td>\n",
       "      <td>14</td>\n",
       "    </tr>\n",
       "    <tr>\n",
       "      <th>6</th>\n",
       "      <td>MS003</td>\n",
       "      <td>0.733145</td>\n",
       "      <td>0.001000</td>\n",
       "      <td>5.118690</td>\n",
       "      <td>8</td>\n",
       "      <td>6</td>\n",
       "    </tr>\n",
       "    <tr>\n",
       "      <th>7</th>\n",
       "      <td>MS016</td>\n",
       "      <td>0.623760</td>\n",
       "      <td>0.969737</td>\n",
       "      <td>6.760218</td>\n",
       "      <td>10</td>\n",
       "      <td>0</td>\n",
       "    </tr>\n",
       "    <tr>\n",
       "      <th>9</th>\n",
       "      <td>MS019</td>\n",
       "      <td>1.140644</td>\n",
       "      <td>0.001000</td>\n",
       "      <td>6.780384</td>\n",
       "      <td>12</td>\n",
       "      <td>13</td>\n",
       "    </tr>\n",
       "    <tr>\n",
       "      <th>10</th>\n",
       "      <td>MS022</td>\n",
       "      <td>1.921448</td>\n",
       "      <td>0.102132</td>\n",
       "      <td>3.493744</td>\n",
       "      <td>10</td>\n",
       "      <td>12</td>\n",
       "    </tr>\n",
       "    <tr>\n",
       "      <th>11</th>\n",
       "      <td>MS025</td>\n",
       "      <td>0.887061</td>\n",
       "      <td>10.000000</td>\n",
       "      <td>0.657655</td>\n",
       "      <td>7</td>\n",
       "      <td>10</td>\n",
       "    </tr>\n",
       "    <tr>\n",
       "      <th>12</th>\n",
       "      <td>MS026</td>\n",
       "      <td>1.442294</td>\n",
       "      <td>1.728298</td>\n",
       "      <td>1.999431</td>\n",
       "      <td>11</td>\n",
       "      <td>30</td>\n",
       "    </tr>\n",
       "    <tr>\n",
       "      <th>15</th>\n",
       "      <td>MS030</td>\n",
       "      <td>0.732821</td>\n",
       "      <td>1.144258</td>\n",
       "      <td>5.357342</td>\n",
       "      <td>19</td>\n",
       "      <td>19</td>\n",
       "    </tr>\n",
       "  </tbody>\n",
       "</table>\n",
       "</div>"
      ],
      "text/plain": [
       "   PatientID  Risk_Aversion  Loss_Aversion  Inverse_Temperature  swb_bdi  \\\n",
       "0        DA8       1.212121       5.111118             2.625557       13   \n",
       "2       DA10       0.781768       1.727190             3.058603       11   \n",
       "4      DA023       0.994608       1.864381             2.089041       14   \n",
       "5      MS002       0.818264       3.179061             1.528016       14   \n",
       "6      MS003       0.733145       0.001000             5.118690        8   \n",
       "7      MS016       0.623760       0.969737             6.760218       10   \n",
       "9      MS019       1.140644       0.001000             6.780384       12   \n",
       "10     MS022       1.921448       0.102132             3.493744       10   \n",
       "11     MS025       0.887061      10.000000             0.657655        7   \n",
       "12     MS026       1.442294       1.728298             1.999431       11   \n",
       "15     MS030       0.732821       1.144258             5.357342       19   \n",
       "\n",
       "    np_bdi  \n",
       "0       13  \n",
       "2       11  \n",
       "4       14  \n",
       "5       14  \n",
       "6        6  \n",
       "7        0  \n",
       "9       13  \n",
       "10      12  \n",
       "11      10  \n",
       "12      30  \n",
       "15      19  "
      ]
     },
     "execution_count": 202,
     "metadata": {},
     "output_type": "execute_result"
    }
   ],
   "source": [
    "nonpdep_df"
   ]
  },
  {
   "cell_type": "code",
   "execution_count": 203,
   "metadata": {},
   "outputs": [
    {
     "data": {
      "text/plain": [
       "Ttest_indResult(statistic=-1.8744680163793896, pvalue=0.08917564514500789)"
      ]
     },
     "execution_count": 203,
     "metadata": {},
     "output_type": "execute_result"
    }
   ],
   "source": [
    "import scipy.stats as stats\n",
    "stats.ttest_ind(npdep_df.Loss_Aversion, nonpdep_df.Loss_Aversion, equal_var=False)\n"
   ]
  },
  {
   "cell_type": "code",
   "execution_count": 205,
   "metadata": {},
   "outputs": [
    {
     "data": {
      "text/plain": [
       "Ttest_indResult(statistic=-1.8744680163793896, pvalue=0.08917564514500789)"
      ]
     },
     "execution_count": 205,
     "metadata": {},
     "output_type": "execute_result"
    }
   ],
   "source": [
    "import scipy.stats as stats\n",
    "stats.ttest_ind(swbdep_df.Loss_Aversion, noswbdep_df.Loss_Aversion, equal_var=False)"
   ]
  },
  {
   "cell_type": "code",
   "execution_count": 193,
   "metadata": {},
   "outputs": [
    {
     "data": {
      "text/plain": [
       "0.9305868310877967"
      ]
     },
     "execution_count": 193,
     "metadata": {},
     "output_type": "execute_result"
    }
   ],
   "source": [
    "swbdep_df.Risk_Aversion.mean()"
   ]
  },
  {
   "cell_type": "code",
   "execution_count": 192,
   "metadata": {},
   "outputs": [
    {
     "data": {
      "text/plain": [
       "1.0261758053185503"
      ]
     },
     "execution_count": 192,
     "metadata": {},
     "output_type": "execute_result"
    }
   ],
   "source": [
    "noswbdep_df.Risk_Aversion.mean()"
   ]
  },
  {
   "cell_type": "code",
   "execution_count": 194,
   "metadata": {},
   "outputs": [
    {
     "data": {
      "text/plain": [
       "0.6608786965367843"
      ]
     },
     "execution_count": 194,
     "metadata": {},
     "output_type": "execute_result"
    }
   ],
   "source": [
    "swbdep_df.Loss_Aversion.mean()"
   ]
  },
  {
   "cell_type": "code",
   "execution_count": 195,
   "metadata": {},
   "outputs": [
    {
     "data": {
      "text/plain": [
       "2.3480158109202387"
      ]
     },
     "execution_count": 195,
     "metadata": {},
     "output_type": "execute_result"
    }
   ],
   "source": [
    "noswbdep_df.Loss_Aversion.mean()"
   ]
  },
  {
   "cell_type": "code",
   "execution_count": 199,
   "metadata": {},
   "outputs": [
    {
     "data": {
      "text/plain": [
       "0.9305868310877967"
      ]
     },
     "execution_count": 199,
     "metadata": {},
     "output_type": "execute_result"
    }
   ],
   "source": [
    "npdep_df.Risk_Aversion.mean()"
   ]
  },
  {
   "cell_type": "code",
   "execution_count": 198,
   "metadata": {},
   "outputs": [
    {
     "data": {
      "text/plain": [
       "1.0261758053185503"
      ]
     },
     "execution_count": 198,
     "metadata": {},
     "output_type": "execute_result"
    }
   ],
   "source": [
    "nonpdep_df.Risk_Aversion.mean()"
   ]
  },
  {
   "cell_type": "code",
   "execution_count": 196,
   "metadata": {},
   "outputs": [
    {
     "data": {
      "text/plain": [
       "0.6608786965367843"
      ]
     },
     "execution_count": 196,
     "metadata": {},
     "output_type": "execute_result"
    }
   ],
   "source": [
    "npdep_df.Loss_Aversion.mean()"
   ]
  },
  {
   "cell_type": "code",
   "execution_count": 197,
   "metadata": {},
   "outputs": [
    {
     "data": {
      "text/plain": [
       "2.3480158109202387"
      ]
     },
     "execution_count": 197,
     "metadata": {},
     "output_type": "execute_result"
    }
   ],
   "source": [
    "nonpdep_df.Loss_Aversion.mean()"
   ]
  },
  {
   "attachments": {},
   "cell_type": "markdown",
   "metadata": {},
   "source": [
    "# Model Figures"
   ]
  },
  {
   "cell_type": "code",
   "execution_count": null,
   "metadata": {},
   "outputs": [],
   "source": [
    "#model comparison fig\n",
    "rutledge_bic1 = np.array(list(cf_results_dict['rutledge']['bics1'].values()))\n",
    "total_cpe_bic1 = np.array(list(cf_results_dict['total_cpe']['bics1'].values()))\n",
    "regret_bic1 = np.array(list(cf_results_dict['regret']['bics1'].values()))\n",
    "relief_bic1 = np.array(list(cf_results_dict['relief']['bics1'].values()))\n",
    "combo_bic1 = np.array(list(cf_results_dict['combo']['bics1'].values()))"
   ]
  },
  {
   "cell_type": "code",
   "execution_count": null,
   "metadata": {},
   "outputs": [],
   "source": [
    "bar_data = pd.DataFrame(columns=['RPE','CPE','Regret','Relief','CPE Split'])\n",
    "bar_data['RPE'] = rutledge_bic1\n",
    "bar_data['CPE'] = total_cpe_bic1\n",
    "bar_data['Regret'] = regret_bic1\n",
    "bar_data['Relief'] = relief_bic1\n",
    "bar_data['CPE Split'] = combo_bic1"
   ]
  },
  {
   "cell_type": "code",
   "execution_count": null,
   "metadata": {},
   "outputs": [],
   "source": []
  },
  {
   "cell_type": "code",
   "execution_count": null,
   "metadata": {},
   "outputs": [],
   "source": [
    "#magma,cubehelix,twilight\n",
    "fig,ax = plt.subplots(figsize=(10,6))\n",
    "sns.set_theme(style='whitegrid',font='Arial') \n",
    "sns.barplot(data=bar_data, errorbar=('ci',50),order=['Relief','Regret','RPE','CPE'],saturation=0.8,palette='flare',capsize=0.05,errcolor='black',errwidth=1.5)#flare_r,flare,Reds,YlOrRd, rocket\n",
    "ax.set_title('SWB Model Evaluation',weight='semibold',fontsize=18,y=1.025)\n",
    "#ax.set_xlabel('SWB Models',weight='medium',fontsize=15)\n",
    "ax.set_ylabel('Mean BIC Score',weight='medium',fontsize=15,x=0.025)\n",
    "ax.tick_params(labelsize=12)\n",
    "\n",
    "\n"
   ]
  },
  {
   "cell_type": "code",
   "execution_count": null,
   "metadata": {},
   "outputs": [],
   "source": [
    "mood_est = list(pd.DataFrame.mean(cf_results_dict['total_cpe']['mood_est'],axis=1))"
   ]
  },
  {
   "cell_type": "code",
   "execution_count": null,
   "metadata": {},
   "outputs": [
    {
     "data": {
      "text/plain": [
       "(-1.25, 1.25)"
      ]
     },
     "metadata": {},
     "output_type": "display_data"
    },
    {
     "data": {
      "image/png": "[encoded data removed]",
      "text/plain": [
       "<Figure size 1000x600 with 1 Axes>"
      ]
     },
     "metadata": {},
     "output_type": "display_data"
    }
   ],
   "source": [
    "fig,ax = plt.subplots(figsize=(10,6))\n",
    "sns.set_theme(style='ticks',font='Arial',palette='flare_r') \n",
    "sns.lineplot(x=np.arange(0,50), y=rate_means[:50],label='True Happiness',linewidth=2.5)\n",
    "sns.lineplot(x=np.arange(0,50), y=mood_est[:50],label='Estimated Happiness',linestyle='dashed',linewidth=2.5)\n",
    "fig.suptitle('CPE Model Fit',font='Arial',weight ='semibold',fontsize=18,y=0.95)\n",
    "fig.supxlabel('Round',font='Arial',fontsize=16,y=0.01)\n",
    "fig.supylabel('Normalized Mean Happiness Rating',font='Arial',fontsize=16,x=0.045)\n",
    "ax.tick_params(labelsize=12)\n",
    "ax.set_ylim(-1.25,1.25)\n",
    "\n"
   ]
  },
  {
   "cell_type": "code",
   "execution_count": null,
   "metadata": {},
   "outputs": [],
   "source": [
    "lams = cf_results_dict['combo']['param_fits'].iloc[0]\n",
    "b_cr = cf_results_dict['combo']['param_fits'].iloc[2]\n",
    "b_ev = cf_results_dict['combo']['param_fits'].iloc[3]\n",
    "b_reg = cf_results_dict['combo']['param_fits'].iloc[4]\n",
    "b_rel = cf_results_dict['combo']['param_fits'].iloc[5]\n",
    "l = np.mean(np.array(lams))\n",
    "cr = np.mean(np.array(b_cr))\n",
    "ev = np.mean(np.array(b_ev))\n",
    "reg = np.mean(np.array(b_reg))\n",
    "rel = np.mean(np.array(b_rel))\n",
    "import itertools\n",
    "\n",
    "weights_plot_df = pd.DataFrame(columns=['trial','Regressor','Weight_Estimate'])\n",
    "weights_plot_df['trial'] = ['t1','t2','t3']*4\n",
    "weights_plot_df['Regressor'] = list(itertools.chain.from_iterable([['Certain Reward']*3,['Expected Value']*3,['Regret']*3,['Relief']*3]))\n",
    "\n",
    "\n",
    "\n",
    "#cr\n",
    "cr_t1 = cr\n",
    "cr_t2 = cr*l\n",
    "cr_t3 = cr*(l**2)\n",
    "\n",
    "#ev\n",
    "ev_t1 = ev\n",
    "ev_t2 = ev*l\n",
    "ev_t3 = ev*(l**2)\n",
    "\n",
    "#reg\n",
    "reg_t1 = reg\n",
    "reg_t2 = reg*l\n",
    "reg_t3 = reg*(l**2)\n",
    "\n",
    "#rel\n",
    "rel_t1 = rel\n",
    "rel_t2 = rel*l\n",
    "rel_t3 = rel*(l**2)\n",
    "\n",
    "weights_plot_df['Weight_Estimate'] = [cr_t1,cr_t2,cr_t3,ev_t1,ev_t2,ev_t3,reg_t1,reg_t2,reg_t3,rel_t1,rel_t2,rel_t3]\n"
   ]
  },
  {
   "cell_type": "code",
   "execution_count": null,
   "metadata": {},
   "outputs": [],
   "source": [
    "#weights plot\n",
    "fig,(ax1,ax2,ax3,ax4) = plt.subplots(1,4,figsize=(17,5),sharey=True)\n",
    "sns.set_theme(style='white',font='Arial') \n",
    "ax3.tick_params(labelsize=12)\n",
    "sns.barplot(ax=ax1,data=weights_plot_df[weights_plot_df['Regressor']== 'Regret'],x='trial',y='Weight_Estimate',palette='Reds_r')\n",
    "sns.barplot(ax=ax2,data=weights_plot_df[weights_plot_df['Regressor']== 'Relief'],x='trial',y='Weight_Estimate',palette='ocean_r')\n",
    "sns.barplot(ax=ax3,data=weights_plot_df[weights_plot_df['Regressor']== 'Expected Value'],x='trial',y='Weight_Estimate',palette='YlGn_r')\n",
    "sns.barplot(ax=ax4,data=weights_plot_df[weights_plot_df['Regressor']== 'Certain Reward'],x='trial',y='Weight_Estimate',palette='Purples_r')\n",
    "ax1.set_ylim(0,0.65)\n",
    "ax1.set_ylabel(None)\n",
    "ax1.set_xlabel(None)\n",
    "ax1.tick_params(labelsize=12)\n",
    "ax1.set_title('Regret',weight='medium',fontsize=14,y=1.02)\n",
    "\n",
    "ax2.set_ylabel(None)\n",
    "ax2.set_xlabel(None)\n",
    "ax2.tick_params(labelsize=12)\n",
    "ax2.set_title('Relief',weight='medium',fontsize=14,y=1.02)\n",
    "\n",
    "ax3.set_ylabel(None)\n",
    "ax3.set_xlabel(None)\n",
    "ax3.tick_params(labelsize=12)\n",
    "ax3.set_title('Expected Value',weight='medium',fontsize=14,y=1.02)\n",
    "\n",
    "ax4.set_ylabel(None)\n",
    "ax4.set_xlabel(None)\n",
    "ax4.tick_params(labelsize=12)\n",
    "ax4.set_title('Certain Reward',weight='medium',fontsize=14,y=1.02)\n",
    "\n",
    "fig.suptitle('Model Estimates of Regressor Weights',weight='semibold',fontsize=18, y=1.025)\n",
    "fig.supxlabel('Count of Trials Preceeding Happiness Rating',weight='medium',fontsize=16,y=0.01)\n",
    "fig.supylabel('Weight Estimate',weight='medium',fontsize=16,x=0.085)\n",
    "\n",
    "\n"
   ]
  },
  {
   "cell_type": "code",
   "execution_count": null,
   "metadata": {},
   "outputs": [],
   "source": [
    "#weights plot\n",
    "fig,(ax1,ax2) = plt.subplots(1,2,figsize=(10,5),sharey=True)\n",
    "sns.set_theme(style='white',font='Arial') \n",
    "ax3.tick_params(labelsize=12)\n",
    "sns.barplot(ax=ax1,data=weights_plot_df[weights_plot_df['Regressor']== 'Regret'],x='trial',y='Weight_Estimate',palette='flare_r')\n",
    "sns.barplot(ax=ax2,data=weights_plot_df[weights_plot_df['Regressor']== 'Relief'],x='trial',y='Weight_Estimate',palette='BuGn_r')\n",
    "\n",
    "ax1.set_ylim(0,0.65)\n",
    "ax1.set_ylabel(None)\n",
    "ax1.set_xlabel(None)\n",
    "ax1.tick_params(labelsize=12)\n",
    "ax1.set_title('Regret',weight='medium',fontsize=14,y=1.02)\n",
    "\n",
    "ax2.set_ylabel(None)\n",
    "ax2.set_xlabel(None)\n",
    "ax2.tick_params(labelsize=12)\n",
    "ax2.set_title('Relief',weight='medium',fontsize=14,y=1.02)\n",
    "\n",
    "fig.suptitle('Weight of Counterfactual Prediction Errors on Happiness Ratings',weight='semibold',fontsize=18, y=1.025)\n",
    "fig.supxlabel('Count of Trials Preceeding Happiness Rating',weight='medium',fontsize=16)\n",
    "fig.supylabel('Weight Estimate',weight='medium',fontsize=16,x=0.05)\n",
    "\n",
    "\n"
   ]
  },
  {
   "cell_type": "code",
   "execution_count": null,
   "metadata": {},
   "outputs": [],
   "source": [
    "fig,ax = plt.subplots(1,4,figsize=(10,6))\n",
    "sns.set_theme(style='whitegrid',font='Arial') \n",
    "sns.barplot(data=bar_data, errorbar=('ci',50),order=['CPE Split','Relief','Regret','RPE','CPE'],saturation=0.8,palette='flare',capsize=0.05,errcolor='black',errwidth=1.5)#flare_r,flare,Reds,YlOrRd, rocket\n",
    "ax.set_title('SWB Model Evaluation',weight='semibold',fontsize=18,y=1.025)\n",
    "#ax.set_xlabel('SWB Models',weight='medium',fontsize=15)\n",
    "ax.set_ylabel('Mean BIC Score',weight='medium',fontsize=15,x=0.025)\n",
    "ax.tick_params(labelsize=12)\n"
   ]
  },
  {
   "cell_type": "code",
   "execution_count": null,
   "metadata": {},
   "outputs": [],
   "source": [
    "fig, (ax1,ax2,ax3) = plt.subplots(1,3, figsize=(12,5))\n",
    "sns.set_theme(style='ticks',font='Arial',palette='mako_r') #magma_r,gnuplot,paired,cubehelix_r\n",
    "sns.regplot(data=gamble_plot,ax=ax1,x='loss_x',y='loss_y',ci=68,logistic=True,scatter=False)\n",
    "sns.regplot(data=gamble_plot,ax=ax2,x='mix_x',y='mix_y',ci=68,logistic=True,scatter=False)\n",
    "sns.regplot(data=gamble_plot,ax=ax3,x='gain_x',y='gain_y',ci=68,logistic=True,scatter=False)\n",
    "ax1.set_ylim(0,1)\n",
    "ax1.set_ylabel(None)\n",
    "ax1.set_xlabel(None)\n",
    "ax1.tick_params(labelsize=12)\n",
    "ax1.set_title('Loss Trials',weight='medium',fontsize=15,y=1.02)\n",
    "ax2.set_ylim(0,1)\n",
    "ax2.set_ylabel(None)\n",
    "ax2.set_xlabel(None)\n",
    "ax2.tick_params(labelsize=12)\n",
    "ax2.set_title('Mix Trials',weight='medium',fontsize=15,y=1.02)\n",
    "ax3.set_ylim(0,1)\n",
    "ax3.set_ylabel(None)\n",
    "ax3.set_xlabel(None)\n",
    "ax3.tick_params(labelsize=12)\n",
    "ax3.set_title('Gain Trials',weight='medium',fontsize=15,y=1.02)\n",
    "fig.supxlabel('Normalized Expected Value',y=-0.025,weight='medium',fontsize=16)\n",
    "fig.supylabel('Proportion of Gamble Choices',x=0.05,weight='medium',fontsize=16)\n",
    "fig.suptitle('Influence of Expected Value on Gamble Decision',y=1.05,weight='semibold',fontsize=18)"
   ]
  },
  {
   "attachments": {},
   "cell_type": "markdown",
   "metadata": {},
   "source": [
    "References:\n",
    "- https://shawnrhoads.github.io/gu-psyc-347/module-02-01_Nonlinear-Modeling.html\n",
    "- https://docs.scipy.org/doc/scipy/reference/generated/scipy.optimize.least_squares.html\n",
    "- https://hernandis.me/2020/04/05/three-examples-of-nonlinear-least-squares-fitting-in-python-with-scipy.html\n",
    "- https://docs.scipy.org/doc/scipy/reference/generated/scipy.optimize.OptimizeResult.html#scipy.optimize.OptimizeResult\n",
    "- https://www.nedcharles.com/regression/Nonlinear_Least_Squares_Regression_For_Python.html\n"
   ]
  }
 ],
 "metadata": {
  "kernelspec": {
   "display_name": "swb_behav_models",
   "language": "python",
   "name": "python3"
  },
  "language_info": {
   "codemirror_mode": {
    "name": "ipython",
    "version": 3
   },
   "file_extension": ".py",
   "mimetype": "text/x-python",
   "name": "python",
   "nbconvert_exporter": "python",
   "pygments_lexer": "ipython3",
   "version": "3.11.3"
  }
 },
 "nbformat": 4,
 "nbformat_minor": 2
}
