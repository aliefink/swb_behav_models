{
 "cells": [
  {
   "cell_type": "markdown",
   "metadata": {},
   "source": [
    "# CPE GLMs Based on Winning Rutledge Model\n",
    "\n",
    "- Winning model from 2014 \"A computational and neural model of momentary subjective well-being\"\n",
    "- Adapted to include counterfactual information \n",
    "\n",
    "Created: 05/04/2023 by Alie Fink"
   ]
  },
  {
   "cell_type": "markdown",
   "metadata": {},
   "source": [
    "### Computational Models:\n",
    "Standard GLMs:\n",
    "1) RPE (CR+EV+RPE)\n",
    "2) Counterfactual (CR+EV+CPE) *test tCPE vs dCPE\n",
    "3) Counterfactual+RPE (CR+EV+RPE+CPE)\n",
    "4) Regret (CR+EV+nCPE) *omit RPE if model 2 > model 3\n",
    "5) Relief (CR+EV+pCPE) *omit RPE if model 2 > model 3\n",
    "6) Regret/Relief (CR+EV+nCPE+pCPE) *omit RPE if model 2 > model 3\n",
    "7) Full model (CR+EV+RPE+nCPE+pCPE)\n",
    "\n",
    "Prospect Theory GLMs:\n",
    "\n",
    "8)  Rutledge EV (CR+EV)\n",
    "9)  PT (Util_s+Util_g) *validate this is better than Rutledge EV\n",
    "10) RPE PT (Util_s+Util_g+RPE)\n",
    "11) CPE PT (Util_s+Util_g+CPE) *test tCPE vs dCPE \n",
    "12) CPE+RPE PT (Util_s+Util_g+RPE+CPE) \n",
    "13) Regret PT (Util_s+Util_g+RPE+nCPE) *omit RPE if model 9 > model 8\n",
    "14) Relief PT (Util_s+Util_g+RPE+pCPE) *omit RPE if model 9 > model 8\n",
    "15) Regret/Relief PT (Util_s+Util_g+RPE+nCPE+pCPE) *omit RPE if model 9 > model 8\n"
   ]
  },
  {
   "cell_type": "code",
   "execution_count": 1,
   "metadata": {},
   "outputs": [
    {
     "name": "stdout",
     "output_type": "stream",
     "text": [
      "Intel MKL WARNING: Support of Intel(R) Streaming SIMD Extensions 4.2 (Intel(R) SSE4.2) enabled only processors has been deprecated. Intel oneAPI Math Kernel Library 2025.0 will require Intel(R) Advanced Vector Extensions (Intel(R) AVX) instructions.\n",
      "Intel MKL WARNING: Support of Intel(R) Streaming SIMD Extensions 4.2 (Intel(R) SSE4.2) enabled only processors has been deprecated. Intel oneAPI Math Kernel Library 2025.0 will require Intel(R) Advanced Vector Extensions (Intel(R) AVX) instructions.\n"
     ]
    }
   ],
   "source": [
    "import numpy as np\n",
    "from glob import glob\n",
    "import matplotlib.pyplot as plt\n",
    "import seaborn as sns\n",
    "from matplotlib.backends.backend_pdf import PdfPages\n",
    "import seaborn as sns\n",
    "from scipy.stats import zscore, linregress, ttest_ind, ttest_rel, ttest_1samp\n",
    "import pandas as pd\n",
    "import scipy\n",
    "from scipy.optimize import least_squares\n",
    "import sklearn\n",
    "from sklearn.metrics import r2_score\n",
    "import random\n"
   ]
  },
  {
   "cell_type": "code",
   "execution_count": 2,
   "metadata": {},
   "outputs": [],
   "source": [
    "%matplotlib inline\n",
    "%reload_ext autoreload\n",
    "%autoreload 2"
   ]
  },
  {
   "cell_type": "code",
   "execution_count": 4,
   "metadata": {},
   "outputs": [],
   "source": [
    "import sys\n",
    "sys.path.append('/Users/alexandrafink/Documents/GraduateSchool/SaezLab/SWB/swb_computational_modeling/swb_behav_models/scripts/')\n",
    "import SWB_modeling_utils"
   ]
  },
  {
   "cell_type": "code",
   "execution_count": 21,
   "metadata": {},
   "outputs": [],
   "source": [
    "swb_dir = '/Users/alexandrafink/Documents/GraduateSchool/SaezLab/SWB/'\n",
    "subj_list = pd.read_excel(f'{swb_dir}SWB_subjects.xlsx', sheet_name='Usable_Subjects', usecols=[0])\n",
    "subj_ids = list(subj_list.PatientID)"
   ]
  },
  {
   "cell_type": "markdown",
   "metadata": {},
   "source": [
    "## Standard GLMs"
   ]
  },
  {
   "cell_type": "markdown",
   "metadata": {},
   "source": [
    "Step 1: Choose winning model from 1-4 (RPE+CPE or CPE only & tCPE vs dCPE)\n",
    "\n",
    "1) RPE (CR+EV+RPE)\n",
    "2) tCPE (CR+EV+tCPE) \n",
    "3) dCPE (CR+EV+dCPE) \n",
    "4) tCPE+RPE (CR+EV+RPE+tCPE)\n",
    "5) dCPE+RPE  (CR+EV+RPE+dCPE)\n",
    "\n",
    "Step 2: Choose winning model from 6-11\n",
    "\n",
    "6) total Regret (CR+EV+tRegret) *omit RPE if model 2 > model 1\n",
    "7) decision Regret (CR+EV+dRegret) *omit RPE if model 2 > model 1\n",
    "8) total Relief (CR+EV+tRelief) *omit RPE if model 2 > model 1\n",
    "9) decision Relief (CR+EV+dRelief) *omit RPE if model 2 > model 1\n",
    "10) total Regret/Relief (CR+EV+tRegret+tRelief) *omit RPE if model 2 > model 1\n",
    "11) decision Regret/Relief (CR+EV+dRegret+dRelief) *omit RPE if model 2 > model 1"
   ]
  },
  {
   "cell_type": "code",
   "execution_count": 5,
   "metadata": {},
   "outputs": [],
   "source": [
    "model_input_path = '/Users/alexandrafink/Documents/GraduateSchool/SaezLab/SWB/swb_computational_modeling/swb_behav_models/data/model_input_data_06192023'\n",
    "model_input = pd.read_csv(model_input_path)"
   ]
  },
  {
   "cell_type": "code",
   "execution_count": 7,
   "metadata": {},
   "outputs": [
    {
     "data": {
      "text/plain": [
       "Index(['subj_id', 'round', 'rate', 'zscore_rate', 'cr(t-1)', 'cr(t-2)',\n",
       "       'cr(t-3)', 'choice_ev(t-1)', 'choice_ev(t-2)', 'choice_ev(t-3)',\n",
       "       'rpe(t-1)', 'rpe(t-2)', 'rpe(t-3)', 'totalcpe(t-1)', 'totalcpe(t-2)',\n",
       "       'totalcpe(t-3)', 'decisioncpe(t-1)', 'decisioncpe(t-2)',\n",
       "       'decisioncpe(t-3)', 'totalregret(t-1)', 'totalregret(t-2)',\n",
       "       'totalregret(t-3)', 'decisionregret(t-1)', 'decisionregret(t-2)',\n",
       "       'decisionregret(t-3)', 'totalrelief(t-1)', 'totalrelief(t-2)',\n",
       "       'totalrelief(t-3)', 'decisionrelief(t-1)', 'decisionrelief(t-2)',\n",
       "       'decisionrelief(t-3)'],\n",
       "      dtype='object')"
      ]
     },
     "execution_count": 7,
     "metadata": {},
     "output_type": "execute_result"
    }
   ],
   "source": [
    "model_input.columns"
   ]
  },
  {
   "cell_type": "markdown",
   "metadata": {},
   "source": [
    "### Step 1: Choose winning model from 1-4 (RPE+CPE or CPE only & tCPE vs dCPE)\n",
    "- Include RPE in CPE models?\n",
    "- Is total CPE or decision CPE a better CPE metric (total = outcome - max possible, decision = outcome - max unchosen)"
   ]
  },
  {
   "cell_type": "code",
   "execution_count": 320,
   "metadata": {},
   "outputs": [],
   "source": [
    "model1_vars = [\"cr(t-1)\",\"cr(t-2)\",\"cr(t-3)\",\"choice_ev(t-1)\",\"choice_ev(t-2)\",\"choice_ev(t-3)\",\"rpe(t-1)\",\"rpe(t-2)\",\"rpe(t-3)\"]\n",
    "model2_vars = [\"cr(t-1)\",\"cr(t-2)\",\"cr(t-3)\",\"choice_ev(t-1)\",\"choice_ev(t-2)\",\"choice_ev(t-3)\",\"totalcpe(t-1)\",\"totalcpe(t-2)\",\"totalcpe(t-3)\"]\n",
    "model3_vars = [\"cr(t-1)\",\"cr(t-2)\",\"cr(t-3)\",\"choice_ev(t-1)\",\"choice_ev(t-2)\",\"choice_ev(t-3)\",\"decisioncpe(t-1)\",\"decisioncpe(t-2)\",\"decisioncpe(t-3)\"]\n",
    "model4_vars = [\"cr(t-1)\",\"cr(t-2)\",\"cr(t-3)\",\"choice_ev(t-1)\",\"choice_ev(t-2)\",\"choice_ev(t-3)\",\"rpe(t-1)\",\"rpe(t-2)\",\"rpe(t-3)\",\"totalcpe(t-1)\",\"totalcpe(t-2)\",\"totalcpe(t-3)\"]\n",
    "model5_vars = [\"cr(t-1)\",\"cr(t-2)\",\"cr(t-3)\",\"choice_ev(t-1)\",\"choice_ev(t-2)\",\"choice_ev(t-3)\",\"rpe(t-1)\",\"rpe(t-2)\",\"rpe(t-3)\",\"decisioncpe(t-1)\",\"decisioncpe(t-2)\",\"decisioncpe(t-3)\"]\n"
   ]
  },
  {
   "cell_type": "code",
   "execution_count": 407,
   "metadata": {},
   "outputs": [],
   "source": [
    "models_dict = {}\n",
    "models_dict['rpe'] = model1_vars\n",
    "models_dict['tcpe'] = model2_vars\n",
    "models_dict['dcpe'] = model3_vars\n",
    "models_dict['rpe+tcpe'] = model4_vars\n",
    "models_dict['rpe+dcpe'] = model5_vars\n"
   ]
  },
  {
   "cell_type": "code",
   "execution_count": 322,
   "metadata": {},
   "outputs": [],
   "source": [
    "#### run swb to find optimal parameters \n",
    "models_list = ['rpe','tcpe','dcpe','rpe+tcpe','rpe+dcpe']\n",
    "\n",
    "\n",
    "step1_results = {}\n",
    "\n",
    "for model in models_list:\n",
    "\n",
    "    reg_list = models_dict[model]\n",
    "    n_regs = int(len(reg_list)/3)\n",
    "\n",
    "    mood_est_df, optim_resid_df, optim_inits_df, param_fits_df, aic_dict,bic1_dict,bic2_dict, rsq_dict = \\\n",
    "    run_swb(model_input, subj_ids, n_regs, reg_list)\n",
    "    \n",
    "\n",
    "    step1_results[model] = {'mood_est': mood_est_df,\n",
    "                            'optim_residuals':optim_resid_df,\n",
    "                           'optim_inits': optim_inits_df,\n",
    "                           'param_fits': param_fits_df,\n",
    "                            'aics':aic_dict,\n",
    "                           'bics1': bic1_dict,\n",
    "                            'bics2': bic2_dict,\n",
    "                           'rsqs': rsq_dict\n",
    "                           }\n",
    "\n"
   ]
  },
  {
   "cell_type": "code",
   "execution_count": 389,
   "metadata": {},
   "outputs": [],
   "source": [
    "### use optimal parameters to run model \n",
    "\n",
    "models_list = ['rpe','tcpe','dcpe','rpe+tcpe','rpe+dcpe']\n",
    "\n",
    "step1_data = {}\n",
    "\n",
    "for model in models_list:\n",
    "\n",
    "    reg_list = models_dict[model]\n",
    "    n_regs = int(len(reg_list)/3)\n",
    "    params = step1_results[model]['param_fits']\n",
    "\n",
    "    mood_est_df, resid_df, rss_dict, aic_dict, bic1_dict, bic2_dict, rsq_dict = SWB_modeling_utils.fit_swb(model_input,subj_ids,params,n_regs,reg_list)\n",
    "    \n",
    "\n",
    "    step1_data[model] = {'mood_est': mood_est_df,\n",
    "                            'residuals':resid_df,\n",
    "                           'rss': rss_dict,\n",
    "                            'aic':aic_dict,\n",
    "                           'bics1': bic1_dict,\n",
    "                            'bics2': bic2_dict,\n",
    "                           'rsqs': rsq_dict\n",
    "                           }\n"
   ]
  },
  {
   "cell_type": "code",
   "execution_count": 390,
   "metadata": {},
   "outputs": [
    {
     "name": "stdout",
     "output_type": "stream",
     "text": [
      "best model bic for  DA8 is tcpe -87.25782729105995\n",
      "best model rsq for  DA8 is tcpe -0.13667157970461585\n",
      "best model bic for  DA9 is rpe -144.75488975165848\n",
      "best model rsq for  DA9 is rpe -0.05784412938865824\n",
      "best model bic for  DA10 is rpe -154.94676242032313\n",
      "best model rsq for  DA10 is rpe+tcpe -0.04273045432130984\n",
      "best model bic for  DA11 is rpe -234.0190689067228\n",
      "best model rsq for  DA11 is rpe+tcpe 0.053892762803771976\n",
      "best model bic for  DA023 is rpe -212.82425719090074\n",
      "best model rsq for  DA023 is rpe+dcpe 0.03526149282724944\n",
      "best model bic for  MS002 is tcpe -227.94439023643872\n",
      "best model rsq for  MS002 is tcpe 0.046631597565975014\n",
      "best model bic for  MS003 is rpe -233.46913141603358\n",
      "best model rsq for  MS003 is rpe 0.0531928079616828\n",
      "best model bic for  MS016 is rpe -262.3095576478066\n",
      "best model rsq for  MS016 is rpe 0.08671778426446819\n",
      "best model bic for  MS017 is rpe -152.03177411065522\n",
      "best model rsq for  MS017 is rpe -0.04826549780475542\n",
      "best model bic for  MS019 is rpe+tcpe -206.71412333944966\n",
      "best model rsq for  MS019 is rpe+tcpe 0.029138842189492142\n",
      "best model bic for  MS022 is rpe -233.45609566617344\n",
      "best model rsq for  MS022 is rpe 0.05317737990883431\n",
      "best model bic for  MS025 is dcpe -99.61311199893947\n",
      "best model rsq for  MS025 is dcpe -0.11925156797517134\n",
      "best model bic for  MS026 is tcpe -193.37583350035308\n",
      "best model rsq for  MS026 is rpe+dcpe 0.010963998511183015\n",
      "best model bic for  MS027 is tcpe -209.1205854212157\n",
      "best model rsq for  MS027 is tcpe 0.023933073536638205\n",
      "best model bic for  MS029 is rpe+dcpe -193.05748332865025\n",
      "best model rsq for  MS029 is rpe+dcpe 0.012423196729899333\n",
      "best model bic for  MS030 is tcpe -191.25298793543487\n",
      "best model rsq for  MS030 is tcpe 0.0018878416477713378\n"
     ]
    }
   ],
   "source": [
    "for ix,s in enumerate(subj_ids):\n",
    "    best_bic = np.inf\n",
    "    best_rsq = -np.inf\n",
    "    best_model_bic = []\n",
    "    best_model_rsq = []\n",
    "    for model in models_list:\n",
    "        bic = step1_data[model]['bics1'][s]\n",
    "        rsq = step1_data[model]['rsqs'][s]\n",
    "        if bic<best_bic:\n",
    "            best_bic = bic \n",
    "            best_model_bic = model\n",
    "        if rsq>best_rsq:\n",
    "            best_rsq=rsq\n",
    "            best_model_rsq = model\n",
    "        \n",
    "    print('best model bic for ',s,'is',best_model_bic,best_bic)\n",
    "    print('best model rsq for ',s,'is',best_model_rsq,best_rsq)"
   ]
  },
  {
   "cell_type": "code",
   "execution_count": 391,
   "metadata": {},
   "outputs": [
    {
     "name": "stdout",
     "output_type": "stream",
     "text": [
      "model 1 bic1 mean -146.16514201757164\n",
      "model 2 bic1 mean -167.62025949534868\n",
      "model 3 bic1 mean -132.51260728361785\n",
      "model 4 bic1 mean -122.60565077852677\n",
      "model 5 bic1 mean -113.86405122928701\n"
     ]
    }
   ],
   "source": [
    "print('model 1 bic1 mean',np.mean(np.array(list(step1_data['rpe']['bics1'].values()))))\n",
    "print('model 2 bic1 mean',np.mean(np.array(list(step1_data['tcpe']['bics1'].values()))))\n",
    "print('model 3 bic1 mean',np.mean(np.array(list(step1_data['dcpe']['bics1'].values()))))\n",
    "print('model 4 bic1 mean',np.mean(np.array(list(step1_data['rpe+tcpe']['bics1'].values()))))\n",
    "print('model 5 bic1 mean',np.mean(np.array(list(step1_data['rpe+dcpe']['bics1'].values()))))"
   ]
  },
  {
   "cell_type": "code",
   "execution_count": 392,
   "metadata": {},
   "outputs": [
    {
     "name": "stdout",
     "output_type": "stream",
     "text": [
      "model 1 bic1 sum -2338.6422722811462\n",
      "model 2 bic1 sum -2681.924151925579\n",
      "model 3 bic1 sum -2120.2017165378857\n",
      "model 4 bic1 sum -1961.6904124564282\n",
      "model 5 bic1 sum -1821.8248196685922\n"
     ]
    }
   ],
   "source": [
    "print('model 1 bic1 sum',np.sum(np.array(list(step1_data['rpe']['bics1'].values()))))\n",
    "print('model 2 bic1 sum',np.sum(np.array(list(step1_data['tcpe']['bics1'].values()))))\n",
    "print('model 3 bic1 sum',np.sum(np.array(list(step1_data['dcpe']['bics1'].values()))))\n",
    "print('model 4 bic1 sum',np.sum(np.array(list(step1_data['rpe+tcpe']['bics1'].values()))))\n",
    "print('model 5 bic1 sum',np.sum(np.array(list(step1_data['rpe+dcpe']['bics1'].values()))))"
   ]
  },
  {
   "cell_type": "code",
   "execution_count": 393,
   "metadata": {},
   "outputs": [
    {
     "name": "stdout",
     "output_type": "stream",
     "text": [
      "model 1 bic2 mean 33.87202913997941\n",
      "model 2 bic2 mean 33.92566693367385\n",
      "model 3 bic2 mean 33.83789780314452\n",
      "model 4 bic2 mean 40.514453668868896\n",
      "model 5 bic2 mean 40.4925996699958\n"
     ]
    }
   ],
   "source": [
    "print('model 1 bic2 mean',np.mean(np.array(list(step1_data['rpe']['bics2'].values()))))\n",
    "print('model 2 bic2 mean',np.mean(np.array(list(step1_data['tcpe']['bics2'].values()))))\n",
    "print('model 3 bic2 mean',np.mean(np.array(list(step1_data['dcpe']['bics2'].values()))))\n",
    "print('model 4 bic2 mean',np.mean(np.array(list(step1_data['rpe+tcpe']['bics2'].values()))))\n",
    "print('model 5 bic2 mean',np.mean(np.array(list(step1_data['rpe+dcpe']['bics2'].values()))))"
   ]
  },
  {
   "cell_type": "code",
   "execution_count": 394,
   "metadata": {},
   "outputs": [
    {
     "name": "stdout",
     "output_type": "stream",
     "text": [
      "model 1 bic2 sum 541.9524662396706\n",
      "model 2 bic2 sum 542.8106709387816\n",
      "model 3 bic2 sum 541.4063648503123\n",
      "model 4 bic2 sum 648.2312587019023\n",
      "model 5 bic2 sum 647.8815947199328\n"
     ]
    }
   ],
   "source": [
    "print('model 1 bic2 sum',np.sum(np.array(list(step1_data['rpe']['bics2'].values()))))\n",
    "print('model 2 bic2 sum',np.sum(np.array(list(step1_data['tcpe']['bics2'].values()))))\n",
    "print('model 3 bic2 sum',np.sum(np.array(list(step1_data['dcpe']['bics2'].values()))))\n",
    "print('model 4 bic2 sum',np.sum(np.array(list(step1_data['rpe+tcpe']['bics2'].values()))))\n",
    "print('model 5 bic2 sum',np.sum(np.array(list(step1_data['rpe+dcpe']['bics2'].values()))))"
   ]
  },
  {
   "cell_type": "code",
   "execution_count": 395,
   "metadata": {},
   "outputs": [
    {
     "name": "stdout",
     "output_type": "stream",
     "text": [
      "model 1 aic mean -169.58820065591127\n",
      "model 2 aic mean -191.0433181336883\n",
      "model 3 aic mean -155.93566592195748\n",
      "model 4 aic mean -150.71332114453435\n",
      "model 5 aic mean -141.97172159529458\n"
     ]
    }
   ],
   "source": [
    "print('model 1 aic mean',np.mean(np.array(list(step1_data['rpe']['aic'].values()))))\n",
    "print('model 2 aic mean',np.mean(np.array(list(step1_data['tcpe']['aic'].values()))))\n",
    "print('model 3 aic mean',np.mean(np.array(list(step1_data['dcpe']['aic'].values()))))\n",
    "print('model 4 aic mean',np.mean(np.array(list(step1_data['rpe+tcpe']['aic'].values()))))\n",
    "print('model 5 aic mean',np.mean(np.array(list(step1_data['rpe+dcpe']['aic'].values()))))\n"
   ]
  },
  {
   "cell_type": "code",
   "execution_count": 396,
   "metadata": {},
   "outputs": [
    {
     "name": "stdout",
     "output_type": "stream",
     "text": [
      "model 1 aic sum -2713.4112104945802\n",
      "model 2 aic sum -3056.693090139013\n",
      "model 3 aic sum -2494.9706547513197\n",
      "model 4 aic sum -2411.4131383125496\n",
      "model 5 aic sum -2271.5475455247133\n"
     ]
    }
   ],
   "source": [
    "print('model 1 aic sum',np.sum(np.array(list(step1_data['rpe']['aic'].values()))))\n",
    "print('model 2 aic sum',np.sum(np.array(list(step1_data['tcpe']['aic'].values()))))\n",
    "print('model 3 aic sum',np.sum(np.array(list(step1_data['dcpe']['aic'].values()))))\n",
    "print('model 4 aic sum',np.sum(np.array(list(step1_data['rpe+tcpe']['aic'].values()))))\n",
    "print('model 5 aic sum',np.sum(np.array(list(step1_data['rpe+dcpe']['aic'].values()))))\n"
   ]
  },
  {
   "cell_type": "code",
   "execution_count": 397,
   "metadata": {},
   "outputs": [
    {
     "name": "stdout",
     "output_type": "stream",
     "text": [
      "model 1 rsq mean -0.07639583136222863\n",
      "model 2 rsq mean -0.02989700069664191\n",
      "model 3 rsq mean -0.07912923904454211\n",
      "model 4 rsq mean -0.0989106094169255\n",
      "model 5 rsq mean -0.11510095805612951\n"
     ]
    }
   ],
   "source": [
    "print('model 1 rsq mean',np.mean(np.array(list(step1_data['rpe']['rsqs'].values()))))\n",
    "print('model 2 rsq mean',np.mean(np.array(list(step1_data['tcpe']['rsqs'].values()))))\n",
    "print('model 3 rsq mean',np.mean(np.array(list(step1_data['dcpe']['rsqs'].values()))))\n",
    "print('model 4 rsq mean',np.mean(np.array(list(step1_data['rpe+tcpe']['rsqs'].values()))))\n",
    "print('model 5 rsq mean',np.mean(np.array(list(step1_data['rpe+dcpe']['rsqs'].values()))))\n"
   ]
  },
  {
   "cell_type": "code",
   "execution_count": 399,
   "metadata": {},
   "outputs": [
    {
     "name": "stdout",
     "output_type": "stream",
     "text": [
      "model 1 rsq sum -1.2223333017956581\n",
      "model 2 rsq sum -0.4783520111462706\n",
      "model 3 rsq sum -1.2660678247126738\n",
      "model 4 rsq sum -1.582569750670808\n",
      "model 5 rsq sum -1.8416153288980721\n"
     ]
    }
   ],
   "source": [
    "print('model 1 rsq sum',np.sum(np.array(list(step1_data['rpe']['rsqs'].values()))))\n",
    "print('model 2 rsq sum',np.sum(np.array(list(step1_data['tcpe']['rsqs'].values()))))\n",
    "print('model 3 rsq sum',np.sum(np.array(list(step1_data['dcpe']['rsqs'].values()))))\n",
    "print('model 4 rsq sum',np.sum(np.array(list(step1_data['rpe+tcpe']['rsqs'].values()))))\n",
    "print('model 5 rsq sum',np.sum(np.array(list(step1_data['rpe+dcpe']['rsqs'].values()))))"
   ]
  },
  {
   "cell_type": "markdown",
   "metadata": {},
   "source": [
    "### Results of step 1: \n",
    "- adding RPE adds explanatory power to the model but worsens BIC\n",
    "- total CPE is better"
   ]
  },
  {
   "cell_type": "markdown",
   "metadata": {},
   "source": [
    "### Step 2: Choose winning regret/relief model\n",
    "- total vs decision regret/relief\n",
    "- regret or relief?"
   ]
  },
  {
   "cell_type": "code",
   "execution_count": 408,
   "metadata": {},
   "outputs": [],
   "source": [
    "model6_vars = [\"cr(t-1)\",\"cr(t-2)\",\"cr(t-3)\",\"choice_ev(t-1)\",\"choice_ev(t-2)\",\"choice_ev(t-3)\",\"totalregret(t-1)\",\"totalregret(t-2)\",\"totalregret(t-3)\"]\n",
    "model7_vars = [\"cr(t-1)\",\"cr(t-2)\",\"cr(t-3)\",\"choice_ev(t-1)\",\"choice_ev(t-2)\",\"choice_ev(t-3)\",\"decisionregret(t-1)\",\"decisionregret(t-2)\",\"decisionregret(t-3)\"]\n",
    "model8_vars = [\"cr(t-1)\",\"cr(t-2)\",\"cr(t-3)\",\"choice_ev(t-1)\",\"choice_ev(t-2)\",\"choice_ev(t-3)\",\"totalrelief(t-1)\",\"totalrelief(t-2)\",\"totalrelief(t-3)\"]\n",
    "model9_vars = [\"cr(t-1)\",\"cr(t-2)\",\"cr(t-3)\",\"choice_ev(t-1)\",\"choice_ev(t-2)\",\"choice_ev(t-3)\",\"decisionrelief(t-1)\",\"decisionrelief(t-2)\",\"decisionrelief(t-3)\"]\n",
    "model10_vars = [\"cr(t-1)\",\"cr(t-2)\",\"cr(t-3)\",\"choice_ev(t-1)\",\"choice_ev(t-2)\",\"choice_ev(t-3)\",\"totalregret(t-1)\",\"totalregret(t-2)\",\"totalregret(t-3)\",\"totalrelief(t-1)\",\"totalrelief(t-2)\",\"totalrelief(t-3)\"]\n",
    "model11_vars = [\"cr(t-1)\",\"cr(t-2)\",\"cr(t-3)\",\"choice_ev(t-1)\",\"choice_ev(t-2)\",\"choice_ev(t-3)\",\"decisionregret(t-1)\",\"decisionregret(t-2)\",\"decisionregret(t-3)\",\"decisionrelief(t-1)\",\"decisionrelief(t-2)\",\"decisionrelief(t-3)\"]"
   ]
  },
  {
   "cell_type": "code",
   "execution_count": 410,
   "metadata": {},
   "outputs": [],
   "source": [
    "models_dict['treg'] = model6_vars\n",
    "models_dict['dreg'] = model7_vars\n",
    "models_dict['trel'] = model8_vars\n",
    "models_dict['drel'] = model9_vars\n",
    "models_dict['treg/rel'] = model10_vars\n",
    "models_dict['dreg/rel'] = model11_vars\n"
   ]
  },
  {
   "cell_type": "code",
   "execution_count": 412,
   "metadata": {},
   "outputs": [],
   "source": [
    "models_list2 = ['treg','dreg','trel','drel','treg/rel','dreg/rel']\n",
    "\n",
    "step2_results = {}\n",
    "\n",
    "for model in models_list2:\n",
    "\n",
    "    reg_list = models_dict[model]\n",
    "    n_regs = int(len(reg_list)/3)\n",
    "\n",
    "    mood_est_df, optim_resid_df, optim_inits_df, param_fits_df, aic_dict,bic1_dict,bic2_dict, rsq_dict = \\\n",
    "    run_swb(model_input, subj_ids, n_regs, reg_list)\n",
    "    \n",
    "\n",
    "    step2_results[model] = {'mood_est': mood_est_df,\n",
    "                            'optim_residuals':optim_resid_df,\n",
    "                           'optim_inits': optim_inits_df,\n",
    "                           'param_fits': param_fits_df,\n",
    "                            'aics':aic_dict,\n",
    "                           'bics1': bic1_dict,\n",
    "                            'bics2': bic2_dict,\n",
    "                           'rsqs': rsq_dict\n",
    "                           }\n",
    "\n"
   ]
  },
  {
   "cell_type": "code",
   "execution_count": 414,
   "metadata": {},
   "outputs": [],
   "source": [
    "### use optimal parameters to run model \n",
    "\n",
    "models_list2 = ['treg','dreg','trel','drel','treg/rel','dreg/rel']\n",
    "step2_data = {}\n",
    "\n",
    "for model in models_list2:\n",
    "\n",
    "    reg_list = models_dict[model]\n",
    "    n_regs = int(len(reg_list)/3)\n",
    "    params = step2_results[model]['param_fits']\n",
    "\n",
    "    mood_est_df, resid_df, rss_dict, aic_dict, bic1_dict, bic2_dict, rsq_dict = \\\n",
    "    SWB_modeling_utils.fit_swb(model_input,subj_ids,params,n_regs,reg_list)\n",
    "    \n",
    "\n",
    "    step2_data[model] = {'mood_est': mood_est_df,\n",
    "                            'residuals':resid_df,\n",
    "                           'rss': rss_dict,\n",
    "                            'aic':aic_dict,\n",
    "                           'bics1': bic1_dict,\n",
    "                            'bics2': bic2_dict,\n",
    "                           'rsqs': rsq_dict\n",
    "                           }\n"
   ]
  },
  {
   "cell_type": "code",
   "execution_count": 416,
   "metadata": {},
   "outputs": [
    {
     "name": "stdout",
     "output_type": "stream",
     "text": [
      "best model bic for  DA8 is treg -52.99314635951057\n",
      "best model rsq for  DA8 is treg/rel -0.1802260873937953\n",
      "best model bic for  DA9 is treg -169.1054524818295\n",
      "best model rsq for  DA9 is treg -0.026130358196571057\n",
      "best model bic for  DA10 is treg/rel -149.37215837174594\n",
      "best model rsq for  DA10 is treg/rel -0.04300466264771252\n",
      "best model bic for  DA11 is treg -239.1332512148041\n",
      "best model rsq for  DA11 is treg 0.05987266954978976\n",
      "best model bic for  DA023 is trel -228.04571492258128\n",
      "best model rsq for  DA023 is trel 0.04675233961216174\n",
      "best model bic for  MS002 is treg/rel -253.68436875871478\n",
      "best model rsq for  MS002 is treg/rel 0.08449972689516849\n",
      "best model bic for  MS003 is treg -236.96156491662225\n",
      "best model rsq for  MS003 is treg/rel 0.06203036879738577\n",
      "best model bic for  MS016 is treg/rel -252.3673631886784\n",
      "best model rsq for  MS016 is treg/rel 0.08299133693828709\n",
      "best model bic for  MS017 is treg/rel -165.5135811648568\n",
      "best model rsq for  MS017 is treg/rel -0.022171072747175335\n",
      "best model bic for  MS019 is trel -205.83355469419246\n",
      "best model rsq for  MS019 is trel 0.019914370716903163\n",
      "best model bic for  MS022 is drel -212.3513659817417\n",
      "best model rsq for  MS022 is treg/rel 0.03540428072219881\n",
      "best model bic for  MS025 is dreg -152.10727770076915\n",
      "best model rsq for  MS025 is dreg -0.048166567712719655\n",
      "best model bic for  MS026 is treg -201.56517468798128\n",
      "best model rsq for  MS026 is treg 0.014671173300303542\n",
      "best model bic for  MS027 is treg -222.60789697946547\n",
      "best model rsq for  MS027 is treg 0.04025078418311556\n",
      "best model bic for  MS029 is treg -222.44308329769243\n",
      "best model rsq for  MS029 is treg 0.040053039062081464\n",
      "best model bic for  MS030 is dreg -164.69778808110613\n",
      "best model rsq for  MS030 is dreg -0.031799508990002945\n"
     ]
    }
   ],
   "source": [
    "for ix,s in enumerate(subj_ids):\n",
    "    best_bic = np.inf\n",
    "    best_rsq = -np.inf\n",
    "    best_model_bic = []\n",
    "    best_model_rsq = []\n",
    "    for model in models_list2:\n",
    "        bic = step2_data[model]['bics1'][s]\n",
    "        rsq = step2_data[model]['rsqs'][s]\n",
    "        if bic<best_bic:\n",
    "            best_bic = bic \n",
    "            best_model_bic = model\n",
    "        if rsq>best_rsq:\n",
    "            best_rsq=rsq\n",
    "            best_model_rsq = model\n",
    "        \n",
    "    print('best model bic for ',s,'is',best_model_bic,best_bic)\n",
    "    print('best model rsq for ',s,'is',best_model_rsq,best_rsq)"
   ]
  },
  {
   "cell_type": "code",
   "execution_count": 417,
   "metadata": {},
   "outputs": [
    {
     "name": "stdout",
     "output_type": "stream",
     "text": [
      "model 6 bic1 mean -179.47915786144353\n",
      "model 7 bic1 mean -144.99023443043893\n",
      "model 8 bic1 mean -135.47569544990304\n",
      "model 9 bic1 mean -134.47207951774575\n",
      "model 10 bic1 mean -157.0392882952151\n",
      "model 11 bic1 mean -137.93012612838703\n"
     ]
    }
   ],
   "source": [
    "print('model 6 bic1 mean',np.mean(np.array(list(step2_data['treg']['bics1'].values()))))\n",
    "print('model 7 bic1 mean',np.mean(np.array(list(step2_data['dreg']['bics1'].values()))))\n",
    "print('model 8 bic1 mean',np.mean(np.array(list(step2_data['trel']['bics1'].values()))))\n",
    "print('model 9 bic1 mean',np.mean(np.array(list(step2_data['drel']['bics1'].values()))))\n",
    "print('model 10 bic1 mean',np.mean(np.array(list(step2_data['treg/rel']['bics1'].values()))))\n",
    "print('model 11 bic1 mean',np.mean(np.array(list(step2_data['dreg/rel']['bics1'].values()))))"
   ]
  },
  {
   "cell_type": "code",
   "execution_count": 418,
   "metadata": {},
   "outputs": [
    {
     "name": "stdout",
     "output_type": "stream",
     "text": [
      "model 6 bic1 sum -2871.6665257830964\n",
      "model 7 bic1 sum -2319.843750887023\n",
      "model 8 bic1 sum -2167.6111271984487\n",
      "model 9 bic1 sum -2151.553272283932\n",
      "model 10 bic1 sum -2512.6286127234416\n",
      "model 11 bic1 sum -2206.8820180541925\n"
     ]
    }
   ],
   "source": [
    "print('model 6 bic1 sum',np.sum(np.array(list(step2_data['treg']['bics1'].values()))))\n",
    "print('model 7 bic1 sum',np.sum(np.array(list(step2_data['dreg']['bics1'].values()))))\n",
    "print('model 8 bic1 sum',np.sum(np.array(list(step2_data['trel']['bics1'].values()))))\n",
    "print('model 9 bic1 sum',np.sum(np.array(list(step2_data['drel']['bics1'].values()))))\n",
    "print('model 10 bic1 sum',np.sum(np.array(list(step2_data['treg/rel']['bics1'].values()))))\n",
    "print('model 11 bic1 sum',np.sum(np.array(list(step2_data['dreg/rel']['bics1'].values()))))"
   ]
  },
  {
   "cell_type": "code",
   "execution_count": 419,
   "metadata": {},
   "outputs": [
    {
     "name": "stdout",
     "output_type": "stream",
     "text": [
      "model 6 bic2 mean 33.955314179589095\n",
      "model 7 bic2 mean 33.86909187101158\n",
      "model 8 bic2 mean 33.84530552356024\n",
      "model 9 bic2 mean 33.84279648372985\n",
      "model 10 bic2 mean 40.600537762660615\n",
      "model 11 bic2 mean 40.55276485724355\n"
     ]
    }
   ],
   "source": [
    "print('model 6 bic2 mean',np.mean(np.array(list(step2_data['treg']['bics2'].values()))))\n",
    "print('model 7 bic2 mean',np.mean(np.array(list(step2_data['dreg']['bics2'].values()))))\n",
    "print('model 8 bic2 mean',np.mean(np.array(list(step2_data['trel']['bics2'].values()))))\n",
    "print('model 9 bic2 mean',np.mean(np.array(list(step2_data['drel']['bics2'].values()))))\n",
    "print('model 10 bic2 mean',np.mean(np.array(list(step2_data['treg/rel']['bics2'].values()))))\n",
    "print('model 11 bic2 mean',np.mean(np.array(list(step2_data['dreg/rel']['bics2'].values()))))"
   ]
  },
  {
   "cell_type": "code",
   "execution_count": 420,
   "metadata": {},
   "outputs": [
    {
     "name": "stdout",
     "output_type": "stream",
     "text": [
      "model 6 bic2 sum 543.2850268734255\n",
      "model 7 bic2 sum 541.9054699361852\n",
      "model 8 bic2 sum 541.5248883769639\n",
      "model 9 bic2 sum 541.4847437396776\n",
      "model 10 bic2 sum 649.6086042025698\n",
      "model 11 bic2 sum 648.8442377158968\n"
     ]
    }
   ],
   "source": [
    "print('model 6 bic2 sum',np.sum(np.array(list(step2_data['treg']['bics2'].values()))))\n",
    "print('model 7 bic2 sum',np.sum(np.array(list(step2_data['dreg']['bics2'].values()))))\n",
    "print('model 8 bic2 sum',np.sum(np.array(list(step2_data['trel']['bics2'].values()))))\n",
    "print('model 9 bic2 sum',np.sum(np.array(list(step2_data['drel']['bics2'].values()))))\n",
    "print('model 10 bic2 sum',np.sum(np.array(list(step2_data['treg/rel']['bics2'].values()))))\n",
    "print('model 11 bic2 sum',np.sum(np.array(list(step2_data['dreg/rel']['bics2'].values()))))"
   ]
  },
  {
   "cell_type": "code",
   "execution_count": 421,
   "metadata": {},
   "outputs": [
    {
     "name": "stdout",
     "output_type": "stream",
     "text": [
      "model 6 aic mean -202.90221649978315\n",
      "model 7 aic mean -168.4132930687786\n",
      "model 8 aic mean -158.89875408824267\n",
      "model 9 aic mean -157.89513815608538\n",
      "model 10 aic mean -185.14695866122264\n",
      "model 11 aic mean -166.03779649439457\n"
     ]
    }
   ],
   "source": [
    "print('model 6 aic mean',np.mean(np.array(list(step2_data['treg']['aic'].values()))))\n",
    "print('model 7 aic mean',np.mean(np.array(list(step2_data['dreg']['aic'].values()))))\n",
    "print('model 8 aic mean',np.mean(np.array(list(step2_data['trel']['aic'].values()))))\n",
    "print('model 9 aic mean',np.mean(np.array(list(step2_data['drel']['aic'].values()))))\n",
    "print('model 10 aic mean',np.mean(np.array(list(step2_data['treg/rel']['aic'].values()))))\n",
    "print('model 11 aic mean',np.mean(np.array(list(step2_data['dreg/rel']['aic'].values()))))\n"
   ]
  },
  {
   "cell_type": "code",
   "execution_count": 422,
   "metadata": {},
   "outputs": [
    {
     "name": "stdout",
     "output_type": "stream",
     "text": [
      "model 6 aic sum -3246.4354639965304\n",
      "model 7 aic sum -2694.6126891004574\n",
      "model 8 aic sum -2542.3800654118827\n",
      "model 9 aic sum -2526.322210497366\n",
      "model 10 aic sum -2962.3513385795623\n",
      "model 11 aic sum -2656.604743910313\n"
     ]
    }
   ],
   "source": [
    "print('model 6 aic sum',np.sum(np.array(list(step2_data['treg']['aic'].values()))))\n",
    "print('model 7 aic sum',np.sum(np.array(list(step2_data['dreg']['aic'].values()))))\n",
    "print('model 8 aic sum',np.sum(np.array(list(step2_data['trel']['aic'].values()))))\n",
    "print('model 9 aic sum',np.sum(np.array(list(step2_data['drel']['aic'].values()))))\n",
    "print('model 10 aic sum',np.sum(np.array(list(step2_data['treg/rel']['aic'].values()))))\n",
    "print('model 11 aic sum',np.sum(np.array(list(step2_data['dreg/rel']['aic'].values()))))\n"
   ]
  },
  {
   "cell_type": "code",
   "execution_count": 423,
   "metadata": {},
   "outputs": [
    {
     "name": "stdout",
     "output_type": "stream",
     "text": [
      "model 6 rsq mean -0.016111262882360824\n",
      "model 7 rsq mean -0.06118364474994745\n",
      "model 8 rsq mean -0.07824335515253661\n",
      "model 9 rsq mean -0.07992162136990996\n",
      "model 10 rsq mean -0.0389402749261149\n",
      "model 11 rsq mean -0.06167827377898275\n"
     ]
    }
   ],
   "source": [
    "print('model 6 rsq mean',np.mean(np.array(list(step2_data['treg']['rsqs'].values()))))\n",
    "print('model 7 rsq mean',np.mean(np.array(list(step2_data['dreg']['rsqs'].values()))))\n",
    "print('model 8 rsq mean',np.mean(np.array(list(step2_data['trel']['rsqs'].values()))))\n",
    "print('model 9 rsq mean',np.mean(np.array(list(step2_data['drel']['rsqs'].values()))))\n",
    "print('model 10 rsq mean',np.mean(np.array(list(step2_data['treg/rel']['rsqs'].values()))))\n",
    "print('model 11 rsq mean',np.mean(np.array(list(step2_data['dreg/rel']['rsqs'].values()))))\n"
   ]
  },
  {
   "cell_type": "code",
   "execution_count": 424,
   "metadata": {},
   "outputs": [
    {
     "name": "stdout",
     "output_type": "stream",
     "text": [
      "model 6 rsq sum -0.2577802061177732\n",
      "model 7 rsq sum -0.9789383159991591\n",
      "model 8 rsq sum -1.2518936824405857\n",
      "model 9 rsq sum -1.2787459419185594\n",
      "model 10 rsq sum -0.6230443988178384\n",
      "model 11 rsq sum -0.986852380463724\n"
     ]
    }
   ],
   "source": [
    "print('model 6 rsq sum',np.sum(np.array(list(step2_data['treg']['rsqs'].values()))))\n",
    "print('model 7 rsq sum',np.sum(np.array(list(step2_data['dreg']['rsqs'].values()))))\n",
    "print('model 8 rsq sum',np.sum(np.array(list(step2_data['trel']['rsqs'].values()))))\n",
    "print('model 9 rsq sum',np.sum(np.array(list(step2_data['drel']['rsqs'].values()))))\n",
    "print('model 10 rsq sum',np.sum(np.array(list(step2_data['treg/rel']['rsqs'].values()))))\n",
    "print('model 11 rsq sum',np.sum(np.array(list(step2_data['dreg/rel']['rsqs'].values()))))"
   ]
  },
  {
   "cell_type": "markdown",
   "metadata": {},
   "source": [
    "### Results of step 2\n",
    "- best fit is total regret (consistent with step 1 results that total calculation is best)\n",
    "- regret is overall a better fit than relief\n",
    "- adding total regret & total relief together out performs relief alone "
   ]
  },
  {
   "cell_type": "markdown",
   "metadata": {},
   "source": [
    "### Step 3: Summary of basic GLMs\n",
    "Finalize - \n",
    "\n",
    "1) RPE (CR+EV+RPE)\n",
    "2) Counterfactual (CR+EV+tCPE) \n",
    "3) Counterfactual+RPE (CR+EV+RPE+tCPE)\n",
    "4) Regret (CR+EV+regret) \n",
    "5) Relief (CR+EV+relief)\n",
    "6) Regret/Relief (CR+EV+regret+relief)\n",
    "7) Full model (CR+EV+RPE+regret+relief)\n"
   ]
  },
  {
   "cell_type": "code",
   "execution_count": 428,
   "metadata": {},
   "outputs": [],
   "source": [
    "glm1_vars = [\"cr(t-1)\",\"cr(t-2)\",\"cr(t-3)\",\"choice_ev(t-1)\",\"choice_ev(t-2)\",\"choice_ev(t-3)\",\"rpe(t-1)\",\"rpe(t-2)\",\"rpe(t-3)\"]\n",
    "glm2_vars = [\"cr(t-1)\",\"cr(t-2)\",\"cr(t-3)\",\"choice_ev(t-1)\",\"choice_ev(t-2)\",\"choice_ev(t-3)\",\"totalcpe(t-1)\",\"totalcpe(t-2)\",\"totalcpe(t-3)\"]\n",
    "glm3_vars = [\"cr(t-1)\",\"cr(t-2)\",\"cr(t-3)\",\"choice_ev(t-1)\",\"choice_ev(t-2)\",\"choice_ev(t-3)\",\"rpe(t-1)\",\"rpe(t-2)\",\"rpe(t-3)\",\"totalcpe(t-1)\",\"totalcpe(t-2)\",\"totalcpe(t-3)\"]\n",
    "glm4_vars = [\"cr(t-1)\",\"cr(t-2)\",\"cr(t-3)\",\"choice_ev(t-1)\",\"choice_ev(t-2)\",\"choice_ev(t-3)\",\"totalregret(t-1)\",\"totalregret(t-2)\",\"totalregret(t-3)\"]\n",
    "glm5_vars = [\"cr(t-1)\",\"cr(t-2)\",\"cr(t-3)\",\"choice_ev(t-1)\",\"choice_ev(t-2)\",\"choice_ev(t-3)\",\"totalrelief(t-1)\",\"totalrelief(t-2)\",\"totalrelief(t-3)\"]\n",
    "glm6_vars = [\"cr(t-1)\",\"cr(t-2)\",\"cr(t-3)\",\"choice_ev(t-1)\",\"choice_ev(t-2)\",\"choice_ev(t-3)\",\"totalregret(t-1)\",\"totalregret(t-2)\",\"totalregret(t-3)\",\"totalrelief(t-1)\",\"totalrelief(t-2)\",\"totalrelief(t-3)\"]\n",
    "glm7_vars = [\"cr(t-1)\",\"cr(t-2)\",\"cr(t-3)\",\"choice_ev(t-1)\",\"choice_ev(t-2)\",\"choice_ev(t-3)\",\"rpe(t-1)\",\"rpe(t-2)\",\"rpe(t-3)\",\"totalregret(t-1)\",\"totalregret(t-2)\",\"totalregret(t-3)\",\"totalrelief(t-1)\",\"totalrelief(t-2)\",\"totalrelief(t-3)\"]\n"
   ]
  },
  {
   "cell_type": "code",
   "execution_count": 431,
   "metadata": {},
   "outputs": [],
   "source": [
    "glms_dict = {}\n",
    "glms_dict['RPE'] = glm1_vars\n",
    "glms_dict['CPE'] = glm2_vars\n",
    "glms_dict['CPE+RPE'] = glm3_vars\n",
    "glms_dict['Regret'] = glm4_vars\n",
    "glms_dict['Relief'] = glm5_vars\n",
    "glms_dict['Regret+Relief'] = glm6_vars\n",
    "glms_dict['Full'] = glm7_vars"
   ]
  },
  {
   "cell_type": "code",
   "execution_count": 432,
   "metadata": {},
   "outputs": [],
   "source": [
    "glms_list = ['RPE','CPE','CPE+RPE','Regret','Relief','Regret+Relief','Full']\n",
    "\n",
    "glm_results = {}\n",
    "\n",
    "for model in glms_list:\n",
    "\n",
    "    reg_list = glms_dict[model]\n",
    "    n_regs = int(len(reg_list)/3)\n",
    "\n",
    "    mood_est_df, optim_resid_df, optim_inits_df, param_fits_df, aic_dict,bic1_dict,bic2_dict, rsq_dict = \\\n",
    "    run_swb(model_input, subj_ids, n_regs, reg_list)\n",
    "    \n",
    "\n",
    "    glm_results[model] = {'mood_est': mood_est_df,\n",
    "                            'optim_residuals':optim_resid_df,\n",
    "                           'optim_inits': optim_inits_df,\n",
    "                           'param_fits': param_fits_df,\n",
    "                            'aics':aic_dict,\n",
    "                           'bics1': bic1_dict,\n",
    "                            'bics2': bic2_dict,\n",
    "                           'rsqs': rsq_dict\n",
    "                           }\n"
   ]
  },
  {
   "cell_type": "code",
   "execution_count": 433,
   "metadata": {},
   "outputs": [],
   "source": [
    "### use optimal parameters to run model \n",
    "\n",
    "glms_list = ['RPE','CPE','CPE+RPE','Regret','Relief','Regret+Relief','Full']\n",
    "glm_data = {}\n",
    "\n",
    "for model in glms_list:\n",
    "\n",
    "    reg_list = glms_dict[model]\n",
    "    n_regs = int(len(reg_list)/3)\n",
    "    params = glm_results[model]['param_fits']\n",
    "\n",
    "    mood_est_df, resid_df, rss_dict, aic_dict, bic1_dict, bic2_dict, rsq_dict = \\\n",
    "    SWB_modeling_utils.fit_swb(model_input,subj_ids,params,n_regs,reg_list)\n",
    "    \n",
    "\n",
    "    glm_data[model] = {'mood_est': mood_est_df,\n",
    "                            'residuals':resid_df,\n",
    "                           'rss': rss_dict,\n",
    "                            'aic':aic_dict,\n",
    "                           'bics1': bic1_dict,\n",
    "                            'bics2': bic2_dict,\n",
    "                           'rsqs': rsq_dict\n",
    "                           }\n"
   ]
  },
  {
   "cell_type": "code",
   "execution_count": 435,
   "metadata": {},
   "outputs": [
    {
     "name": "stdout",
     "output_type": "stream",
     "text": [
      "best model bic for  DA8 is CPE -87.25872338928997\n",
      "best model rsq for  DA8 is CPE -0.1366703064935897\n",
      "best model bic for  DA9 is Regret -169.10498768434948\n",
      "best model rsq for  DA9 is Regret -0.026130954375250592\n",
      "best model bic for  DA10 is RPE -154.95058756676988\n",
      "best model rsq for  DA10 is Full -0.03825486250796195\n",
      "best model bic for  DA11 is Regret -239.13325212064439\n",
      "best model rsq for  DA11 is Full 0.061268986478444365\n",
      "best model bic for  DA023 is Relief -228.04571436439892\n",
      "best model rsq for  DA023 is Relief 0.04675233894705644\n",
      "best model bic for  MS002 is Regret+Relief -253.68339222837497\n",
      "best model rsq for  MS002 is Regret+Relief 0.08449860937724551\n",
      "best model bic for  MS003 is Regret -236.96156479329278\n",
      "best model rsq for  MS003 is Regret+Relief 0.06203036885167512\n",
      "best model bic for  MS016 is RPE -262.3094071850666\n",
      "best model rsq for  MS016 is Full 0.08750121846183612\n",
      "best model bic for  MS017 is Regret+Relief -165.51361126230282\n",
      "best model rsq for  MS017 is Regret+Relief -0.022171034291254443\n",
      "best model bic for  MS019 is CPE+RPE -206.71408534405847\n",
      "best model rsq for  MS019 is Full 0.03535870463333557\n",
      "best model bic for  MS022 is RPE -233.4560962475021\n",
      "best model rsq for  MS022 is RPE 0.05317738059685506\n",
      "best model bic for  MS025 is Regret -98.81227835526335\n",
      "best model rsq for  MS025 is Regret -0.12037254684427157\n",
      "best model bic for  MS026 is CPE -193.37583387674414\n",
      "best model rsq for  MS026 is CPE 0.004532878647338534\n",
      "best model bic for  MS027 is Regret -222.60839789739464\n",
      "best model rsq for  MS027 is Regret 0.04025138512741466\n",
      "best model bic for  MS029 is Regret -222.44261383927864\n",
      "best model rsq for  MS029 is Regret 0.040052475742942684\n",
      "best model bic for  MS030 is Regret -154.8742256221941\n",
      "best model rsq for  MS030 is Regret -0.04454755195570326\n"
     ]
    }
   ],
   "source": [
    "for ix,s in enumerate(subj_ids):\n",
    "    best_bic = np.inf\n",
    "    best_rsq = -np.inf\n",
    "    best_model_bic = []\n",
    "    best_model_rsq = []\n",
    "    for model in glms_list:\n",
    "        bic = glm_data[model]['bics1'][s]\n",
    "        rsq = glm_data[model]['rsqs'][s]\n",
    "        if bic<best_bic:\n",
    "            best_bic = bic \n",
    "            best_model_bic = model\n",
    "        if rsq>best_rsq:\n",
    "            best_rsq=rsq\n",
    "            best_model_rsq = model\n",
    "        \n",
    "    print('best model bic for ',s,'is',best_model_bic,best_bic)\n",
    "    print('best model rsq for ',s,'is',best_model_rsq,best_rsq)"
   ]
  },
  {
   "cell_type": "code",
   "execution_count": 436,
   "metadata": {},
   "outputs": [
    {
     "name": "stdout",
     "output_type": "stream",
     "text": [
      "glm1 bic1 mean -146.16586735989972\n",
      "glm2 bic1 mean -164.99160794947403\n",
      "glm3 bic1 mean -122.60847368537087\n",
      "glm4 bic1 mean -167.39141153525554\n",
      "glm5 bic1 mean -135.4756797873306\n",
      "glm6 bic1 mean -157.03955052478676\n",
      "glm7 bic1 mean -108.62333200974518\n"
     ]
    }
   ],
   "source": [
    "print('glm1 bic1 mean',np.mean(np.array(list(glm_data['RPE']['bics1'].values()))))\n",
    "print('glm2 bic1 mean',np.mean(np.array(list(glm_data['CPE']['bics1'].values()))))\n",
    "print('glm3 bic1 mean',np.mean(np.array(list(glm_data['CPE+RPE']['bics1'].values()))))\n",
    "print('glm4 bic1 mean',np.mean(np.array(list(glm_data['Regret']['bics1'].values()))))\n",
    "print('glm5 bic1 mean',np.mean(np.array(list(glm_data['Relief']['bics1'].values()))))\n",
    "print('glm6 bic1 mean',np.mean(np.array(list(glm_data['Regret+Relief']['bics1'].values()))))\n",
    "print('glm7 bic1 mean',np.mean(np.array(list(glm_data['Full']['bics1'].values()))))"
   ]
  },
  {
   "cell_type": "code",
   "execution_count": 437,
   "metadata": {},
   "outputs": [
    {
     "name": "stdout",
     "output_type": "stream",
     "text": [
      "glm1 bic1 sum -2338.6538777583955\n",
      "glm2 bic1 sum -2639.8657271915845\n",
      "glm3 bic1 sum -1961.7355789659339\n",
      "glm4 bic1 sum -2678.2625845640887\n",
      "glm5 bic1 sum -2167.6108765972895\n",
      "glm6 bic1 sum -2512.632808396588\n",
      "glm7 bic1 sum -1737.973312155923\n"
     ]
    }
   ],
   "source": [
    "print('glm1 bic1 sum',np.sum(np.array(list(glm_data['RPE']['bics1'].values()))))\n",
    "print('glm2 bic1 sum',np.sum(np.array(list(glm_data['CPE']['bics1'].values()))))\n",
    "print('glm3 bic1 sum',np.sum(np.array(list(glm_data['CPE+RPE']['bics1'].values()))))\n",
    "print('glm4 bic1 sum',np.sum(np.array(list(glm_data['Regret']['bics1'].values()))))\n",
    "print('glm5 bic1 sum',np.sum(np.array(list(glm_data['Relief']['bics1'].values()))))\n",
    "print('glm6 bic1 sum',np.sum(np.array(list(glm_data['Regret+Relief']['bics1'].values()))))\n",
    "print('glm7 bic1 sum',np.sum(np.array(list(glm_data['Full']['bics1'].values()))))"
   ]
  },
  {
   "cell_type": "code",
   "execution_count": 438,
   "metadata": {},
   "outputs": [
    {
     "name": "stdout",
     "output_type": "stream",
     "text": [
      "glm1 bic2 mean 33.872030953335226\n",
      "glm2 bic2 mean 33.91909530480917\n",
      "glm3 bic2 mean 40.51446072613601\n",
      "glm4 bic2 mean 33.92509481377362\n",
      "glm5 bic2 mean 33.84530548440381\n",
      "glm6 bic2 mean 40.60053841823455\n",
      "glm7 bic2 mean 47.18082112893404\n"
     ]
    }
   ],
   "source": [
    "print('glm1 bic2 mean',np.mean(np.array(list(glm_data['RPE']['bics2'].values()))))\n",
    "print('glm2 bic2 mean',np.mean(np.array(list(glm_data['CPE']['bics2'].values()))))\n",
    "print('glm3 bic2 mean',np.mean(np.array(list(glm_data['CPE+RPE']['bics2'].values()))))\n",
    "print('glm4 bic2 mean',np.mean(np.array(list(glm_data['Regret']['bics2'].values()))))\n",
    "print('glm5 bic2 mean',np.mean(np.array(list(glm_data['Relief']['bics2'].values()))))\n",
    "print('glm6 bic2 mean',np.mean(np.array(list(glm_data['Regret+Relief']['bics2'].values()))))\n",
    "print('glm7 bic2 mean',np.mean(np.array(list(glm_data['Full']['bics2'].values()))))"
   ]
  },
  {
   "cell_type": "code",
   "execution_count": 439,
   "metadata": {},
   "outputs": [
    {
     "name": "stdout",
     "output_type": "stream",
     "text": [
      "glm1 bic2 sum 541.9524952533636\n",
      "glm2 bic2 sum 542.7055248769467\n",
      "glm3 bic2 sum 648.2313716181761\n",
      "glm4 bic2 sum 542.8015170203779\n",
      "glm5 bic2 sum 541.524887750461\n",
      "glm6 bic2 sum 649.6086146917528\n",
      "glm7 bic2 sum 754.8931380629447\n"
     ]
    }
   ],
   "source": [
    "print('glm1 bic2 sum',np.sum(np.array(list(glm_data['RPE']['bics2'].values()))))\n",
    "print('glm2 bic2 sum',np.sum(np.array(list(glm_data['CPE']['bics2'].values()))))\n",
    "print('glm3 bic2 sum',np.sum(np.array(list(glm_data['CPE+RPE']['bics2'].values()))))\n",
    "print('glm4 bic2 sum',np.sum(np.array(list(glm_data['Regret']['bics2'].values()))))\n",
    "print('glm5 bic2 sum',np.sum(np.array(list(glm_data['Relief']['bics2'].values()))))\n",
    "print('glm6 bic2 sum',np.sum(np.array(list(glm_data['Regret+Relief']['bics2'].values()))))\n",
    "print('glm7 bic2 sum',np.sum(np.array(list(glm_data['Full']['bics2'].values()))))"
   ]
  },
  {
   "cell_type": "code",
   "execution_count": 440,
   "metadata": {},
   "outputs": [
    {
     "name": "stdout",
     "output_type": "stream",
     "text": [
      "glm1 aic mean -169.58892599823935\n",
      "glm2 aic mean -188.41466658781366\n",
      "glm3 aic mean -150.71614405137842\n",
      "glm4 aic mean -190.81447017359517\n",
      "glm5 aic mean -158.89873842567022\n",
      "glm6 aic mean -185.1472208907943\n",
      "glm7 aic mean -141.4156141034207\n"
     ]
    }
   ],
   "source": [
    "print('glm1 aic mean',np.mean(np.array(list(glm_data['RPE']['aic'].values()))))\n",
    "print('glm2 aic mean',np.mean(np.array(list(glm_data['CPE']['aic'].values()))))\n",
    "print('glm3 aic mean',np.mean(np.array(list(glm_data['CPE+RPE']['aic'].values()))))\n",
    "print('glm4 aic mean',np.mean(np.array(list(glm_data['Regret']['aic'].values()))))\n",
    "print('glm5 aic mean',np.mean(np.array(list(glm_data['Relief']['aic'].values()))))\n",
    "print('glm6 aic mean',np.mean(np.array(list(glm_data['Regret+Relief']['aic'].values()))))\n",
    "print('glm7 aic mean',np.mean(np.array(list(glm_data['Full']['aic'].values()))))\n"
   ]
  },
  {
   "cell_type": "code",
   "execution_count": 441,
   "metadata": {},
   "outputs": [
    {
     "name": "stdout",
     "output_type": "stream",
     "text": [
      "glm1 aic sum -2713.4228159718296\n",
      "glm2 aic sum -3014.6346654050185\n",
      "glm3 aic sum -2411.4583048220547\n",
      "glm4 aic sum -3053.0315227775227\n",
      "glm5 aic sum -2542.3798148107235\n",
      "glm6 aic sum -2962.355534252709\n",
      "glm7 aic sum -2262.649825654731\n"
     ]
    }
   ],
   "source": [
    "print('glm1 aic sum',np.sum(np.array(list(glm_data['RPE']['aic'].values()))))\n",
    "print('glm2 aic sum',np.sum(np.array(list(glm_data['CPE']['aic'].values()))))\n",
    "print('glm3 aic sum',np.sum(np.array(list(glm_data['CPE+RPE']['aic'].values()))))\n",
    "print('glm4 aic sum',np.sum(np.array(list(glm_data['Regret']['aic'].values()))))\n",
    "print('glm5 aic sum',np.sum(np.array(list(glm_data['Relief']['aic'].values()))))\n",
    "print('glm6 aic sum',np.sum(np.array(list(glm_data['Regret+Relief']['aic'].values()))))\n",
    "print('glm7 aic sum',np.sum(np.array(list(glm_data['Full']['aic'].values()))))\n"
   ]
  },
  {
   "cell_type": "code",
   "execution_count": 444,
   "metadata": {},
   "outputs": [],
   "source": [
    "import pickle \n",
    "save_path = '/Users/alexandrafink/Documents/GraduateSchool/SaezLab/SWB/swb_computational_modeling/swb_behav_models/'\n",
    "\n",
    "# create a binary pickle file \n",
    "f = open(f'{save_path}/glm_data_06192023.pkl',\"wb\")\n",
    "# # write the python object (dict) to pickle file\n",
    "pickle.dump(glm_data,f)\n",
    "# # close file\n",
    "f.close()\n",
    "\n",
    "# create a binary pickle file \n",
    "f = open(f'{save_path}/step1_data_06192023.pkl',\"wb\")\n",
    "# # write the python object (dict) to pickle file\n",
    "pickle.dump(step1_data,f)\n",
    "# # close file\n",
    "f.close()\n",
    "\n",
    "# create a binary pickle file \n",
    "f = open(f'{save_path}/step2_data_06192023.pkl',\"wb\")\n",
    "# # write the python object (dict) to pickle file\n",
    "pickle.dump(step2_data,f)\n",
    "# # close file\n",
    "f.close()"
   ]
  },
  {
   "cell_type": "code",
   "execution_count": 445,
   "metadata": {},
   "outputs": [],
   "source": [
    "import pickle \n",
    "save_path = '/Users/alexandrafink/Documents/GraduateSchool/SaezLab/SWB/swb_computational_modeling/swb_behav_models/data/glm_data/'\n",
    "\n",
    "# create a binary pickle file \n",
    "f = open(f'{save_path}/glm_optim_results_06192023.pkl',\"wb\")\n",
    "# # write the python object (dict) to pickle file\n",
    "pickle.dump(glm_results,f)\n",
    "# # close file\n",
    "f.close()\n",
    "\n",
    "# create a binary pickle file \n",
    "f = open(f'{save_path}/step1_optim_results_06192023.pkl',\"wb\")\n",
    "# # write the python object (dict) to pickle file\n",
    "pickle.dump(step1_results,f)\n",
    "# # close file\n",
    "f.close()\n",
    "\n",
    "# create a binary pickle file \n",
    "f = open(f'{save_path}/step2_optim_results_06192023.pkl',\"wb\")\n",
    "# # write the python object (dict) to pickle file\n",
    "pickle.dump(step2_results,f)\n",
    "# # close file\n",
    "f.close()"
   ]
  },
  {
   "cell_type": "markdown",
   "metadata": {},
   "source": [
    "## Prospect Theory GLMs\n",
    "\n",
    "1) Rutledge EV (CR+EV)\n",
    "2) PT (Util_s+Util_g) *validate this is better than Rutledge EV (PT1)\n",
    "3) RPE PT (Util_s+Util_g+RPE)\n",
    "4) CPE PT (Util_s+Util_g+tCPE) *tCPE always now\n",
    "5) CPE+RPE PT (Util_s+Util_g+RPE+tCPE) \n",
    "6) Regret PT (Util_s+Util_g+tRegret) *omit RPE if model 4 > model 5\n",
    "7) Relief PT (Util_s+Util_g+tRelief) *omit RPE if model 4 > model 5\n",
    "8) Regret/Relief PT (Util_s+Util_g+tRegret+tRelief) "
   ]
  },
  {
   "cell_type": "code",
   "execution_count": null,
   "metadata": {},
   "outputs": [],
   "source": [
    "pt1_vars = [\"cr(t-1)\",\"cr(t-2)\",\"cr(t-3)\",\"choice_ev(t-1)\",\"choice_ev(t-2)\",\"choice_ev(t-3)\"]\n",
    "pt2_vars = [\"cr(t-1)\",\"cr(t-2)\",\"cr(t-3)\",\"choice_ev(t-1)\",\"choice_ev(t-2)\",\"choice_ev(t-3)\",\"totalcpe(t-1)\",\"totalcpe(t-2)\",\"totalcpe(t-3)\"]\n",
    "pt3_vars = [\"cr(t-1)\",\"cr(t-2)\",\"cr(t-3)\",\"choice_ev(t-1)\",\"choice_ev(t-2)\",\"choice_ev(t-3)\",\"decisioncpe(t-1)\",\"decisioncpe(t-2)\",\"decisioncpe(t-3)\"]\n",
    "pt4_vars = [\"cr(t-1)\",\"cr(t-2)\",\"cr(t-3)\",\"choice_ev(t-1)\",\"choice_ev(t-2)\",\"choice_ev(t-3)\",\"rpe(t-1)\",\"rpe(t-2)\",\"rpe(t-3)\",\"totalcpe(t-1)\",\"totalcpe(t-2)\",\"totalcpe(t-3)\"]\n",
    "pt5_vars = [\"cr(t-1)\",\"cr(t-2)\",\"cr(t-3)\",\"choice_ev(t-1)\",\"choice_ev(t-2)\",\"choice_ev(t-3)\",\"rpe(t-1)\",\"rpe(t-2)\",\"rpe(t-3)\",\"decisioncpe(t-1)\",\"decisioncpe(t-2)\",\"decisioncpe(t-3)\"]\n",
    "pt6_vars = [\"cr(t-1)\",\"cr(t-2)\",\"cr(t-3)\",\"choice_ev(t-1)\",\"choice_ev(t-2)\",\"choice_ev(t-3)\",\"decisioncpe(t-1)\",\"decisioncpe(t-2)\",\"decisioncpe(t-3)\"]\n",
    "pt7_vars = [\"cr(t-1)\",\"cr(t-2)\",\"cr(t-3)\",\"choice_ev(t-1)\",\"choice_ev(t-2)\",\"choice_ev(t-3)\",\"rpe(t-1)\",\"rpe(t-2)\",\"rpe(t-3)\",\"totalcpe(t-1)\",\"totalcpe(t-2)\",\"totalcpe(t-3)\"]\n",
    "pt8_vars = [\"cr(t-1)\",\"cr(t-2)\",\"cr(t-3)\",\"choice_ev(t-1)\",\"choice_ev(t-2)\",\"choice_ev(t-3)\",\"rpe(t-1)\",\"rpe(t-2)\",\"rpe(t-3)\",\"decisioncpe(t-1)\",\"decisioncpe(t-2)\",\"decisioncpe(t-3)\"]\n"
   ]
  },
  {
   "cell_type": "code",
   "execution_count": null,
   "metadata": {},
   "outputs": [],
   "source": []
  },
  {
   "cell_type": "code",
   "execution_count": null,
   "metadata": {},
   "outputs": [],
   "source": []
  },
  {
   "cell_type": "markdown",
   "metadata": {},
   "source": [
    "# Model Figures"
   ]
  },
  {
   "cell_type": "code",
   "execution_count": null,
   "metadata": {},
   "outputs": [],
   "source": [
    "#model comparison fig\n",
    "rutledge_bic1 = np.array(list(cf_results_dict['rutledge']['bics1'].values()))\n",
    "total_cpe_bic1 = np.array(list(cf_results_dict['total_cpe']['bics1'].values()))\n",
    "regret_bic1 = np.array(list(cf_results_dict['regret']['bics1'].values()))\n",
    "relief_bic1 = np.array(list(cf_results_dict['relief']['bics1'].values()))\n",
    "combo_bic1 = np.array(list(cf_results_dict['combo']['bics1'].values()))"
   ]
  },
  {
   "cell_type": "code",
   "execution_count": null,
   "metadata": {},
   "outputs": [],
   "source": [
    "bar_data = pd.DataFrame(columns=['RPE','CPE','Regret','Relief','CPE Split'])\n",
    "bar_data['RPE'] = rutledge_bic1\n",
    "bar_data['CPE'] = total_cpe_bic1\n",
    "bar_data['Regret'] = regret_bic1\n",
    "bar_data['Relief'] = relief_bic1\n",
    "bar_data['CPE Split'] = combo_bic1"
   ]
  },
  {
   "cell_type": "code",
   "execution_count": null,
   "metadata": {},
   "outputs": [],
   "source": [
    "#magma,cubehelix,twilight\n",
    "fig,ax = plt.subplots(figsize=(10,6))\n",
    "sns.set_theme(style='whitegrid',font='Arial') \n",
    "sns.barplot(data=bar_data, errorbar=('ci',50),order=['Relief','Regret','RPE','CPE'],saturation=0.8,palette='flare',capsize=0.05,errcolor='black',errwidth=1.5)#flare_r,flare,Reds,YlOrRd, rocket\n",
    "ax.set_title('SWB Model Evaluation',weight='semibold',fontsize=18,y=1.025)\n",
    "#ax.set_xlabel('SWB Models',weight='medium',fontsize=15)\n",
    "ax.set_ylabel('Mean BIC Score',weight='medium',fontsize=15,x=0.025)\n",
    "ax.tick_params(labelsize=12)\n",
    "\n",
    "\n"
   ]
  },
  {
   "cell_type": "code",
   "execution_count": null,
   "metadata": {},
   "outputs": [],
   "source": [
    "mood_est = list(pd.DataFrame.mean(cf_results_dict['total_cpe']['mood_est'],axis=1))"
   ]
  },
  {
   "cell_type": "code",
   "execution_count": null,
   "metadata": {},
   "outputs": [
    {
     "data": {
      "text/plain": [
       "(-1.25, 1.25)"
      ]
     },
     "metadata": {},
     "output_type": "display_data"
    },
    {
     "data": {
      "image/png": "[encoded data removed]",
      "text/plain": [
       "<Figure size 1000x600 with 1 Axes>"
      ]
     },
     "metadata": {},
     "output_type": "display_data"
    }
   ],
   "source": [
    "fig,ax = plt.subplots(figsize=(10,6))\n",
    "sns.set_theme(style='ticks',font='Arial',palette='flare_r') \n",
    "sns.lineplot(x=np.arange(0,50), y=rate_means[:50],label='True Happiness',linewidth=2.5)\n",
    "sns.lineplot(x=np.arange(0,50), y=mood_est[:50],label='Estimated Happiness',linestyle='dashed',linewidth=2.5)\n",
    "fig.suptitle('CPE Model Fit',font='Arial',weight ='semibold',fontsize=18,y=0.95)\n",
    "fig.supxlabel('Round',font='Arial',fontsize=16,y=0.01)\n",
    "fig.supylabel('Normalized Mean Happiness Rating',font='Arial',fontsize=16,x=0.045)\n",
    "ax.tick_params(labelsize=12)\n",
    "ax.set_ylim(-1.25,1.25)\n",
    "\n"
   ]
  },
  {
   "cell_type": "code",
   "execution_count": null,
   "metadata": {},
   "outputs": [],
   "source": [
    "lams = cf_results_dict['combo']['param_fits'].iloc[0]\n",
    "b_cr = cf_results_dict['combo']['param_fits'].iloc[2]\n",
    "b_ev = cf_results_dict['combo']['param_fits'].iloc[3]\n",
    "b_reg = cf_results_dict['combo']['param_fits'].iloc[4]\n",
    "b_rel = cf_results_dict['combo']['param_fits'].iloc[5]\n",
    "l = np.mean(np.array(lams))\n",
    "cr = np.mean(np.array(b_cr))\n",
    "ev = np.mean(np.array(b_ev))\n",
    "reg = np.mean(np.array(b_reg))\n",
    "rel = np.mean(np.array(b_rel))\n",
    "import itertools\n",
    "\n",
    "weights_plot_df = pd.DataFrame(columns=['trial','Regressor','Weight_Estimate'])\n",
    "weights_plot_df['trial'] = ['t1','t2','t3']*4\n",
    "weights_plot_df['Regressor'] = list(itertools.chain.from_iterable([['Certain Reward']*3,['Expected Value']*3,['Regret']*3,['Relief']*3]))\n",
    "\n",
    "\n",
    "\n",
    "#cr\n",
    "cr_t1 = cr\n",
    "cr_t2 = cr*l\n",
    "cr_t3 = cr*(l**2)\n",
    "\n",
    "#ev\n",
    "ev_t1 = ev\n",
    "ev_t2 = ev*l\n",
    "ev_t3 = ev*(l**2)\n",
    "\n",
    "#reg\n",
    "reg_t1 = reg\n",
    "reg_t2 = reg*l\n",
    "reg_t3 = reg*(l**2)\n",
    "\n",
    "#rel\n",
    "rel_t1 = rel\n",
    "rel_t2 = rel*l\n",
    "rel_t3 = rel*(l**2)\n",
    "\n",
    "weights_plot_df['Weight_Estimate'] = [cr_t1,cr_t2,cr_t3,ev_t1,ev_t2,ev_t3,reg_t1,reg_t2,reg_t3,rel_t1,rel_t2,rel_t3]\n"
   ]
  },
  {
   "cell_type": "code",
   "execution_count": null,
   "metadata": {},
   "outputs": [],
   "source": [
    "#weights plot\n",
    "fig,(ax1,ax2,ax3,ax4) = plt.subplots(1,4,figsize=(17,5),sharey=True)\n",
    "sns.set_theme(style='white',font='Arial') \n",
    "ax3.tick_params(labelsize=12)\n",
    "sns.barplot(ax=ax1,data=weights_plot_df[weights_plot_df['Regressor']== 'Regret'],x='trial',y='Weight_Estimate',palette='Reds_r')\n",
    "sns.barplot(ax=ax2,data=weights_plot_df[weights_plot_df['Regressor']== 'Relief'],x='trial',y='Weight_Estimate',palette='ocean_r')\n",
    "sns.barplot(ax=ax3,data=weights_plot_df[weights_plot_df['Regressor']== 'Expected Value'],x='trial',y='Weight_Estimate',palette='YlGn_r')\n",
    "sns.barplot(ax=ax4,data=weights_plot_df[weights_plot_df['Regressor']== 'Certain Reward'],x='trial',y='Weight_Estimate',palette='Purples_r')\n",
    "ax1.set_ylim(0,0.65)\n",
    "ax1.set_ylabel(None)\n",
    "ax1.set_xlabel(None)\n",
    "ax1.tick_params(labelsize=12)\n",
    "ax1.set_title('Regret',weight='medium',fontsize=14,y=1.02)\n",
    "\n",
    "ax2.set_ylabel(None)\n",
    "ax2.set_xlabel(None)\n",
    "ax2.tick_params(labelsize=12)\n",
    "ax2.set_title('Relief',weight='medium',fontsize=14,y=1.02)\n",
    "\n",
    "ax3.set_ylabel(None)\n",
    "ax3.set_xlabel(None)\n",
    "ax3.tick_params(labelsize=12)\n",
    "ax3.set_title('Expected Value',weight='medium',fontsize=14,y=1.02)\n",
    "\n",
    "ax4.set_ylabel(None)\n",
    "ax4.set_xlabel(None)\n",
    "ax4.tick_params(labelsize=12)\n",
    "ax4.set_title('Certain Reward',weight='medium',fontsize=14,y=1.02)\n",
    "\n",
    "fig.suptitle('Model Estimates of Regressor Weights',weight='semibold',fontsize=18, y=1.025)\n",
    "fig.supxlabel('Count of Trials Preceeding Happiness Rating',weight='medium',fontsize=16,y=0.01)\n",
    "fig.supylabel('Weight Estimate',weight='medium',fontsize=16,x=0.085)\n",
    "\n",
    "\n"
   ]
  },
  {
   "cell_type": "code",
   "execution_count": null,
   "metadata": {},
   "outputs": [],
   "source": [
    "#weights plot\n",
    "fig,(ax1,ax2) = plt.subplots(1,2,figsize=(10,5),sharey=True)\n",
    "sns.set_theme(style='white',font='Arial') \n",
    "ax3.tick_params(labelsize=12)\n",
    "sns.barplot(ax=ax1,data=weights_plot_df[weights_plot_df['Regressor']== 'Regret'],x='trial',y='Weight_Estimate',palette='flare_r')\n",
    "sns.barplot(ax=ax2,data=weights_plot_df[weights_plot_df['Regressor']== 'Relief'],x='trial',y='Weight_Estimate',palette='BuGn_r')\n",
    "\n",
    "ax1.set_ylim(0,0.65)\n",
    "ax1.set_ylabel(None)\n",
    "ax1.set_xlabel(None)\n",
    "ax1.tick_params(labelsize=12)\n",
    "ax1.set_title('Regret',weight='medium',fontsize=14,y=1.02)\n",
    "\n",
    "ax2.set_ylabel(None)\n",
    "ax2.set_xlabel(None)\n",
    "ax2.tick_params(labelsize=12)\n",
    "ax2.set_title('Relief',weight='medium',fontsize=14,y=1.02)\n",
    "\n",
    "fig.suptitle('Weight of Counterfactual Prediction Errors on Happiness Ratings',weight='semibold',fontsize=18, y=1.025)\n",
    "fig.supxlabel('Count of Trials Preceeding Happiness Rating',weight='medium',fontsize=16)\n",
    "fig.supylabel('Weight Estimate',weight='medium',fontsize=16,x=0.05)\n",
    "\n",
    "\n"
   ]
  },
  {
   "cell_type": "code",
   "execution_count": null,
   "metadata": {},
   "outputs": [],
   "source": [
    "fig,ax = plt.subplots(1,4,figsize=(10,6))\n",
    "sns.set_theme(style='whitegrid',font='Arial') \n",
    "sns.barplot(data=bar_data, errorbar=('ci',50),order=['CPE Split','Relief','Regret','RPE','CPE'],saturation=0.8,palette='flare',capsize=0.05,errcolor='black',errwidth=1.5)#flare_r,flare,Reds,YlOrRd, rocket\n",
    "ax.set_title('SWB Model Evaluation',weight='semibold',fontsize=18,y=1.025)\n",
    "#ax.set_xlabel('SWB Models',weight='medium',fontsize=15)\n",
    "ax.set_ylabel('Mean BIC Score',weight='medium',fontsize=15,x=0.025)\n",
    "ax.tick_params(labelsize=12)\n"
   ]
  },
  {
   "cell_type": "code",
   "execution_count": null,
   "metadata": {},
   "outputs": [],
   "source": [
    "fig, (ax1,ax2,ax3) = plt.subplots(1,3, figsize=(12,5))\n",
    "sns.set_theme(style='ticks',font='Arial',palette='mako_r') #magma_r,gnuplot,paired,cubehelix_r\n",
    "sns.regplot(data=gamble_plot,ax=ax1,x='loss_x',y='loss_y',ci=68,logistic=True,scatter=False)\n",
    "sns.regplot(data=gamble_plot,ax=ax2,x='mix_x',y='mix_y',ci=68,logistic=True,scatter=False)\n",
    "sns.regplot(data=gamble_plot,ax=ax3,x='gain_x',y='gain_y',ci=68,logistic=True,scatter=False)\n",
    "ax1.set_ylim(0,1)\n",
    "ax1.set_ylabel(None)\n",
    "ax1.set_xlabel(None)\n",
    "ax1.tick_params(labelsize=12)\n",
    "ax1.set_title('Loss Trials',weight='medium',fontsize=15,y=1.02)\n",
    "ax2.set_ylim(0,1)\n",
    "ax2.set_ylabel(None)\n",
    "ax2.set_xlabel(None)\n",
    "ax2.tick_params(labelsize=12)\n",
    "ax2.set_title('Mix Trials',weight='medium',fontsize=15,y=1.02)\n",
    "ax3.set_ylim(0,1)\n",
    "ax3.set_ylabel(None)\n",
    "ax3.set_xlabel(None)\n",
    "ax3.tick_params(labelsize=12)\n",
    "ax3.set_title('Gain Trials',weight='medium',fontsize=15,y=1.02)\n",
    "fig.supxlabel('Normalized Expected Value',y=-0.025,weight='medium',fontsize=16)\n",
    "fig.supylabel('Proportion of Gamble Choices',x=0.05,weight='medium',fontsize=16)\n",
    "fig.suptitle('Influence of Expected Value on Gamble Decision',y=1.05,weight='semibold',fontsize=18)"
   ]
  },
  {
   "cell_type": "markdown",
   "metadata": {},
   "source": [
    "References:\n",
    "- https://shawnrhoads.github.io/gu-psyc-347/module-02-01_Nonlinear-Modeling.html\n",
    "- https://docs.scipy.org/doc/scipy/reference/generated/scipy.optimize.least_squares.html\n",
    "- https://hernandis.me/2020/04/05/three-examples-of-nonlinear-least-squares-fitting-in-python-with-scipy.html\n",
    "- https://docs.scipy.org/doc/scipy/reference/generated/scipy.optimize.OptimizeResult.html#scipy.optimize.OptimizeResult\n",
    "- https://www.nedcharles.com/regression/Nonlinear_Least_Squares_Regression_For_Python.html\n"
   ]
  }
 ],
 "metadata": {
  "kernelspec": {
   "display_name": "Python [conda env:swb_behav_models]",
   "language": "python",
   "name": "conda-env-swb_behav_models-py"
  },
  "language_info": {
   "codemirror_mode": {
    "name": "ipython",
    "version": 3
   },
   "file_extension": ".py",
   "mimetype": "text/x-python",
   "name": "python",
   "nbconvert_exporter": "python",
   "pygments_lexer": "ipython3",
   "version": "3.11.3"
  },
  "vscode": {
   "interpreter": {
    "hash": "d44df5d2e961877584286d11e54e0f62dbc0de85878c8cdf3b51452b1ce7d435"
   }
  }
 },
 "nbformat": 4,
 "nbformat_minor": 2
}
